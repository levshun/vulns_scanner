{
 "cells": [
  {
   "cell_type": "markdown",
   "metadata": {},
   "source": [
    "Обогатим датасет версиями, в которых присутствуют слова, отсутствующие в Stucco"
   ]
  },
  {
   "cell_type": "code",
   "execution_count": 27,
   "metadata": {},
   "outputs": [],
   "source": [
    "import pandas as pd\n",
    "import numpy as np\n",
    "import psycopg2 as p2\n",
    "from psycopg2 import sql\n",
    "from collections import Counter\n",
    "from tqdm import tqdm\n",
    "\n",
    "pd.set_option('display.width', 20000)\n",
    "pd.set_option('display.max_columns', None)\n",
    "pd.set_option('display.max_rows', 100)\n",
    "pd.set_option('display.max_colwidth', 200)"
   ]
  },
  {
   "cell_type": "markdown",
   "metadata": {},
   "source": [
    "Стучимся в БД"
   ]
  },
  {
   "cell_type": "code",
   "execution_count": 3,
   "metadata": {},
   "outputs": [],
   "source": [
    "dbname = \"vulns_scanner\"\n",
    "user = 'postgres'\n",
    "password = 'postgres'\n",
    "host = 'localhost'\n",
    "port = '5432'"
   ]
  },
  {
   "cell_type": "code",
   "execution_count": 4,
   "metadata": {},
   "outputs": [
    {
     "data": {
      "application/vnd.microsoft.datawrangler.viewer.v0+json": {
       "columns": [
        {
         "name": "index",
         "rawType": "int64",
         "type": "integer"
        },
        {
         "name": "cve_id",
         "rawType": "object",
         "type": "string"
        },
        {
         "name": "vendor",
         "rawType": "object",
         "type": "string"
        },
        {
         "name": "product",
         "rawType": "object",
         "type": "string"
        },
        {
         "name": "version",
         "rawType": "object",
         "type": "string"
        },
        {
         "name": "descr",
         "rawType": "object",
         "type": "string"
        }
       ],
       "conversionMethod": "pd.DataFrame",
       "ref": "996ca9d2-2e87-4d1e-a299-61af0ab13dfd",
       "rows": [
        [
         "0",
         "CVE-2004-0013",
         "jabber_software_foundation",
         "jabber_server",
         "1.4.3",
         "jabber 1.4.2, 1.4.2a, and possibly earlier versions, does not properly handle SSL connections, which allows remote attackers to cause a denial of service (crash)."
        ],
        [
         "1",
         "CVE-2004-0043",
         "yahoo",
         "messenger",
         "5.6.0.1351",
         "Buffer overflow in Yahoo Instant Messenger 5.6.0.1351 and earlier allows remote attackers to cause a denial of service (crash) and possibly execute arbitrary code via a long filename in the download feature."
        ],
        [
         "2",
         "CVE-2004-0043",
         "yahoo",
         "messenger",
         "5.6.0.1358",
         "Buffer overflow in Yahoo Instant Messenger 5.6.0.1351 and earlier allows remote attackers to cause a denial of service (crash) and possibly execute arbitrary code via a long filename in the download feature."
        ],
        [
         "3",
         "CVE-2004-0159",
         "samhain_labs",
         "hsftp",
         "1.4",
         "Format string vulnerability in hsftp 1.11 allows remote authenticated users to cause a denial of service and possibly execute arbitrary code via file names containing format string characters that are not properly handled when executing an \"ls\" command."
        ],
        [
         "4",
         "CVE-2004-0159",
         "samhain_labs",
         "hsftp",
         "1.11",
         "Format string vulnerability in hsftp 1.11 allows remote authenticated users to cause a denial of service and possibly execute arbitrary code via file names containing format string characters that are not properly handled when executing an \"ls\" command."
        ]
       ],
       "shape": {
        "columns": 5,
        "rows": 5
       }
      },
      "text/html": [
       "<div>\n",
       "<style scoped>\n",
       "    .dataframe tbody tr th:only-of-type {\n",
       "        vertical-align: middle;\n",
       "    }\n",
       "\n",
       "    .dataframe tbody tr th {\n",
       "        vertical-align: top;\n",
       "    }\n",
       "\n",
       "    .dataframe thead th {\n",
       "        text-align: right;\n",
       "    }\n",
       "</style>\n",
       "<table border=\"1\" class=\"dataframe\">\n",
       "  <thead>\n",
       "    <tr style=\"text-align: right;\">\n",
       "      <th></th>\n",
       "      <th>cve_id</th>\n",
       "      <th>vendor</th>\n",
       "      <th>product</th>\n",
       "      <th>version</th>\n",
       "      <th>descr</th>\n",
       "    </tr>\n",
       "  </thead>\n",
       "  <tbody>\n",
       "    <tr>\n",
       "      <th>0</th>\n",
       "      <td>CVE-2004-0013</td>\n",
       "      <td>jabber_software_foundation</td>\n",
       "      <td>jabber_server</td>\n",
       "      <td>1.4.3</td>\n",
       "      <td>jabber 1.4.2, 1.4.2a, and possibly earlier versions, does not properly handle SSL connections, which allows remote attackers to cause a denial of service (crash).</td>\n",
       "    </tr>\n",
       "    <tr>\n",
       "      <th>1</th>\n",
       "      <td>CVE-2004-0043</td>\n",
       "      <td>yahoo</td>\n",
       "      <td>messenger</td>\n",
       "      <td>5.6.0.1351</td>\n",
       "      <td>Buffer overflow in Yahoo Instant Messenger 5.6.0.1351 and earlier allows remote attackers to cause a denial of service (crash) and possibly execute arbitrary code via a long filename in the downlo...</td>\n",
       "    </tr>\n",
       "    <tr>\n",
       "      <th>2</th>\n",
       "      <td>CVE-2004-0043</td>\n",
       "      <td>yahoo</td>\n",
       "      <td>messenger</td>\n",
       "      <td>5.6.0.1358</td>\n",
       "      <td>Buffer overflow in Yahoo Instant Messenger 5.6.0.1351 and earlier allows remote attackers to cause a denial of service (crash) and possibly execute arbitrary code via a long filename in the downlo...</td>\n",
       "    </tr>\n",
       "    <tr>\n",
       "      <th>3</th>\n",
       "      <td>CVE-2004-0159</td>\n",
       "      <td>samhain_labs</td>\n",
       "      <td>hsftp</td>\n",
       "      <td>1.4</td>\n",
       "      <td>Format string vulnerability in hsftp 1.11 allows remote authenticated users to cause a denial of service and possibly execute arbitrary code via file names containing format string characters that...</td>\n",
       "    </tr>\n",
       "    <tr>\n",
       "      <th>4</th>\n",
       "      <td>CVE-2004-0159</td>\n",
       "      <td>samhain_labs</td>\n",
       "      <td>hsftp</td>\n",
       "      <td>1.11</td>\n",
       "      <td>Format string vulnerability in hsftp 1.11 allows remote authenticated users to cause a denial of service and possibly execute arbitrary code via file names containing format string characters that...</td>\n",
       "    </tr>\n",
       "  </tbody>\n",
       "</table>\n",
       "</div>"
      ],
      "text/plain": [
       "          cve_id                      vendor        product     version                                                                                                                                                                                                    descr\n",
       "0  CVE-2004-0013  jabber_software_foundation  jabber_server       1.4.3                                       jabber 1.4.2, 1.4.2a, and possibly earlier versions, does not properly handle SSL connections, which allows remote attackers to cause a denial of service (crash).\n",
       "1  CVE-2004-0043                       yahoo      messenger  5.6.0.1351  Buffer overflow in Yahoo Instant Messenger 5.6.0.1351 and earlier allows remote attackers to cause a denial of service (crash) and possibly execute arbitrary code via a long filename in the downlo...\n",
       "2  CVE-2004-0043                       yahoo      messenger  5.6.0.1358  Buffer overflow in Yahoo Instant Messenger 5.6.0.1351 and earlier allows remote attackers to cause a denial of service (crash) and possibly execute arbitrary code via a long filename in the downlo...\n",
       "3  CVE-2004-0159                samhain_labs          hsftp         1.4  Format string vulnerability in hsftp 1.11 allows remote authenticated users to cause a denial of service and possibly execute arbitrary code via file names containing format string characters that...\n",
       "4  CVE-2004-0159                samhain_labs          hsftp        1.11  Format string vulnerability in hsftp 1.11 allows remote authenticated users to cause a denial of service and possibly execute arbitrary code via file names containing format string characters that..."
      ]
     },
     "execution_count": 4,
     "metadata": {},
     "output_type": "execute_result"
    }
   ],
   "source": [
    "conn = p2.connect(dbname=dbname, user=user, password=password, host=host, port=port)\n",
    "cur = conn.cursor()\n",
    "cur.execute('''\n",
    "select cve_id, vendor, product, version, descr  \n",
    "from cves c inner join descriptions d on c.cve_id_pk=d.cve_id_fk\n",
    "inner join cve_cpe_config ccc on c.cve_id_pk=ccc.cve_id_fk inner join cpes cp on ccc.cpe_id_fk=cp.cpe_id_pk \n",
    "where descr like '%_._%'\n",
    "limit 10000000\n",
    "''')\n",
    "colnames = [desc[0] for desc in cur.description]\n",
    "tuples = cur.fetchall()\n",
    "cur.close()\n",
    "# df = pd.DataFrame(tuples, columns=['cpe_id_pk', 'cpe_version', 'part', 'vendor', \n",
    "#                                     'product', 'version', 'update', 'edition', \n",
    "#                                     'sw_edition', 'target_sw', 'target_hw', \n",
    "#                                     'language', 'other', 'initial_cpe'])\n",
    "df = pd.DataFrame(tuples, columns=colnames)\n",
    "df.head()"
   ]
  },
  {
   "cell_type": "code",
   "execution_count": 5,
   "metadata": {},
   "outputs": [
    {
     "data": {
      "text/plain": [
       "(686075, 5)"
      ]
     },
     "execution_count": 5,
     "metadata": {},
     "output_type": "execute_result"
    }
   ],
   "source": [
    "df.shape"
   ]
  },
  {
   "cell_type": "code",
   "execution_count": 131,
   "metadata": {},
   "outputs": [
    {
     "data": {
      "application/vnd.microsoft.datawrangler.viewer.v0+json": {
       "columns": [
        {
         "name": "index",
         "rawType": "int64",
         "type": "integer"
        },
        {
         "name": "cve_id",
         "rawType": "object",
         "type": "string"
        },
        {
         "name": "vendor",
         "rawType": "object",
         "type": "string"
        },
        {
         "name": "product",
         "rawType": "object",
         "type": "string"
        },
        {
         "name": "version",
         "rawType": "object",
         "type": "string"
        },
        {
         "name": "descr",
         "rawType": "object",
         "type": "string"
        },
        {
         "name": "matched_regex_before",
         "rawType": "object",
         "type": "string"
        },
        {
         "name": "matched_regex_after",
         "rawType": "object",
         "type": "string"
        }
       ],
       "conversionMethod": "pd.DataFrame",
       "ref": "8ee9e5f3-5885-4655-85f8-ca71eea38067",
       "rows": [
        [
         "0",
         "CVE-2004-0013",
         "jabber_software_foundation",
         "jabber_server",
         "1.4.3",
         "jabber 1.4.2, 1.4.2a, and possibly earlier versions, does not properly handle SSL connections, which allows remote attackers to cause a denial of service (crash).",
         "jabber",
         ""
        ],
        [
         "1",
         "CVE-2004-0043",
         "yahoo",
         "messenger",
         "5.6.0.1351",
         "Buffer overflow in Yahoo Instant Messenger 5.6.0.1351 and earlier allows remote attackers to cause a denial of service (crash) and possibly execute arbitrary code via a long filename in the download feature.",
         "Messenger",
         "and"
        ],
        [
         "2",
         "CVE-2004-0043",
         "yahoo",
         "messenger",
         "5.6.0.1358",
         "Buffer overflow in Yahoo Instant Messenger 5.6.0.1351 and earlier allows remote attackers to cause a denial of service (crash) and possibly execute arbitrary code via a long filename in the download feature.",
         "Messenger",
         "and"
        ],
        [
         "3",
         "CVE-2004-0159",
         "samhain_labs",
         "hsftp",
         "1.4",
         "Format string vulnerability in hsftp 1.11 allows remote authenticated users to cause a denial of service and possibly execute arbitrary code via file names containing format string characters that are not properly handled when executing an \"ls\" command.",
         "hsftp",
         ""
        ],
        [
         "4",
         "CVE-2004-0159",
         "samhain_labs",
         "hsftp",
         "1.11",
         "Format string vulnerability in hsftp 1.11 allows remote authenticated users to cause a denial of service and possibly execute arbitrary code via file names containing format string characters that are not properly handled when executing an \"ls\" command.",
         "hsftp",
         ""
        ],
        [
         "5",
         "CVE-2004-0352",
         "cisco",
         "content_services_switch_11000",
         "-",
         "Cisco 11000 Series Content Services Switches (CSS) running WebNS 5.0(x) before 05.0(04.07)S, and 6.10(x) before 06.10(02.05)S allow remote attackers to cause a denial of service (device reset) via a malformed packet to UDP port 5002.",
         "WebNS",
         ""
        ],
        [
         "6",
         "CVE-2004-0465",
         "openconnect",
         "webconnect",
         "6.4.4",
         "Directory traversal vulnerability in jretest.html in WebConnect 6.5 and 6.4.4, and possibly earlier versions, allows remote attackers to read keys within arbitrary INI formatted files via \"..//\" sequences in the WCP_USER parameter.",
         "WebConnect",
         ""
        ],
        [
         "7",
         "CVE-2004-0658",
         "linux",
         "linux_kernel",
         "2.5.51",
         "Integer overflow in the hpsb_alloc_packet function (incorrectly reported as alloc_hpsb_packet) in IEEE 1394 (Firewire) driver 2.4 and 2.6 allows local users to cause a denial of service (crash) and possibly execute arbitrary code via the functions (1) raw1394_write, (2) state_connected, (3) handle_remote_request, or (4) hpsb_make_writebpacket.",
         "driver",
         ""
        ],
        [
         "8",
         "CVE-2004-0658",
         "linux",
         "linux_kernel",
         "2.5.24",
         "Integer overflow in the hpsb_alloc_packet function (incorrectly reported as alloc_hpsb_packet) in IEEE 1394 (Firewire) driver 2.4 and 2.6 allows local users to cause a denial of service (crash) and possibly execute arbitrary code via the functions (1) raw1394_write, (2) state_connected, (3) handle_remote_request, or (4) hpsb_make_writebpacket.",
         "driver",
         ""
        ],
        [
         "9",
         "CVE-2004-0658",
         "linux",
         "linux_kernel",
         "2.5.46",
         "Integer overflow in the hpsb_alloc_packet function (incorrectly reported as alloc_hpsb_packet) in IEEE 1394 (Firewire) driver 2.4 and 2.6 allows local users to cause a denial of service (crash) and possibly execute arbitrary code via the functions (1) raw1394_write, (2) state_connected, (3) handle_remote_request, or (4) hpsb_make_writebpacket.",
         "driver",
         ""
        ],
        [
         "10",
         "CVE-2004-0731",
         "francisco_burzi",
         "php-nuke",
         "8.0_final",
         "Cross-site scripting (XSS) vulnerability in index.php in the Search module for Php-Nuke allows remote attackers to inject arbitrary script as other users via the input field.",
         "",
         ""
        ],
        [
         "11",
         "CVE-2004-0749",
         "subversion",
         "subversion",
         "1.0.5",
         "The mod_authz_svn module in Subversion 1.0.7 and earlier does not properly restrict access to all metadata on unreadable paths, which could allow remote attackers to gain sensitive information via (1) svn log -v, (2) svn propget, or (3) svn blame, and other commands that follow renames.",
         "Subversion",
         "and"
        ],
        [
         "12",
         "CVE-2004-0815",
         "samba",
         "samba",
         "2.2.4",
         "The unix_clean_name function in Samba 2.2.x through 2.2.11, and 3.0.x before 3.0.2a, trims certain directory names down to absolute paths, which could allow remote attackers to bypass the specified share restrictions and read, write, or list arbitrary files via \"/.////\" style sequences in pathnames.",
         "Samba",
         ""
        ],
        [
         "13",
         "CVE-2004-1051",
         "todd_miller",
         "sudo",
         "1.6.3_p2",
         "sudo before 1.6.8p2 allows local users to execute arbitrary commands by using \"()\" style environment variables to create functions that have the same name as any program within the bash script that is called without using the program's full pathname.",
         "before",
         ""
        ],
        [
         "14",
         "CVE-2004-1225",
         "sugarcrm",
         "sugarcrm",
         "1.1a",
         "SQL injection vulnerability in SugarCRM Sugar Sales before 2.0.1a allows remote attackers to execute arbitrary SQL commands and gain privileges via the record parameter in a DetailView action to index.php, and record parameters in other functionality.",
         "before",
         ""
        ],
        [
         "15",
         "CVE-2004-1225",
         "sugarcrm",
         "sugarcrm",
         "1.1f",
         "SQL injection vulnerability in SugarCRM Sugar Sales before 2.0.1a allows remote attackers to execute arbitrary SQL commands and gain privileges via the record parameter in a DetailView action to index.php, and record parameters in other functionality.",
         "before",
         ""
        ],
        [
         "16",
         "CVE-2004-1469",
         "peter_d._gray",
         "sus",
         "2.0",
         "Format string vulnerability in the log function in SUS 2.0.2, and other versions before 2.0.6, allows local users to execute arbitrary code via format string specifiers in a command line argument that is passed directly to syslog.",
         "SUS",
         ""
        ],
        [
         "17",
         "CVE-2004-1498",
         "webhost_automation",
         "helm_control_panel",
         "3.1.17",
         "SQL injection vulnerability in the compose message form in HELM 3.1.19 and earlier allows remote attackers to execute arbitrary SQL commands via the messageToUserAccNum parameter.",
         "HELM",
         "and"
        ],
        [
         "18",
         "CVE-2004-1772",
         "gnu",
         "sharutils",
         "4.2",
         "Stack-based buffer overflow in shar in GNU sharutils 4.2.1 allows local users to execute arbitrary code via a long -o command line argument.",
         "sharutils",
         "allows"
        ],
        [
         "19",
         "CVE-2004-2030",
         "liferay",
         "liferay_enterprise_portal",
         "",
         "Multiple cross-site scripting (XSS) vulnerabilities in index.jsp for Liferay before 2.2.0 release 10/1/2004 allow remote attackers to inject arbitrary web script or HTML, as demonstrated using the message subject.",
         "before",
         "release"
        ],
        [
         "20",
         "CVE-2004-2205",
         "symantec_veritas",
         "cluster_server",
         "3.5_solaris_mp2",
         "Unknown vulnerability in Veritas Cluster Server 1.0.1 through 4.0 allows local users to gain root access via unspecified vectors.",
         "Server",
         "through"
        ],
        [
         "21",
         "CVE-2004-2431",
         "the_ignition_project",
         "ignitionserver",
         "0.3.1_b1",
         "Unknown vulnerability in The Ignition Project ignitionServer 0.1.2 through 0.3.1, with the linking service enabled, allows remote attackers to bypass authentication.",
         "ignitionServer",
         "through"
        ],
        [
         "22",
         "CVE-2004-2484",
         "php_gift_registry",
         "phpgiftreg",
         "1.3.1",
         "Cross-site scripting (XSS) vulnerability in PHP Gift Registry 1.3.5 and earlier allows remote attackers to inject arbitrary web script or HTML via the message parameter to (1) event.php or (2) index.php.",
         "Registry",
         "and"
        ],
        [
         "23",
         "CVE-2004-2484",
         "php_gift_registry",
         "phpgiftreg",
         "1.3.4",
         "Cross-site scripting (XSS) vulnerability in PHP Gift Registry 1.3.5 and earlier allows remote attackers to inject arbitrary web script or HTML via the message parameter to (1) event.php or (2) index.php.",
         "Registry",
         "and"
        ],
        [
         "24",
         "CVE-2004-2759",
         "sun",
         "storeedge_utilization_suite",
         "4.1",
         "Shared Sun StorEdge QFS and SAM-QFS file systems, as used in Utilization Suite 4.0 through 4.1 and Performance Suite 4.0 through 4.1, might allow local users to read portions of deleted files by accessing data within sparse files.",
         "Suite",
         ""
        ],
        [
         "25",
         "CVE-2010-0097",
         "isc",
         "bind",
         "9.6.1",
         "ISC BIND 9.0.x through 9.3.x, 9.4 before 9.4.3-P5, 9.5 before 9.5.2-P2, 9.6 before 9.6.1-P3, and 9.7.0 beta does not properly validate DNSSEC (1) NSEC and (2) NSEC3 records, which allows remote attackers to add the Authenticated Data (AD) flag to a forged NXDOMAIN response for an existing domain.",
         "BIND",
         "beta"
        ],
        [
         "26",
         "CVE-2010-0097",
         "isc",
         "bind",
         "9.1.1",
         "ISC BIND 9.0.x through 9.3.x, 9.4 before 9.4.3-P5, 9.5 before 9.5.2-P2, 9.6 before 9.6.1-P3, and 9.7.0 beta does not properly validate DNSSEC (1) NSEC and (2) NSEC3 records, which allows remote attackers to add the Authenticated Data (AD) flag to a forged NXDOMAIN response for an existing domain.",
         "BIND",
         "beta"
        ],
        [
         "27",
         "CVE-2010-0097",
         "isc",
         "bind",
         "9.3.1",
         "ISC BIND 9.0.x through 9.3.x, 9.4 before 9.4.3-P5, 9.5 before 9.5.2-P2, 9.6 before 9.6.1-P3, and 9.7.0 beta does not properly validate DNSSEC (1) NSEC and (2) NSEC3 records, which allows remote attackers to add the Authenticated Data (AD) flag to a forged NXDOMAIN response for an existing domain.",
         "BIND",
         "beta"
        ],
        [
         "28",
         "CVE-2010-0097",
         "isc",
         "bind",
         "9.1.3",
         "ISC BIND 9.0.x through 9.3.x, 9.4 before 9.4.3-P5, 9.5 before 9.5.2-P2, 9.6 before 9.6.1-P3, and 9.7.0 beta does not properly validate DNSSEC (1) NSEC and (2) NSEC3 records, which allows remote attackers to add the Authenticated Data (AD) flag to a forged NXDOMAIN response for an existing domain.",
         "BIND",
         "beta"
        ],
        [
         "29",
         "CVE-2010-0097",
         "isc",
         "bind",
         "9.3.5",
         "ISC BIND 9.0.x through 9.3.x, 9.4 before 9.4.3-P5, 9.5 before 9.5.2-P2, 9.6 before 9.6.1-P3, and 9.7.0 beta does not properly validate DNSSEC (1) NSEC and (2) NSEC3 records, which allows remote attackers to add the Authenticated Data (AD) flag to a forged NXDOMAIN response for an existing domain.",
         "BIND",
         "beta"
        ],
        [
         "30",
         "CVE-2010-0097",
         "isc",
         "bind",
         "9.5.0",
         "ISC BIND 9.0.x through 9.3.x, 9.4 before 9.4.3-P5, 9.5 before 9.5.2-P2, 9.6 before 9.6.1-P3, and 9.7.0 beta does not properly validate DNSSEC (1) NSEC and (2) NSEC3 records, which allows remote attackers to add the Authenticated Data (AD) flag to a forged NXDOMAIN response for an existing domain.",
         "BIND",
         "beta"
        ],
        [
         "31",
         "CVE-2010-0097",
         "isc",
         "bind",
         "9.3.2",
         "ISC BIND 9.0.x through 9.3.x, 9.4 before 9.4.3-P5, 9.5 before 9.5.2-P2, 9.6 before 9.6.1-P3, and 9.7.0 beta does not properly validate DNSSEC (1) NSEC and (2) NSEC3 records, which allows remote attackers to add the Authenticated Data (AD) flag to a forged NXDOMAIN response for an existing domain.",
         "BIND",
         "beta"
        ],
        [
         "32",
         "CVE-2010-0097",
         "isc",
         "bind",
         "9.2.2",
         "ISC BIND 9.0.x through 9.3.x, 9.4 before 9.4.3-P5, 9.5 before 9.5.2-P2, 9.6 before 9.6.1-P3, and 9.7.0 beta does not properly validate DNSSEC (1) NSEC and (2) NSEC3 records, which allows remote attackers to add the Authenticated Data (AD) flag to a forged NXDOMAIN response for an existing domain.",
         "BIND",
         "beta"
        ],
        [
         "33",
         "CVE-2010-0097",
         "isc",
         "bind",
         "9.4.1",
         "ISC BIND 9.0.x through 9.3.x, 9.4 before 9.4.3-P5, 9.5 before 9.5.2-P2, 9.6 before 9.6.1-P3, and 9.7.0 beta does not properly validate DNSSEC (1) NSEC and (2) NSEC3 records, which allows remote attackers to add the Authenticated Data (AD) flag to a forged NXDOMAIN response for an existing domain.",
         "BIND",
         "beta"
        ],
        [
         "34",
         "CVE-2010-0097",
         "isc",
         "bind",
         "9.7.0",
         "ISC BIND 9.0.x through 9.3.x, 9.4 before 9.4.3-P5, 9.5 before 9.5.2-P2, 9.6 before 9.6.1-P3, and 9.7.0 beta does not properly validate DNSSEC (1) NSEC and (2) NSEC3 records, which allows remote attackers to add the Authenticated Data (AD) flag to a forged NXDOMAIN response for an existing domain.",
         "BIND",
         "beta"
        ],
        [
         "35",
         "CVE-2010-0097",
         "isc",
         "bind",
         "9.7.0",
         "ISC BIND 9.0.x through 9.3.x, 9.4 before 9.4.3-P5, 9.5 before 9.5.2-P2, 9.6 before 9.6.1-P3, and 9.7.0 beta does not properly validate DNSSEC (1) NSEC and (2) NSEC3 records, which allows remote attackers to add the Authenticated Data (AD) flag to a forged NXDOMAIN response for an existing domain.",
         "BIND",
         "beta"
        ],
        [
         "36",
         "CVE-2010-0097",
         "isc",
         "bind",
         "9.7.0",
         "ISC BIND 9.0.x through 9.3.x, 9.4 before 9.4.3-P5, 9.5 before 9.5.2-P2, 9.6 before 9.6.1-P3, and 9.7.0 beta does not properly validate DNSSEC (1) NSEC and (2) NSEC3 records, which allows remote attackers to add the Authenticated Data (AD) flag to a forged NXDOMAIN response for an existing domain.",
         "BIND",
         "beta"
        ],
        [
         "37",
         "CVE-2010-0097",
         "isc",
         "bind",
         "9.7.0",
         "ISC BIND 9.0.x through 9.3.x, 9.4 before 9.4.3-P5, 9.5 before 9.5.2-P2, 9.6 before 9.6.1-P3, and 9.7.0 beta does not properly validate DNSSEC (1) NSEC and (2) NSEC3 records, which allows remote attackers to add the Authenticated Data (AD) flag to a forged NXDOMAIN response for an existing domain.",
         "BIND",
         "beta"
        ],
        [
         "38",
         "CVE-2010-0097",
         "isc",
         "bind",
         "9.6",
         "ISC BIND 9.0.x through 9.3.x, 9.4 before 9.4.3-P5, 9.5 before 9.5.2-P2, 9.6 before 9.6.1-P3, and 9.7.0 beta does not properly validate DNSSEC (1) NSEC and (2) NSEC3 records, which allows remote attackers to add the Authenticated Data (AD) flag to a forged NXDOMAIN response for an existing domain.",
         "BIND",
         "beta"
        ],
        [
         "39",
         "CVE-2010-0097",
         "isc",
         "bind",
         "9.2.1",
         "ISC BIND 9.0.x through 9.3.x, 9.4 before 9.4.3-P5, 9.5 before 9.5.2-P2, 9.6 before 9.6.1-P3, and 9.7.0 beta does not properly validate DNSSEC (1) NSEC and (2) NSEC3 records, which allows remote attackers to add the Authenticated Data (AD) flag to a forged NXDOMAIN response for an existing domain.",
         "BIND",
         "beta"
        ],
        [
         "40",
         "CVE-2010-0097",
         "isc",
         "bind",
         "9.2.1",
         "ISC BIND 9.0.x through 9.3.x, 9.4 before 9.4.3-P5, 9.5 before 9.5.2-P2, 9.6 before 9.6.1-P3, and 9.7.0 beta does not properly validate DNSSEC (1) NSEC and (2) NSEC3 records, which allows remote attackers to add the Authenticated Data (AD) flag to a forged NXDOMAIN response for an existing domain.",
         "BIND",
         "beta"
        ],
        [
         "41",
         "CVE-2010-0097",
         "isc",
         "bind",
         "9.5.0",
         "ISC BIND 9.0.x through 9.3.x, 9.4 before 9.4.3-P5, 9.5 before 9.5.2-P2, 9.6 before 9.6.1-P3, and 9.7.0 beta does not properly validate DNSSEC (1) NSEC and (2) NSEC3 records, which allows remote attackers to add the Authenticated Data (AD) flag to a forged NXDOMAIN response for an existing domain.",
         "BIND",
         "beta"
        ],
        [
         "42",
         "CVE-2010-0097",
         "isc",
         "bind",
         "9.5.0",
         "ISC BIND 9.0.x through 9.3.x, 9.4 before 9.4.3-P5, 9.5 before 9.5.2-P2, 9.6 before 9.6.1-P3, and 9.7.0 beta does not properly validate DNSSEC (1) NSEC and (2) NSEC3 records, which allows remote attackers to add the Authenticated Data (AD) flag to a forged NXDOMAIN response for an existing domain.",
         "BIND",
         "beta"
        ],
        [
         "43",
         "CVE-2010-0097",
         "isc",
         "bind",
         "9.4.2",
         "ISC BIND 9.0.x through 9.3.x, 9.4 before 9.4.3-P5, 9.5 before 9.5.2-P2, 9.6 before 9.6.1-P3, and 9.7.0 beta does not properly validate DNSSEC (1) NSEC and (2) NSEC3 records, which allows remote attackers to add the Authenticated Data (AD) flag to a forged NXDOMAIN response for an existing domain.",
         "BIND",
         "beta"
        ],
        [
         "44",
         "CVE-2010-0097",
         "isc",
         "bind",
         "9.3.1",
         "ISC BIND 9.0.x through 9.3.x, 9.4 before 9.4.3-P5, 9.5 before 9.5.2-P2, 9.6 before 9.6.1-P3, and 9.7.0 beta does not properly validate DNSSEC (1) NSEC and (2) NSEC3 records, which allows remote attackers to add the Authenticated Data (AD) flag to a forged NXDOMAIN response for an existing domain.",
         "BIND",
         "beta"
        ],
        [
         "45",
         "CVE-2010-0097",
         "isc",
         "bind",
         "9.3.1",
         "ISC BIND 9.0.x through 9.3.x, 9.4 before 9.4.3-P5, 9.5 before 9.5.2-P2, 9.6 before 9.6.1-P3, and 9.7.0 beta does not properly validate DNSSEC (1) NSEC and (2) NSEC3 records, which allows remote attackers to add the Authenticated Data (AD) flag to a forged NXDOMAIN response for an existing domain.",
         "BIND",
         "beta"
        ],
        [
         "46",
         "CVE-2010-0097",
         "isc",
         "bind",
         "9.1",
         "ISC BIND 9.0.x through 9.3.x, 9.4 before 9.4.3-P5, 9.5 before 9.5.2-P2, 9.6 before 9.6.1-P3, and 9.7.0 beta does not properly validate DNSSEC (1) NSEC and (2) NSEC3 records, which allows remote attackers to add the Authenticated Data (AD) flag to a forged NXDOMAIN response for an existing domain.",
         "BIND",
         "beta"
        ],
        [
         "47",
         "CVE-2010-0097",
         "isc",
         "bind",
         "9.4.3",
         "ISC BIND 9.0.x through 9.3.x, 9.4 before 9.4.3-P5, 9.5 before 9.5.2-P2, 9.6 before 9.6.1-P3, and 9.7.0 beta does not properly validate DNSSEC (1) NSEC and (2) NSEC3 records, which allows remote attackers to add the Authenticated Data (AD) flag to a forged NXDOMAIN response for an existing domain.",
         "BIND",
         "beta"
        ],
        [
         "48",
         "CVE-2010-0097",
         "isc",
         "bind",
         "9.4.3",
         "ISC BIND 9.0.x through 9.3.x, 9.4 before 9.4.3-P5, 9.5 before 9.5.2-P2, 9.6 before 9.6.1-P3, and 9.7.0 beta does not properly validate DNSSEC (1) NSEC and (2) NSEC3 records, which allows remote attackers to add the Authenticated Data (AD) flag to a forged NXDOMAIN response for an existing domain.",
         "BIND",
         "beta"
        ],
        [
         "49",
         "CVE-2010-0097",
         "isc",
         "bind",
         "9.4.3",
         "ISC BIND 9.0.x through 9.3.x, 9.4 before 9.4.3-P5, 9.5 before 9.5.2-P2, 9.6 before 9.6.1-P3, and 9.7.0 beta does not properly validate DNSSEC (1) NSEC and (2) NSEC3 records, which allows remote attackers to add the Authenticated Data (AD) flag to a forged NXDOMAIN response for an existing domain.",
         "BIND",
         "beta"
        ]
       ],
       "shape": {
        "columns": 7,
        "rows": 686075
       }
      },
      "text/html": [
       "<div>\n",
       "<style scoped>\n",
       "    .dataframe tbody tr th:only-of-type {\n",
       "        vertical-align: middle;\n",
       "    }\n",
       "\n",
       "    .dataframe tbody tr th {\n",
       "        vertical-align: top;\n",
       "    }\n",
       "\n",
       "    .dataframe thead th {\n",
       "        text-align: right;\n",
       "    }\n",
       "</style>\n",
       "<table border=\"1\" class=\"dataframe\">\n",
       "  <thead>\n",
       "    <tr style=\"text-align: right;\">\n",
       "      <th></th>\n",
       "      <th>cve_id</th>\n",
       "      <th>vendor</th>\n",
       "      <th>product</th>\n",
       "      <th>version</th>\n",
       "      <th>descr</th>\n",
       "      <th>matched_regex_before</th>\n",
       "      <th>matched_regex_after</th>\n",
       "    </tr>\n",
       "  </thead>\n",
       "  <tbody>\n",
       "    <tr>\n",
       "      <th>0</th>\n",
       "      <td>CVE-2004-0013</td>\n",
       "      <td>jabber_software_foundation</td>\n",
       "      <td>jabber_server</td>\n",
       "      <td>1.4.3</td>\n",
       "      <td>jabber 1.4.2, 1.4.2a, and possibly earlier versions, does not properly handle SSL connections, which allows remote attackers to cause a denial of service (crash).</td>\n",
       "      <td>jabber</td>\n",
       "      <td></td>\n",
       "    </tr>\n",
       "    <tr>\n",
       "      <th>1</th>\n",
       "      <td>CVE-2004-0043</td>\n",
       "      <td>yahoo</td>\n",
       "      <td>messenger</td>\n",
       "      <td>5.6.0.1351</td>\n",
       "      <td>Buffer overflow in Yahoo Instant Messenger 5.6.0.1351 and earlier allows remote attackers to cause a denial of service (crash) and possibly execute arbitrary code via a long filename in the downlo...</td>\n",
       "      <td>Messenger</td>\n",
       "      <td>and</td>\n",
       "    </tr>\n",
       "    <tr>\n",
       "      <th>2</th>\n",
       "      <td>CVE-2004-0043</td>\n",
       "      <td>yahoo</td>\n",
       "      <td>messenger</td>\n",
       "      <td>5.6.0.1358</td>\n",
       "      <td>Buffer overflow in Yahoo Instant Messenger 5.6.0.1351 and earlier allows remote attackers to cause a denial of service (crash) and possibly execute arbitrary code via a long filename in the downlo...</td>\n",
       "      <td>Messenger</td>\n",
       "      <td>and</td>\n",
       "    </tr>\n",
       "    <tr>\n",
       "      <th>3</th>\n",
       "      <td>CVE-2004-0159</td>\n",
       "      <td>samhain_labs</td>\n",
       "      <td>hsftp</td>\n",
       "      <td>1.4</td>\n",
       "      <td>Format string vulnerability in hsftp 1.11 allows remote authenticated users to cause a denial of service and possibly execute arbitrary code via file names containing format string characters that...</td>\n",
       "      <td>hsftp</td>\n",
       "      <td></td>\n",
       "    </tr>\n",
       "    <tr>\n",
       "      <th>4</th>\n",
       "      <td>CVE-2004-0159</td>\n",
       "      <td>samhain_labs</td>\n",
       "      <td>hsftp</td>\n",
       "      <td>1.11</td>\n",
       "      <td>Format string vulnerability in hsftp 1.11 allows remote authenticated users to cause a denial of service and possibly execute arbitrary code via file names containing format string characters that...</td>\n",
       "      <td>hsftp</td>\n",
       "      <td></td>\n",
       "    </tr>\n",
       "    <tr>\n",
       "      <th>...</th>\n",
       "      <td>...</td>\n",
       "      <td>...</td>\n",
       "      <td>...</td>\n",
       "      <td>...</td>\n",
       "      <td>...</td>\n",
       "      <td>...</td>\n",
       "      <td>...</td>\n",
       "    </tr>\n",
       "    <tr>\n",
       "      <th>686070</th>\n",
       "      <td>CVE-2002-0600</td>\n",
       "      <td>kth</td>\n",
       "      <td>kth_kerberos</td>\n",
       "      <td>4_1.1.1</td>\n",
       "      <td>Heap overflow in the KTH Kerberos 4 FTP client 4-1.1.1 allows remote malicious servers to execute arbitrary code on the client via a long response to a passive (PASV) mode request.</td>\n",
       "      <td></td>\n",
       "      <td>allows</td>\n",
       "    </tr>\n",
       "    <tr>\n",
       "      <th>686071</th>\n",
       "      <td>CVE-2002-0910</td>\n",
       "      <td>debian</td>\n",
       "      <td>netstd</td>\n",
       "      <td>3.07</td>\n",
       "      <td>Buffer overflows in netstd 3.07-17 package allows remote DNS servers to execute arbitrary code via a long FQDN reply, as observed in the utilities (1) linux-ftpd, (2) pcnfsd, (3) tftp, (4) tracero...</td>\n",
       "      <td>netstd</td>\n",
       "      <td></td>\n",
       "    </tr>\n",
       "    <tr>\n",
       "      <th>686072</th>\n",
       "      <td>CVE-2002-1964</td>\n",
       "      <td>wesmo</td>\n",
       "      <td>phpeventcalendar</td>\n",
       "      <td>1.1</td>\n",
       "      <td>Unknown vulnerability in WesMo phpEventCalendar 1.1 allows remote attackers to execute arbitrary commands via unknown attack vectors.</td>\n",
       "      <td>phpEventCalendar</td>\n",
       "      <td></td>\n",
       "    </tr>\n",
       "    <tr>\n",
       "      <th>686073</th>\n",
       "      <td>CVE-2002-2110</td>\n",
       "      <td>rca</td>\n",
       "      <td>digital_cable_modem</td>\n",
       "      <td>dcm225</td>\n",
       "      <td>The RCA Digital Cable Modems DCM225 and DCM225E allow remote attackers to cause a denial of service (modem device reset) by connecting to port 80 on the 10.0.0.0/8 device.</td>\n",
       "      <td>the</td>\n",
       "      <td></td>\n",
       "    </tr>\n",
       "    <tr>\n",
       "      <th>686074</th>\n",
       "      <td>CVE-2002-2376</td>\n",
       "      <td>leung</td>\n",
       "      <td>e-guest</td>\n",
       "      <td>1.1</td>\n",
       "      <td>Cross-site scripting (XSS) vulnerability in E-Guest_sign.pl in E-Guest 1.1 allows remote attackers to inject arbitrary SSI directives, web script, and HTML via the (1) full name, (2) email, (3) ho...</td>\n",
       "      <td>Guest</td>\n",
       "      <td></td>\n",
       "    </tr>\n",
       "  </tbody>\n",
       "</table>\n",
       "<p>686075 rows × 7 columns</p>\n",
       "</div>"
      ],
      "text/plain": [
       "               cve_id                      vendor              product     version                                                                                                                                                                                                    descr matched_regex_before matched_regex_after\n",
       "0       CVE-2004-0013  jabber_software_foundation        jabber_server       1.4.3                                       jabber 1.4.2, 1.4.2a, and possibly earlier versions, does not properly handle SSL connections, which allows remote attackers to cause a denial of service (crash).               jabber                    \n",
       "1       CVE-2004-0043                       yahoo            messenger  5.6.0.1351  Buffer overflow in Yahoo Instant Messenger 5.6.0.1351 and earlier allows remote attackers to cause a denial of service (crash) and possibly execute arbitrary code via a long filename in the downlo...            Messenger                 and\n",
       "2       CVE-2004-0043                       yahoo            messenger  5.6.0.1358  Buffer overflow in Yahoo Instant Messenger 5.6.0.1351 and earlier allows remote attackers to cause a denial of service (crash) and possibly execute arbitrary code via a long filename in the downlo...            Messenger                 and\n",
       "3       CVE-2004-0159                samhain_labs                hsftp         1.4  Format string vulnerability in hsftp 1.11 allows remote authenticated users to cause a denial of service and possibly execute arbitrary code via file names containing format string characters that...                hsftp                    \n",
       "4       CVE-2004-0159                samhain_labs                hsftp        1.11  Format string vulnerability in hsftp 1.11 allows remote authenticated users to cause a denial of service and possibly execute arbitrary code via file names containing format string characters that...                hsftp                    \n",
       "...               ...                         ...                  ...         ...                                                                                                                                                                                                      ...                  ...                 ...\n",
       "686070  CVE-2002-0600                         kth         kth_kerberos     4_1.1.1                     Heap overflow in the KTH Kerberos 4 FTP client 4-1.1.1 allows remote malicious servers to execute arbitrary code on the client via a long response to a passive (PASV) mode request.                                   allows\n",
       "686071  CVE-2002-0910                      debian               netstd        3.07  Buffer overflows in netstd 3.07-17 package allows remote DNS servers to execute arbitrary code via a long FQDN reply, as observed in the utilities (1) linux-ftpd, (2) pcnfsd, (3) tftp, (4) tracero...               netstd                    \n",
       "686072  CVE-2002-1964                       wesmo     phpeventcalendar         1.1                                                                    Unknown vulnerability in WesMo phpEventCalendar 1.1 allows remote attackers to execute arbitrary commands via unknown attack vectors.     phpEventCalendar                    \n",
       "686073  CVE-2002-2110                         rca  digital_cable_modem      dcm225                              The RCA Digital Cable Modems DCM225 and DCM225E allow remote attackers to cause a denial of service (modem device reset) by connecting to port 80 on the 10.0.0.0/8 device.                  the                    \n",
       "686074  CVE-2002-2376                       leung              e-guest         1.1  Cross-site scripting (XSS) vulnerability in E-Guest_sign.pl in E-Guest 1.1 allows remote attackers to inject arbitrary SSI directives, web script, and HTML via the (1) full name, (2) email, (3) ho...                Guest                    \n",
       "\n",
       "[686075 rows x 7 columns]"
      ]
     },
     "execution_count": 131,
     "metadata": {},
     "output_type": "execute_result"
    }
   ],
   "source": [
    "df"
   ]
  },
  {
   "cell_type": "markdown",
   "metadata": {},
   "source": [
    "## Версии before"
   ]
  },
  {
   "cell_type": "code",
   "execution_count": 6,
   "metadata": {},
   "outputs": [],
   "source": [
    "import re\n",
    "\n",
    "def extract_word_before_version(text):\n",
    "    # The regex looks for a word (letters) followed by a version pattern with at least two dots\n",
    "    pattern = r'([a-zA-Z><=]+)\\s+\\d+(?:\\.\\d+){1,}'\n",
    "    match = re.search(pattern, text)\n",
    "    if match:\n",
    "        return match.group(1)\n",
    "    else:\n",
    "        return ''"
   ]
  },
  {
   "cell_type": "code",
   "execution_count": 62,
   "metadata": {},
   "outputs": [
    {
     "name": "stdout",
     "output_type": "stream",
     "text": [
      "before\n",
      "name\n",
      "tuesday\n",
      "you\n",
      ">=\n"
     ]
    }
   ],
   "source": [
    "print(extract_word_before_version(\"Google Chrome before 19.0.1084.46\"))  # Output: before\n",
    "print(extract_word_before_version(\"i have got the name 2.1.0\"))          # Output: name\n",
    "print(extract_word_before_version(\"this is tuesday 1.2.1.1.1\"))          # Output: tuesday\n",
    "print(extract_word_before_version(\"mama i love you 6.0\"))      \n",
    "print(extract_word_before_version(\"all that are >= 6.0\"))   "
   ]
  },
  {
   "cell_type": "code",
   "execution_count": 7,
   "metadata": {},
   "outputs": [],
   "source": [
    "df['matched_regex_before'] = df['descr'].apply(extract_word_before_version)"
   ]
  },
  {
   "cell_type": "code",
   "execution_count": 64,
   "metadata": {},
   "outputs": [
    {
     "data": {
      "text/html": [
       "<div>\n",
       "<style scoped>\n",
       "    .dataframe tbody tr th:only-of-type {\n",
       "        vertical-align: middle;\n",
       "    }\n",
       "\n",
       "    .dataframe tbody tr th {\n",
       "        vertical-align: top;\n",
       "    }\n",
       "\n",
       "    .dataframe thead th {\n",
       "        text-align: right;\n",
       "    }\n",
       "</style>\n",
       "<table border=\"1\" class=\"dataframe\">\n",
       "  <thead>\n",
       "    <tr style=\"text-align: right;\">\n",
       "      <th></th>\n",
       "      <th>word</th>\n",
       "      <th>matched_regex_before</th>\n",
       "    </tr>\n",
       "  </thead>\n",
       "  <tbody>\n",
       "    <tr>\n",
       "      <th>0</th>\n",
       "      <td>before</td>\n",
       "      <td>223119</td>\n",
       "    </tr>\n",
       "    <tr>\n",
       "      <th>1</th>\n",
       "      <td></td>\n",
       "      <td>105968</td>\n",
       "    </tr>\n",
       "    <tr>\n",
       "      <th>2</th>\n",
       "      <td>through</td>\n",
       "      <td>54907</td>\n",
       "    </tr>\n",
       "    <tr>\n",
       "      <th>3</th>\n",
       "      <td>version</td>\n",
       "      <td>51086</td>\n",
       "    </tr>\n",
       "    <tr>\n",
       "      <th>4</th>\n",
       "      <td>to</td>\n",
       "      <td>48571</td>\n",
       "    </tr>\n",
       "    <tr>\n",
       "      <th>...</th>\n",
       "      <td>...</td>\n",
       "      <td>...</td>\n",
       "    </tr>\n",
       "    <tr>\n",
       "      <th>9354</th>\n",
       "      <td>TxtBlog</td>\n",
       "      <td>1</td>\n",
       "    </tr>\n",
       "    <tr>\n",
       "      <th>9355</th>\n",
       "      <td>cmsWorks</td>\n",
       "      <td>1</td>\n",
       "    </tr>\n",
       "    <tr>\n",
       "      <th>9356</th>\n",
       "      <td>cpLinks</td>\n",
       "      <td>1</td>\n",
       "    </tr>\n",
       "    <tr>\n",
       "      <th>9357</th>\n",
       "      <td>PostfixAdmin</td>\n",
       "      <td>1</td>\n",
       "    </tr>\n",
       "    <tr>\n",
       "      <th>9358</th>\n",
       "      <td>netstd</td>\n",
       "      <td>1</td>\n",
       "    </tr>\n",
       "  </tbody>\n",
       "</table>\n",
       "<p>9359 rows × 2 columns</p>\n",
       "</div>"
      ],
      "text/plain": [
       "              word  matched_regex_before\n",
       "0           before                223119\n",
       "1                                 105968\n",
       "2          through                 54907\n",
       "3          version                 51086\n",
       "4               to                 48571\n",
       "...            ...                   ...\n",
       "9354       TxtBlog                     1\n",
       "9355      cmsWorks                     1\n",
       "9356       cpLinks                     1\n",
       "9357  PostfixAdmin                     1\n",
       "9358        netstd                     1\n",
       "\n",
       "[9359 rows x 2 columns]"
      ]
     },
     "execution_count": 64,
     "metadata": {},
     "output_type": "execute_result"
    }
   ],
   "source": [
    "matched_df = df['matched_regex_before'].value_counts().reset_index()\n",
    "matched_df = matched_df.rename(columns={'index': 'word'})\n",
    "matched_df"
   ]
  },
  {
   "cell_type": "code",
   "execution_count": 79,
   "metadata": {},
   "outputs": [
    {
     "data": {
      "text/html": [
       "<div>\n",
       "<style scoped>\n",
       "    .dataframe tbody tr th:only-of-type {\n",
       "        vertical-align: middle;\n",
       "    }\n",
       "\n",
       "    .dataframe tbody tr th {\n",
       "        vertical-align: top;\n",
       "    }\n",
       "\n",
       "    .dataframe thead th {\n",
       "        text-align: right;\n",
       "    }\n",
       "</style>\n",
       "<table border=\"1\" class=\"dataframe\">\n",
       "  <thead>\n",
       "    <tr style=\"text-align: right;\">\n",
       "      <th></th>\n",
       "      <th>word</th>\n",
       "      <th>matched_regex_before</th>\n",
       "      <th>capital</th>\n",
       "    </tr>\n",
       "  </thead>\n",
       "  <tbody>\n",
       "    <tr>\n",
       "      <th>0</th>\n",
       "      <td>before</td>\n",
       "      <td>223119</td>\n",
       "      <td>False</td>\n",
       "    </tr>\n",
       "    <tr>\n",
       "      <th>1</th>\n",
       "      <td></td>\n",
       "      <td>105968</td>\n",
       "      <td>False</td>\n",
       "    </tr>\n",
       "    <tr>\n",
       "      <th>2</th>\n",
       "      <td>through</td>\n",
       "      <td>54907</td>\n",
       "      <td>False</td>\n",
       "    </tr>\n",
       "    <tr>\n",
       "      <th>3</th>\n",
       "      <td>version</td>\n",
       "      <td>51086</td>\n",
       "      <td>False</td>\n",
       "    </tr>\n",
       "    <tr>\n",
       "      <th>4</th>\n",
       "      <td>to</td>\n",
       "      <td>48571</td>\n",
       "      <td>False</td>\n",
       "    </tr>\n",
       "  </tbody>\n",
       "</table>\n",
       "</div>"
      ],
      "text/plain": [
       "      word  matched_regex_before  capital\n",
       "0   before                223119    False\n",
       "1                         105968    False\n",
       "2  through                 54907    False\n",
       "3  version                 51086    False\n",
       "4       to                 48571    False"
      ]
     },
     "execution_count": 79,
     "metadata": {},
     "output_type": "execute_result"
    }
   ],
   "source": [
    "matched_df['capital'] = matched_df['word'].str.match(r'^[A-Z]')  # Regex: ^[A-Z] means \"starts with uppercase A-Z\"\n",
    "matched_df[matched_df.capital == False].head(5)"
   ]
  },
  {
   "cell_type": "code",
   "execution_count": 1,
   "metadata": {},
   "outputs": [
    {
     "ename": "NameError",
     "evalue": "name 'matched_df' is not defined",
     "output_type": "error",
     "traceback": [
      "\u001b[0;31m---------------------------------------------------------------------------\u001b[0m",
      "\u001b[0;31mNameError\u001b[0m                                 Traceback (most recent call last)",
      "\u001b[0;32m/tmp/ipykernel_433805/2840616314.py\u001b[0m in \u001b[0;36m<module>\u001b[0;34m\u001b[0m\n\u001b[0;32m----> 1\u001b[0;31m \u001b[0mmatched_df\u001b[0m\u001b[0;34m.\u001b[0m\u001b[0mhead\u001b[0m\u001b[0;34m(\u001b[0m\u001b[0;36m30\u001b[0m\u001b[0;34m)\u001b[0m\u001b[0;34m\u001b[0m\u001b[0;34m\u001b[0m\u001b[0m\n\u001b[0m",
      "\u001b[0;31mNameError\u001b[0m: name 'matched_df' is not defined"
     ]
    }
   ],
   "source": [
    "matched_df.head(30)"
   ]
  },
  {
   "cell_type": "code",
   "execution_count": 80,
   "metadata": {},
   "outputs": [
    {
     "data": {
      "text/plain": [
       "['before', '', 'through', 'version', 'to']"
      ]
     },
     "execution_count": 80,
     "metadata": {},
     "output_type": "execute_result"
    }
   ],
   "source": [
    "matched_df[matched_df.capital == False].head(5).word.tolist()"
   ]
  },
  {
   "cell_type": "code",
   "execution_count": 127,
   "metadata": {},
   "outputs": [],
   "source": [
    "# prior\n",
    "# up to\n",
    "before_words = ['before',\n",
    " 'to',\n",
    " 'version',\n",
    " 'through',\n",
    " 'versions',\n",
    " 'and',\n",
    " 'application',\n",
    " 'is',\n",
    " 'from',\n",
    " 'including',\n",
    " 'in',\n",
    " 'below',\n",
    " 'than',\n",
    " 'the',\n",
    " 'possibly',\n",
    " 'is',\n",
    " 'after',\n",
    " 'older',\n",
    " 'until',\n",
    " '<',\n",
    " '<='\n",
    " ]\n",
    "\n",
    "before_words2 = [\n",
    "    'older',\n",
    "    'until'\n",
    "]"
   ]
  },
  {
   "cell_type": "code",
   "execution_count": null,
   "metadata": {},
   "outputs": [],
   "source": []
  },
  {
   "cell_type": "code",
   "execution_count": 136,
   "metadata": {},
   "outputs": [],
   "source": [
    "def check_conditions(row, wrd):\n",
    "    if ((row['vendor'] in row['descr']) and\n",
    "        (row['product'] in row['descr']) and\n",
    "        (row['matched_regex_before'] == wrd)):\n",
    "        return True\n",
    "    else:\n",
    "        return False\n",
    "    \n",
    "def check_conditions_before_less_conditions(row, wrd):\n",
    "    if (((row['vendor'] in row['descr'].lower()) or\n",
    "        (row['product'] in row['descr'].lower())) and\n",
    "        (row['matched_regex_before'] == wrd)):\n",
    "        return True\n",
    "    else:\n",
    "        return False"
   ]
  },
  {
   "cell_type": "code",
   "execution_count": 82,
   "metadata": {},
   "outputs": [
    {
     "data": {
      "application/vnd.microsoft.datawrangler.viewer.v0+json": {
       "columns": [
        {
         "name": "index",
         "rawType": "int64",
         "type": "integer"
        },
        {
         "name": "cve_id",
         "rawType": "object",
         "type": "string"
        },
        {
         "name": "vendor",
         "rawType": "object",
         "type": "string"
        },
        {
         "name": "product",
         "rawType": "object",
         "type": "string"
        },
        {
         "name": "version",
         "rawType": "object",
         "type": "string"
        },
        {
         "name": "descr",
         "rawType": "object",
         "type": "string"
        },
        {
         "name": "matched_regex_before",
         "rawType": "object",
         "type": "string"
        }
       ],
       "conversionMethod": "pd.DataFrame",
       "ref": "f158eb9d-4ea7-47aa-98f9-442ee97c9602",
       "rows": [
        [
         "600628",
         "CVE-2002-2220",
         "chetcpasswd",
         "chetcpasswd",
         "1.12",
         "Buffer overflow in Pedro Lineu Orso chetcpasswd before 1.12, when configured for access from 0.0.0.0, allows local users to gain privileges via unspecified vectors.",
         "before"
        ],
        [
         "96551",
         "CVE-2022-25875",
         "svelte",
         "svelte",
         "3.37.0",
         "The package svelte before 3.49.0 are vulnerable to Cross-site Scripting (XSS) due to improper input sanitization and to improper escape of attributes when using objects during SSR (Server-Side Rendering). Exploiting this vulnerability is possible via objects with a custom toString() function.",
         "before"
        ],
        [
         "133498",
         "CVE-2023-50724",
         "resque",
         "resque",
         "1.22.0",
         "Resque (pronounced like \"rescue\") is a Redis-backed library for creating background jobs, placing those jobs on multiple queues, and processing them later. resque-web in resque versions before 2.1.0 are vulnerable to reflected XSS through the current_queue parameter in the path of the queues endpoint. This issue has been patched in version 2.1.0.\n",
         "before"
        ],
        [
         "187545",
         "CVE-2022-21190",
         "mozilla",
         "convict",
         "0.5.0",
         "This affects the package convict before 6.2.3. This is a bypass of [CVE-2022-22143](https://security.snyk.io/vuln/SNYK-JS-CONVICT-2340604). The [fix](https://github.com/mozilla/node-convict/commit/3b86be087d8f14681a9c889d45da7fe3ad9cd880) introduced, relies on the startsWith method and does not prevent the vulnerability: before splitting the path, it checks if it starts with __proto__ or this.constructor.prototype. To bypass this check it's possible to prepend the dangerous paths with any string value followed by a dot, like for example foo.__proto__ or foo.this.constructor.prototype.",
         "before"
        ],
        [
         "283239",
         "CVE-2016-10714",
         "zsh",
         "zsh",
         "4.0.5",
         "In zsh before 5.3, an off-by-one error resulted in undersized buffers that were intended to support PATH_MAX characters.",
         "before"
        ]
       ],
       "shape": {
        "columns": 6,
        "rows": 5
       }
      },
      "text/html": [
       "<div>\n",
       "<style scoped>\n",
       "    .dataframe tbody tr th:only-of-type {\n",
       "        vertical-align: middle;\n",
       "    }\n",
       "\n",
       "    .dataframe tbody tr th {\n",
       "        vertical-align: top;\n",
       "    }\n",
       "\n",
       "    .dataframe thead th {\n",
       "        text-align: right;\n",
       "    }\n",
       "</style>\n",
       "<table border=\"1\" class=\"dataframe\">\n",
       "  <thead>\n",
       "    <tr style=\"text-align: right;\">\n",
       "      <th></th>\n",
       "      <th>cve_id</th>\n",
       "      <th>vendor</th>\n",
       "      <th>product</th>\n",
       "      <th>version</th>\n",
       "      <th>descr</th>\n",
       "      <th>matched_regex_before</th>\n",
       "    </tr>\n",
       "  </thead>\n",
       "  <tbody>\n",
       "    <tr>\n",
       "      <th>600628</th>\n",
       "      <td>CVE-2002-2220</td>\n",
       "      <td>chetcpasswd</td>\n",
       "      <td>chetcpasswd</td>\n",
       "      <td>1.12</td>\n",
       "      <td>Buffer overflow in Pedro Lineu Orso chetcpasswd before 1.12, when configured for access from 0.0.0.0, allows local users to gain privileges via unspecified vectors.</td>\n",
       "      <td>before</td>\n",
       "    </tr>\n",
       "    <tr>\n",
       "      <th>96551</th>\n",
       "      <td>CVE-2022-25875</td>\n",
       "      <td>svelte</td>\n",
       "      <td>svelte</td>\n",
       "      <td>3.37.0</td>\n",
       "      <td>The package svelte before 3.49.0 are vulnerable to Cross-site Scripting (XSS) due to improper input sanitization and to improper escape of attributes when using objects during SSR (Server-Side Ren...</td>\n",
       "      <td>before</td>\n",
       "    </tr>\n",
       "    <tr>\n",
       "      <th>133498</th>\n",
       "      <td>CVE-2023-50724</td>\n",
       "      <td>resque</td>\n",
       "      <td>resque</td>\n",
       "      <td>1.22.0</td>\n",
       "      <td>Resque (pronounced like \"rescue\") is a Redis-backed library for creating background jobs, placing those jobs on multiple queues, and processing them later. resque-web in resque versions before 2.1...</td>\n",
       "      <td>before</td>\n",
       "    </tr>\n",
       "    <tr>\n",
       "      <th>187545</th>\n",
       "      <td>CVE-2022-21190</td>\n",
       "      <td>mozilla</td>\n",
       "      <td>convict</td>\n",
       "      <td>0.5.0</td>\n",
       "      <td>This affects the package convict before 6.2.3. This is a bypass of [CVE-2022-22143](https://security.snyk.io/vuln/SNYK-JS-CONVICT-2340604). The [fix](https://github.com/mozilla/node-convict/commit...</td>\n",
       "      <td>before</td>\n",
       "    </tr>\n",
       "    <tr>\n",
       "      <th>283239</th>\n",
       "      <td>CVE-2016-10714</td>\n",
       "      <td>zsh</td>\n",
       "      <td>zsh</td>\n",
       "      <td>4.0.5</td>\n",
       "      <td>In zsh before 5.3, an off-by-one error resulted in undersized buffers that were intended to support PATH_MAX characters.</td>\n",
       "      <td>before</td>\n",
       "    </tr>\n",
       "  </tbody>\n",
       "</table>\n",
       "</div>"
      ],
      "text/plain": [
       "                cve_id       vendor      product version                                                                                                                                                                                                    descr matched_regex_before\n",
       "600628   CVE-2002-2220  chetcpasswd  chetcpasswd    1.12                                     Buffer overflow in Pedro Lineu Orso chetcpasswd before 1.12, when configured for access from 0.0.0.0, allows local users to gain privileges via unspecified vectors.               before\n",
       "96551   CVE-2022-25875       svelte       svelte  3.37.0  The package svelte before 3.49.0 are vulnerable to Cross-site Scripting (XSS) due to improper input sanitization and to improper escape of attributes when using objects during SSR (Server-Side Ren...               before\n",
       "133498  CVE-2023-50724       resque       resque  1.22.0  Resque (pronounced like \"rescue\") is a Redis-backed library for creating background jobs, placing those jobs on multiple queues, and processing them later. resque-web in resque versions before 2.1...               before\n",
       "187545  CVE-2022-21190      mozilla      convict   0.5.0  This affects the package convict before 6.2.3. This is a bypass of [CVE-2022-22143](https://security.snyk.io/vuln/SNYK-JS-CONVICT-2340604). The [fix](https://github.com/mozilla/node-convict/commit...               before\n",
       "283239  CVE-2016-10714          zsh          zsh   4.0.5                                                                                 In zsh before 5.3, an off-by-one error resulted in undersized buffers that were intended to support PATH_MAX characters.               before"
      ]
     },
     "execution_count": 82,
     "metadata": {},
     "output_type": "execute_result"
    }
   ],
   "source": [
    "tt = df[df.apply(lambda x: check_conditions(x, 'before'), axis=1)]\n",
    "tt.sample(len(tt)).head()"
   ]
  },
  {
   "cell_type": "code",
   "execution_count": 83,
   "metadata": {},
   "outputs": [
    {
     "name": "stderr",
     "output_type": "stream",
     "text": [
      "  5%|▍         | 1/21 [00:03<01:16,  3.82s/it]"
     ]
    },
    {
     "name": "stdout",
     "output_type": "stream",
     "text": [
      "before (13923, 6)\n"
     ]
    },
    {
     "name": "stderr",
     "output_type": "stream",
     "text": [
      " 10%|▉         | 2/21 [00:07<01:12,  3.84s/it]"
     ]
    },
    {
     "name": "stdout",
     "output_type": "stream",
     "text": [
      "to (10647, 6)\n"
     ]
    },
    {
     "name": "stderr",
     "output_type": "stream",
     "text": [
      " 14%|█▍        | 3/21 [00:11<01:09,  3.84s/it]"
     ]
    },
    {
     "name": "stdout",
     "output_type": "stream",
     "text": [
      "version (6167, 6)\n"
     ]
    },
    {
     "name": "stderr",
     "output_type": "stream",
     "text": [
      " 19%|█▉        | 4/21 [00:15<01:05,  3.84s/it]"
     ]
    },
    {
     "name": "stdout",
     "output_type": "stream",
     "text": [
      "through (1804, 6)\n"
     ]
    },
    {
     "name": "stderr",
     "output_type": "stream",
     "text": [
      " 24%|██▍       | 5/21 [00:19<01:01,  3.84s/it]"
     ]
    },
    {
     "name": "stdout",
     "output_type": "stream",
     "text": [
      "versions (665, 6)\n"
     ]
    },
    {
     "name": "stderr",
     "output_type": "stream",
     "text": [
      " 29%|██▊       | 6/21 [00:23<00:57,  3.85s/it]"
     ]
    },
    {
     "name": "stdout",
     "output_type": "stream",
     "text": [
      "and (24, 6)\n"
     ]
    },
    {
     "name": "stderr",
     "output_type": "stream",
     "text": [
      " 33%|███▎      | 7/21 [00:26<00:53,  3.85s/it]"
     ]
    },
    {
     "name": "stdout",
     "output_type": "stream",
     "text": [
      "application (109, 6)\n"
     ]
    },
    {
     "name": "stderr",
     "output_type": "stream",
     "text": [
      " 38%|███▊      | 8/21 [00:30<00:50,  3.87s/it]"
     ]
    },
    {
     "name": "stdout",
     "output_type": "stream",
     "text": [
      "is (37, 6)\n"
     ]
    },
    {
     "name": "stderr",
     "output_type": "stream",
     "text": [
      " 43%|████▎     | 9/21 [00:34<00:46,  3.84s/it]"
     ]
    },
    {
     "name": "stdout",
     "output_type": "stream",
     "text": [
      "from (229, 6)\n"
     ]
    },
    {
     "name": "stderr",
     "output_type": "stream",
     "text": [
      " 48%|████▊     | 10/21 [00:38<00:42,  3.84s/it]"
     ]
    },
    {
     "name": "stdout",
     "output_type": "stream",
     "text": [
      "including (777, 6)\n"
     ]
    },
    {
     "name": "stderr",
     "output_type": "stream",
     "text": [
      " 52%|█████▏    | 11/21 [00:42<00:38,  3.84s/it]"
     ]
    },
    {
     "name": "stdout",
     "output_type": "stream",
     "text": [
      "in (121, 6)\n"
     ]
    },
    {
     "name": "stderr",
     "output_type": "stream",
     "text": [
      " 57%|█████▋    | 12/21 [00:46<00:34,  3.83s/it]"
     ]
    },
    {
     "name": "stdout",
     "output_type": "stream",
     "text": [
      "below (148, 6)\n"
     ]
    },
    {
     "name": "stderr",
     "output_type": "stream",
     "text": [
      " 62%|██████▏   | 13/21 [00:49<00:30,  3.85s/it]"
     ]
    },
    {
     "name": "stdout",
     "output_type": "stream",
     "text": [
      "than (27, 6)\n"
     ]
    },
    {
     "name": "stderr",
     "output_type": "stream",
     "text": [
      " 67%|██████▋   | 14/21 [00:53<00:26,  3.86s/it]"
     ]
    },
    {
     "name": "stdout",
     "output_type": "stream",
     "text": [
      "the (7, 6)\n"
     ]
    },
    {
     "name": "stderr",
     "output_type": "stream",
     "text": [
      " 71%|███████▏  | 15/21 [00:57<00:23,  3.86s/it]"
     ]
    },
    {
     "name": "stdout",
     "output_type": "stream",
     "text": [
      "possibly (23, 6)\n"
     ]
    },
    {
     "name": "stderr",
     "output_type": "stream",
     "text": [
      " 76%|███████▌  | 16/21 [01:01<00:19,  3.88s/it]"
     ]
    },
    {
     "name": "stdout",
     "output_type": "stream",
     "text": [
      "is (37, 6)\n"
     ]
    },
    {
     "name": "stderr",
     "output_type": "stream",
     "text": [
      " 81%|████████  | 17/21 [01:05<00:15,  3.88s/it]"
     ]
    },
    {
     "name": "stdout",
     "output_type": "stream",
     "text": [
      "after (14, 6)\n"
     ]
    },
    {
     "name": "stderr",
     "output_type": "stream",
     "text": [
      " 86%|████████▌ | 18/21 [01:09<00:11,  3.90s/it]"
     ]
    },
    {
     "name": "stdout",
     "output_type": "stream",
     "text": [
      "older (0, 6)\n"
     ]
    },
    {
     "name": "stderr",
     "output_type": "stream",
     "text": [
      " 90%|█████████ | 19/21 [01:13<00:07,  3.91s/it]"
     ]
    },
    {
     "name": "stdout",
     "output_type": "stream",
     "text": [
      "until (0, 6)\n"
     ]
    },
    {
     "name": "stderr",
     "output_type": "stream",
     "text": [
      " 95%|█████████▌| 20/21 [01:17<00:03,  3.91s/it]"
     ]
    },
    {
     "name": "stdout",
     "output_type": "stream",
     "text": [
      "< (335, 6)\n"
     ]
    },
    {
     "name": "stderr",
     "output_type": "stream",
     "text": [
      "100%|██████████| 21/21 [01:21<00:00,  3.87s/it]"
     ]
    },
    {
     "name": "stdout",
     "output_type": "stream",
     "text": [
      "<= (663, 6)\n"
     ]
    },
    {
     "name": "stderr",
     "output_type": "stream",
     "text": [
      "\n"
     ]
    }
   ],
   "source": [
    "df_new_words = pd.DataFrame()\n",
    "for wrd in tqdm(before_words):\n",
    "    filtered_df = df[df.apply(lambda x: check_conditions(x, wrd), axis=1)]\n",
    "    print(wrd, filtered_df.shape)\n",
    "    if filtered_df.empty:\n",
    "        continue\n",
    "    df_samples_per_word = filtered_df.sample(len(filtered_df), random_state=43).groupby('cve_id').sample(1, random_state=43).head()\n",
    "    if df_new_words.empty:\n",
    "        df_new_words = df_samples_per_word\n",
    "    else:\n",
    "        df_new_words = pd.concat([df_new_words, df_samples_per_word])"
   ]
  },
  {
   "cell_type": "code",
   "execution_count": 137,
   "metadata": {},
   "outputs": [
    {
     "name": "stderr",
     "output_type": "stream",
     "text": [
      " 50%|█████     | 1/2 [00:05<00:05,  5.49s/it]"
     ]
    },
    {
     "name": "stdout",
     "output_type": "stream",
     "text": [
      "older (0, 7)\n"
     ]
    },
    {
     "name": "stderr",
     "output_type": "stream",
     "text": [
      "100%|██████████| 2/2 [00:11<00:00,  5.52s/it]"
     ]
    },
    {
     "name": "stdout",
     "output_type": "stream",
     "text": [
      "until (18, 7)\n"
     ]
    },
    {
     "name": "stderr",
     "output_type": "stream",
     "text": [
      "\n"
     ]
    }
   ],
   "source": [
    "#\n",
    "df_new_words_before = pd.DataFrame()\n",
    "for wrd in tqdm(before_words2):\n",
    "    filtered_df = df[df.apply(lambda x: check_conditions_before_less_conditions(x, wrd), axis=1)]\n",
    "    print(wrd, filtered_df.shape)\n",
    "    if filtered_df.empty:\n",
    "        continue\n",
    "    df_samples_per_word = filtered_df.sample(len(filtered_df), random_state=43).groupby('cve_id').sample(1, random_state=43).head()\n",
    "    if df_new_words_before.empty:\n",
    "        df_new_words_before = df_samples_per_word\n",
    "    else:\n",
    "        df_new_words_before = pd.concat([df_new_words_before, df_samples_per_word])"
   ]
  },
  {
   "cell_type": "code",
   "execution_count": 139,
   "metadata": {},
   "outputs": [
    {
     "data": {
      "application/vnd.microsoft.datawrangler.viewer.v0+json": {
       "columns": [
        {
         "name": "index",
         "rawType": "int64",
         "type": "integer"
        },
        {
         "name": "cve_id",
         "rawType": "object",
         "type": "string"
        },
        {
         "name": "vendor",
         "rawType": "object",
         "type": "string"
        },
        {
         "name": "product",
         "rawType": "object",
         "type": "string"
        },
        {
         "name": "version",
         "rawType": "object",
         "type": "string"
        },
        {
         "name": "descr",
         "rawType": "object",
         "type": "string"
        },
        {
         "name": "matched_regex_before",
         "rawType": "object",
         "type": "string"
        },
        {
         "name": "matched_regex_after",
         "rawType": "object",
         "type": "string"
        }
       ],
       "conversionMethod": "pd.DataFrame",
       "ref": "36c13079-40ec-4764-bed5-3778bd9be870",
       "rows": [
        [
         "540011",
         "CVE-2018-0250",
         "cisco",
         "aironet_access_point_software",
         "8.2\\(160.0\\)",
         "A vulnerability in Central Web Authentication (CWA) with FlexConnect Access Points (APs) for Cisco Aironet 1560, 1810, 1810w, 1815, 1830, 1850, 2800, and 3800 Series APs could allow an authenticated, adjacent attacker to bypass a configured FlexConnect access control list (ACL). The vulnerability is due to the AP ignoring the ACL download from the client during authentication. An attacker could exploit this vulnerability by connecting to the targeted device with a vulnerable configuration. A successful exploit could allow the attacker to bypass a configured client FlexConnect ACL. This vulnerability affects the following Cisco products if they are running a vulnerable release of Central Web Authentication with FlexConnect Access Points Software: Aironet 1560 Series Access Points, Aironet 1810 Series OfficeExtend Access Points, Aironet 1810w Series Access Points, Aironet 1815 Series Access Points, Aironet 1830 Series Access Points, Aironet 1850 Series Access Points, Aironet 2800 Series Access Points, Aironet 3800 Series Access Points. Note: Central Web Authentication with FlexConnect Access Points was an unsupported configuration until 8.5.100.0. Cisco Bug IDs: CSCve17756.",
         "until",
         ""
        ],
        [
         "376666",
         "CVE-2023-39196",
         "apache",
         "ozone",
         "1.3.0",
         "Improper Authentication vulnerability in Apache Ozone.\n\nThe vulnerability allows an attacker to download metadata internal to the Storage Container Manager service without proper authentication.\nThe attacker is not allowed to do any modification within the Ozone Storage Container Manager service using this vulnerability.\nThe accessible metadata does not contain sensitive information that can be used to exploit the system later on, and the accessible data does not make it possible to gain access to actual user data within Ozone.\nThis issue affects Apache Ozone: 1.2.0 and subsequent releases up until 1.3.0.\n\nUsers are recommended to upgrade to version 1.4.0, which fixes the issue.\n\n",
         "until",
         "and"
        ],
        [
         "208388",
         "CVE-2023-4090",
         "acilia",
         "widestand",
         "-",
         "Cross-site Scripting (XSS) reflected vulnerability on WideStand until 5.3.5 version, which generates one of the meta tags directly using the content of the queried URL, which would allow an attacker to inject HTML/Javascript code into the response.",
         "until",
         "version"
        ],
        [
         "178482",
         "CVE-2023-45814",
         "littlebigfresh",
         "bunkum",
         "4.0",
         "Bunkum is an open-source protocol-agnostic request server for custom game servers. First, a little bit of background. So, in the beginning, Bunkum's `AuthenticationService` only supported injecting `IUser`s. However, as Refresh and SoundShapesServer implemented permissions systems support for injecting `IToken`s into endpoints was added. All was well until 4.0. Bunkum 4.0 then changed to enforce relations between `IToken`s and `IUser`s. This wasn't implemented in a very good way in the `AuthenticationService`, and ended up breaking caching in such a way that cached tokens would persist after the lifetime of the request - since we tried to cache both tokens and users. From that point until now, from what I understand, Bunkum was attempting to use that cached token at the start of the next request once cached. Naturally, when that token expired, downstream projects like Refresh would remove the object from Realm - and cause the object in the cache to be in a detached state, causing an exception from invalid use of `IToken.User`. So in other words, a use-after-free since Realm can't manage the lifetime of the cached token. Security-wise, the scope is fairly limited, can only be pulled off on a couple endpoints given a few conditions, and you can't guarantee which token you're going to get. Also, the token *would* get invalidated properly if the endpoint had either a `IToken` usage or a `IUser` usage. The fix is to just wipe the token cache after the request was handled, which is now in `4.2.1`. Users are advised to upgrade. There are no known workarounds for this vulnerability.",
         "until",
         ""
        ],
        [
         "48602",
         "CVE-2023-7078",
         "cloudflare",
         "miniflare",
         "3.20230821.0",
         "Sending specially crafted HTTP requests to Miniflare's server could result in arbitrary HTTP and WebSocket requests being sent from the server. If Miniflare was configured to listen on external network interfaces (as was the default in wrangler until 3.19.0), an attacker on the local network could access other local servers.\n\n",
         "until",
         ""
        ]
       ],
       "shape": {
        "columns": 7,
        "rows": 5
       }
      },
      "text/html": [
       "<div>\n",
       "<style scoped>\n",
       "    .dataframe tbody tr th:only-of-type {\n",
       "        vertical-align: middle;\n",
       "    }\n",
       "\n",
       "    .dataframe tbody tr th {\n",
       "        vertical-align: top;\n",
       "    }\n",
       "\n",
       "    .dataframe thead th {\n",
       "        text-align: right;\n",
       "    }\n",
       "</style>\n",
       "<table border=\"1\" class=\"dataframe\">\n",
       "  <thead>\n",
       "    <tr style=\"text-align: right;\">\n",
       "      <th></th>\n",
       "      <th>cve_id</th>\n",
       "      <th>vendor</th>\n",
       "      <th>product</th>\n",
       "      <th>version</th>\n",
       "      <th>descr</th>\n",
       "      <th>matched_regex_before</th>\n",
       "      <th>matched_regex_after</th>\n",
       "    </tr>\n",
       "  </thead>\n",
       "  <tbody>\n",
       "    <tr>\n",
       "      <th>540011</th>\n",
       "      <td>CVE-2018-0250</td>\n",
       "      <td>cisco</td>\n",
       "      <td>aironet_access_point_software</td>\n",
       "      <td>8.2\\(160.0\\)</td>\n",
       "      <td>A vulnerability in Central Web Authentication (CWA) with FlexConnect Access Points (APs) for Cisco Aironet 1560, 1810, 1810w, 1815, 1830, 1850, 2800, and 3800 Series APs could allow an authenticat...</td>\n",
       "      <td>until</td>\n",
       "      <td></td>\n",
       "    </tr>\n",
       "    <tr>\n",
       "      <th>376666</th>\n",
       "      <td>CVE-2023-39196</td>\n",
       "      <td>apache</td>\n",
       "      <td>ozone</td>\n",
       "      <td>1.3.0</td>\n",
       "      <td>Improper Authentication vulnerability in Apache Ozone.\\n\\nThe vulnerability allows an attacker to download metadata internal to the Storage Container Manager service without proper authentication....</td>\n",
       "      <td>until</td>\n",
       "      <td>and</td>\n",
       "    </tr>\n",
       "    <tr>\n",
       "      <th>208388</th>\n",
       "      <td>CVE-2023-4090</td>\n",
       "      <td>acilia</td>\n",
       "      <td>widestand</td>\n",
       "      <td>-</td>\n",
       "      <td>Cross-site Scripting (XSS) reflected vulnerability on WideStand until 5.3.5 version, which generates one of the meta tags directly using the content of the queried URL, which would allow an attack...</td>\n",
       "      <td>until</td>\n",
       "      <td>version</td>\n",
       "    </tr>\n",
       "    <tr>\n",
       "      <th>178482</th>\n",
       "      <td>CVE-2023-45814</td>\n",
       "      <td>littlebigfresh</td>\n",
       "      <td>bunkum</td>\n",
       "      <td>4.0</td>\n",
       "      <td>Bunkum is an open-source protocol-agnostic request server for custom game servers. First, a little bit of background. So, in the beginning, Bunkum's `AuthenticationService` only supported injectin...</td>\n",
       "      <td>until</td>\n",
       "      <td></td>\n",
       "    </tr>\n",
       "    <tr>\n",
       "      <th>48602</th>\n",
       "      <td>CVE-2023-7078</td>\n",
       "      <td>cloudflare</td>\n",
       "      <td>miniflare</td>\n",
       "      <td>3.20230821.0</td>\n",
       "      <td>Sending specially crafted HTTP requests to Miniflare's server could result in arbitrary HTTP and WebSocket requests being sent from the server. If Miniflare was configured to listen on external ne...</td>\n",
       "      <td>until</td>\n",
       "      <td></td>\n",
       "    </tr>\n",
       "  </tbody>\n",
       "</table>\n",
       "</div>"
      ],
      "text/plain": [
       "                cve_id          vendor                        product       version                                                                                                                                                                                                    descr matched_regex_before matched_regex_after\n",
       "540011   CVE-2018-0250           cisco  aironet_access_point_software  8.2\\(160.0\\)  A vulnerability in Central Web Authentication (CWA) with FlexConnect Access Points (APs) for Cisco Aironet 1560, 1810, 1810w, 1815, 1830, 1850, 2800, and 3800 Series APs could allow an authenticat...                until                    \n",
       "376666  CVE-2023-39196          apache                          ozone         1.3.0  Improper Authentication vulnerability in Apache Ozone.\\n\\nThe vulnerability allows an attacker to download metadata internal to the Storage Container Manager service without proper authentication....                until                 and\n",
       "208388   CVE-2023-4090          acilia                      widestand             -  Cross-site Scripting (XSS) reflected vulnerability on WideStand until 5.3.5 version, which generates one of the meta tags directly using the content of the queried URL, which would allow an attack...                until             version\n",
       "178482  CVE-2023-45814  littlebigfresh                         bunkum           4.0  Bunkum is an open-source protocol-agnostic request server for custom game servers. First, a little bit of background. So, in the beginning, Bunkum's `AuthenticationService` only supported injectin...                until                    \n",
       "48602    CVE-2023-7078      cloudflare                      miniflare  3.20230821.0  Sending specially crafted HTTP requests to Miniflare's server could result in arbitrary HTTP and WebSocket requests being sent from the server. If Miniflare was configured to listen on external ne...                until                    "
      ]
     },
     "execution_count": 139,
     "metadata": {},
     "output_type": "execute_result"
    }
   ],
   "source": [
    "df_new_words_before"
   ]
  },
  {
   "cell_type": "code",
   "execution_count": 12,
   "metadata": {},
   "outputs": [],
   "source": [
    "df_new_words.to_excel('test_versions.xlsx', index=False)"
   ]
  },
  {
   "cell_type": "code",
   "execution_count": 85,
   "metadata": {},
   "outputs": [
    {
     "data": {
      "application/vnd.microsoft.datawrangler.viewer.v0+json": {
       "columns": [
        {
         "name": "index",
         "rawType": "int64",
         "type": "integer"
        },
        {
         "name": "cve_id",
         "rawType": "object",
         "type": "string"
        },
        {
         "name": "vendor",
         "rawType": "object",
         "type": "string"
        },
        {
         "name": "product",
         "rawType": "object",
         "type": "string"
        },
        {
         "name": "version",
         "rawType": "object",
         "type": "string"
        },
        {
         "name": "descr",
         "rawType": "object",
         "type": "string"
        },
        {
         "name": "matched_regex_before",
         "rawType": "object",
         "type": "string"
        }
       ],
       "conversionMethod": "pd.DataFrame",
       "ref": "6996e42d-6c62-4bbe-9a4c-7cd396f5641c",
       "rows": [
        [
         "595399",
         "CVE-1999-1383",
         "tcsh",
         "tcsh",
         "6.05",
         "(1) bash before 1.14.7, and (2) tcsh 6.05 allow local users to gain privileges via directory names that contain shell metacharacters (` back-tick), which can cause the commands enclosed in the directory name to be executed when the shell expands filenames using the \\w option in the PS1 variable.",
         "before"
        ],
        [
         "159804",
         "CVE-2001-0366",
         "sap",
         "saposcol",
         "1.3",
         "saposcol in SAP R/3 Web Application Server Demo before 1.5 trusts the PATH environmental variable to find and execute the expand program, which allows local users to obtain root access by modifying the PATH to point to a Trojan horse expand program.",
         "before"
        ],
        [
         "488080",
         "CVE-2001-0439",
         "licq",
         "licq",
         "",
         "licq before 1.0.3 allows remote attackers to execute arbitrary commands via shell metacharacters in a URL.",
         "before"
        ],
        [
         "342690",
         "CVE-2001-0825",
         "xinetd",
         "xinetd",
         "2.1.8.9",
         "Buffer overflow in internal string handling routines of xinetd before 2.1.8.8 allows remote attackers to execute arbitrary commands via a length argument of zero or less, which disables the length check.",
         "before"
        ],
        [
         "505766",
         "CVE-2001-1229",
         "libshout",
         "libshout",
         "",
         "Buffer overflows in (1) Icecast before 1.3.9 and (2) libshout before 1.0.4 allow remote attackers to cause a denial of service (crash) and execute arbitrary code.",
         "before"
        ]
       ],
       "shape": {
        "columns": 6,
        "rows": 5
       }
      },
      "text/html": [
       "<div>\n",
       "<style scoped>\n",
       "    .dataframe tbody tr th:only-of-type {\n",
       "        vertical-align: middle;\n",
       "    }\n",
       "\n",
       "    .dataframe tbody tr th {\n",
       "        vertical-align: top;\n",
       "    }\n",
       "\n",
       "    .dataframe thead th {\n",
       "        text-align: right;\n",
       "    }\n",
       "</style>\n",
       "<table border=\"1\" class=\"dataframe\">\n",
       "  <thead>\n",
       "    <tr style=\"text-align: right;\">\n",
       "      <th></th>\n",
       "      <th>cve_id</th>\n",
       "      <th>vendor</th>\n",
       "      <th>product</th>\n",
       "      <th>version</th>\n",
       "      <th>descr</th>\n",
       "      <th>matched_regex_before</th>\n",
       "    </tr>\n",
       "  </thead>\n",
       "  <tbody>\n",
       "    <tr>\n",
       "      <th>595399</th>\n",
       "      <td>CVE-1999-1383</td>\n",
       "      <td>tcsh</td>\n",
       "      <td>tcsh</td>\n",
       "      <td>6.05</td>\n",
       "      <td>(1) bash before 1.14.7, and (2) tcsh 6.05 allow local users to gain privileges via directory names that contain shell metacharacters (` back-tick), which can cause the commands enclosed in the dir...</td>\n",
       "      <td>before</td>\n",
       "    </tr>\n",
       "    <tr>\n",
       "      <th>159804</th>\n",
       "      <td>CVE-2001-0366</td>\n",
       "      <td>sap</td>\n",
       "      <td>saposcol</td>\n",
       "      <td>1.3</td>\n",
       "      <td>saposcol in SAP R/3 Web Application Server Demo before 1.5 trusts the PATH environmental variable to find and execute the expand program, which allows local users to obtain root access by modifyin...</td>\n",
       "      <td>before</td>\n",
       "    </tr>\n",
       "    <tr>\n",
       "      <th>488080</th>\n",
       "      <td>CVE-2001-0439</td>\n",
       "      <td>licq</td>\n",
       "      <td>licq</td>\n",
       "      <td></td>\n",
       "      <td>licq before 1.0.3 allows remote attackers to execute arbitrary commands via shell metacharacters in a URL.</td>\n",
       "      <td>before</td>\n",
       "    </tr>\n",
       "    <tr>\n",
       "      <th>342690</th>\n",
       "      <td>CVE-2001-0825</td>\n",
       "      <td>xinetd</td>\n",
       "      <td>xinetd</td>\n",
       "      <td>2.1.8.9</td>\n",
       "      <td>Buffer overflow in internal string handling routines of xinetd before 2.1.8.8 allows remote attackers to execute arbitrary commands via a length argument of zero or less, which disables the length...</td>\n",
       "      <td>before</td>\n",
       "    </tr>\n",
       "    <tr>\n",
       "      <th>505766</th>\n",
       "      <td>CVE-2001-1229</td>\n",
       "      <td>libshout</td>\n",
       "      <td>libshout</td>\n",
       "      <td></td>\n",
       "      <td>Buffer overflows in (1) Icecast before 1.3.9 and (2) libshout before 1.0.4 allow remote attackers to cause a denial of service (crash) and execute arbitrary code.</td>\n",
       "      <td>before</td>\n",
       "    </tr>\n",
       "  </tbody>\n",
       "</table>\n",
       "</div>"
      ],
      "text/plain": [
       "               cve_id    vendor   product  version                                                                                                                                                                                                    descr matched_regex_before\n",
       "595399  CVE-1999-1383      tcsh      tcsh     6.05  (1) bash before 1.14.7, and (2) tcsh 6.05 allow local users to gain privileges via directory names that contain shell metacharacters (` back-tick), which can cause the commands enclosed in the dir...               before\n",
       "159804  CVE-2001-0366       sap  saposcol      1.3  saposcol in SAP R/3 Web Application Server Demo before 1.5 trusts the PATH environmental variable to find and execute the expand program, which allows local users to obtain root access by modifyin...               before\n",
       "488080  CVE-2001-0439      licq      licq                                                                                                        licq before 1.0.3 allows remote attackers to execute arbitrary commands via shell metacharacters in a URL.               before\n",
       "342690  CVE-2001-0825    xinetd    xinetd  2.1.8.9  Buffer overflow in internal string handling routines of xinetd before 2.1.8.8 allows remote attackers to execute arbitrary commands via a length argument of zero or less, which disables the length...               before\n",
       "505766  CVE-2001-1229  libshout  libshout                                                Buffer overflows in (1) Icecast before 1.3.9 and (2) libshout before 1.0.4 allow remote attackers to cause a denial of service (crash) and execute arbitrary code.               before"
      ]
     },
     "execution_count": 85,
     "metadata": {},
     "output_type": "execute_result"
    }
   ],
   "source": [
    "df_new_words.head()"
   ]
  },
  {
   "cell_type": "code",
   "execution_count": 87,
   "metadata": {},
   "outputs": [
    {
     "data": {
      "text/plain": [
       "Counter({'1999': 4,\n",
       "         '2001': 5,\n",
       "         '2010': 4,\n",
       "         '2012': 2,\n",
       "         '2014': 7,\n",
       "         '2008': 2,\n",
       "         '2015': 1,\n",
       "         '2005': 1,\n",
       "         '2006': 4,\n",
       "         '2009': 3,\n",
       "         '2017': 6,\n",
       "         '2018': 5,\n",
       "         '2002': 2,\n",
       "         '2004': 2,\n",
       "         '2022': 12,\n",
       "         '2019': 6,\n",
       "         '2020': 5,\n",
       "         '2021': 7,\n",
       "         '2023': 2,\n",
       "         '2016': 3,\n",
       "         '2007': 2})"
      ]
     },
     "execution_count": 87,
     "metadata": {},
     "output_type": "execute_result"
    }
   ],
   "source": [
    "from collections import Counter\n",
    "Counter(df_new_words.cve_id.apply(lambda x: x[4:8]))"
   ]
  },
  {
   "cell_type": "code",
   "execution_count": 151,
   "metadata": {},
   "outputs": [],
   "source": [
    "all_cves = []\n",
    "all_tokens = []\n",
    "all_bio = []\n",
    "for i, row in df_new_words_before.iterrows():\n",
    "    cves = []\n",
    "    bio_ann = []\n",
    "    spl_tokens = [x for x in re.split(' |\\\\n', row['descr']) if x]\n",
    "    tokens = []\n",
    "    # print(spl_tokens)\n",
    "    for tok in spl_tokens:\n",
    "        if tok.endswith('.'):\n",
    "            tokens.append(tok.rstrip('.'))\n",
    "            tokens.append('.')\n",
    "        elif tok.endswith(','):\n",
    "            tokens.append(tok.rstrip(','))\n",
    "            tokens.append(',')\n",
    "        else:\n",
    "            tokens.append(tok)\n",
    "    # print(tokens)\n",
    "    for tok_i in range(len(tokens)):\n",
    "        if tokens[tok_i] == row['vendor']:\n",
    "            bio_ann.append('B-vendor')\n",
    "        elif tokens[tok_i] == row['product']:\n",
    "            bio_ann.append('B-product')\n",
    "        elif tokens[tok_i] == row['matched_regex_before']:\n",
    "            bio_ann.append('B-version')\n",
    "        else:\n",
    "            bio_ann.append('O')\n",
    "        if tok_i == 0:\n",
    "            cves.append(row['cve_id'])\n",
    "        else:\n",
    "            cves.append('0')\n",
    "    assert len(bio_ann) == len(tokens)\n",
    "    all_bio.extend(bio_ann)\n",
    "    all_tokens.extend(tokens)\n",
    "    all_cves.extend(cves)"
   ]
  },
  {
   "cell_type": "code",
   "execution_count": 152,
   "metadata": {},
   "outputs": [],
   "source": [
    "df_before_annotated = pd.DataFrame(data={'cve_id': all_cves,\n",
    "                                         'words': all_tokens,\n",
    "                                         'custom_bio': all_bio})"
   ]
  },
  {
   "cell_type": "code",
   "execution_count": 153,
   "metadata": {},
   "outputs": [
    {
     "data": {
      "application/vnd.microsoft.datawrangler.viewer.v0+json": {
       "columns": [
        {
         "name": "index",
         "rawType": "int64",
         "type": "integer"
        },
        {
         "name": "cve_id",
         "rawType": "object",
         "type": "string"
        },
        {
         "name": "words",
         "rawType": "object",
         "type": "string"
        },
        {
         "name": "custom_bio",
         "rawType": "object",
         "type": "string"
        }
       ],
       "conversionMethod": "pd.DataFrame",
       "ref": "580be547-bb4c-4422-a3bd-4a770ecd66a0",
       "rows": [
        [
         "0",
         "CVE-2018-0250",
         "A",
         "O"
        ],
        [
         "1",
         "0",
         "vulnerability",
         "O"
        ],
        [
         "2",
         "0",
         "in",
         "O"
        ],
        [
         "3",
         "0",
         "Central",
         "O"
        ],
        [
         "4",
         "0",
         "Web",
         "O"
        ],
        [
         "5",
         "0",
         "Authentication",
         "O"
        ],
        [
         "6",
         "0",
         "(CWA)",
         "O"
        ],
        [
         "7",
         "0",
         "with",
         "O"
        ],
        [
         "8",
         "0",
         "FlexConnect",
         "O"
        ],
        [
         "9",
         "0",
         "Access",
         "O"
        ],
        [
         "10",
         "0",
         "Points",
         "O"
        ],
        [
         "11",
         "0",
         "(APs)",
         "O"
        ],
        [
         "12",
         "0",
         "for",
         "O"
        ],
        [
         "13",
         "0",
         "Cisco",
         "O"
        ],
        [
         "14",
         "0",
         "Aironet",
         "O"
        ],
        [
         "15",
         "0",
         "1560",
         "O"
        ],
        [
         "16",
         "0",
         ",",
         "O"
        ],
        [
         "17",
         "0",
         "1810",
         "O"
        ],
        [
         "18",
         "0",
         ",",
         "O"
        ],
        [
         "19",
         "0",
         "1810w",
         "O"
        ],
        [
         "20",
         "0",
         ",",
         "O"
        ],
        [
         "21",
         "0",
         "1815",
         "O"
        ],
        [
         "22",
         "0",
         ",",
         "O"
        ],
        [
         "23",
         "0",
         "1830",
         "O"
        ],
        [
         "24",
         "0",
         ",",
         "O"
        ],
        [
         "25",
         "0",
         "1850",
         "O"
        ],
        [
         "26",
         "0",
         ",",
         "O"
        ],
        [
         "27",
         "0",
         "2800",
         "O"
        ],
        [
         "28",
         "0",
         ",",
         "O"
        ],
        [
         "29",
         "0",
         "and",
         "O"
        ],
        [
         "30",
         "0",
         "3800",
         "O"
        ],
        [
         "31",
         "0",
         "Series",
         "O"
        ],
        [
         "32",
         "0",
         "APs",
         "O"
        ],
        [
         "33",
         "0",
         "could",
         "O"
        ],
        [
         "34",
         "0",
         "allow",
         "O"
        ],
        [
         "35",
         "0",
         "an",
         "O"
        ],
        [
         "36",
         "0",
         "authenticated",
         "O"
        ],
        [
         "37",
         "0",
         ",",
         "O"
        ],
        [
         "38",
         "0",
         "adjacent",
         "O"
        ],
        [
         "39",
         "0",
         "attacker",
         "O"
        ],
        [
         "40",
         "0",
         "to",
         "O"
        ],
        [
         "41",
         "0",
         "bypass",
         "O"
        ],
        [
         "42",
         "0",
         "a",
         "O"
        ],
        [
         "43",
         "0",
         "configured",
         "O"
        ],
        [
         "44",
         "0",
         "FlexConnect",
         "O"
        ],
        [
         "45",
         "0",
         "access",
         "O"
        ],
        [
         "46",
         "0",
         "control",
         "O"
        ],
        [
         "47",
         "0",
         "list",
         "O"
        ],
        [
         "48",
         "0",
         "(ACL)",
         "O"
        ],
        [
         "49",
         "0",
         ".",
         "O"
        ]
       ],
       "shape": {
        "columns": 3,
        "rows": 300
       }
      },
      "text/html": [
       "<div>\n",
       "<style scoped>\n",
       "    .dataframe tbody tr th:only-of-type {\n",
       "        vertical-align: middle;\n",
       "    }\n",
       "\n",
       "    .dataframe tbody tr th {\n",
       "        vertical-align: top;\n",
       "    }\n",
       "\n",
       "    .dataframe thead th {\n",
       "        text-align: right;\n",
       "    }\n",
       "</style>\n",
       "<table border=\"1\" class=\"dataframe\">\n",
       "  <thead>\n",
       "    <tr style=\"text-align: right;\">\n",
       "      <th></th>\n",
       "      <th>cve_id</th>\n",
       "      <th>words</th>\n",
       "      <th>custom_bio</th>\n",
       "    </tr>\n",
       "  </thead>\n",
       "  <tbody>\n",
       "    <tr>\n",
       "      <th>0</th>\n",
       "      <td>CVE-2018-0250</td>\n",
       "      <td>A</td>\n",
       "      <td>O</td>\n",
       "    </tr>\n",
       "    <tr>\n",
       "      <th>1</th>\n",
       "      <td>0</td>\n",
       "      <td>vulnerability</td>\n",
       "      <td>O</td>\n",
       "    </tr>\n",
       "    <tr>\n",
       "      <th>2</th>\n",
       "      <td>0</td>\n",
       "      <td>in</td>\n",
       "      <td>O</td>\n",
       "    </tr>\n",
       "    <tr>\n",
       "      <th>3</th>\n",
       "      <td>0</td>\n",
       "      <td>Central</td>\n",
       "      <td>O</td>\n",
       "    </tr>\n",
       "    <tr>\n",
       "      <th>4</th>\n",
       "      <td>0</td>\n",
       "      <td>Web</td>\n",
       "      <td>O</td>\n",
       "    </tr>\n",
       "    <tr>\n",
       "      <th>...</th>\n",
       "      <td>...</td>\n",
       "      <td>...</td>\n",
       "      <td>...</td>\n",
       "    </tr>\n",
       "    <tr>\n",
       "      <th>295</th>\n",
       "      <td>0</td>\n",
       "      <td>1.4.0</td>\n",
       "      <td>O</td>\n",
       "    </tr>\n",
       "    <tr>\n",
       "      <th>296</th>\n",
       "      <td>0</td>\n",
       "      <td>,</td>\n",
       "      <td>O</td>\n",
       "    </tr>\n",
       "    <tr>\n",
       "      <th>297</th>\n",
       "      <td>0</td>\n",
       "      <td>which</td>\n",
       "      <td>O</td>\n",
       "    </tr>\n",
       "    <tr>\n",
       "      <th>298</th>\n",
       "      <td>0</td>\n",
       "      <td>fixes</td>\n",
       "      <td>O</td>\n",
       "    </tr>\n",
       "    <tr>\n",
       "      <th>299</th>\n",
       "      <td>0</td>\n",
       "      <td>the</td>\n",
       "      <td>O</td>\n",
       "    </tr>\n",
       "  </tbody>\n",
       "</table>\n",
       "<p>300 rows × 3 columns</p>\n",
       "</div>"
      ],
      "text/plain": [
       "            cve_id          words custom_bio\n",
       "0    CVE-2018-0250              A          O\n",
       "1                0  vulnerability          O\n",
       "2                0             in          O\n",
       "3                0        Central          O\n",
       "4                0            Web          O\n",
       "..             ...            ...        ...\n",
       "295              0          1.4.0          O\n",
       "296              0              ,          O\n",
       "297              0          which          O\n",
       "298              0          fixes          O\n",
       "299              0            the          O\n",
       "\n",
       "[300 rows x 3 columns]"
      ]
     },
     "execution_count": 153,
     "metadata": {},
     "output_type": "execute_result"
    }
   ],
   "source": [
    "df_before_annotated.head(300)"
   ]
  },
  {
   "cell_type": "code",
   "execution_count": 149,
   "metadata": {},
   "outputs": [
    {
     "data": {
      "text/plain": [
       "369266    Improper Authentication vulnerability in Apache Ozone.\\n\\nThe vulnerability allows an attacker to download metadata internal to the Storage Container Manager service without proper authentication....\n",
       "376665    Improper Authentication vulnerability in Apache Ozone.\\n\\nThe vulnerability allows an attacker to download metadata internal to the Storage Container Manager service without proper authentication....\n",
       "376666    Improper Authentication vulnerability in Apache Ozone.\\n\\nThe vulnerability allows an attacker to download metadata internal to the Storage Container Manager service without proper authentication....\n",
       "381626    Improper Authentication vulnerability in Apache Ozone.\\n\\nThe vulnerability allows an attacker to download metadata internal to the Storage Container Manager service without proper authentication....\n",
       "381627    Improper Authentication vulnerability in Apache Ozone.\\n\\nThe vulnerability allows an attacker to download metadata internal to the Storage Container Manager service without proper authentication....\n",
       "381628    Improper Authentication vulnerability in Apache Ozone.\\n\\nThe vulnerability allows an attacker to download metadata internal to the Storage Container Manager service without proper authentication....\n",
       "386605    Improper Authentication vulnerability in Apache Ozone.\\n\\nThe vulnerability allows an attacker to download metadata internal to the Storage Container Manager service without proper authentication....\n",
       "391514    Improper Authentication vulnerability in Apache Ozone.\\n\\nThe vulnerability allows an attacker to download metadata internal to the Storage Container Manager service without proper authentication....\n",
       "396571    Improper Authentication vulnerability in Apache Ozone.\\n\\nThe vulnerability allows an attacker to download metadata internal to the Storage Container Manager service without proper authentication....\n",
       "396572    Improper Authentication vulnerability in Apache Ozone.\\n\\nThe vulnerability allows an attacker to download metadata internal to the Storage Container Manager service without proper authentication....\n",
       "399088    Improper Authentication vulnerability in Apache Ozone.\\n\\nThe vulnerability allows an attacker to download metadata internal to the Storage Container Manager service without proper authentication....\n",
       "406505    Improper Authentication vulnerability in Apache Ozone.\\n\\nThe vulnerability allows an attacker to download metadata internal to the Storage Container Manager service without proper authentication....\n",
       "Name: descr, dtype: object"
      ]
     },
     "execution_count": 149,
     "metadata": {},
     "output_type": "execute_result"
    }
   ],
   "source": [
    "df[df.cve_id == 'CVE-2023-39196'].descr"
   ]
  },
  {
   "cell_type": "code",
   "execution_count": 154,
   "metadata": {},
   "outputs": [],
   "source": [
    "df_before_annotated.to_csv(f'./cve_dataset_bio_{len(df_before_annotated)}_before_versions_added_until.tsv', index=False, sep='\\t')"
   ]
  },
  {
   "cell_type": "code",
   "execution_count": 96,
   "metadata": {},
   "outputs": [],
   "source": [
    "df_tt = pd.read_csv('cve_dataset_bio_4477_before_versions.tsv', sep='\\t')"
   ]
  },
  {
   "cell_type": "code",
   "execution_count": 98,
   "metadata": {},
   "outputs": [
    {
     "data": {
      "application/vnd.microsoft.datawrangler.viewer.v0+json": {
       "columns": [
        {
         "name": "index",
         "rawType": "int64",
         "type": "integer"
        },
        {
         "name": "cve_id",
         "rawType": "object",
         "type": "string"
        },
        {
         "name": "words",
         "rawType": "object",
         "type": "string"
        },
        {
         "name": "custom_bio",
         "rawType": "object",
         "type": "string"
        }
       ],
       "conversionMethod": "pd.DataFrame",
       "ref": "43482ec3-9771-4a40-9f89-525299820224",
       "rows": [
        [
         "146",
         "CVE-2001-1229",
         "Buffer",
         "O"
        ],
        [
         "147",
         "0",
         "overflows",
         "O"
        ],
        [
         "148",
         "0",
         "in",
         "O"
        ],
        [
         "149",
         "0",
         "(1)",
         "O"
        ],
        [
         "150",
         "0",
         "Icecast",
         "B-vendor"
        ],
        [
         "151",
         "0",
         "Icecast",
         "B-product"
        ],
        [
         "152",
         "0",
         "before",
         "B-version"
        ],
        [
         "153",
         "0",
         "1.3.9",
         "O"
        ],
        [
         "154",
         "0",
         "and",
         "O"
        ],
        [
         "155",
         "0",
         "(2)",
         "O"
        ],
        [
         "156",
         "0",
         "libshout",
         "B-vendor"
        ],
        [
         "157",
         "0",
         "libshout",
         "B-product"
        ],
        [
         "158",
         "0",
         "before",
         "B-version"
        ],
        [
         "159",
         "0",
         "1.0.4",
         "I-version"
        ],
        [
         "160",
         "0",
         "allow",
         "O"
        ],
        [
         "161",
         "0",
         "remote",
         "O"
        ],
        [
         "162",
         "0",
         "attackers",
         "O"
        ],
        [
         "163",
         "0",
         "to",
         "O"
        ],
        [
         "164",
         "0",
         "cause",
         "O"
        ],
        [
         "165",
         "0",
         "a",
         "O"
        ],
        [
         "166",
         "0",
         "denial",
         "O"
        ],
        [
         "167",
         "0",
         "of",
         "O"
        ],
        [
         "168",
         "0",
         "service",
         "O"
        ],
        [
         "169",
         "0",
         "(crash)",
         "O"
        ],
        [
         "170",
         "0",
         "and",
         "O"
        ],
        [
         "171",
         "0",
         "execute",
         "O"
        ],
        [
         "172",
         "0",
         "arbitrary",
         "O"
        ],
        [
         "173",
         "0",
         "code",
         "O"
        ],
        [
         "174",
         "0",
         ".",
         "O"
        ],
        [
         "175",
         "CVE-2001-0489",
         "Format",
         "O"
        ],
        [
         "176",
         "0",
         "string",
         "O"
        ],
        [
         "177",
         "0",
         "vulnerability",
         "O"
        ]
       ],
       "shape": {
        "columns": 3,
        "rows": 32
       }
      },
      "text/html": [
       "<div>\n",
       "<style scoped>\n",
       "    .dataframe tbody tr th:only-of-type {\n",
       "        vertical-align: middle;\n",
       "    }\n",
       "\n",
       "    .dataframe tbody tr th {\n",
       "        vertical-align: top;\n",
       "    }\n",
       "\n",
       "    .dataframe thead th {\n",
       "        text-align: right;\n",
       "    }\n",
       "</style>\n",
       "<table border=\"1\" class=\"dataframe\">\n",
       "  <thead>\n",
       "    <tr style=\"text-align: right;\">\n",
       "      <th></th>\n",
       "      <th>cve_id</th>\n",
       "      <th>words</th>\n",
       "      <th>custom_bio</th>\n",
       "    </tr>\n",
       "  </thead>\n",
       "  <tbody>\n",
       "    <tr>\n",
       "      <th>146</th>\n",
       "      <td>CVE-2001-1229</td>\n",
       "      <td>Buffer</td>\n",
       "      <td>O</td>\n",
       "    </tr>\n",
       "    <tr>\n",
       "      <th>147</th>\n",
       "      <td>0</td>\n",
       "      <td>overflows</td>\n",
       "      <td>O</td>\n",
       "    </tr>\n",
       "    <tr>\n",
       "      <th>148</th>\n",
       "      <td>0</td>\n",
       "      <td>in</td>\n",
       "      <td>O</td>\n",
       "    </tr>\n",
       "    <tr>\n",
       "      <th>149</th>\n",
       "      <td>0</td>\n",
       "      <td>(1)</td>\n",
       "      <td>O</td>\n",
       "    </tr>\n",
       "    <tr>\n",
       "      <th>150</th>\n",
       "      <td>0</td>\n",
       "      <td>Icecast</td>\n",
       "      <td>B-vendor</td>\n",
       "    </tr>\n",
       "    <tr>\n",
       "      <th>151</th>\n",
       "      <td>0</td>\n",
       "      <td>Icecast</td>\n",
       "      <td>B-product</td>\n",
       "    </tr>\n",
       "    <tr>\n",
       "      <th>152</th>\n",
       "      <td>0</td>\n",
       "      <td>before</td>\n",
       "      <td>B-version</td>\n",
       "    </tr>\n",
       "    <tr>\n",
       "      <th>153</th>\n",
       "      <td>0</td>\n",
       "      <td>1.3.9</td>\n",
       "      <td>O</td>\n",
       "    </tr>\n",
       "    <tr>\n",
       "      <th>154</th>\n",
       "      <td>0</td>\n",
       "      <td>and</td>\n",
       "      <td>O</td>\n",
       "    </tr>\n",
       "    <tr>\n",
       "      <th>155</th>\n",
       "      <td>0</td>\n",
       "      <td>(2)</td>\n",
       "      <td>O</td>\n",
       "    </tr>\n",
       "    <tr>\n",
       "      <th>156</th>\n",
       "      <td>0</td>\n",
       "      <td>libshout</td>\n",
       "      <td>B-vendor</td>\n",
       "    </tr>\n",
       "    <tr>\n",
       "      <th>157</th>\n",
       "      <td>0</td>\n",
       "      <td>libshout</td>\n",
       "      <td>B-product</td>\n",
       "    </tr>\n",
       "    <tr>\n",
       "      <th>158</th>\n",
       "      <td>0</td>\n",
       "      <td>before</td>\n",
       "      <td>B-version</td>\n",
       "    </tr>\n",
       "    <tr>\n",
       "      <th>159</th>\n",
       "      <td>0</td>\n",
       "      <td>1.0.4</td>\n",
       "      <td>I-version</td>\n",
       "    </tr>\n",
       "    <tr>\n",
       "      <th>160</th>\n",
       "      <td>0</td>\n",
       "      <td>allow</td>\n",
       "      <td>O</td>\n",
       "    </tr>\n",
       "    <tr>\n",
       "      <th>161</th>\n",
       "      <td>0</td>\n",
       "      <td>remote</td>\n",
       "      <td>O</td>\n",
       "    </tr>\n",
       "    <tr>\n",
       "      <th>162</th>\n",
       "      <td>0</td>\n",
       "      <td>attackers</td>\n",
       "      <td>O</td>\n",
       "    </tr>\n",
       "    <tr>\n",
       "      <th>163</th>\n",
       "      <td>0</td>\n",
       "      <td>to</td>\n",
       "      <td>O</td>\n",
       "    </tr>\n",
       "    <tr>\n",
       "      <th>164</th>\n",
       "      <td>0</td>\n",
       "      <td>cause</td>\n",
       "      <td>O</td>\n",
       "    </tr>\n",
       "    <tr>\n",
       "      <th>165</th>\n",
       "      <td>0</td>\n",
       "      <td>a</td>\n",
       "      <td>O</td>\n",
       "    </tr>\n",
       "    <tr>\n",
       "      <th>166</th>\n",
       "      <td>0</td>\n",
       "      <td>denial</td>\n",
       "      <td>O</td>\n",
       "    </tr>\n",
       "    <tr>\n",
       "      <th>167</th>\n",
       "      <td>0</td>\n",
       "      <td>of</td>\n",
       "      <td>O</td>\n",
       "    </tr>\n",
       "    <tr>\n",
       "      <th>168</th>\n",
       "      <td>0</td>\n",
       "      <td>service</td>\n",
       "      <td>O</td>\n",
       "    </tr>\n",
       "    <tr>\n",
       "      <th>169</th>\n",
       "      <td>0</td>\n",
       "      <td>(crash)</td>\n",
       "      <td>O</td>\n",
       "    </tr>\n",
       "    <tr>\n",
       "      <th>170</th>\n",
       "      <td>0</td>\n",
       "      <td>and</td>\n",
       "      <td>O</td>\n",
       "    </tr>\n",
       "    <tr>\n",
       "      <th>171</th>\n",
       "      <td>0</td>\n",
       "      <td>execute</td>\n",
       "      <td>O</td>\n",
       "    </tr>\n",
       "    <tr>\n",
       "      <th>172</th>\n",
       "      <td>0</td>\n",
       "      <td>arbitrary</td>\n",
       "      <td>O</td>\n",
       "    </tr>\n",
       "    <tr>\n",
       "      <th>173</th>\n",
       "      <td>0</td>\n",
       "      <td>code</td>\n",
       "      <td>O</td>\n",
       "    </tr>\n",
       "    <tr>\n",
       "      <th>174</th>\n",
       "      <td>0</td>\n",
       "      <td>.</td>\n",
       "      <td>O</td>\n",
       "    </tr>\n",
       "    <tr>\n",
       "      <th>175</th>\n",
       "      <td>CVE-2001-0489</td>\n",
       "      <td>Format</td>\n",
       "      <td>O</td>\n",
       "    </tr>\n",
       "    <tr>\n",
       "      <th>176</th>\n",
       "      <td>0</td>\n",
       "      <td>string</td>\n",
       "      <td>O</td>\n",
       "    </tr>\n",
       "    <tr>\n",
       "      <th>177</th>\n",
       "      <td>0</td>\n",
       "      <td>vulnerability</td>\n",
       "      <td>O</td>\n",
       "    </tr>\n",
       "  </tbody>\n",
       "</table>\n",
       "</div>"
      ],
      "text/plain": [
       "            cve_id          words custom_bio\n",
       "146  CVE-2001-1229         Buffer          O\n",
       "147              0      overflows          O\n",
       "148              0             in          O\n",
       "149              0            (1)          O\n",
       "150              0        Icecast   B-vendor\n",
       "151              0        Icecast  B-product\n",
       "152              0         before  B-version\n",
       "153              0          1.3.9          O\n",
       "154              0            and          O\n",
       "155              0            (2)          O\n",
       "156              0       libshout   B-vendor\n",
       "157              0       libshout  B-product\n",
       "158              0         before  B-version\n",
       "159              0          1.0.4  I-version\n",
       "160              0          allow          O\n",
       "161              0         remote          O\n",
       "162              0      attackers          O\n",
       "163              0             to          O\n",
       "164              0          cause          O\n",
       "165              0              a          O\n",
       "166              0         denial          O\n",
       "167              0             of          O\n",
       "168              0        service          O\n",
       "169              0        (crash)          O\n",
       "170              0            and          O\n",
       "171              0        execute          O\n",
       "172              0      arbitrary          O\n",
       "173              0           code          O\n",
       "174              0              .          O\n",
       "175  CVE-2001-0489         Format          O\n",
       "176              0         string          O\n",
       "177              0  vulnerability          O"
      ]
     },
     "execution_count": 98,
     "metadata": {},
     "output_type": "execute_result"
    }
   ],
   "source": [
    "df_tt.iloc[146:178]"
   ]
  },
  {
   "cell_type": "code",
   "execution_count": 43,
   "metadata": {},
   "outputs": [
    {
     "name": "stdout",
     "output_type": "stream",
     "text": [
      "(4095,)\n",
      "(4095,)\n",
      "(4095,)\n"
     ]
    }
   ],
   "source": [
    "print(np.array(all_cves).shape)\n",
    "print(np.array(all_tokens).shape)\n",
    "print(np.array(all_bio).shape)"
   ]
  },
  {
   "cell_type": "code",
   "execution_count": 155,
   "metadata": {},
   "outputs": [
    {
     "data": {
      "application/vnd.microsoft.datawrangler.viewer.v0+json": {
       "columns": [
        {
         "name": "index",
         "rawType": "int64",
         "type": "integer"
        },
        {
         "name": "cve_id",
         "rawType": "object",
         "type": "string"
        },
        {
         "name": "words",
         "rawType": "object",
         "type": "string"
        },
        {
         "name": "custom_bio",
         "rawType": "object",
         "type": "string"
        }
       ],
       "conversionMethod": "pd.DataFrame",
       "ref": "bfb887ea-0212-449f-bbe8-71e03c66831a",
       "rows": [
        [
         "0",
         "CVE-1999-1383",
         "(1)",
         "O"
        ],
        [
         "1",
         "0",
         "bash",
         "B-vendor"
        ],
        [
         "2",
         "0",
         "before",
         "B-version"
        ],
        [
         "3",
         "0",
         "1.14.7",
         "I-version"
        ],
        [
         "4",
         "0",
         ",",
         "O"
        ],
        [
         "5",
         "0",
         "and",
         "O"
        ],
        [
         "6",
         "0",
         "(2)",
         "O"
        ],
        [
         "7",
         "0",
         "tcsh",
         "B-vendor"
        ],
        [
         "8",
         "0",
         "6.05",
         "B-version"
        ],
        [
         "9",
         "0",
         "allow",
         "O"
        ],
        [
         "10",
         "0",
         "local",
         "O"
        ],
        [
         "11",
         "0",
         "users",
         "O"
        ],
        [
         "12",
         "0",
         "to",
         "O"
        ],
        [
         "13",
         "0",
         "gain",
         "O"
        ],
        [
         "14",
         "0",
         "privileges",
         "O"
        ],
        [
         "15",
         "0",
         "via",
         "O"
        ],
        [
         "16",
         "0",
         "directory",
         "O"
        ],
        [
         "17",
         "0",
         "names",
         "O"
        ],
        [
         "18",
         "0",
         "that",
         "O"
        ],
        [
         "19",
         "0",
         "contain",
         "O"
        ],
        [
         "20",
         "0",
         "shell",
         "O"
        ],
        [
         "21",
         "0",
         "metacharacters",
         "O"
        ],
        [
         "22",
         "0",
         "(`",
         "O"
        ],
        [
         "23",
         "0",
         "back-tick)",
         "O"
        ],
        [
         "24",
         "0",
         ",",
         "O"
        ],
        [
         "25",
         "0",
         "which",
         "O"
        ],
        [
         "26",
         "0",
         "can",
         "O"
        ],
        [
         "27",
         "0",
         "cause",
         "O"
        ],
        [
         "28",
         "0",
         "the",
         "O"
        ],
        [
         "29",
         "0",
         "commands",
         "O"
        ],
        [
         "30",
         "0",
         "enclosed",
         "O"
        ],
        [
         "31",
         "0",
         "in",
         "O"
        ],
        [
         "32",
         "0",
         "the",
         "O"
        ],
        [
         "33",
         "0",
         "directory",
         "O"
        ],
        [
         "34",
         "0",
         "name",
         "O"
        ],
        [
         "35",
         "0",
         "to",
         "O"
        ],
        [
         "36",
         "0",
         "be",
         "O"
        ],
        [
         "37",
         "0",
         "executed",
         "O"
        ],
        [
         "38",
         "0",
         "when",
         "O"
        ],
        [
         "39",
         "0",
         "the",
         "O"
        ],
        [
         "40",
         "0",
         "shell",
         "O"
        ],
        [
         "41",
         "0",
         "expands",
         "O"
        ],
        [
         "42",
         "0",
         "filenames",
         "O"
        ],
        [
         "43",
         "0",
         "using",
         "O"
        ],
        [
         "44",
         "0",
         "the",
         "O"
        ],
        [
         "45",
         "0",
         "\\w",
         "O"
        ],
        [
         "46",
         "0",
         "option",
         "O"
        ],
        [
         "47",
         "0",
         "in",
         "O"
        ],
        [
         "48",
         "0",
         "the",
         "O"
        ],
        [
         "49",
         "0",
         "PS1",
         "O"
        ]
       ],
       "shape": {
        "columns": 3,
        "rows": 5159
       }
      },
      "text/html": [
       "<div>\n",
       "<style scoped>\n",
       "    .dataframe tbody tr th:only-of-type {\n",
       "        vertical-align: middle;\n",
       "    }\n",
       "\n",
       "    .dataframe tbody tr th {\n",
       "        vertical-align: top;\n",
       "    }\n",
       "\n",
       "    .dataframe thead th {\n",
       "        text-align: right;\n",
       "    }\n",
       "</style>\n",
       "<table border=\"1\" class=\"dataframe\">\n",
       "  <thead>\n",
       "    <tr style=\"text-align: right;\">\n",
       "      <th></th>\n",
       "      <th>cve_id</th>\n",
       "      <th>words</th>\n",
       "      <th>custom_bio</th>\n",
       "    </tr>\n",
       "  </thead>\n",
       "  <tbody>\n",
       "    <tr>\n",
       "      <th>0</th>\n",
       "      <td>CVE-1999-1383</td>\n",
       "      <td>(1)</td>\n",
       "      <td>O</td>\n",
       "    </tr>\n",
       "    <tr>\n",
       "      <th>1</th>\n",
       "      <td>0</td>\n",
       "      <td>bash</td>\n",
       "      <td>B-vendor</td>\n",
       "    </tr>\n",
       "    <tr>\n",
       "      <th>2</th>\n",
       "      <td>0</td>\n",
       "      <td>before</td>\n",
       "      <td>B-version</td>\n",
       "    </tr>\n",
       "    <tr>\n",
       "      <th>3</th>\n",
       "      <td>0</td>\n",
       "      <td>1.14.7</td>\n",
       "      <td>I-version</td>\n",
       "    </tr>\n",
       "    <tr>\n",
       "      <th>4</th>\n",
       "      <td>0</td>\n",
       "      <td>,</td>\n",
       "      <td>O</td>\n",
       "    </tr>\n",
       "    <tr>\n",
       "      <th>...</th>\n",
       "      <td>...</td>\n",
       "      <td>...</td>\n",
       "      <td>...</td>\n",
       "    </tr>\n",
       "    <tr>\n",
       "      <th>5154</th>\n",
       "      <td>0</td>\n",
       "      <td>access</td>\n",
       "      <td>O</td>\n",
       "    </tr>\n",
       "    <tr>\n",
       "      <th>5155</th>\n",
       "      <td>0</td>\n",
       "      <td>other</td>\n",
       "      <td>O</td>\n",
       "    </tr>\n",
       "    <tr>\n",
       "      <th>5156</th>\n",
       "      <td>0</td>\n",
       "      <td>local</td>\n",
       "      <td>O</td>\n",
       "    </tr>\n",
       "    <tr>\n",
       "      <th>5157</th>\n",
       "      <td>0</td>\n",
       "      <td>servers</td>\n",
       "      <td>O</td>\n",
       "    </tr>\n",
       "    <tr>\n",
       "      <th>5158</th>\n",
       "      <td>0</td>\n",
       "      <td>.</td>\n",
       "      <td>O</td>\n",
       "    </tr>\n",
       "  </tbody>\n",
       "</table>\n",
       "<p>5159 rows × 3 columns</p>\n",
       "</div>"
      ],
      "text/plain": [
       "             cve_id    words custom_bio\n",
       "0     CVE-1999-1383      (1)          O\n",
       "1                 0     bash   B-vendor\n",
       "2                 0   before  B-version\n",
       "3                 0   1.14.7  I-version\n",
       "4                 0        ,          O\n",
       "...             ...      ...        ...\n",
       "5154              0   access          O\n",
       "5155              0    other          O\n",
       "5156              0    local          O\n",
       "5157              0  servers          O\n",
       "5158              0        .          O\n",
       "\n",
       "[5159 rows x 3 columns]"
      ]
     },
     "execution_count": 155,
     "metadata": {},
     "output_type": "execute_result"
    }
   ],
   "source": [
    "pd.read_csv('cve_dataset_bio_4477_before_versions.tsv', sep='\\t')"
   ]
  },
  {
   "cell_type": "code",
   "execution_count": null,
   "metadata": {},
   "outputs": [],
   "source": []
  },
  {
   "cell_type": "markdown",
   "metadata": {},
   "source": [
    "## версии after"
   ]
  },
  {
   "cell_type": "code",
   "execution_count": 102,
   "metadata": {},
   "outputs": [
    {
     "name": "stdout",
     "output_type": "stream",
     "text": [
      "may\n",
      "version\n",
      "today\n",
      "\n"
     ]
    }
   ],
   "source": [
    "import re\n",
    "\n",
    "def extract_word_after_version(text):\n",
    "    # The regex looks for a version pattern with at least two dots followed by a word (letters)\n",
    "    pattern = r'\\d+(?:\\.\\d+){2,}\\s+(\\b[a-zA-Z]+\\b)'\n",
    "    match = re.search(pattern, text)\n",
    "    if match:\n",
    "        return match.group(1)\n",
    "    else:\n",
    "        return ''\n",
    "\n",
    "# Test cases\n",
    "print(extract_word_after_version(\"Google Chrome before 19.0.1084.46 may\"))  # Output: may\n",
    "print(extract_word_after_version(\"i have got the name 2.1.0 version\")) # Output: version\n",
    "print(extract_word_after_version(\"this is tuesday 1.2.1.1.1 today\"))   # Output: today\n",
    "print(extract_word_after_version(\"mama i love you 6.0\"))                # Output: False"
   ]
  },
  {
   "cell_type": "code",
   "execution_count": 103,
   "metadata": {},
   "outputs": [
    {
     "data": {
      "application/vnd.microsoft.datawrangler.viewer.v0+json": {
       "columns": [
        {
         "name": "index",
         "rawType": "int64",
         "type": "integer"
        },
        {
         "name": "word",
         "rawType": "object",
         "type": "string"
        },
        {
         "name": "matched_regex_after",
         "rawType": "int64",
         "type": "integer"
        }
       ],
       "conversionMethod": "pd.DataFrame",
       "ref": "9ef137ba-327b-4937-8349-4b01d0e74c49",
       "rows": [
        [
         "0",
         "",
         "308257"
        ],
        [
         "1",
         "and",
         "81376"
        ],
        [
         "2",
         "allows",
         "56205"
        ],
        [
         "3",
         "does",
         "48507"
        ],
        [
         "4",
         "for",
         "25996"
        ],
        [
         "5",
         "versions",
         "20638"
        ],
        [
         "6",
         "through",
         "14630"
        ],
        [
         "7",
         "are",
         "13671"
        ],
        [
         "8",
         "is",
         "13230"
        ],
        [
         "9",
         "has",
         "8485"
        ],
        [
         "10",
         "allow",
         "6808"
        ],
        [
         "11",
         "due",
         "6652"
        ],
        [
         "12",
         "contains",
         "6060"
        ],
        [
         "13",
         "to",
         "4893"
        ],
        [
         "14",
         "on",
         "4077"
        ],
        [
         "15",
         "at",
         "3397"
        ],
        [
         "16",
         "or",
         "3342"
        ],
        [
         "17",
         "in",
         "2937"
        ],
        [
         "18",
         "before",
         "2904"
        ],
        [
         "19",
         "was",
         "2661"
        ],
        [
         "20",
         "leaks",
         "2382"
        ],
        [
         "21",
         "via",
         "2010"
        ],
        [
         "22",
         "have",
         "1827"
        ],
        [
         "23",
         "can",
         "1667"
        ],
        [
         "24",
         "could",
         "1647"
        ],
        [
         "25",
         "might",
         "1641"
        ],
        [
         "26",
         "do",
         "1631"
        ],
        [
         "27",
         "uses",
         "1628"
        ],
        [
         "28",
         "contain",
         "1572"
        ],
        [
         "29",
         "mishandles",
         "1407"
        ],
        [
         "30",
         "did",
         "1394"
        ],
        [
         "31",
         "may",
         "1163"
        ],
        [
         "32",
         "using",
         "1050"
        ],
        [
         "33",
         "of",
         "887"
        ],
        [
         "34",
         "unserialises",
         "791"
        ],
        [
         "35",
         "that",
         "750"
        ],
        [
         "36",
         "a",
         "722"
        ],
        [
         "37",
         "beta",
         "720"
        ],
        [
         "38",
         "allowed",
         "704"
        ],
        [
         "39",
         "use",
         "671"
        ],
        [
         "40",
         "build",
         "628"
        ],
        [
         "41",
         "when",
         "543"
        ],
        [
         "42",
         "release",
         "482"
        ],
        [
         "43",
         "there",
         "479"
        ],
        [
         "44",
         "includes",
         "475"
        ],
        [
         "45",
         "unserializes",
         "467"
        ],
        [
         "46",
         "which",
         "449"
        ],
        [
         "47",
         "as",
         "443"
        ],
        [
         "48",
         "suffers",
         "431"
        ],
        [
         "49",
         "Beta",
         "426"
        ]
       ],
       "shape": {
        "columns": 2,
        "rows": 619
       }
      },
      "text/html": [
       "<div>\n",
       "<style scoped>\n",
       "    .dataframe tbody tr th:only-of-type {\n",
       "        vertical-align: middle;\n",
       "    }\n",
       "\n",
       "    .dataframe tbody tr th {\n",
       "        vertical-align: top;\n",
       "    }\n",
       "\n",
       "    .dataframe thead th {\n",
       "        text-align: right;\n",
       "    }\n",
       "</style>\n",
       "<table border=\"1\" class=\"dataframe\">\n",
       "  <thead>\n",
       "    <tr style=\"text-align: right;\">\n",
       "      <th></th>\n",
       "      <th>word</th>\n",
       "      <th>matched_regex_after</th>\n",
       "    </tr>\n",
       "  </thead>\n",
       "  <tbody>\n",
       "    <tr>\n",
       "      <th>0</th>\n",
       "      <td></td>\n",
       "      <td>308257</td>\n",
       "    </tr>\n",
       "    <tr>\n",
       "      <th>1</th>\n",
       "      <td>and</td>\n",
       "      <td>81376</td>\n",
       "    </tr>\n",
       "    <tr>\n",
       "      <th>2</th>\n",
       "      <td>allows</td>\n",
       "      <td>56205</td>\n",
       "    </tr>\n",
       "    <tr>\n",
       "      <th>3</th>\n",
       "      <td>does</td>\n",
       "      <td>48507</td>\n",
       "    </tr>\n",
       "    <tr>\n",
       "      <th>4</th>\n",
       "      <td>for</td>\n",
       "      <td>25996</td>\n",
       "    </tr>\n",
       "    <tr>\n",
       "      <th>...</th>\n",
       "      <td>...</td>\n",
       "      <td>...</td>\n",
       "    </tr>\n",
       "    <tr>\n",
       "      <th>614</th>\n",
       "      <td>GPL</td>\n",
       "      <td>1</td>\n",
       "    </tr>\n",
       "    <tr>\n",
       "      <th>615</th>\n",
       "      <td>compares</td>\n",
       "      <td>1</td>\n",
       "    </tr>\n",
       "    <tr>\n",
       "      <th>616</th>\n",
       "      <td>cPanel</td>\n",
       "      <td>1</td>\n",
       "    </tr>\n",
       "    <tr>\n",
       "      <th>617</th>\n",
       "      <td>IF</td>\n",
       "      <td>1</td>\n",
       "    </tr>\n",
       "    <tr>\n",
       "      <th>618</th>\n",
       "      <td>prints</td>\n",
       "      <td>1</td>\n",
       "    </tr>\n",
       "  </tbody>\n",
       "</table>\n",
       "<p>619 rows × 2 columns</p>\n",
       "</div>"
      ],
      "text/plain": [
       "         word  matched_regex_after\n",
       "0                           308257\n",
       "1         and                81376\n",
       "2      allows                56205\n",
       "3        does                48507\n",
       "4         for                25996\n",
       "..        ...                  ...\n",
       "614       GPL                    1\n",
       "615  compares                    1\n",
       "616    cPanel                    1\n",
       "617        IF                    1\n",
       "618    prints                    1\n",
       "\n",
       "[619 rows x 2 columns]"
      ]
     },
     "execution_count": 103,
     "metadata": {},
     "output_type": "execute_result"
    }
   ],
   "source": [
    "df['matched_regex_after'] = df['descr'].apply(extract_word_after_version)\n",
    "matched_df2 = df['matched_regex_after'].value_counts().reset_index()\n",
    "matched_df2 = matched_df2.rename(columns={'index': 'word'})\n",
    "matched_df2"
   ]
  },
  {
   "cell_type": "code",
   "execution_count": 106,
   "metadata": {},
   "outputs": [
    {
     "data": {
      "application/vnd.microsoft.datawrangler.viewer.v0+json": {
       "columns": [
        {
         "name": "index",
         "rawType": "int64",
         "type": "integer"
        },
        {
         "name": "word",
         "rawType": "object",
         "type": "string"
        },
        {
         "name": "matched_regex_after",
         "rawType": "int64",
         "type": "integer"
        },
        {
         "name": "capital",
         "rawType": "bool",
         "type": "boolean"
        }
       ],
       "conversionMethod": "pd.DataFrame",
       "ref": "3bdcdb9f-c0b5-4b93-8abe-816669052449",
       "rows": [
        [
         "0",
         "",
         "308257",
         "False"
        ],
        [
         "1",
         "and",
         "81376",
         "False"
        ],
        [
         "2",
         "allows",
         "56205",
         "False"
        ],
        [
         "3",
         "does",
         "48507",
         "False"
        ],
        [
         "4",
         "for",
         "25996",
         "False"
        ],
        [
         "5",
         "versions",
         "20638",
         "False"
        ],
        [
         "6",
         "through",
         "14630",
         "False"
        ],
        [
         "7",
         "are",
         "13671",
         "False"
        ],
        [
         "8",
         "is",
         "13230",
         "False"
        ],
        [
         "9",
         "has",
         "8485",
         "False"
        ],
        [
         "10",
         "allow",
         "6808",
         "False"
        ],
        [
         "11",
         "due",
         "6652",
         "False"
        ],
        [
         "12",
         "contains",
         "6060",
         "False"
        ],
        [
         "13",
         "to",
         "4893",
         "False"
        ],
        [
         "14",
         "on",
         "4077",
         "False"
        ],
        [
         "15",
         "at",
         "3397",
         "False"
        ],
        [
         "16",
         "or",
         "3342",
         "False"
        ],
        [
         "17",
         "in",
         "2937",
         "False"
        ],
        [
         "18",
         "before",
         "2904",
         "False"
        ],
        [
         "19",
         "was",
         "2661",
         "False"
        ],
        [
         "20",
         "leaks",
         "2382",
         "False"
        ],
        [
         "21",
         "via",
         "2010",
         "False"
        ],
        [
         "22",
         "have",
         "1827",
         "False"
        ],
        [
         "23",
         "can",
         "1667",
         "False"
        ],
        [
         "24",
         "could",
         "1647",
         "False"
        ],
        [
         "25",
         "might",
         "1641",
         "False"
        ],
        [
         "26",
         "do",
         "1631",
         "False"
        ],
        [
         "27",
         "uses",
         "1628",
         "False"
        ],
        [
         "28",
         "contain",
         "1572",
         "False"
        ],
        [
         "29",
         "mishandles",
         "1407",
         "False"
        ],
        [
         "30",
         "did",
         "1394",
         "False"
        ],
        [
         "31",
         "may",
         "1163",
         "False"
        ],
        [
         "32",
         "using",
         "1050",
         "False"
        ],
        [
         "33",
         "of",
         "887",
         "False"
        ],
        [
         "34",
         "unserialises",
         "791",
         "False"
        ],
        [
         "35",
         "that",
         "750",
         "False"
        ],
        [
         "36",
         "a",
         "722",
         "False"
        ],
        [
         "37",
         "beta",
         "720",
         "False"
        ],
        [
         "38",
         "allowed",
         "704",
         "False"
        ],
        [
         "39",
         "use",
         "671",
         "False"
        ],
        [
         "40",
         "build",
         "628",
         "False"
        ],
        [
         "41",
         "when",
         "543",
         "False"
        ],
        [
         "42",
         "release",
         "482",
         "False"
        ],
        [
         "43",
         "there",
         "479",
         "False"
        ],
        [
         "44",
         "includes",
         "475",
         "False"
        ],
        [
         "45",
         "unserializes",
         "467",
         "False"
        ],
        [
         "46",
         "which",
         "449",
         "False"
        ],
        [
         "47",
         "as",
         "443",
         "False"
        ],
        [
         "48",
         "suffers",
         "431",
         "False"
        ],
        [
         "50",
         "leads",
         "416",
         "False"
        ]
       ],
       "shape": {
        "columns": 3,
        "rows": 50
       }
      },
      "text/html": [
       "<div>\n",
       "<style scoped>\n",
       "    .dataframe tbody tr th:only-of-type {\n",
       "        vertical-align: middle;\n",
       "    }\n",
       "\n",
       "    .dataframe tbody tr th {\n",
       "        vertical-align: top;\n",
       "    }\n",
       "\n",
       "    .dataframe thead th {\n",
       "        text-align: right;\n",
       "    }\n",
       "</style>\n",
       "<table border=\"1\" class=\"dataframe\">\n",
       "  <thead>\n",
       "    <tr style=\"text-align: right;\">\n",
       "      <th></th>\n",
       "      <th>word</th>\n",
       "      <th>matched_regex_after</th>\n",
       "      <th>capital</th>\n",
       "    </tr>\n",
       "  </thead>\n",
       "  <tbody>\n",
       "    <tr>\n",
       "      <th>0</th>\n",
       "      <td></td>\n",
       "      <td>308257</td>\n",
       "      <td>False</td>\n",
       "    </tr>\n",
       "    <tr>\n",
       "      <th>1</th>\n",
       "      <td>and</td>\n",
       "      <td>81376</td>\n",
       "      <td>False</td>\n",
       "    </tr>\n",
       "    <tr>\n",
       "      <th>2</th>\n",
       "      <td>allows</td>\n",
       "      <td>56205</td>\n",
       "      <td>False</td>\n",
       "    </tr>\n",
       "    <tr>\n",
       "      <th>3</th>\n",
       "      <td>does</td>\n",
       "      <td>48507</td>\n",
       "      <td>False</td>\n",
       "    </tr>\n",
       "    <tr>\n",
       "      <th>4</th>\n",
       "      <td>for</td>\n",
       "      <td>25996</td>\n",
       "      <td>False</td>\n",
       "    </tr>\n",
       "    <tr>\n",
       "      <th>5</th>\n",
       "      <td>versions</td>\n",
       "      <td>20638</td>\n",
       "      <td>False</td>\n",
       "    </tr>\n",
       "    <tr>\n",
       "      <th>6</th>\n",
       "      <td>through</td>\n",
       "      <td>14630</td>\n",
       "      <td>False</td>\n",
       "    </tr>\n",
       "    <tr>\n",
       "      <th>7</th>\n",
       "      <td>are</td>\n",
       "      <td>13671</td>\n",
       "      <td>False</td>\n",
       "    </tr>\n",
       "    <tr>\n",
       "      <th>8</th>\n",
       "      <td>is</td>\n",
       "      <td>13230</td>\n",
       "      <td>False</td>\n",
       "    </tr>\n",
       "    <tr>\n",
       "      <th>9</th>\n",
       "      <td>has</td>\n",
       "      <td>8485</td>\n",
       "      <td>False</td>\n",
       "    </tr>\n",
       "    <tr>\n",
       "      <th>10</th>\n",
       "      <td>allow</td>\n",
       "      <td>6808</td>\n",
       "      <td>False</td>\n",
       "    </tr>\n",
       "    <tr>\n",
       "      <th>11</th>\n",
       "      <td>due</td>\n",
       "      <td>6652</td>\n",
       "      <td>False</td>\n",
       "    </tr>\n",
       "    <tr>\n",
       "      <th>12</th>\n",
       "      <td>contains</td>\n",
       "      <td>6060</td>\n",
       "      <td>False</td>\n",
       "    </tr>\n",
       "    <tr>\n",
       "      <th>13</th>\n",
       "      <td>to</td>\n",
       "      <td>4893</td>\n",
       "      <td>False</td>\n",
       "    </tr>\n",
       "    <tr>\n",
       "      <th>14</th>\n",
       "      <td>on</td>\n",
       "      <td>4077</td>\n",
       "      <td>False</td>\n",
       "    </tr>\n",
       "    <tr>\n",
       "      <th>15</th>\n",
       "      <td>at</td>\n",
       "      <td>3397</td>\n",
       "      <td>False</td>\n",
       "    </tr>\n",
       "    <tr>\n",
       "      <th>16</th>\n",
       "      <td>or</td>\n",
       "      <td>3342</td>\n",
       "      <td>False</td>\n",
       "    </tr>\n",
       "    <tr>\n",
       "      <th>17</th>\n",
       "      <td>in</td>\n",
       "      <td>2937</td>\n",
       "      <td>False</td>\n",
       "    </tr>\n",
       "    <tr>\n",
       "      <th>18</th>\n",
       "      <td>before</td>\n",
       "      <td>2904</td>\n",
       "      <td>False</td>\n",
       "    </tr>\n",
       "    <tr>\n",
       "      <th>19</th>\n",
       "      <td>was</td>\n",
       "      <td>2661</td>\n",
       "      <td>False</td>\n",
       "    </tr>\n",
       "    <tr>\n",
       "      <th>20</th>\n",
       "      <td>leaks</td>\n",
       "      <td>2382</td>\n",
       "      <td>False</td>\n",
       "    </tr>\n",
       "    <tr>\n",
       "      <th>21</th>\n",
       "      <td>via</td>\n",
       "      <td>2010</td>\n",
       "      <td>False</td>\n",
       "    </tr>\n",
       "    <tr>\n",
       "      <th>22</th>\n",
       "      <td>have</td>\n",
       "      <td>1827</td>\n",
       "      <td>False</td>\n",
       "    </tr>\n",
       "    <tr>\n",
       "      <th>23</th>\n",
       "      <td>can</td>\n",
       "      <td>1667</td>\n",
       "      <td>False</td>\n",
       "    </tr>\n",
       "    <tr>\n",
       "      <th>24</th>\n",
       "      <td>could</td>\n",
       "      <td>1647</td>\n",
       "      <td>False</td>\n",
       "    </tr>\n",
       "    <tr>\n",
       "      <th>25</th>\n",
       "      <td>might</td>\n",
       "      <td>1641</td>\n",
       "      <td>False</td>\n",
       "    </tr>\n",
       "    <tr>\n",
       "      <th>26</th>\n",
       "      <td>do</td>\n",
       "      <td>1631</td>\n",
       "      <td>False</td>\n",
       "    </tr>\n",
       "    <tr>\n",
       "      <th>27</th>\n",
       "      <td>uses</td>\n",
       "      <td>1628</td>\n",
       "      <td>False</td>\n",
       "    </tr>\n",
       "    <tr>\n",
       "      <th>28</th>\n",
       "      <td>contain</td>\n",
       "      <td>1572</td>\n",
       "      <td>False</td>\n",
       "    </tr>\n",
       "    <tr>\n",
       "      <th>29</th>\n",
       "      <td>mishandles</td>\n",
       "      <td>1407</td>\n",
       "      <td>False</td>\n",
       "    </tr>\n",
       "    <tr>\n",
       "      <th>30</th>\n",
       "      <td>did</td>\n",
       "      <td>1394</td>\n",
       "      <td>False</td>\n",
       "    </tr>\n",
       "    <tr>\n",
       "      <th>31</th>\n",
       "      <td>may</td>\n",
       "      <td>1163</td>\n",
       "      <td>False</td>\n",
       "    </tr>\n",
       "    <tr>\n",
       "      <th>32</th>\n",
       "      <td>using</td>\n",
       "      <td>1050</td>\n",
       "      <td>False</td>\n",
       "    </tr>\n",
       "    <tr>\n",
       "      <th>33</th>\n",
       "      <td>of</td>\n",
       "      <td>887</td>\n",
       "      <td>False</td>\n",
       "    </tr>\n",
       "    <tr>\n",
       "      <th>34</th>\n",
       "      <td>unserialises</td>\n",
       "      <td>791</td>\n",
       "      <td>False</td>\n",
       "    </tr>\n",
       "    <tr>\n",
       "      <th>35</th>\n",
       "      <td>that</td>\n",
       "      <td>750</td>\n",
       "      <td>False</td>\n",
       "    </tr>\n",
       "    <tr>\n",
       "      <th>36</th>\n",
       "      <td>a</td>\n",
       "      <td>722</td>\n",
       "      <td>False</td>\n",
       "    </tr>\n",
       "    <tr>\n",
       "      <th>37</th>\n",
       "      <td>beta</td>\n",
       "      <td>720</td>\n",
       "      <td>False</td>\n",
       "    </tr>\n",
       "    <tr>\n",
       "      <th>38</th>\n",
       "      <td>allowed</td>\n",
       "      <td>704</td>\n",
       "      <td>False</td>\n",
       "    </tr>\n",
       "    <tr>\n",
       "      <th>39</th>\n",
       "      <td>use</td>\n",
       "      <td>671</td>\n",
       "      <td>False</td>\n",
       "    </tr>\n",
       "    <tr>\n",
       "      <th>40</th>\n",
       "      <td>build</td>\n",
       "      <td>628</td>\n",
       "      <td>False</td>\n",
       "    </tr>\n",
       "    <tr>\n",
       "      <th>41</th>\n",
       "      <td>when</td>\n",
       "      <td>543</td>\n",
       "      <td>False</td>\n",
       "    </tr>\n",
       "    <tr>\n",
       "      <th>42</th>\n",
       "      <td>release</td>\n",
       "      <td>482</td>\n",
       "      <td>False</td>\n",
       "    </tr>\n",
       "    <tr>\n",
       "      <th>43</th>\n",
       "      <td>there</td>\n",
       "      <td>479</td>\n",
       "      <td>False</td>\n",
       "    </tr>\n",
       "    <tr>\n",
       "      <th>44</th>\n",
       "      <td>includes</td>\n",
       "      <td>475</td>\n",
       "      <td>False</td>\n",
       "    </tr>\n",
       "    <tr>\n",
       "      <th>45</th>\n",
       "      <td>unserializes</td>\n",
       "      <td>467</td>\n",
       "      <td>False</td>\n",
       "    </tr>\n",
       "    <tr>\n",
       "      <th>46</th>\n",
       "      <td>which</td>\n",
       "      <td>449</td>\n",
       "      <td>False</td>\n",
       "    </tr>\n",
       "    <tr>\n",
       "      <th>47</th>\n",
       "      <td>as</td>\n",
       "      <td>443</td>\n",
       "      <td>False</td>\n",
       "    </tr>\n",
       "    <tr>\n",
       "      <th>48</th>\n",
       "      <td>suffers</td>\n",
       "      <td>431</td>\n",
       "      <td>False</td>\n",
       "    </tr>\n",
       "    <tr>\n",
       "      <th>50</th>\n",
       "      <td>leads</td>\n",
       "      <td>416</td>\n",
       "      <td>False</td>\n",
       "    </tr>\n",
       "  </tbody>\n",
       "</table>\n",
       "</div>"
      ],
      "text/plain": [
       "            word  matched_regex_after  capital\n",
       "0                              308257    False\n",
       "1            and                81376    False\n",
       "2         allows                56205    False\n",
       "3           does                48507    False\n",
       "4            for                25996    False\n",
       "5       versions                20638    False\n",
       "6        through                14630    False\n",
       "7            are                13671    False\n",
       "8             is                13230    False\n",
       "9            has                 8485    False\n",
       "10         allow                 6808    False\n",
       "11           due                 6652    False\n",
       "12      contains                 6060    False\n",
       "13            to                 4893    False\n",
       "14            on                 4077    False\n",
       "15            at                 3397    False\n",
       "16            or                 3342    False\n",
       "17            in                 2937    False\n",
       "18        before                 2904    False\n",
       "19           was                 2661    False\n",
       "20         leaks                 2382    False\n",
       "21           via                 2010    False\n",
       "22          have                 1827    False\n",
       "23           can                 1667    False\n",
       "24         could                 1647    False\n",
       "25         might                 1641    False\n",
       "26            do                 1631    False\n",
       "27          uses                 1628    False\n",
       "28       contain                 1572    False\n",
       "29    mishandles                 1407    False\n",
       "30           did                 1394    False\n",
       "31           may                 1163    False\n",
       "32         using                 1050    False\n",
       "33            of                  887    False\n",
       "34  unserialises                  791    False\n",
       "35          that                  750    False\n",
       "36             a                  722    False\n",
       "37          beta                  720    False\n",
       "38       allowed                  704    False\n",
       "39           use                  671    False\n",
       "40         build                  628    False\n",
       "41          when                  543    False\n",
       "42       release                  482    False\n",
       "43         there                  479    False\n",
       "44      includes                  475    False\n",
       "45  unserializes                  467    False\n",
       "46         which                  449    False\n",
       "47            as                  443    False\n",
       "48       suffers                  431    False\n",
       "50         leads                  416    False"
      ]
     },
     "execution_count": 106,
     "metadata": {},
     "output_type": "execute_result"
    }
   ],
   "source": [
    "matched_df2['capital'] = matched_df2['word'].str.match(r'^[A-Z]')  # Regex: ^[A-Z] means \"starts with uppercase A-Z\"\n",
    "matched_df2[matched_df2.capital == False].head(50)"
   ]
  },
  {
   "cell_type": "code",
   "execution_count": 111,
   "metadata": {},
   "outputs": [
    {
     "data": {
      "text/plain": [
       "['',\n",
       " 'and',\n",
       " 'allows',\n",
       " 'does',\n",
       " 'for',\n",
       " 'versions',\n",
       " 'through',\n",
       " 'are',\n",
       " 'is',\n",
       " 'has',\n",
       " 'allow',\n",
       " 'due',\n",
       " 'contains',\n",
       " 'to',\n",
       " 'on',\n",
       " 'at',\n",
       " 'or',\n",
       " 'in',\n",
       " 'before',\n",
       " 'was',\n",
       " 'leaks',\n",
       " 'via',\n",
       " 'have',\n",
       " 'can',\n",
       " 'could',\n",
       " 'might',\n",
       " 'do',\n",
       " 'uses',\n",
       " 'contain',\n",
       " 'mishandles',\n",
       " 'did',\n",
       " 'may',\n",
       " 'using',\n",
       " 'of',\n",
       " 'unserialises',\n",
       " 'that',\n",
       " 'a',\n",
       " 'beta',\n",
       " 'allowed',\n",
       " 'use',\n",
       " 'build',\n",
       " 'when',\n",
       " 'release',\n",
       " 'there',\n",
       " 'includes',\n",
       " 'unserializes',\n",
       " 'which',\n",
       " 'as',\n",
       " 'suffers',\n",
       " 'Beta']"
      ]
     },
     "execution_count": 111,
     "metadata": {},
     "output_type": "execute_result"
    }
   ],
   "source": [
    "matched_df2.iloc[:50].word.tolist()"
   ]
  },
  {
   "cell_type": "code",
   "execution_count": 113,
   "metadata": {},
   "outputs": [],
   "source": [
    "after_words = [\n",
    "    'and',\n",
    "    'through',\n",
    "    'to',\n",
    "    'or',\n",
    "    'before',\n",
    "    'beta',\n",
    "    'build',\n",
    "    \n",
    "]"
   ]
  },
  {
   "cell_type": "code",
   "execution_count": null,
   "metadata": {},
   "outputs": [],
   "source": [
    "for wrd in matched_df2[matched_df2.capital == False].head(50).word:\n",
    "    print(wrd)\n",
    "    r = df[df['matched_regex_after'] == wrd]\n",
    "    if not r.empty:\n",
    "        print(r.sample(1).descr)\n",
    "    print('\\n\\n\\n')"
   ]
  },
  {
   "cell_type": "code",
   "execution_count": 115,
   "metadata": {},
   "outputs": [],
   "source": [
    "def check_conditions_after(row, wrd):\n",
    "    if ((row['vendor'] in row['descr']) and\n",
    "        (row['product'] in row['descr']) and\n",
    "        (row['matched_regex_after'] == wrd)):\n",
    "        return True\n",
    "    else:\n",
    "        return False"
   ]
  },
  {
   "cell_type": "code",
   "execution_count": 156,
   "metadata": {},
   "outputs": [],
   "source": [
    "def check_conditions_after_less_conditions(row, wrd):\n",
    "    if (((row['vendor'] in row['descr'].lower()) or\n",
    "        (row['product'] in row['descr'].lower())) and\n",
    "        (row['matched_regex_after'] == wrd)):\n",
    "        return True\n",
    "    else:\n",
    "        return False"
   ]
  },
  {
   "cell_type": "code",
   "execution_count": 157,
   "metadata": {},
   "outputs": [
    {
     "name": "stderr",
     "output_type": "stream",
     "text": [
      " 14%|█▍        | 1/7 [00:03<00:22,  3.78s/it]"
     ]
    },
    {
     "name": "stdout",
     "output_type": "stream",
     "text": [
      "and (5178, 7)\n"
     ]
    },
    {
     "name": "stderr",
     "output_type": "stream",
     "text": [
      " 29%|██▊       | 2/7 [00:07<00:18,  3.73s/it]"
     ]
    },
    {
     "name": "stdout",
     "output_type": "stream",
     "text": [
      "through (1002, 7)\n"
     ]
    },
    {
     "name": "stderr",
     "output_type": "stream",
     "text": [
      " 43%|████▎     | 3/7 [00:11<00:14,  3.72s/it]"
     ]
    },
    {
     "name": "stdout",
     "output_type": "stream",
     "text": [
      "to (130, 7)\n"
     ]
    },
    {
     "name": "stderr",
     "output_type": "stream",
     "text": [
      " 57%|█████▋    | 4/7 [00:14<00:11,  3.72s/it]"
     ]
    },
    {
     "name": "stdout",
     "output_type": "stream",
     "text": [
      "or (128, 7)\n"
     ]
    },
    {
     "name": "stderr",
     "output_type": "stream",
     "text": [
      " 71%|███████▏  | 5/7 [00:18<00:07,  3.74s/it]"
     ]
    },
    {
     "name": "stdout",
     "output_type": "stream",
     "text": [
      "before (171, 7)\n",
      "beta (3, 7)\n"
     ]
    },
    {
     "name": "stderr",
     "output_type": "stream",
     "text": [
      " 86%|████████▌ | 6/7 [00:27<00:05,  5.64s/it]"
     ]
    },
    {
     "name": "stdout",
     "output_type": "stream",
     "text": [
      "build (1, 7)\n"
     ]
    },
    {
     "name": "stderr",
     "output_type": "stream",
     "text": [
      "100%|██████████| 7/7 [00:37<00:00,  5.35s/it]\n"
     ]
    }
   ],
   "source": [
    "df_new_words_after = pd.DataFrame()\n",
    "for wrd in tqdm(after_words):\n",
    "    filtered_df = df[df.apply(lambda x: check_conditions_after(x, wrd), axis=1)]\n",
    "    print(wrd, filtered_df.shape)\n",
    "    if filtered_df.empty:\n",
    "        continue\n",
    "    elif filtered_df.cve_id.nunique() <= 5:\n",
    "        filtered_df = df[df.apply(lambda x: check_conditions_after_less_conditions(x, wrd), axis=1)]\n",
    "    df_samples_per_word = filtered_df.sample(len(filtered_df), random_state=43).groupby('cve_id').sample(1, random_state=43).head(5)\n",
    "    if df_new_words_after.empty:\n",
    "        df_new_words_after = df_samples_per_word\n",
    "    else:\n",
    "        df_new_words_after = pd.concat([df_new_words_after, df_samples_per_word])"
   ]
  },
  {
   "cell_type": "code",
   "execution_count": 158,
   "metadata": {},
   "outputs": [
    {
     "data": {
      "application/vnd.microsoft.datawrangler.viewer.v0+json": {
       "columns": [
        {
         "name": "index",
         "rawType": "int64",
         "type": "integer"
        },
        {
         "name": "cve_id",
         "rawType": "object",
         "type": "string"
        },
        {
         "name": "vendor",
         "rawType": "object",
         "type": "string"
        },
        {
         "name": "product",
         "rawType": "object",
         "type": "string"
        },
        {
         "name": "version",
         "rawType": "object",
         "type": "string"
        },
        {
         "name": "descr",
         "rawType": "object",
         "type": "string"
        },
        {
         "name": "matched_regex_before",
         "rawType": "object",
         "type": "string"
        },
        {
         "name": "matched_regex_after",
         "rawType": "object",
         "type": "string"
        }
       ],
       "conversionMethod": "pd.DataFrame",
       "ref": "de948b48-46c7-4378-b019-7428f442d86c",
       "rows": [
        [
         "119349",
         "CVE-1999-1483",
         "svgalib",
         "svgalib",
         "",
         "Buffer overflow in zgv in svgalib 1.2.10 and earlier allows local users to execute arbitrary code via a long HOME environment variable.",
         "svgalib",
         "and"
        ],
        [
         "170729",
         "CVE-2001-0556",
         "nedit",
         "nedit",
         "",
         "The Nirvana Editor (NEdit) 5.1.1 and earlier allows a local attacker to overwrite other users' files via a symlink attack on (1) backup files or (2) temporary files used when nedit prints a file or portions of a file.",
         "",
         "and"
        ],
        [
         "567214",
         "CVE-2001-0570",
         "minicom",
         "minicom",
         "",
         "minicom 1.83.1 and earlier allows a local attacker to gain additional privileges via numerous format string attacks.",
         "minicom",
         "and"
        ],
        [
         "259505",
         "CVE-2001-0700",
         "w3m",
         "w3m",
         "0.1.8",
         "Buffer overflow in w3m 0.2.1 and earlier allows a remote attacker to execute arbitrary code via a long base64 encoded MIME header.",
         "m",
         "and"
        ],
        [
         "595407",
         "CVE-2001-0834",
         "htdig",
         "htdig",
         "",
         "htsearch CGI program in htdig (ht://Dig) 3.1.5 and earlier allows remote attackers to use the -c option to specify an alternate configuration file, which could be used to (1) cause a denial of service (CPU consumption) by specifying a large file such as /dev/zero, or (2) read arbitrary files by uploading an alternate configuration file that specifies the target file.",
         "",
         "and"
        ],
        [
         "499787",
         "CVE-2003-1462",
         "mod_survey",
         "mod_survey",
         "3.0.7",
         "mod_survey 3.0.0 through 3.0.15-pre6 does not check whether a survey exists before creating a subdirectory for it, which allows remote attackers to cause a denial of service (disk consumption and possible crash).",
         "survey",
         "through"
        ],
        [
         "359080",
         "CVE-2005-0686",
         "mlterm",
         "mlterm",
         "2.7",
         "Integer overflow in mlterm 2.5.0 through 2.9.1, with gdk-pixbuf support enabled, allows remote attackers to execute arbitrary code via a large image file that is used as a background.",
         "mlterm",
         "through"
        ],
        [
         "236251",
         "CVE-2005-1692",
         "xine",
         "gxine",
         "0.44",
         "Format string vulnerability in gxine 0.4.1 through 0.4.4, and other versions down to 0.3, allows remote attackers to execute arbitrary code via a ram file with a URL whose hostname contains format string specifiers.",
         "gxine",
         "through"
        ],
        [
         "380589",
         "CVE-2005-3345",
         "rssh",
         "rssh",
         "2.2.3",
         "rssh 2.0.0 through 2.2.3 allows local users to bypass access restrictions and gain root privileges by using the rssh_chroot_helper command to chroot to an external directory.",
         "rssh",
         "through"
        ],
        [
         "240356",
         "CVE-2006-4244",
         "sql-ledger",
         "sql-ledger",
         "2.8.14",
         "SQL-Ledger 2.4.4 through 2.6.17 authenticates users by verifying that the value of the sql-ledger-[username] cookie matches the value of the sessionid parameter, which allows remote attackers to gain access as any logged-in user by setting the cookie and the parameter to the same value.",
         "Ledger",
         "through"
        ],
        [
         "392843",
         "CVE-2004-1951",
         "xine",
         "xine-ui",
         "0.9.23",
         "xine 1.x alpha, 1.x beta, and 1.0rc through 1.0rc3a, and xine-ui 0.9.21 to 0.9.23 allows remote attackers to overwrite arbitrary files via the (1) audio.sun_audio_device or (2) dxr3.devicename options in an MRL link.",
         "and",
         "to"
        ],
        [
         "349748",
         "CVE-2005-1453",
         "leafnode",
         "leafnode",
         "1.9.52",
         "fetchnews in leafnode 1.9.48 to 1.11.1 allows remote NNTP servers to cause a denial of service (crash) by closing the connection while fetchnews is reading (1) an article header or (2) an article body, which also prevents fetchnews from querying other servers.",
         "leafnode",
         "to"
        ],
        [
         "311229",
         "CVE-2007-0157",
         "neon",
         "neon",
         "0.26.2",
         "Array index error in the uri_lookup function in the URI parser for neon 0.26.0 to 0.26.2, possibly only on 64-bit platforms, allows remote malicious servers to cause a denial of service (crash) via a URI with non-ASCII characters, which triggers a buffer under-read due to a type conversion error that generates a negative index.",
         "neon",
         "to"
        ],
        [
         "458829",
         "CVE-2007-1287",
         "php",
         "php",
         "6.0",
         "A regression error in the phpinfo function in PHP 4.4.3 to 4.4.6, and PHP 6.0 in CVS, allows remote attackers to conduct cross-site scripting (XSS) attacks via GET, POST, or COOKIE array values, which are not escaped in the phpinfo output, as originally fixed for CVE-2005-3388.",
         "PHP",
         "to"
        ],
        [
         "386325",
         "CVE-2008-5617",
         "rsyslog",
         "rsyslog",
         "3.17.4",
         "The ACL handling in rsyslog 3.12.1 to 3.20.0, 4.1.0, and 4.1.1 does not follow $AllowedSender directive, which allows remote attackers to bypass intended access restrictions and spoof log messages or create a large number of spurious messages.",
         "rsyslog",
         "to"
        ],
        [
         "412212",
         "CVE-2018-1000125",
         "inversoft",
         "prime-jwt",
         "1.2.1",
         "inversoft prime-jwt version prior to version 1.3.0 or prior to commit 0d94dcef0133d699f21d217e922564adbb83a227 contains an input validation vulnerability in JWTDecoder.decode that can result in a JWT that is decoded and thus implicitly validated even if it lacks a valid signature. This attack appear to be exploitable via an attacker crafting a token with a valid header and body and then requests it to be validated. This vulnerability appears to have been fixed in 1.3.0 and later or after commit 0d94dcef0133d699f21d217e922564adbb83a227.",
         "version",
         "or"
        ],
        [
         "254009",
         "CVE-2020-15241",
         "typo3",
         "typo3",
         "8.7.25",
         "TYPO3 Fluid Engine (package `typo3fluid/fluid`) before versions 2.0.5, 2.1.4, 2.2.1, 2.3.5, 2.4.1, 2.5.5 or 2.6.1 is vulnerable to cross-site scripting when making use of the ternary conditional operator in templates like `{showFullName ? fullName : defaultValue}`. Updated versions of this package are bundled in following TYPO3 (`typo3/cms-core`) versions as well: TYPO3 v8.7.25 (using `typo3fluid/fluid` v2.5.4) and TYPO3 v9.5.6 (using `typo3fluid/fluid` v2.6.1).",
         "versions",
         "or"
        ],
        [
         "56485",
         "CVE-2021-32671",
         "flarum",
         "flarum",
         "1.0.0",
         "Flarum is a forum software for building communities. Flarum's translation system allowed for string inputs to be converted into HTML DOM nodes when rendered. This change was made after v0.1.0-beta.16 (our last beta before v1.0.0) and was not noticed or documented. This allowed for any user to type malicious HTML markup within certain user input fields and have this execute on client browsers. The example which led to the discovery of this vulnerability was in the forum search box. Entering faux-malicious HTML markup, such as <script>alert('test')</script> resulted in an alert box appearing on the forum. This attack could also be modified to perform AJAX requests on behalf of a user, possibly deleting discussions, modifying their settings or profile, or even modifying settings on the Admin panel if the attack was targetted towards a privileged user. All Flarum communities that run flarum v1.0.0 or v1.0.1 are impacted. The vulnerability has been fixed and published as flarum/core v1.0.2. All communities running Flarum v1.0 have to upgrade as soon as possible to v1.0.2.",
         "",
         "or"
        ],
        [
         "94705",
         "CVE-2021-41256",
         "nextcloud",
         "news",
         "0.9.9.24",
         "nextcloud news-android is an Android client for the Nextcloud news/feed reader app. In affected versions the Nextcloud News for Android app has a security issue by which a malicious application installed on the same device can send it an arbitrary Intent that gets reflected back, unintentionally giving read and write access to non-exported Content Providers in Nextcloud News for Android. Users should upgrade to version 0.9.9.63 or higher as soon as possible.",
         "version",
         "or"
        ],
        [
         "653377",
         "CVE-2022-23974",
         "apache",
         "pinot",
         "0.9.2",
         "In 0.9.3 or older versions of Apache Pinot segment upload path allowed segment directories to be imported into pinot tables. In pinot installations that allow open access to the controller a specially crafted request can potentially be exploited to cause disruption in pinot service. Pinot release 0.10.0 fixes this. See https://docs.pinot.apache.org/basics/releases/0.10.0",
         "In",
         "or"
        ],
        [
         "212468",
         "CVE-2007-0246",
         "gforge",
         "gforge",
         "",
         "plugins/scmcvs/www/cvsweb.php in the CVSWeb CGI in GForge 4.5.16 before 20070524, aka gforge-plugin-scmcvs, allows remote attackers to execute arbitrary commands via shell metacharacters in the PATH_INFO.",
         "GForge",
         "before"
        ],
        [
         "454429",
         "CVE-2009-1252",
         "ntp",
         "ntp",
         "4.2.5p58",
         "Stack-based buffer overflow in the crypto_recv function in ntp_crypto.c in ntpd in NTP before 4.2.4p7 and 4.2.5 before 4.2.5p74, when OpenSSL and autokey are enabled, allows remote attackers to execute arbitrary code via a crafted packet containing an extension field.",
         "before",
         "before"
        ],
        [
         "154767",
         "CVE-2013-2272",
         "bitcoin",
         "bitcoind",
         "0.6.0.10",
         "The penny-flooding protection mechanism in the CTxMemPool::accept method in bitcoind and Bitcoin-Qt before 0.4.9rc1, 0.5.x before 0.5.8rc1, 0.6.0 before 0.6.0.11rc1, 0.6.1 through 0.6.5 before 0.6.5rc1, and 0.7.x before 0.7.3rc1 allows remote attackers to determine associations between wallet addresses and IP addresses via a series of large Bitcoin transactions with insufficient fees.",
         "before",
         "before"
        ],
        [
         "680514",
         "CVE-2013-3009",
         "ibm",
         "java",
         "5.0.13.0",
         "The com.ibm.CORBA.iiop.ClientDelegate class in IBM Java 1.4.2 before 1.4.2 SR13-FP18, 5.0 before 5.0 SR16-FP3, 6 before 6 SR14, 6.0.1 before 6.0.1 SR6, and 7 before 7 SR5 improperly exposes the invoke method of the java.lang.reflect.Method class, which allows remote attackers to call setSecurityManager and bypass a sandbox protection mechanism via vectors related to the AccessController doPrivileged block.",
         "Java",
         "before"
        ],
        [
         "576802",
         "CVE-2013-3735",
         "php",
         "php",
         "5.4.32",
         "The Zend Engine in PHP before 5.4.16 RC1, and 5.5.0 before RC2, does not properly determine whether a parser error occurred, which allows context-dependent attackers to cause a denial of service (memory consumption and application crash) via a crafted function definition, as demonstrated by an attack within a shared web-hosting environment.  NOTE: the vendor's http://php.net/security-note.php page says \"for critical security situations you should be using OS-level security by running multiple web servers each as their own user id.",
         "before",
         "before"
        ],
        [
         "446143",
         "CVE-2001-0973",
         "fraunhofer_fit",
         "bscw",
         "3.3.1",
         "BSCW groupware system 3.3 through 4.0.2 beta allows remote attackers to read or modify arbitrary files by uploading and extracting a tar file with a symlink into the data-bag space.",
         "system",
         "beta"
        ],
        [
         "119359",
         "CVE-2002-0326",
         "working_resources_inc.",
         "badblue",
         "1.5",
         "Cross-site scripting vulnerability in BadBlue before 1.6.1 beta allows remote attackers to execute arbitrary script and possibly additional commands via a URL that contains Javascript.",
         "before",
         "beta"
        ],
        [
         "488133",
         "CVE-2004-1822",
         "phorum",
         "phorum",
         "3.3.1a",
         "Multiple cross-site scripting (XSS) vulnerabilities in Phorum 3.1 through 5.0.3 beta allow remote attackers to inject arbitrary web script or HTML via the (1) HTTP_REFERER parameter to login.php, (2) HTTP_REFERER parameter to register.php, or (3) target parameter to profile.php.",
         "Phorum",
         "beta"
        ],
        [
         "155517",
         "CVE-2004-2149",
         "oracle",
         "mysql",
         "4.1.4",
         "Buffer overflow in the prepared statements API in libmysqlclient for MySQL 4.1.3 beta and 4.1.4 allows remote attackers to cause a denial of service via a large number of placeholders.",
         "MySQL",
         "beta"
        ],
        [
         "231476",
         "CVE-2004-2535",
         "matthew_phillips",
         "sticker",
         "",
         "The person-to-person secure messaging feature in Sticker before 3.1.0 beta 2 allows remote attackers to post messages to unauthorized private groups by using the group's public encryption key.",
         "before",
         "beta"
        ],
        [
         "624293",
         "CVE-2002-0814",
         "vmware",
         "gsx_server",
         "2.0.0_build_2050",
         "Buffer overflow in VMware Authorization Service for VMware GSX Server 2.0.0 build-2050 allows remote authenticated users to execute arbitrary code via a long GLOBAL argument.",
         "Server",
         "build"
        ],
        [
         "116845",
         "CVE-2004-0577",
         "qbik",
         "wingate",
         "6.0_beta_2",
         "WinGate 5.2.3 build 901 and 6.0 beta 2 build 942, and other versions such as 5.0.5, allows remote attackers to read arbitrary files from the root directory via a URL request to the wingate-internal directory.",
         "WinGate",
         "build"
        ],
        [
         "387813",
         "CVE-2004-1112",
         "cisco",
         "security_agent",
         "4.0.3",
         "The buffer overflow trigger in Cisco Security Agent (CSA) before 4.0.3 build 728 waits five minutes for a user response before terminating the process, which could allow remote attackers to bypass the buffer overflow protection by sending additional buffer overflow attacks within the five minute timeout period.",
         "before",
         "build"
        ],
        [
         "306041",
         "CVE-2004-2515",
         "vmware",
         "workstation",
         "4.5.2_build_8848",
         "Format string vulnerability in VMware Workstation 4.5.2 build-8848, if running with elevated privileges, might allow local users to execute arbitrary code via format string specifiers in command line arguments. NOTE: it is not clear if there are any default or typical circumstances under which VMware would be running with privileges beyond those already available to the attackers, so this might not be a vulnerability.",
         "Workstation",
         "build"
        ],
        [
         "526262",
         "CVE-2005-2939",
         "vmware",
         "workstation",
         "5.0.0_build_13124",
         "Unquoted Windows search path vulnerability in VMWare Workstation 5.0.0 build-13124 might allow local users to gain privileges via a malicious \"program.exe\" file in the C: folder.",
         "Workstation",
         "build"
        ]
       ],
       "shape": {
        "columns": 7,
        "rows": 35
       }
      },
      "text/html": [
       "<div>\n",
       "<style scoped>\n",
       "    .dataframe tbody tr th:only-of-type {\n",
       "        vertical-align: middle;\n",
       "    }\n",
       "\n",
       "    .dataframe tbody tr th {\n",
       "        vertical-align: top;\n",
       "    }\n",
       "\n",
       "    .dataframe thead th {\n",
       "        text-align: right;\n",
       "    }\n",
       "</style>\n",
       "<table border=\"1\" class=\"dataframe\">\n",
       "  <thead>\n",
       "    <tr style=\"text-align: right;\">\n",
       "      <th></th>\n",
       "      <th>cve_id</th>\n",
       "      <th>vendor</th>\n",
       "      <th>product</th>\n",
       "      <th>version</th>\n",
       "      <th>descr</th>\n",
       "      <th>matched_regex_before</th>\n",
       "      <th>matched_regex_after</th>\n",
       "    </tr>\n",
       "  </thead>\n",
       "  <tbody>\n",
       "    <tr>\n",
       "      <th>119349</th>\n",
       "      <td>CVE-1999-1483</td>\n",
       "      <td>svgalib</td>\n",
       "      <td>svgalib</td>\n",
       "      <td></td>\n",
       "      <td>Buffer overflow in zgv in svgalib 1.2.10 and earlier allows local users to execute arbitrary code via a long HOME environment variable.</td>\n",
       "      <td>svgalib</td>\n",
       "      <td>and</td>\n",
       "    </tr>\n",
       "    <tr>\n",
       "      <th>170729</th>\n",
       "      <td>CVE-2001-0556</td>\n",
       "      <td>nedit</td>\n",
       "      <td>nedit</td>\n",
       "      <td></td>\n",
       "      <td>The Nirvana Editor (NEdit) 5.1.1 and earlier allows a local attacker to overwrite other users' files via a symlink attack on (1) backup files or (2) temporary files used when nedit prints a file o...</td>\n",
       "      <td></td>\n",
       "      <td>and</td>\n",
       "    </tr>\n",
       "    <tr>\n",
       "      <th>567214</th>\n",
       "      <td>CVE-2001-0570</td>\n",
       "      <td>minicom</td>\n",
       "      <td>minicom</td>\n",
       "      <td></td>\n",
       "      <td>minicom 1.83.1 and earlier allows a local attacker to gain additional privileges via numerous format string attacks.</td>\n",
       "      <td>minicom</td>\n",
       "      <td>and</td>\n",
       "    </tr>\n",
       "    <tr>\n",
       "      <th>259505</th>\n",
       "      <td>CVE-2001-0700</td>\n",
       "      <td>w3m</td>\n",
       "      <td>w3m</td>\n",
       "      <td>0.1.8</td>\n",
       "      <td>Buffer overflow in w3m 0.2.1 and earlier allows a remote attacker to execute arbitrary code via a long base64 encoded MIME header.</td>\n",
       "      <td>m</td>\n",
       "      <td>and</td>\n",
       "    </tr>\n",
       "    <tr>\n",
       "      <th>595407</th>\n",
       "      <td>CVE-2001-0834</td>\n",
       "      <td>htdig</td>\n",
       "      <td>htdig</td>\n",
       "      <td></td>\n",
       "      <td>htsearch CGI program in htdig (ht://Dig) 3.1.5 and earlier allows remote attackers to use the -c option to specify an alternate configuration file, which could be used to (1) cause a denial of ser...</td>\n",
       "      <td></td>\n",
       "      <td>and</td>\n",
       "    </tr>\n",
       "    <tr>\n",
       "      <th>499787</th>\n",
       "      <td>CVE-2003-1462</td>\n",
       "      <td>mod_survey</td>\n",
       "      <td>mod_survey</td>\n",
       "      <td>3.0.7</td>\n",
       "      <td>mod_survey 3.0.0 through 3.0.15-pre6 does not check whether a survey exists before creating a subdirectory for it, which allows remote attackers to cause a denial of service (disk consumption and ...</td>\n",
       "      <td>survey</td>\n",
       "      <td>through</td>\n",
       "    </tr>\n",
       "    <tr>\n",
       "      <th>359080</th>\n",
       "      <td>CVE-2005-0686</td>\n",
       "      <td>mlterm</td>\n",
       "      <td>mlterm</td>\n",
       "      <td>2.7</td>\n",
       "      <td>Integer overflow in mlterm 2.5.0 through 2.9.1, with gdk-pixbuf support enabled, allows remote attackers to execute arbitrary code via a large image file that is used as a background.</td>\n",
       "      <td>mlterm</td>\n",
       "      <td>through</td>\n",
       "    </tr>\n",
       "    <tr>\n",
       "      <th>236251</th>\n",
       "      <td>CVE-2005-1692</td>\n",
       "      <td>xine</td>\n",
       "      <td>gxine</td>\n",
       "      <td>0.44</td>\n",
       "      <td>Format string vulnerability in gxine 0.4.1 through 0.4.4, and other versions down to 0.3, allows remote attackers to execute arbitrary code via a ram file with a URL whose hostname contains format...</td>\n",
       "      <td>gxine</td>\n",
       "      <td>through</td>\n",
       "    </tr>\n",
       "    <tr>\n",
       "      <th>380589</th>\n",
       "      <td>CVE-2005-3345</td>\n",
       "      <td>rssh</td>\n",
       "      <td>rssh</td>\n",
       "      <td>2.2.3</td>\n",
       "      <td>rssh 2.0.0 through 2.2.3 allows local users to bypass access restrictions and gain root privileges by using the rssh_chroot_helper command to chroot to an external directory.</td>\n",
       "      <td>rssh</td>\n",
       "      <td>through</td>\n",
       "    </tr>\n",
       "    <tr>\n",
       "      <th>240356</th>\n",
       "      <td>CVE-2006-4244</td>\n",
       "      <td>sql-ledger</td>\n",
       "      <td>sql-ledger</td>\n",
       "      <td>2.8.14</td>\n",
       "      <td>SQL-Ledger 2.4.4 through 2.6.17 authenticates users by verifying that the value of the sql-ledger-[username] cookie matches the value of the sessionid parameter, which allows remote attackers to g...</td>\n",
       "      <td>Ledger</td>\n",
       "      <td>through</td>\n",
       "    </tr>\n",
       "    <tr>\n",
       "      <th>392843</th>\n",
       "      <td>CVE-2004-1951</td>\n",
       "      <td>xine</td>\n",
       "      <td>xine-ui</td>\n",
       "      <td>0.9.23</td>\n",
       "      <td>xine 1.x alpha, 1.x beta, and 1.0rc through 1.0rc3a, and xine-ui 0.9.21 to 0.9.23 allows remote attackers to overwrite arbitrary files via the (1) audio.sun_audio_device or (2) dxr3.devicename opt...</td>\n",
       "      <td>and</td>\n",
       "      <td>to</td>\n",
       "    </tr>\n",
       "    <tr>\n",
       "      <th>349748</th>\n",
       "      <td>CVE-2005-1453</td>\n",
       "      <td>leafnode</td>\n",
       "      <td>leafnode</td>\n",
       "      <td>1.9.52</td>\n",
       "      <td>fetchnews in leafnode 1.9.48 to 1.11.1 allows remote NNTP servers to cause a denial of service (crash) by closing the connection while fetchnews is reading (1) an article header or (2) an article ...</td>\n",
       "      <td>leafnode</td>\n",
       "      <td>to</td>\n",
       "    </tr>\n",
       "    <tr>\n",
       "      <th>311229</th>\n",
       "      <td>CVE-2007-0157</td>\n",
       "      <td>neon</td>\n",
       "      <td>neon</td>\n",
       "      <td>0.26.2</td>\n",
       "      <td>Array index error in the uri_lookup function in the URI parser for neon 0.26.0 to 0.26.2, possibly only on 64-bit platforms, allows remote malicious servers to cause a denial of service (crash) vi...</td>\n",
       "      <td>neon</td>\n",
       "      <td>to</td>\n",
       "    </tr>\n",
       "    <tr>\n",
       "      <th>458829</th>\n",
       "      <td>CVE-2007-1287</td>\n",
       "      <td>php</td>\n",
       "      <td>php</td>\n",
       "      <td>6.0</td>\n",
       "      <td>A regression error in the phpinfo function in PHP 4.4.3 to 4.4.6, and PHP 6.0 in CVS, allows remote attackers to conduct cross-site scripting (XSS) attacks via GET, POST, or COOKIE array values, w...</td>\n",
       "      <td>PHP</td>\n",
       "      <td>to</td>\n",
       "    </tr>\n",
       "    <tr>\n",
       "      <th>386325</th>\n",
       "      <td>CVE-2008-5617</td>\n",
       "      <td>rsyslog</td>\n",
       "      <td>rsyslog</td>\n",
       "      <td>3.17.4</td>\n",
       "      <td>The ACL handling in rsyslog 3.12.1 to 3.20.0, 4.1.0, and 4.1.1 does not follow $AllowedSender directive, which allows remote attackers to bypass intended access restrictions and spoof log messages...</td>\n",
       "      <td>rsyslog</td>\n",
       "      <td>to</td>\n",
       "    </tr>\n",
       "    <tr>\n",
       "      <th>412212</th>\n",
       "      <td>CVE-2018-1000125</td>\n",
       "      <td>inversoft</td>\n",
       "      <td>prime-jwt</td>\n",
       "      <td>1.2.1</td>\n",
       "      <td>inversoft prime-jwt version prior to version 1.3.0 or prior to commit 0d94dcef0133d699f21d217e922564adbb83a227 contains an input validation vulnerability in JWTDecoder.decode that can result in a ...</td>\n",
       "      <td>version</td>\n",
       "      <td>or</td>\n",
       "    </tr>\n",
       "    <tr>\n",
       "      <th>254009</th>\n",
       "      <td>CVE-2020-15241</td>\n",
       "      <td>typo3</td>\n",
       "      <td>typo3</td>\n",
       "      <td>8.7.25</td>\n",
       "      <td>TYPO3 Fluid Engine (package `typo3fluid/fluid`) before versions 2.0.5, 2.1.4, 2.2.1, 2.3.5, 2.4.1, 2.5.5 or 2.6.1 is vulnerable to cross-site scripting when making use of the ternary conditional o...</td>\n",
       "      <td>versions</td>\n",
       "      <td>or</td>\n",
       "    </tr>\n",
       "    <tr>\n",
       "      <th>56485</th>\n",
       "      <td>CVE-2021-32671</td>\n",
       "      <td>flarum</td>\n",
       "      <td>flarum</td>\n",
       "      <td>1.0.0</td>\n",
       "      <td>Flarum is a forum software for building communities. Flarum's translation system allowed for string inputs to be converted into HTML DOM nodes when rendered. This change was made after v0.1.0-beta...</td>\n",
       "      <td></td>\n",
       "      <td>or</td>\n",
       "    </tr>\n",
       "    <tr>\n",
       "      <th>94705</th>\n",
       "      <td>CVE-2021-41256</td>\n",
       "      <td>nextcloud</td>\n",
       "      <td>news</td>\n",
       "      <td>0.9.9.24</td>\n",
       "      <td>nextcloud news-android is an Android client for the Nextcloud news/feed reader app. In affected versions the Nextcloud News for Android app has a security issue by which a malicious application in...</td>\n",
       "      <td>version</td>\n",
       "      <td>or</td>\n",
       "    </tr>\n",
       "    <tr>\n",
       "      <th>653377</th>\n",
       "      <td>CVE-2022-23974</td>\n",
       "      <td>apache</td>\n",
       "      <td>pinot</td>\n",
       "      <td>0.9.2</td>\n",
       "      <td>In 0.9.3 or older versions of Apache Pinot segment upload path allowed segment directories to be imported into pinot tables. In pinot installations that allow open access to the controller a speci...</td>\n",
       "      <td>In</td>\n",
       "      <td>or</td>\n",
       "    </tr>\n",
       "    <tr>\n",
       "      <th>212468</th>\n",
       "      <td>CVE-2007-0246</td>\n",
       "      <td>gforge</td>\n",
       "      <td>gforge</td>\n",
       "      <td></td>\n",
       "      <td>plugins/scmcvs/www/cvsweb.php in the CVSWeb CGI in GForge 4.5.16 before 20070524, aka gforge-plugin-scmcvs, allows remote attackers to execute arbitrary commands via shell metacharacters in the PA...</td>\n",
       "      <td>GForge</td>\n",
       "      <td>before</td>\n",
       "    </tr>\n",
       "    <tr>\n",
       "      <th>454429</th>\n",
       "      <td>CVE-2009-1252</td>\n",
       "      <td>ntp</td>\n",
       "      <td>ntp</td>\n",
       "      <td>4.2.5p58</td>\n",
       "      <td>Stack-based buffer overflow in the crypto_recv function in ntp_crypto.c in ntpd in NTP before 4.2.4p7 and 4.2.5 before 4.2.5p74, when OpenSSL and autokey are enabled, allows remote attackers to ex...</td>\n",
       "      <td>before</td>\n",
       "      <td>before</td>\n",
       "    </tr>\n",
       "    <tr>\n",
       "      <th>154767</th>\n",
       "      <td>CVE-2013-2272</td>\n",
       "      <td>bitcoin</td>\n",
       "      <td>bitcoind</td>\n",
       "      <td>0.6.0.10</td>\n",
       "      <td>The penny-flooding protection mechanism in the CTxMemPool::accept method in bitcoind and Bitcoin-Qt before 0.4.9rc1, 0.5.x before 0.5.8rc1, 0.6.0 before 0.6.0.11rc1, 0.6.1 through 0.6.5 before 0.6...</td>\n",
       "      <td>before</td>\n",
       "      <td>before</td>\n",
       "    </tr>\n",
       "    <tr>\n",
       "      <th>680514</th>\n",
       "      <td>CVE-2013-3009</td>\n",
       "      <td>ibm</td>\n",
       "      <td>java</td>\n",
       "      <td>5.0.13.0</td>\n",
       "      <td>The com.ibm.CORBA.iiop.ClientDelegate class in IBM Java 1.4.2 before 1.4.2 SR13-FP18, 5.0 before 5.0 SR16-FP3, 6 before 6 SR14, 6.0.1 before 6.0.1 SR6, and 7 before 7 SR5 improperly exposes the in...</td>\n",
       "      <td>Java</td>\n",
       "      <td>before</td>\n",
       "    </tr>\n",
       "    <tr>\n",
       "      <th>576802</th>\n",
       "      <td>CVE-2013-3735</td>\n",
       "      <td>php</td>\n",
       "      <td>php</td>\n",
       "      <td>5.4.32</td>\n",
       "      <td>The Zend Engine in PHP before 5.4.16 RC1, and 5.5.0 before RC2, does not properly determine whether a parser error occurred, which allows context-dependent attackers to cause a denial of service (...</td>\n",
       "      <td>before</td>\n",
       "      <td>before</td>\n",
       "    </tr>\n",
       "    <tr>\n",
       "      <th>446143</th>\n",
       "      <td>CVE-2001-0973</td>\n",
       "      <td>fraunhofer_fit</td>\n",
       "      <td>bscw</td>\n",
       "      <td>3.3.1</td>\n",
       "      <td>BSCW groupware system 3.3 through 4.0.2 beta allows remote attackers to read or modify arbitrary files by uploading and extracting a tar file with a symlink into the data-bag space.</td>\n",
       "      <td>system</td>\n",
       "      <td>beta</td>\n",
       "    </tr>\n",
       "    <tr>\n",
       "      <th>119359</th>\n",
       "      <td>CVE-2002-0326</td>\n",
       "      <td>working_resources_inc.</td>\n",
       "      <td>badblue</td>\n",
       "      <td>1.5</td>\n",
       "      <td>Cross-site scripting vulnerability in BadBlue before 1.6.1 beta allows remote attackers to execute arbitrary script and possibly additional commands via a URL that contains Javascript.</td>\n",
       "      <td>before</td>\n",
       "      <td>beta</td>\n",
       "    </tr>\n",
       "    <tr>\n",
       "      <th>488133</th>\n",
       "      <td>CVE-2004-1822</td>\n",
       "      <td>phorum</td>\n",
       "      <td>phorum</td>\n",
       "      <td>3.3.1a</td>\n",
       "      <td>Multiple cross-site scripting (XSS) vulnerabilities in Phorum 3.1 through 5.0.3 beta allow remote attackers to inject arbitrary web script or HTML via the (1) HTTP_REFERER parameter to login.php, ...</td>\n",
       "      <td>Phorum</td>\n",
       "      <td>beta</td>\n",
       "    </tr>\n",
       "    <tr>\n",
       "      <th>155517</th>\n",
       "      <td>CVE-2004-2149</td>\n",
       "      <td>oracle</td>\n",
       "      <td>mysql</td>\n",
       "      <td>4.1.4</td>\n",
       "      <td>Buffer overflow in the prepared statements API in libmysqlclient for MySQL 4.1.3 beta and 4.1.4 allows remote attackers to cause a denial of service via a large number of placeholders.</td>\n",
       "      <td>MySQL</td>\n",
       "      <td>beta</td>\n",
       "    </tr>\n",
       "    <tr>\n",
       "      <th>231476</th>\n",
       "      <td>CVE-2004-2535</td>\n",
       "      <td>matthew_phillips</td>\n",
       "      <td>sticker</td>\n",
       "      <td></td>\n",
       "      <td>The person-to-person secure messaging feature in Sticker before 3.1.0 beta 2 allows remote attackers to post messages to unauthorized private groups by using the group's public encryption key.</td>\n",
       "      <td>before</td>\n",
       "      <td>beta</td>\n",
       "    </tr>\n",
       "    <tr>\n",
       "      <th>624293</th>\n",
       "      <td>CVE-2002-0814</td>\n",
       "      <td>vmware</td>\n",
       "      <td>gsx_server</td>\n",
       "      <td>2.0.0_build_2050</td>\n",
       "      <td>Buffer overflow in VMware Authorization Service for VMware GSX Server 2.0.0 build-2050 allows remote authenticated users to execute arbitrary code via a long GLOBAL argument.</td>\n",
       "      <td>Server</td>\n",
       "      <td>build</td>\n",
       "    </tr>\n",
       "    <tr>\n",
       "      <th>116845</th>\n",
       "      <td>CVE-2004-0577</td>\n",
       "      <td>qbik</td>\n",
       "      <td>wingate</td>\n",
       "      <td>6.0_beta_2</td>\n",
       "      <td>WinGate 5.2.3 build 901 and 6.0 beta 2 build 942, and other versions such as 5.0.5, allows remote attackers to read arbitrary files from the root directory via a URL request to the wingate-interna...</td>\n",
       "      <td>WinGate</td>\n",
       "      <td>build</td>\n",
       "    </tr>\n",
       "    <tr>\n",
       "      <th>387813</th>\n",
       "      <td>CVE-2004-1112</td>\n",
       "      <td>cisco</td>\n",
       "      <td>security_agent</td>\n",
       "      <td>4.0.3</td>\n",
       "      <td>The buffer overflow trigger in Cisco Security Agent (CSA) before 4.0.3 build 728 waits five minutes for a user response before terminating the process, which could allow remote attackers to bypass...</td>\n",
       "      <td>before</td>\n",
       "      <td>build</td>\n",
       "    </tr>\n",
       "    <tr>\n",
       "      <th>306041</th>\n",
       "      <td>CVE-2004-2515</td>\n",
       "      <td>vmware</td>\n",
       "      <td>workstation</td>\n",
       "      <td>4.5.2_build_8848</td>\n",
       "      <td>Format string vulnerability in VMware Workstation 4.5.2 build-8848, if running with elevated privileges, might allow local users to execute arbitrary code via format string specifiers in command l...</td>\n",
       "      <td>Workstation</td>\n",
       "      <td>build</td>\n",
       "    </tr>\n",
       "    <tr>\n",
       "      <th>526262</th>\n",
       "      <td>CVE-2005-2939</td>\n",
       "      <td>vmware</td>\n",
       "      <td>workstation</td>\n",
       "      <td>5.0.0_build_13124</td>\n",
       "      <td>Unquoted Windows search path vulnerability in VMWare Workstation 5.0.0 build-13124 might allow local users to gain privileges via a malicious \"program.exe\" file in the C: folder.</td>\n",
       "      <td>Workstation</td>\n",
       "      <td>build</td>\n",
       "    </tr>\n",
       "  </tbody>\n",
       "</table>\n",
       "</div>"
      ],
      "text/plain": [
       "                  cve_id                  vendor         product            version                                                                                                                                                                                                    descr matched_regex_before matched_regex_after\n",
       "119349     CVE-1999-1483                 svgalib         svgalib                                                                                     Buffer overflow in zgv in svgalib 1.2.10 and earlier allows local users to execute arbitrary code via a long HOME environment variable.              svgalib                 and\n",
       "170729     CVE-2001-0556                   nedit           nedit                     The Nirvana Editor (NEdit) 5.1.1 and earlier allows a local attacker to overwrite other users' files via a symlink attack on (1) backup files or (2) temporary files used when nedit prints a file o...                                      and\n",
       "567214     CVE-2001-0570                 minicom         minicom                                                                                                        minicom 1.83.1 and earlier allows a local attacker to gain additional privileges via numerous format string attacks.              minicom                 and\n",
       "259505     CVE-2001-0700                     w3m             w3m              0.1.8                                                                       Buffer overflow in w3m 0.2.1 and earlier allows a remote attacker to execute arbitrary code via a long base64 encoded MIME header.                    m                 and\n",
       "595407     CVE-2001-0834                   htdig           htdig                     htsearch CGI program in htdig (ht://Dig) 3.1.5 and earlier allows remote attackers to use the -c option to specify an alternate configuration file, which could be used to (1) cause a denial of ser...                                      and\n",
       "499787     CVE-2003-1462              mod_survey      mod_survey              3.0.7  mod_survey 3.0.0 through 3.0.15-pre6 does not check whether a survey exists before creating a subdirectory for it, which allows remote attackers to cause a denial of service (disk consumption and ...               survey             through\n",
       "359080     CVE-2005-0686                  mlterm          mlterm                2.7                  Integer overflow in mlterm 2.5.0 through 2.9.1, with gdk-pixbuf support enabled, allows remote attackers to execute arbitrary code via a large image file that is used as a background.               mlterm             through\n",
       "236251     CVE-2005-1692                    xine           gxine               0.44  Format string vulnerability in gxine 0.4.1 through 0.4.4, and other versions down to 0.3, allows remote attackers to execute arbitrary code via a ram file with a URL whose hostname contains format...                gxine             through\n",
       "380589     CVE-2005-3345                    rssh            rssh              2.2.3                           rssh 2.0.0 through 2.2.3 allows local users to bypass access restrictions and gain root privileges by using the rssh_chroot_helper command to chroot to an external directory.                 rssh             through\n",
       "240356     CVE-2006-4244              sql-ledger      sql-ledger             2.8.14  SQL-Ledger 2.4.4 through 2.6.17 authenticates users by verifying that the value of the sql-ledger-[username] cookie matches the value of the sessionid parameter, which allows remote attackers to g...               Ledger             through\n",
       "392843     CVE-2004-1951                    xine         xine-ui             0.9.23  xine 1.x alpha, 1.x beta, and 1.0rc through 1.0rc3a, and xine-ui 0.9.21 to 0.9.23 allows remote attackers to overwrite arbitrary files via the (1) audio.sun_audio_device or (2) dxr3.devicename opt...                  and                  to\n",
       "349748     CVE-2005-1453                leafnode        leafnode             1.9.52  fetchnews in leafnode 1.9.48 to 1.11.1 allows remote NNTP servers to cause a denial of service (crash) by closing the connection while fetchnews is reading (1) an article header or (2) an article ...             leafnode                  to\n",
       "311229     CVE-2007-0157                    neon            neon             0.26.2  Array index error in the uri_lookup function in the URI parser for neon 0.26.0 to 0.26.2, possibly only on 64-bit platforms, allows remote malicious servers to cause a denial of service (crash) vi...                 neon                  to\n",
       "458829     CVE-2007-1287                     php             php                6.0  A regression error in the phpinfo function in PHP 4.4.3 to 4.4.6, and PHP 6.0 in CVS, allows remote attackers to conduct cross-site scripting (XSS) attacks via GET, POST, or COOKIE array values, w...                  PHP                  to\n",
       "386325     CVE-2008-5617                 rsyslog         rsyslog             3.17.4  The ACL handling in rsyslog 3.12.1 to 3.20.0, 4.1.0, and 4.1.1 does not follow $AllowedSender directive, which allows remote attackers to bypass intended access restrictions and spoof log messages...              rsyslog                  to\n",
       "412212  CVE-2018-1000125               inversoft       prime-jwt              1.2.1  inversoft prime-jwt version prior to version 1.3.0 or prior to commit 0d94dcef0133d699f21d217e922564adbb83a227 contains an input validation vulnerability in JWTDecoder.decode that can result in a ...              version                  or\n",
       "254009    CVE-2020-15241                   typo3           typo3             8.7.25  TYPO3 Fluid Engine (package `typo3fluid/fluid`) before versions 2.0.5, 2.1.4, 2.2.1, 2.3.5, 2.4.1, 2.5.5 or 2.6.1 is vulnerable to cross-site scripting when making use of the ternary conditional o...             versions                  or\n",
       "56485     CVE-2021-32671                  flarum          flarum              1.0.0  Flarum is a forum software for building communities. Flarum's translation system allowed for string inputs to be converted into HTML DOM nodes when rendered. This change was made after v0.1.0-beta...                                       or\n",
       "94705     CVE-2021-41256               nextcloud            news           0.9.9.24  nextcloud news-android is an Android client for the Nextcloud news/feed reader app. In affected versions the Nextcloud News for Android app has a security issue by which a malicious application in...              version                  or\n",
       "653377    CVE-2022-23974                  apache           pinot              0.9.2  In 0.9.3 or older versions of Apache Pinot segment upload path allowed segment directories to be imported into pinot tables. In pinot installations that allow open access to the controller a speci...                   In                  or\n",
       "212468     CVE-2007-0246                  gforge          gforge                     plugins/scmcvs/www/cvsweb.php in the CVSWeb CGI in GForge 4.5.16 before 20070524, aka gforge-plugin-scmcvs, allows remote attackers to execute arbitrary commands via shell metacharacters in the PA...               GForge              before\n",
       "454429     CVE-2009-1252                     ntp             ntp           4.2.5p58  Stack-based buffer overflow in the crypto_recv function in ntp_crypto.c in ntpd in NTP before 4.2.4p7 and 4.2.5 before 4.2.5p74, when OpenSSL and autokey are enabled, allows remote attackers to ex...               before              before\n",
       "154767     CVE-2013-2272                 bitcoin        bitcoind           0.6.0.10  The penny-flooding protection mechanism in the CTxMemPool::accept method in bitcoind and Bitcoin-Qt before 0.4.9rc1, 0.5.x before 0.5.8rc1, 0.6.0 before 0.6.0.11rc1, 0.6.1 through 0.6.5 before 0.6...               before              before\n",
       "680514     CVE-2013-3009                     ibm            java           5.0.13.0  The com.ibm.CORBA.iiop.ClientDelegate class in IBM Java 1.4.2 before 1.4.2 SR13-FP18, 5.0 before 5.0 SR16-FP3, 6 before 6 SR14, 6.0.1 before 6.0.1 SR6, and 7 before 7 SR5 improperly exposes the in...                 Java              before\n",
       "576802     CVE-2013-3735                     php             php             5.4.32  The Zend Engine in PHP before 5.4.16 RC1, and 5.5.0 before RC2, does not properly determine whether a parser error occurred, which allows context-dependent attackers to cause a denial of service (...               before              before\n",
       "446143     CVE-2001-0973          fraunhofer_fit            bscw              3.3.1                    BSCW groupware system 3.3 through 4.0.2 beta allows remote attackers to read or modify arbitrary files by uploading and extracting a tar file with a symlink into the data-bag space.               system                beta\n",
       "119359     CVE-2002-0326  working_resources_inc.         badblue                1.5                 Cross-site scripting vulnerability in BadBlue before 1.6.1 beta allows remote attackers to execute arbitrary script and possibly additional commands via a URL that contains Javascript.               before                beta\n",
       "488133     CVE-2004-1822                  phorum          phorum             3.3.1a  Multiple cross-site scripting (XSS) vulnerabilities in Phorum 3.1 through 5.0.3 beta allow remote attackers to inject arbitrary web script or HTML via the (1) HTTP_REFERER parameter to login.php, ...               Phorum                beta\n",
       "155517     CVE-2004-2149                  oracle           mysql              4.1.4                 Buffer overflow in the prepared statements API in libmysqlclient for MySQL 4.1.3 beta and 4.1.4 allows remote attackers to cause a denial of service via a large number of placeholders.                MySQL                beta\n",
       "231476     CVE-2004-2535        matthew_phillips         sticker                            The person-to-person secure messaging feature in Sticker before 3.1.0 beta 2 allows remote attackers to post messages to unauthorized private groups by using the group's public encryption key.               before                beta\n",
       "624293     CVE-2002-0814                  vmware      gsx_server   2.0.0_build_2050                           Buffer overflow in VMware Authorization Service for VMware GSX Server 2.0.0 build-2050 allows remote authenticated users to execute arbitrary code via a long GLOBAL argument.               Server               build\n",
       "116845     CVE-2004-0577                    qbik         wingate         6.0_beta_2  WinGate 5.2.3 build 901 and 6.0 beta 2 build 942, and other versions such as 5.0.5, allows remote attackers to read arbitrary files from the root directory via a URL request to the wingate-interna...              WinGate               build\n",
       "387813     CVE-2004-1112                   cisco  security_agent              4.0.3  The buffer overflow trigger in Cisco Security Agent (CSA) before 4.0.3 build 728 waits five minutes for a user response before terminating the process, which could allow remote attackers to bypass...               before               build\n",
       "306041     CVE-2004-2515                  vmware     workstation   4.5.2_build_8848  Format string vulnerability in VMware Workstation 4.5.2 build-8848, if running with elevated privileges, might allow local users to execute arbitrary code via format string specifiers in command l...          Workstation               build\n",
       "526262     CVE-2005-2939                  vmware     workstation  5.0.0_build_13124                       Unquoted Windows search path vulnerability in VMWare Workstation 5.0.0 build-13124 might allow local users to gain privileges via a malicious \"program.exe\" file in the C: folder.          Workstation               build"
      ]
     },
     "execution_count": 158,
     "metadata": {},
     "output_type": "execute_result"
    }
   ],
   "source": [
    "df_new_words_after"
   ]
  },
  {
   "cell_type": "code",
   "execution_count": 159,
   "metadata": {},
   "outputs": [],
   "source": [
    "df_new_words_after.to_csv('df_new_words_after.csv', index=False)"
   ]
  },
  {
   "cell_type": "code",
   "execution_count": 160,
   "metadata": {},
   "outputs": [],
   "source": [
    "all_cves = []\n",
    "all_tokens = []\n",
    "all_bio = []\n",
    "for i, row in df_new_words_after.iterrows():\n",
    "    cves = []\n",
    "    bio_ann = []\n",
    "    spl_tokens = [x for x in re.split(' |\\\\n', row['descr']) if x]\n",
    "    tokens = []\n",
    "    # print(spl_tokens)\n",
    "    for tok in spl_tokens:\n",
    "        if tok.endswith('.'):\n",
    "            tokens.append(tok.rstrip('.'))\n",
    "            tokens.append('.')\n",
    "        elif tok.endswith(','):\n",
    "            tokens.append(tok.rstrip(','))\n",
    "            tokens.append(',')\n",
    "        else:\n",
    "            tokens.append(tok)\n",
    "    # print(tokens)\n",
    "    for tok_i in range(len(tokens)):\n",
    "        if tokens[tok_i] == row['vendor']:\n",
    "            bio_ann.append('B-vendor')\n",
    "        elif tokens[tok_i] == row['product']:\n",
    "            bio_ann.append('B-product')\n",
    "        elif tokens[tok_i] == row['matched_regex_after']:\n",
    "            bio_ann.append('B-version')\n",
    "        else:\n",
    "            bio_ann.append('O')\n",
    "        if tok_i == 0:\n",
    "            cves.append(row['cve_id'])\n",
    "        else:\n",
    "            cves.append('0')\n",
    "    assert len(bio_ann) == len(tokens)\n",
    "    all_bio.extend(bio_ann)\n",
    "    all_tokens.extend(tokens)\n",
    "    all_cves.extend(cves)"
   ]
  },
  {
   "cell_type": "code",
   "execution_count": null,
   "metadata": {},
   "outputs": [],
   "source": [
    "df_after_annotated = pd.DataFrame(data={'cve_id': all_cves,\n",
    "                                         'words': all_tokens,\n",
    "                                         'custom_bio': all_bio})\n",
    "df_after_annotated.to_csv(f'./cve_dataset_bio_{len(df_after_annotated)}_after_versions.tsv', index=False, sep='\\t')"
   ]
  },
  {
   "cell_type": "code",
   "execution_count": null,
   "metadata": {},
   "outputs": [],
   "source": []
  },
  {
   "cell_type": "code",
   "execution_count": null,
   "metadata": {},
   "outputs": [],
   "source": []
  },
  {
   "cell_type": "code",
   "execution_count": 164,
   "metadata": {},
   "outputs": [
    {
     "data": {
      "text/plain": [
       "Series([], Name: descr, dtype: object)"
      ]
     },
     "execution_count": 164,
     "metadata": {},
     "output_type": "execute_result"
    }
   ],
   "source": [
    "df[df.product == df.vendor].descr"
   ]
  },
  {
   "cell_type": "code",
   "execution_count": 167,
   "metadata": {},
   "outputs": [
    {
     "data": {
      "application/vnd.microsoft.datawrangler.viewer.v0+json": {
       "columns": [
        {
         "name": "index",
         "rawType": "int64",
         "type": "integer"
        },
        {
         "name": "cve_id",
         "rawType": "object",
         "type": "string"
        },
        {
         "name": "vendor",
         "rawType": "object",
         "type": "string"
        },
        {
         "name": "product",
         "rawType": "object",
         "type": "string"
        },
        {
         "name": "version",
         "rawType": "object",
         "type": "string"
        },
        {
         "name": "descr",
         "rawType": "object",
         "type": "string"
        },
        {
         "name": "matched_regex_before",
         "rawType": "object",
         "type": "string"
        },
        {
         "name": "matched_regex_after",
         "rawType": "object",
         "type": "string"
        }
       ],
       "conversionMethod": "pd.DataFrame",
       "ref": "a92be8ef-41bd-47bc-9050-b49cff062c6d",
       "rows": [
        [
         "0",
         "CVE-2004-0013",
         "jabber_software_foundation",
         "jabber_server",
         "1.4.3",
         "jabber 1.4.2, 1.4.2a, and possibly earlier versions, does not properly handle SSL connections, which allows remote attackers to cause a denial of service (crash).",
         "jabber",
         ""
        ],
        [
         "1",
         "CVE-2004-0043",
         "yahoo",
         "messenger",
         "5.6.0.1351",
         "Buffer overflow in Yahoo Instant Messenger 5.6.0.1351 and earlier allows remote attackers to cause a denial of service (crash) and possibly execute arbitrary code via a long filename in the download feature.",
         "Messenger",
         "and"
        ],
        [
         "2",
         "CVE-2004-0043",
         "yahoo",
         "messenger",
         "5.6.0.1358",
         "Buffer overflow in Yahoo Instant Messenger 5.6.0.1351 and earlier allows remote attackers to cause a denial of service (crash) and possibly execute arbitrary code via a long filename in the download feature.",
         "Messenger",
         "and"
        ],
        [
         "3",
         "CVE-2004-0159",
         "samhain_labs",
         "hsftp",
         "1.4",
         "Format string vulnerability in hsftp 1.11 allows remote authenticated users to cause a denial of service and possibly execute arbitrary code via file names containing format string characters that are not properly handled when executing an \"ls\" command.",
         "hsftp",
         ""
        ],
        [
         "4",
         "CVE-2004-0159",
         "samhain_labs",
         "hsftp",
         "1.11",
         "Format string vulnerability in hsftp 1.11 allows remote authenticated users to cause a denial of service and possibly execute arbitrary code via file names containing format string characters that are not properly handled when executing an \"ls\" command.",
         "hsftp",
         ""
        ],
        [
         "5",
         "CVE-2004-0352",
         "cisco",
         "content_services_switch_11000",
         "-",
         "Cisco 11000 Series Content Services Switches (CSS) running WebNS 5.0(x) before 05.0(04.07)S, and 6.10(x) before 06.10(02.05)S allow remote attackers to cause a denial of service (device reset) via a malformed packet to UDP port 5002.",
         "WebNS",
         ""
        ],
        [
         "6",
         "CVE-2004-0465",
         "openconnect",
         "webconnect",
         "6.4.4",
         "Directory traversal vulnerability in jretest.html in WebConnect 6.5 and 6.4.4, and possibly earlier versions, allows remote attackers to read keys within arbitrary INI formatted files via \"..//\" sequences in the WCP_USER parameter.",
         "WebConnect",
         ""
        ],
        [
         "7",
         "CVE-2004-0658",
         "linux",
         "linux_kernel",
         "2.5.51",
         "Integer overflow in the hpsb_alloc_packet function (incorrectly reported as alloc_hpsb_packet) in IEEE 1394 (Firewire) driver 2.4 and 2.6 allows local users to cause a denial of service (crash) and possibly execute arbitrary code via the functions (1) raw1394_write, (2) state_connected, (3) handle_remote_request, or (4) hpsb_make_writebpacket.",
         "driver",
         ""
        ],
        [
         "8",
         "CVE-2004-0658",
         "linux",
         "linux_kernel",
         "2.5.24",
         "Integer overflow in the hpsb_alloc_packet function (incorrectly reported as alloc_hpsb_packet) in IEEE 1394 (Firewire) driver 2.4 and 2.6 allows local users to cause a denial of service (crash) and possibly execute arbitrary code via the functions (1) raw1394_write, (2) state_connected, (3) handle_remote_request, or (4) hpsb_make_writebpacket.",
         "driver",
         ""
        ],
        [
         "9",
         "CVE-2004-0658",
         "linux",
         "linux_kernel",
         "2.5.46",
         "Integer overflow in the hpsb_alloc_packet function (incorrectly reported as alloc_hpsb_packet) in IEEE 1394 (Firewire) driver 2.4 and 2.6 allows local users to cause a denial of service (crash) and possibly execute arbitrary code via the functions (1) raw1394_write, (2) state_connected, (3) handle_remote_request, or (4) hpsb_make_writebpacket.",
         "driver",
         ""
        ],
        [
         "10",
         "CVE-2004-0731",
         "francisco_burzi",
         "php-nuke",
         "8.0_final",
         "Cross-site scripting (XSS) vulnerability in index.php in the Search module for Php-Nuke allows remote attackers to inject arbitrary script as other users via the input field.",
         "",
         ""
        ],
        [
         "11",
         "CVE-2004-0749",
         "subversion",
         "subversion",
         "1.0.5",
         "The mod_authz_svn module in Subversion 1.0.7 and earlier does not properly restrict access to all metadata on unreadable paths, which could allow remote attackers to gain sensitive information via (1) svn log -v, (2) svn propget, or (3) svn blame, and other commands that follow renames.",
         "Subversion",
         "and"
        ],
        [
         "12",
         "CVE-2004-0815",
         "samba",
         "samba",
         "2.2.4",
         "The unix_clean_name function in Samba 2.2.x through 2.2.11, and 3.0.x before 3.0.2a, trims certain directory names down to absolute paths, which could allow remote attackers to bypass the specified share restrictions and read, write, or list arbitrary files via \"/.////\" style sequences in pathnames.",
         "Samba",
         ""
        ],
        [
         "13",
         "CVE-2004-1051",
         "todd_miller",
         "sudo",
         "1.6.3_p2",
         "sudo before 1.6.8p2 allows local users to execute arbitrary commands by using \"()\" style environment variables to create functions that have the same name as any program within the bash script that is called without using the program's full pathname.",
         "before",
         ""
        ],
        [
         "14",
         "CVE-2004-1225",
         "sugarcrm",
         "sugarcrm",
         "1.1a",
         "SQL injection vulnerability in SugarCRM Sugar Sales before 2.0.1a allows remote attackers to execute arbitrary SQL commands and gain privileges via the record parameter in a DetailView action to index.php, and record parameters in other functionality.",
         "before",
         ""
        ],
        [
         "15",
         "CVE-2004-1225",
         "sugarcrm",
         "sugarcrm",
         "1.1f",
         "SQL injection vulnerability in SugarCRM Sugar Sales before 2.0.1a allows remote attackers to execute arbitrary SQL commands and gain privileges via the record parameter in a DetailView action to index.php, and record parameters in other functionality.",
         "before",
         ""
        ],
        [
         "16",
         "CVE-2004-1469",
         "peter_d._gray",
         "sus",
         "2.0",
         "Format string vulnerability in the log function in SUS 2.0.2, and other versions before 2.0.6, allows local users to execute arbitrary code via format string specifiers in a command line argument that is passed directly to syslog.",
         "SUS",
         ""
        ],
        [
         "17",
         "CVE-2004-1498",
         "webhost_automation",
         "helm_control_panel",
         "3.1.17",
         "SQL injection vulnerability in the compose message form in HELM 3.1.19 and earlier allows remote attackers to execute arbitrary SQL commands via the messageToUserAccNum parameter.",
         "HELM",
         "and"
        ],
        [
         "18",
         "CVE-2004-1772",
         "gnu",
         "sharutils",
         "4.2",
         "Stack-based buffer overflow in shar in GNU sharutils 4.2.1 allows local users to execute arbitrary code via a long -o command line argument.",
         "sharutils",
         "allows"
        ],
        [
         "19",
         "CVE-2004-2030",
         "liferay",
         "liferay_enterprise_portal",
         "",
         "Multiple cross-site scripting (XSS) vulnerabilities in index.jsp for Liferay before 2.2.0 release 10/1/2004 allow remote attackers to inject arbitrary web script or HTML, as demonstrated using the message subject.",
         "before",
         "release"
        ],
        [
         "20",
         "CVE-2004-2205",
         "symantec_veritas",
         "cluster_server",
         "3.5_solaris_mp2",
         "Unknown vulnerability in Veritas Cluster Server 1.0.1 through 4.0 allows local users to gain root access via unspecified vectors.",
         "Server",
         "through"
        ],
        [
         "21",
         "CVE-2004-2431",
         "the_ignition_project",
         "ignitionserver",
         "0.3.1_b1",
         "Unknown vulnerability in The Ignition Project ignitionServer 0.1.2 through 0.3.1, with the linking service enabled, allows remote attackers to bypass authentication.",
         "ignitionServer",
         "through"
        ],
        [
         "22",
         "CVE-2004-2484",
         "php_gift_registry",
         "phpgiftreg",
         "1.3.1",
         "Cross-site scripting (XSS) vulnerability in PHP Gift Registry 1.3.5 and earlier allows remote attackers to inject arbitrary web script or HTML via the message parameter to (1) event.php or (2) index.php.",
         "Registry",
         "and"
        ],
        [
         "23",
         "CVE-2004-2484",
         "php_gift_registry",
         "phpgiftreg",
         "1.3.4",
         "Cross-site scripting (XSS) vulnerability in PHP Gift Registry 1.3.5 and earlier allows remote attackers to inject arbitrary web script or HTML via the message parameter to (1) event.php or (2) index.php.",
         "Registry",
         "and"
        ],
        [
         "24",
         "CVE-2004-2759",
         "sun",
         "storeedge_utilization_suite",
         "4.1",
         "Shared Sun StorEdge QFS and SAM-QFS file systems, as used in Utilization Suite 4.0 through 4.1 and Performance Suite 4.0 through 4.1, might allow local users to read portions of deleted files by accessing data within sparse files.",
         "Suite",
         ""
        ],
        [
         "25",
         "CVE-2010-0097",
         "isc",
         "bind",
         "9.6.1",
         "ISC BIND 9.0.x through 9.3.x, 9.4 before 9.4.3-P5, 9.5 before 9.5.2-P2, 9.6 before 9.6.1-P3, and 9.7.0 beta does not properly validate DNSSEC (1) NSEC and (2) NSEC3 records, which allows remote attackers to add the Authenticated Data (AD) flag to a forged NXDOMAIN response for an existing domain.",
         "BIND",
         "beta"
        ],
        [
         "26",
         "CVE-2010-0097",
         "isc",
         "bind",
         "9.1.1",
         "ISC BIND 9.0.x through 9.3.x, 9.4 before 9.4.3-P5, 9.5 before 9.5.2-P2, 9.6 before 9.6.1-P3, and 9.7.0 beta does not properly validate DNSSEC (1) NSEC and (2) NSEC3 records, which allows remote attackers to add the Authenticated Data (AD) flag to a forged NXDOMAIN response for an existing domain.",
         "BIND",
         "beta"
        ],
        [
         "27",
         "CVE-2010-0097",
         "isc",
         "bind",
         "9.3.1",
         "ISC BIND 9.0.x through 9.3.x, 9.4 before 9.4.3-P5, 9.5 before 9.5.2-P2, 9.6 before 9.6.1-P3, and 9.7.0 beta does not properly validate DNSSEC (1) NSEC and (2) NSEC3 records, which allows remote attackers to add the Authenticated Data (AD) flag to a forged NXDOMAIN response for an existing domain.",
         "BIND",
         "beta"
        ],
        [
         "28",
         "CVE-2010-0097",
         "isc",
         "bind",
         "9.1.3",
         "ISC BIND 9.0.x through 9.3.x, 9.4 before 9.4.3-P5, 9.5 before 9.5.2-P2, 9.6 before 9.6.1-P3, and 9.7.0 beta does not properly validate DNSSEC (1) NSEC and (2) NSEC3 records, which allows remote attackers to add the Authenticated Data (AD) flag to a forged NXDOMAIN response for an existing domain.",
         "BIND",
         "beta"
        ],
        [
         "29",
         "CVE-2010-0097",
         "isc",
         "bind",
         "9.3.5",
         "ISC BIND 9.0.x through 9.3.x, 9.4 before 9.4.3-P5, 9.5 before 9.5.2-P2, 9.6 before 9.6.1-P3, and 9.7.0 beta does not properly validate DNSSEC (1) NSEC and (2) NSEC3 records, which allows remote attackers to add the Authenticated Data (AD) flag to a forged NXDOMAIN response for an existing domain.",
         "BIND",
         "beta"
        ],
        [
         "30",
         "CVE-2010-0097",
         "isc",
         "bind",
         "9.5.0",
         "ISC BIND 9.0.x through 9.3.x, 9.4 before 9.4.3-P5, 9.5 before 9.5.2-P2, 9.6 before 9.6.1-P3, and 9.7.0 beta does not properly validate DNSSEC (1) NSEC and (2) NSEC3 records, which allows remote attackers to add the Authenticated Data (AD) flag to a forged NXDOMAIN response for an existing domain.",
         "BIND",
         "beta"
        ],
        [
         "31",
         "CVE-2010-0097",
         "isc",
         "bind",
         "9.3.2",
         "ISC BIND 9.0.x through 9.3.x, 9.4 before 9.4.3-P5, 9.5 before 9.5.2-P2, 9.6 before 9.6.1-P3, and 9.7.0 beta does not properly validate DNSSEC (1) NSEC and (2) NSEC3 records, which allows remote attackers to add the Authenticated Data (AD) flag to a forged NXDOMAIN response for an existing domain.",
         "BIND",
         "beta"
        ],
        [
         "32",
         "CVE-2010-0097",
         "isc",
         "bind",
         "9.2.2",
         "ISC BIND 9.0.x through 9.3.x, 9.4 before 9.4.3-P5, 9.5 before 9.5.2-P2, 9.6 before 9.6.1-P3, and 9.7.0 beta does not properly validate DNSSEC (1) NSEC and (2) NSEC3 records, which allows remote attackers to add the Authenticated Data (AD) flag to a forged NXDOMAIN response for an existing domain.",
         "BIND",
         "beta"
        ],
        [
         "33",
         "CVE-2010-0097",
         "isc",
         "bind",
         "9.4.1",
         "ISC BIND 9.0.x through 9.3.x, 9.4 before 9.4.3-P5, 9.5 before 9.5.2-P2, 9.6 before 9.6.1-P3, and 9.7.0 beta does not properly validate DNSSEC (1) NSEC and (2) NSEC3 records, which allows remote attackers to add the Authenticated Data (AD) flag to a forged NXDOMAIN response for an existing domain.",
         "BIND",
         "beta"
        ],
        [
         "34",
         "CVE-2010-0097",
         "isc",
         "bind",
         "9.7.0",
         "ISC BIND 9.0.x through 9.3.x, 9.4 before 9.4.3-P5, 9.5 before 9.5.2-P2, 9.6 before 9.6.1-P3, and 9.7.0 beta does not properly validate DNSSEC (1) NSEC and (2) NSEC3 records, which allows remote attackers to add the Authenticated Data (AD) flag to a forged NXDOMAIN response for an existing domain.",
         "BIND",
         "beta"
        ],
        [
         "35",
         "CVE-2010-0097",
         "isc",
         "bind",
         "9.7.0",
         "ISC BIND 9.0.x through 9.3.x, 9.4 before 9.4.3-P5, 9.5 before 9.5.2-P2, 9.6 before 9.6.1-P3, and 9.7.0 beta does not properly validate DNSSEC (1) NSEC and (2) NSEC3 records, which allows remote attackers to add the Authenticated Data (AD) flag to a forged NXDOMAIN response for an existing domain.",
         "BIND",
         "beta"
        ],
        [
         "36",
         "CVE-2010-0097",
         "isc",
         "bind",
         "9.7.0",
         "ISC BIND 9.0.x through 9.3.x, 9.4 before 9.4.3-P5, 9.5 before 9.5.2-P2, 9.6 before 9.6.1-P3, and 9.7.0 beta does not properly validate DNSSEC (1) NSEC and (2) NSEC3 records, which allows remote attackers to add the Authenticated Data (AD) flag to a forged NXDOMAIN response for an existing domain.",
         "BIND",
         "beta"
        ],
        [
         "37",
         "CVE-2010-0097",
         "isc",
         "bind",
         "9.7.0",
         "ISC BIND 9.0.x through 9.3.x, 9.4 before 9.4.3-P5, 9.5 before 9.5.2-P2, 9.6 before 9.6.1-P3, and 9.7.0 beta does not properly validate DNSSEC (1) NSEC and (2) NSEC3 records, which allows remote attackers to add the Authenticated Data (AD) flag to a forged NXDOMAIN response for an existing domain.",
         "BIND",
         "beta"
        ],
        [
         "38",
         "CVE-2010-0097",
         "isc",
         "bind",
         "9.6",
         "ISC BIND 9.0.x through 9.3.x, 9.4 before 9.4.3-P5, 9.5 before 9.5.2-P2, 9.6 before 9.6.1-P3, and 9.7.0 beta does not properly validate DNSSEC (1) NSEC and (2) NSEC3 records, which allows remote attackers to add the Authenticated Data (AD) flag to a forged NXDOMAIN response for an existing domain.",
         "BIND",
         "beta"
        ],
        [
         "39",
         "CVE-2010-0097",
         "isc",
         "bind",
         "9.2.1",
         "ISC BIND 9.0.x through 9.3.x, 9.4 before 9.4.3-P5, 9.5 before 9.5.2-P2, 9.6 before 9.6.1-P3, and 9.7.0 beta does not properly validate DNSSEC (1) NSEC and (2) NSEC3 records, which allows remote attackers to add the Authenticated Data (AD) flag to a forged NXDOMAIN response for an existing domain.",
         "BIND",
         "beta"
        ],
        [
         "40",
         "CVE-2010-0097",
         "isc",
         "bind",
         "9.2.1",
         "ISC BIND 9.0.x through 9.3.x, 9.4 before 9.4.3-P5, 9.5 before 9.5.2-P2, 9.6 before 9.6.1-P3, and 9.7.0 beta does not properly validate DNSSEC (1) NSEC and (2) NSEC3 records, which allows remote attackers to add the Authenticated Data (AD) flag to a forged NXDOMAIN response for an existing domain.",
         "BIND",
         "beta"
        ],
        [
         "41",
         "CVE-2010-0097",
         "isc",
         "bind",
         "9.5.0",
         "ISC BIND 9.0.x through 9.3.x, 9.4 before 9.4.3-P5, 9.5 before 9.5.2-P2, 9.6 before 9.6.1-P3, and 9.7.0 beta does not properly validate DNSSEC (1) NSEC and (2) NSEC3 records, which allows remote attackers to add the Authenticated Data (AD) flag to a forged NXDOMAIN response for an existing domain.",
         "BIND",
         "beta"
        ],
        [
         "42",
         "CVE-2010-0097",
         "isc",
         "bind",
         "9.5.0",
         "ISC BIND 9.0.x through 9.3.x, 9.4 before 9.4.3-P5, 9.5 before 9.5.2-P2, 9.6 before 9.6.1-P3, and 9.7.0 beta does not properly validate DNSSEC (1) NSEC and (2) NSEC3 records, which allows remote attackers to add the Authenticated Data (AD) flag to a forged NXDOMAIN response for an existing domain.",
         "BIND",
         "beta"
        ],
        [
         "43",
         "CVE-2010-0097",
         "isc",
         "bind",
         "9.4.2",
         "ISC BIND 9.0.x through 9.3.x, 9.4 before 9.4.3-P5, 9.5 before 9.5.2-P2, 9.6 before 9.6.1-P3, and 9.7.0 beta does not properly validate DNSSEC (1) NSEC and (2) NSEC3 records, which allows remote attackers to add the Authenticated Data (AD) flag to a forged NXDOMAIN response for an existing domain.",
         "BIND",
         "beta"
        ],
        [
         "44",
         "CVE-2010-0097",
         "isc",
         "bind",
         "9.3.1",
         "ISC BIND 9.0.x through 9.3.x, 9.4 before 9.4.3-P5, 9.5 before 9.5.2-P2, 9.6 before 9.6.1-P3, and 9.7.0 beta does not properly validate DNSSEC (1) NSEC and (2) NSEC3 records, which allows remote attackers to add the Authenticated Data (AD) flag to a forged NXDOMAIN response for an existing domain.",
         "BIND",
         "beta"
        ],
        [
         "45",
         "CVE-2010-0097",
         "isc",
         "bind",
         "9.3.1",
         "ISC BIND 9.0.x through 9.3.x, 9.4 before 9.4.3-P5, 9.5 before 9.5.2-P2, 9.6 before 9.6.1-P3, and 9.7.0 beta does not properly validate DNSSEC (1) NSEC and (2) NSEC3 records, which allows remote attackers to add the Authenticated Data (AD) flag to a forged NXDOMAIN response for an existing domain.",
         "BIND",
         "beta"
        ],
        [
         "46",
         "CVE-2010-0097",
         "isc",
         "bind",
         "9.1",
         "ISC BIND 9.0.x through 9.3.x, 9.4 before 9.4.3-P5, 9.5 before 9.5.2-P2, 9.6 before 9.6.1-P3, and 9.7.0 beta does not properly validate DNSSEC (1) NSEC and (2) NSEC3 records, which allows remote attackers to add the Authenticated Data (AD) flag to a forged NXDOMAIN response for an existing domain.",
         "BIND",
         "beta"
        ],
        [
         "47",
         "CVE-2010-0097",
         "isc",
         "bind",
         "9.4.3",
         "ISC BIND 9.0.x through 9.3.x, 9.4 before 9.4.3-P5, 9.5 before 9.5.2-P2, 9.6 before 9.6.1-P3, and 9.7.0 beta does not properly validate DNSSEC (1) NSEC and (2) NSEC3 records, which allows remote attackers to add the Authenticated Data (AD) flag to a forged NXDOMAIN response for an existing domain.",
         "BIND",
         "beta"
        ],
        [
         "48",
         "CVE-2010-0097",
         "isc",
         "bind",
         "9.4.3",
         "ISC BIND 9.0.x through 9.3.x, 9.4 before 9.4.3-P5, 9.5 before 9.5.2-P2, 9.6 before 9.6.1-P3, and 9.7.0 beta does not properly validate DNSSEC (1) NSEC and (2) NSEC3 records, which allows remote attackers to add the Authenticated Data (AD) flag to a forged NXDOMAIN response for an existing domain.",
         "BIND",
         "beta"
        ],
        [
         "49",
         "CVE-2010-0097",
         "isc",
         "bind",
         "9.4.3",
         "ISC BIND 9.0.x through 9.3.x, 9.4 before 9.4.3-P5, 9.5 before 9.5.2-P2, 9.6 before 9.6.1-P3, and 9.7.0 beta does not properly validate DNSSEC (1) NSEC and (2) NSEC3 records, which allows remote attackers to add the Authenticated Data (AD) flag to a forged NXDOMAIN response for an existing domain.",
         "BIND",
         "beta"
        ]
       ],
       "shape": {
        "columns": 7,
        "rows": 686075
       }
      },
      "text/html": [
       "<div>\n",
       "<style scoped>\n",
       "    .dataframe tbody tr th:only-of-type {\n",
       "        vertical-align: middle;\n",
       "    }\n",
       "\n",
       "    .dataframe tbody tr th {\n",
       "        vertical-align: top;\n",
       "    }\n",
       "\n",
       "    .dataframe thead th {\n",
       "        text-align: right;\n",
       "    }\n",
       "</style>\n",
       "<table border=\"1\" class=\"dataframe\">\n",
       "  <thead>\n",
       "    <tr style=\"text-align: right;\">\n",
       "      <th></th>\n",
       "      <th>cve_id</th>\n",
       "      <th>vendor</th>\n",
       "      <th>product</th>\n",
       "      <th>version</th>\n",
       "      <th>descr</th>\n",
       "      <th>matched_regex_before</th>\n",
       "      <th>matched_regex_after</th>\n",
       "    </tr>\n",
       "  </thead>\n",
       "  <tbody>\n",
       "    <tr>\n",
       "      <th>0</th>\n",
       "      <td>CVE-2004-0013</td>\n",
       "      <td>jabber_software_foundation</td>\n",
       "      <td>jabber_server</td>\n",
       "      <td>1.4.3</td>\n",
       "      <td>jabber 1.4.2, 1.4.2a, and possibly earlier versions, does not properly handle SSL connections, which allows remote attackers to cause a denial of service (crash).</td>\n",
       "      <td>jabber</td>\n",
       "      <td></td>\n",
       "    </tr>\n",
       "    <tr>\n",
       "      <th>1</th>\n",
       "      <td>CVE-2004-0043</td>\n",
       "      <td>yahoo</td>\n",
       "      <td>messenger</td>\n",
       "      <td>5.6.0.1351</td>\n",
       "      <td>Buffer overflow in Yahoo Instant Messenger 5.6.0.1351 and earlier allows remote attackers to cause a denial of service (crash) and possibly execute arbitrary code via a long filename in the downlo...</td>\n",
       "      <td>Messenger</td>\n",
       "      <td>and</td>\n",
       "    </tr>\n",
       "    <tr>\n",
       "      <th>2</th>\n",
       "      <td>CVE-2004-0043</td>\n",
       "      <td>yahoo</td>\n",
       "      <td>messenger</td>\n",
       "      <td>5.6.0.1358</td>\n",
       "      <td>Buffer overflow in Yahoo Instant Messenger 5.6.0.1351 and earlier allows remote attackers to cause a denial of service (crash) and possibly execute arbitrary code via a long filename in the downlo...</td>\n",
       "      <td>Messenger</td>\n",
       "      <td>and</td>\n",
       "    </tr>\n",
       "    <tr>\n",
       "      <th>3</th>\n",
       "      <td>CVE-2004-0159</td>\n",
       "      <td>samhain_labs</td>\n",
       "      <td>hsftp</td>\n",
       "      <td>1.4</td>\n",
       "      <td>Format string vulnerability in hsftp 1.11 allows remote authenticated users to cause a denial of service and possibly execute arbitrary code via file names containing format string characters that...</td>\n",
       "      <td>hsftp</td>\n",
       "      <td></td>\n",
       "    </tr>\n",
       "    <tr>\n",
       "      <th>4</th>\n",
       "      <td>CVE-2004-0159</td>\n",
       "      <td>samhain_labs</td>\n",
       "      <td>hsftp</td>\n",
       "      <td>1.11</td>\n",
       "      <td>Format string vulnerability in hsftp 1.11 allows remote authenticated users to cause a denial of service and possibly execute arbitrary code via file names containing format string characters that...</td>\n",
       "      <td>hsftp</td>\n",
       "      <td></td>\n",
       "    </tr>\n",
       "    <tr>\n",
       "      <th>...</th>\n",
       "      <td>...</td>\n",
       "      <td>...</td>\n",
       "      <td>...</td>\n",
       "      <td>...</td>\n",
       "      <td>...</td>\n",
       "      <td>...</td>\n",
       "      <td>...</td>\n",
       "    </tr>\n",
       "    <tr>\n",
       "      <th>686070</th>\n",
       "      <td>CVE-2002-0600</td>\n",
       "      <td>kth</td>\n",
       "      <td>kth_kerberos</td>\n",
       "      <td>4_1.1.1</td>\n",
       "      <td>Heap overflow in the KTH Kerberos 4 FTP client 4-1.1.1 allows remote malicious servers to execute arbitrary code on the client via a long response to a passive (PASV) mode request.</td>\n",
       "      <td></td>\n",
       "      <td>allows</td>\n",
       "    </tr>\n",
       "    <tr>\n",
       "      <th>686071</th>\n",
       "      <td>CVE-2002-0910</td>\n",
       "      <td>debian</td>\n",
       "      <td>netstd</td>\n",
       "      <td>3.07</td>\n",
       "      <td>Buffer overflows in netstd 3.07-17 package allows remote DNS servers to execute arbitrary code via a long FQDN reply, as observed in the utilities (1) linux-ftpd, (2) pcnfsd, (3) tftp, (4) tracero...</td>\n",
       "      <td>netstd</td>\n",
       "      <td></td>\n",
       "    </tr>\n",
       "    <tr>\n",
       "      <th>686072</th>\n",
       "      <td>CVE-2002-1964</td>\n",
       "      <td>wesmo</td>\n",
       "      <td>phpeventcalendar</td>\n",
       "      <td>1.1</td>\n",
       "      <td>Unknown vulnerability in WesMo phpEventCalendar 1.1 allows remote attackers to execute arbitrary commands via unknown attack vectors.</td>\n",
       "      <td>phpEventCalendar</td>\n",
       "      <td></td>\n",
       "    </tr>\n",
       "    <tr>\n",
       "      <th>686073</th>\n",
       "      <td>CVE-2002-2110</td>\n",
       "      <td>rca</td>\n",
       "      <td>digital_cable_modem</td>\n",
       "      <td>dcm225</td>\n",
       "      <td>The RCA Digital Cable Modems DCM225 and DCM225E allow remote attackers to cause a denial of service (modem device reset) by connecting to port 80 on the 10.0.0.0/8 device.</td>\n",
       "      <td>the</td>\n",
       "      <td></td>\n",
       "    </tr>\n",
       "    <tr>\n",
       "      <th>686074</th>\n",
       "      <td>CVE-2002-2376</td>\n",
       "      <td>leung</td>\n",
       "      <td>e-guest</td>\n",
       "      <td>1.1</td>\n",
       "      <td>Cross-site scripting (XSS) vulnerability in E-Guest_sign.pl in E-Guest 1.1 allows remote attackers to inject arbitrary SSI directives, web script, and HTML via the (1) full name, (2) email, (3) ho...</td>\n",
       "      <td>Guest</td>\n",
       "      <td></td>\n",
       "    </tr>\n",
       "  </tbody>\n",
       "</table>\n",
       "<p>686075 rows × 7 columns</p>\n",
       "</div>"
      ],
      "text/plain": [
       "               cve_id                      vendor              product     version                                                                                                                                                                                                    descr matched_regex_before matched_regex_after\n",
       "0       CVE-2004-0013  jabber_software_foundation        jabber_server       1.4.3                                       jabber 1.4.2, 1.4.2a, and possibly earlier versions, does not properly handle SSL connections, which allows remote attackers to cause a denial of service (crash).               jabber                    \n",
       "1       CVE-2004-0043                       yahoo            messenger  5.6.0.1351  Buffer overflow in Yahoo Instant Messenger 5.6.0.1351 and earlier allows remote attackers to cause a denial of service (crash) and possibly execute arbitrary code via a long filename in the downlo...            Messenger                 and\n",
       "2       CVE-2004-0043                       yahoo            messenger  5.6.0.1358  Buffer overflow in Yahoo Instant Messenger 5.6.0.1351 and earlier allows remote attackers to cause a denial of service (crash) and possibly execute arbitrary code via a long filename in the downlo...            Messenger                 and\n",
       "3       CVE-2004-0159                samhain_labs                hsftp         1.4  Format string vulnerability in hsftp 1.11 allows remote authenticated users to cause a denial of service and possibly execute arbitrary code via file names containing format string characters that...                hsftp                    \n",
       "4       CVE-2004-0159                samhain_labs                hsftp        1.11  Format string vulnerability in hsftp 1.11 allows remote authenticated users to cause a denial of service and possibly execute arbitrary code via file names containing format string characters that...                hsftp                    \n",
       "...               ...                         ...                  ...         ...                                                                                                                                                                                                      ...                  ...                 ...\n",
       "686070  CVE-2002-0600                         kth         kth_kerberos     4_1.1.1                     Heap overflow in the KTH Kerberos 4 FTP client 4-1.1.1 allows remote malicious servers to execute arbitrary code on the client via a long response to a passive (PASV) mode request.                                   allows\n",
       "686071  CVE-2002-0910                      debian               netstd        3.07  Buffer overflows in netstd 3.07-17 package allows remote DNS servers to execute arbitrary code via a long FQDN reply, as observed in the utilities (1) linux-ftpd, (2) pcnfsd, (3) tftp, (4) tracero...               netstd                    \n",
       "686072  CVE-2002-1964                       wesmo     phpeventcalendar         1.1                                                                    Unknown vulnerability in WesMo phpEventCalendar 1.1 allows remote attackers to execute arbitrary commands via unknown attack vectors.     phpEventCalendar                    \n",
       "686073  CVE-2002-2110                         rca  digital_cable_modem      dcm225                              The RCA Digital Cable Modems DCM225 and DCM225E allow remote attackers to cause a denial of service (modem device reset) by connecting to port 80 on the 10.0.0.0/8 device.                  the                    \n",
       "686074  CVE-2002-2376                       leung              e-guest         1.1  Cross-site scripting (XSS) vulnerability in E-Guest_sign.pl in E-Guest 1.1 allows remote attackers to inject arbitrary SSI directives, web script, and HTML via the (1) full name, (2) email, (3) ho...                Guest                    \n",
       "\n",
       "[686075 rows x 7 columns]"
      ]
     },
     "execution_count": 167,
     "metadata": {},
     "output_type": "execute_result"
    }
   ],
   "source": [
    "df"
   ]
  },
  {
   "cell_type": "markdown",
   "metadata": {},
   "source": [
    "Доп. версии"
   ]
  },
  {
   "cell_type": "code",
   "execution_count": 169,
   "metadata": {},
   "outputs": [],
   "source": [
    "l = '''CVE-2023-40050, \n",
    "CVE-2020-27589, \n",
    "CVE-2022-39255, \n",
    "CVE-2023-50709, \n",
    "CVE-2022-0944, \n",
    "CVE-2023-1404, \n",
    "CVE-2023-5054, \n",
    "CVE-2020-24025, \n",
    "CVE-2016-5007, \n",
    "CVE-2023-40050, \n",
    "CVE-2022-47595'''"
   ]
  },
  {
   "cell_type": "code",
   "execution_count": 175,
   "metadata": {},
   "outputs": [],
   "source": [
    "ll =[x.replace(' \\n', '') for x in l.split(',')]"
   ]
  },
  {
   "cell_type": "code",
   "execution_count": 191,
   "metadata": {},
   "outputs": [
    {
     "data": {
      "text/plain": [
       "(10, 7)"
      ]
     },
     "execution_count": 191,
     "metadata": {},
     "output_type": "execute_result"
    }
   ],
   "source": [
    "df_additional = df[df.cve_id.isin(ll)].groupby('cve_id').sample(1, random_state=11)\n",
    "df_additional.shape"
   ]
  },
  {
   "cell_type": "code",
   "execution_count": 192,
   "metadata": {},
   "outputs": [],
   "source": [
    "all_cves = []\n",
    "all_tokens = []\n",
    "all_bio = []\n",
    "for i, row in df_additional.iterrows():\n",
    "    cves = []\n",
    "    bio_ann = []\n",
    "    spl_tokens = [x for x in re.split(' |\\\\n', row['descr']) if x]\n",
    "    tokens = []\n",
    "    # print(spl_tokens)\n",
    "    for tok in spl_tokens:\n",
    "        if tok.endswith('.'):\n",
    "            tokens.append(tok.rstrip('.'))\n",
    "            tokens.append('.')\n",
    "        elif tok.endswith(','):\n",
    "            tokens.append(tok.rstrip(','))\n",
    "            tokens.append(',')\n",
    "        else:\n",
    "            tokens.append(tok)\n",
    "    # print(tokens)\n",
    "    for tok_i in range(len(tokens)):\n",
    "        bio_ann.append('O')\n",
    "        if tok_i == 0:\n",
    "            cves.append(row['cve_id'])\n",
    "        else:\n",
    "            cves.append('0')\n",
    "    assert len(bio_ann) == len(tokens)\n",
    "    all_bio.extend(bio_ann)\n",
    "    all_tokens.extend(tokens)\n",
    "    all_cves.extend(cves)"
   ]
  },
  {
   "cell_type": "code",
   "execution_count": 193,
   "metadata": {},
   "outputs": [
    {
     "data": {
      "text/plain": [
       "10"
      ]
     },
     "execution_count": 193,
     "metadata": {},
     "output_type": "execute_result"
    }
   ],
   "source": [
    "len(df_additional)"
   ]
  },
  {
   "cell_type": "code",
   "execution_count": 194,
   "metadata": {},
   "outputs": [],
   "source": [
    "df_additional_annotated = pd.DataFrame(data={'cve_id': all_cves,\n",
    "                                         'words': all_tokens,\n",
    "                                         'custom_bio': all_bio})\n",
    "df_additional_annotated.to_csv(f'./cve_dataset_bio_{len(df_additional_annotated)}_additionals.tsv', index=False, sep='\\t')"
   ]
  },
  {
   "cell_type": "code",
   "execution_count": null,
   "metadata": {},
   "outputs": [
    {
     "data": {
      "application/vnd.microsoft.datawrangler.viewer.v0+json": {
       "columns": [
        {
         "name": "index",
         "rawType": "int64",
         "type": "integer"
        },
        {
         "name": "cve_id",
         "rawType": "object",
         "type": "string"
        },
        {
         "name": "words",
         "rawType": "object",
         "type": "string"
        },
        {
         "name": "custom_bio",
         "rawType": "object",
         "type": "string"
        }
       ],
       "conversionMethod": "pd.DataFrame",
       "ref": "967a8663-28ec-49ad-88c9-4ea8e36fa11f",
       "rows": [
        [
         "0",
         "CVE-2016-5007",
         "Both",
         "O"
        ],
        [
         "1",
         "0",
         "Spring",
         "O"
        ],
        [
         "2",
         "0",
         "Security",
         "O"
        ],
        [
         "3",
         "0",
         "3.2.x",
         "O"
        ],
        [
         "4",
         "0",
         ",",
         "O"
        ],
        [
         "5",
         "0",
         "4.0.x",
         "O"
        ],
        [
         "6",
         "0",
         ",",
         "O"
        ],
        [
         "7",
         "0",
         "4.1.0",
         "O"
        ],
        [
         "8",
         "0",
         "and",
         "O"
        ],
        [
         "9",
         "0",
         "the",
         "O"
        ],
        [
         "10",
         "0",
         "Spring",
         "O"
        ],
        [
         "11",
         "0",
         "Framework",
         "O"
        ],
        [
         "12",
         "0",
         "3.2.x",
         "O"
        ],
        [
         "13",
         "0",
         ",",
         "O"
        ],
        [
         "14",
         "0",
         "4.0.x",
         "O"
        ],
        [
         "15",
         "0",
         ",",
         "O"
        ],
        [
         "16",
         "0",
         "4.1.x",
         "O"
        ],
        [
         "17",
         "0",
         ",",
         "O"
        ],
        [
         "18",
         "0",
         "4.2.x",
         "O"
        ],
        [
         "19",
         "0",
         "rely",
         "O"
        ],
        [
         "20",
         "0",
         "on",
         "O"
        ],
        [
         "21",
         "0",
         "URL",
         "O"
        ],
        [
         "22",
         "0",
         "pattern",
         "O"
        ],
        [
         "23",
         "0",
         "mappings",
         "O"
        ],
        [
         "24",
         "0",
         "for",
         "O"
        ],
        [
         "25",
         "0",
         "authorization",
         "O"
        ],
        [
         "26",
         "0",
         "and",
         "O"
        ],
        [
         "27",
         "0",
         "for",
         "O"
        ],
        [
         "28",
         "0",
         "mapping",
         "O"
        ],
        [
         "29",
         "0",
         "requests",
         "O"
        ],
        [
         "30",
         "0",
         "to",
         "O"
        ],
        [
         "31",
         "0",
         "controllers",
         "O"
        ],
        [
         "32",
         "0",
         "respectively",
         "O"
        ],
        [
         "33",
         "0",
         ".",
         "O"
        ],
        [
         "34",
         "0",
         "Differences",
         "O"
        ],
        [
         "35",
         "0",
         "in",
         "O"
        ],
        [
         "36",
         "0",
         "the",
         "O"
        ],
        [
         "37",
         "0",
         "strictness",
         "O"
        ],
        [
         "38",
         "0",
         "of",
         "O"
        ],
        [
         "39",
         "0",
         "the",
         "O"
        ],
        [
         "40",
         "0",
         "pattern",
         "O"
        ],
        [
         "41",
         "0",
         "matching",
         "O"
        ],
        [
         "42",
         "0",
         "mechanisms",
         "O"
        ],
        [
         "43",
         "0",
         ",",
         "O"
        ],
        [
         "44",
         "0",
         "for",
         "O"
        ],
        [
         "45",
         "0",
         "example",
         "O"
        ],
        [
         "46",
         "0",
         "with",
         "O"
        ],
        [
         "47",
         "0",
         "regards",
         "O"
        ],
        [
         "48",
         "0",
         "to",
         "O"
        ],
        [
         "49",
         "0",
         "space",
         "O"
        ]
       ],
       "shape": {
        "columns": 3,
        "rows": 687
       }
      },
      "text/html": [
       "<div>\n",
       "<style scoped>\n",
       "    .dataframe tbody tr th:only-of-type {\n",
       "        vertical-align: middle;\n",
       "    }\n",
       "\n",
       "    .dataframe tbody tr th {\n",
       "        vertical-align: top;\n",
       "    }\n",
       "\n",
       "    .dataframe thead th {\n",
       "        text-align: right;\n",
       "    }\n",
       "</style>\n",
       "<table border=\"1\" class=\"dataframe\">\n",
       "  <thead>\n",
       "    <tr style=\"text-align: right;\">\n",
       "      <th></th>\n",
       "      <th>cve_id</th>\n",
       "      <th>words</th>\n",
       "      <th>custom_bio</th>\n",
       "    </tr>\n",
       "  </thead>\n",
       "  <tbody>\n",
       "    <tr>\n",
       "      <th>0</th>\n",
       "      <td>CVE-2016-5007</td>\n",
       "      <td>Both</td>\n",
       "      <td>O</td>\n",
       "    </tr>\n",
       "    <tr>\n",
       "      <th>1</th>\n",
       "      <td>0</td>\n",
       "      <td>Spring</td>\n",
       "      <td>O</td>\n",
       "    </tr>\n",
       "    <tr>\n",
       "      <th>2</th>\n",
       "      <td>0</td>\n",
       "      <td>Security</td>\n",
       "      <td>O</td>\n",
       "    </tr>\n",
       "    <tr>\n",
       "      <th>3</th>\n",
       "      <td>0</td>\n",
       "      <td>3.2.x</td>\n",
       "      <td>O</td>\n",
       "    </tr>\n",
       "    <tr>\n",
       "      <th>4</th>\n",
       "      <td>0</td>\n",
       "      <td>,</td>\n",
       "      <td>O</td>\n",
       "    </tr>\n",
       "    <tr>\n",
       "      <th>...</th>\n",
       "      <td>...</td>\n",
       "      <td>...</td>\n",
       "      <td>...</td>\n",
       "    </tr>\n",
       "    <tr>\n",
       "      <th>682</th>\n",
       "      <td>0</td>\n",
       "      <td>recommendation</td>\n",
       "      <td>O</td>\n",
       "    </tr>\n",
       "    <tr>\n",
       "      <th>683</th>\n",
       "      <td>0</td>\n",
       "      <td>is</td>\n",
       "      <td>O</td>\n",
       "    </tr>\n",
       "    <tr>\n",
       "      <th>684</th>\n",
       "      <td>0</td>\n",
       "      <td>to</td>\n",
       "      <td>O</td>\n",
       "    </tr>\n",
       "    <tr>\n",
       "      <th>685</th>\n",
       "      <td>0</td>\n",
       "      <td>upgrade</td>\n",
       "      <td>O</td>\n",
       "    </tr>\n",
       "    <tr>\n",
       "      <th>686</th>\n",
       "      <td>0</td>\n",
       "      <td>.</td>\n",
       "      <td>O</td>\n",
       "    </tr>\n",
       "  </tbody>\n",
       "</table>\n",
       "<p>687 rows × 3 columns</p>\n",
       "</div>"
      ],
      "text/plain": [
       "            cve_id           words custom_bio\n",
       "0    CVE-2016-5007            Both          O\n",
       "1                0          Spring          O\n",
       "2                0        Security          O\n",
       "3                0           3.2.x          O\n",
       "4                0               ,          O\n",
       "..             ...             ...        ...\n",
       "682              0  recommendation          O\n",
       "683              0              is          O\n",
       "684              0              to          O\n",
       "685              0         upgrade          O\n",
       "686              0               .          O\n",
       "\n",
       "[687 rows x 3 columns]"
      ]
     },
     "execution_count": 195,
     "metadata": {},
     "output_type": "execute_result"
    }
   ],
   "source": [
    "df_additional_annotated"
   ]
  },
  {
   "cell_type": "code",
   "execution_count": null,
   "metadata": {},
   "outputs": [],
   "source": []
  },
  {
   "cell_type": "markdown",
   "metadata": {},
   "source": [
    "## Создаём один финальный датасет"
   ]
  },
  {
   "cell_type": "code",
   "execution_count": 60,
   "metadata": {},
   "outputs": [],
   "source": [
    "import pandas as pd\n",
    "\n",
    "# File paths\n",
    "file1 = 'cve_dataset_bio_15192_texts_custom_bio.tsv'\n",
    "file2 = 'cve_dataset_bio_4477_before_versions.tsv'\n",
    "file3 = 'cve_dataset_bio_1682_after_versions.tsv'\n",
    "file4 = 'cve_dataset_bio_687_additionals.tsv'\n",
    "output_file = 'cve_dataset_bio.tsv'\n",
    "\n",
    "# Read each TSV file\n",
    "# df1 = pd.read_csv(file1, sep='\\t')\n",
    "# df1 = df1[['cve_id', 'words', 'custom_bio']]\n",
    "\n",
    "df2 = pd.read_csv(file2, sep='\\t')\n",
    "df3 = pd.read_csv(file3, sep='\\t')\n",
    "df4 = pd.read_csv(file4, sep='\\t')\n",
    "\n"
   ]
  },
  {
   "cell_type": "code",
   "execution_count": 226,
   "metadata": {},
   "outputs": [],
   "source": [
    "# Concatenate the DataFrames\n",
    "merged_df = pd.concat([df1, df2, df3, df4], ignore_index=True)"
   ]
  },
  {
   "cell_type": "code",
   "execution_count": 227,
   "metadata": {},
   "outputs": [
    {
     "data": {
      "application/vnd.microsoft.datawrangler.viewer.v0+json": {
       "columns": [
        {
         "name": "index",
         "rawType": "int64",
         "type": "integer"
        },
        {
         "name": "cve_id",
         "rawType": "object",
         "type": "string"
        },
        {
         "name": "words",
         "rawType": "object",
         "type": "string"
        },
        {
         "name": "custom_bio",
         "rawType": "object",
         "type": "string"
        }
       ],
       "conversionMethod": "pd.DataFrame",
       "ref": "db0603b6-b942-4d15-b20d-44f1d67b8731",
       "rows": [
        [
         "0",
         "CVE-2010-0001",
         "Integer",
         "O"
        ],
        [
         "1",
         "0",
         "underflow",
         "O"
        ],
        [
         "2",
         "0",
         "in",
         "O"
        ],
        [
         "3",
         "0",
         "the",
         "O"
        ],
        [
         "4",
         "0",
         "unlzw",
         "O"
        ],
        [
         "5",
         "0",
         "function",
         "O"
        ],
        [
         "6",
         "0",
         "in",
         "O"
        ],
        [
         "7",
         "0",
         "unlzw.c",
         "O"
        ],
        [
         "8",
         "0",
         "in",
         "O"
        ],
        [
         "9",
         "0",
         "gzip",
         "B-product"
        ],
        [
         "10",
         "0",
         "before",
         "B-version"
        ],
        [
         "11",
         "0",
         "1.4",
         "I-version"
        ],
        [
         "12",
         "0",
         "on",
         "O"
        ],
        [
         "13",
         "0",
         "64-bit",
         "O"
        ],
        [
         "14",
         "0",
         "platforms",
         "O"
        ],
        [
         "15",
         "0",
         ",",
         "O"
        ],
        [
         "16",
         "0",
         "as",
         "O"
        ],
        [
         "17",
         "0",
         "used",
         "O"
        ],
        [
         "18",
         "0",
         "in",
         "O"
        ],
        [
         "19",
         "0",
         "ncompress",
         "O"
        ],
        [
         "20",
         "0",
         "and",
         "O"
        ],
        [
         "21",
         "0",
         "probably",
         "O"
        ],
        [
         "22",
         "0",
         "others",
         "O"
        ],
        [
         "23",
         "0",
         ",",
         "O"
        ],
        [
         "24",
         "0",
         "allows",
         "O"
        ],
        [
         "25",
         "0",
         "remote",
         "O"
        ],
        [
         "26",
         "0",
         "attackers",
         "O"
        ],
        [
         "27",
         "0",
         "to",
         "O"
        ],
        [
         "28",
         "0",
         "cause",
         "O"
        ],
        [
         "29",
         "0",
         "a",
         "O"
        ],
        [
         "30",
         "0",
         "denial",
         "O"
        ],
        [
         "31",
         "0",
         "of",
         "O"
        ],
        [
         "32",
         "0",
         "service",
         "O"
        ],
        [
         "33",
         "0",
         "(",
         "O"
        ],
        [
         "34",
         "0",
         "application",
         "O"
        ],
        [
         "35",
         "0",
         "crash",
         "O"
        ],
        [
         "36",
         "0",
         ")",
         "O"
        ],
        [
         "37",
         "0",
         "or",
         "O"
        ],
        [
         "38",
         "0",
         "possibly",
         "O"
        ],
        [
         "39",
         "0",
         "execute",
         "O"
        ],
        [
         "40",
         "0",
         "arbitrary",
         "O"
        ],
        [
         "41",
         "0",
         "code",
         "O"
        ],
        [
         "42",
         "0",
         "via",
         "O"
        ],
        [
         "43",
         "0",
         "a",
         "O"
        ],
        [
         "44",
         "0",
         "crafted",
         "O"
        ],
        [
         "45",
         "0",
         "archive",
         "O"
        ],
        [
         "46",
         "0",
         "that",
         "O"
        ],
        [
         "47",
         "0",
         "uses",
         "O"
        ],
        [
         "48",
         "0",
         "LZW",
         "O"
        ],
        [
         "49",
         "0",
         "compression",
         "O"
        ]
       ],
       "shape": {
        "columns": 3,
        "rows": 692602
       }
      },
      "text/html": [
       "<div>\n",
       "<style scoped>\n",
       "    .dataframe tbody tr th:only-of-type {\n",
       "        vertical-align: middle;\n",
       "    }\n",
       "\n",
       "    .dataframe tbody tr th {\n",
       "        vertical-align: top;\n",
       "    }\n",
       "\n",
       "    .dataframe thead th {\n",
       "        text-align: right;\n",
       "    }\n",
       "</style>\n",
       "<table border=\"1\" class=\"dataframe\">\n",
       "  <thead>\n",
       "    <tr style=\"text-align: right;\">\n",
       "      <th></th>\n",
       "      <th>cve_id</th>\n",
       "      <th>words</th>\n",
       "      <th>custom_bio</th>\n",
       "    </tr>\n",
       "  </thead>\n",
       "  <tbody>\n",
       "    <tr>\n",
       "      <th>0</th>\n",
       "      <td>CVE-2010-0001</td>\n",
       "      <td>Integer</td>\n",
       "      <td>O</td>\n",
       "    </tr>\n",
       "    <tr>\n",
       "      <th>1</th>\n",
       "      <td>0</td>\n",
       "      <td>underflow</td>\n",
       "      <td>O</td>\n",
       "    </tr>\n",
       "    <tr>\n",
       "      <th>2</th>\n",
       "      <td>0</td>\n",
       "      <td>in</td>\n",
       "      <td>O</td>\n",
       "    </tr>\n",
       "    <tr>\n",
       "      <th>3</th>\n",
       "      <td>0</td>\n",
       "      <td>the</td>\n",
       "      <td>O</td>\n",
       "    </tr>\n",
       "    <tr>\n",
       "      <th>4</th>\n",
       "      <td>0</td>\n",
       "      <td>unlzw</td>\n",
       "      <td>O</td>\n",
       "    </tr>\n",
       "    <tr>\n",
       "      <th>...</th>\n",
       "      <td>...</td>\n",
       "      <td>...</td>\n",
       "      <td>...</td>\n",
       "    </tr>\n",
       "    <tr>\n",
       "      <th>692597</th>\n",
       "      <td>0</td>\n",
       "      <td>recommendation</td>\n",
       "      <td>O</td>\n",
       "    </tr>\n",
       "    <tr>\n",
       "      <th>692598</th>\n",
       "      <td>0</td>\n",
       "      <td>is</td>\n",
       "      <td>O</td>\n",
       "    </tr>\n",
       "    <tr>\n",
       "      <th>692599</th>\n",
       "      <td>0</td>\n",
       "      <td>to</td>\n",
       "      <td>O</td>\n",
       "    </tr>\n",
       "    <tr>\n",
       "      <th>692600</th>\n",
       "      <td>0</td>\n",
       "      <td>upgrade</td>\n",
       "      <td>O</td>\n",
       "    </tr>\n",
       "    <tr>\n",
       "      <th>692601</th>\n",
       "      <td>0</td>\n",
       "      <td>.</td>\n",
       "      <td>O</td>\n",
       "    </tr>\n",
       "  </tbody>\n",
       "</table>\n",
       "<p>692602 rows × 3 columns</p>\n",
       "</div>"
      ],
      "text/plain": [
       "               cve_id           words custom_bio\n",
       "0       CVE-2010-0001         Integer          O\n",
       "1                   0       underflow          O\n",
       "2                   0              in          O\n",
       "3                   0             the          O\n",
       "4                   0           unlzw          O\n",
       "...               ...             ...        ...\n",
       "692597              0  recommendation          O\n",
       "692598              0              is          O\n",
       "692599              0              to          O\n",
       "692600              0         upgrade          O\n",
       "692601              0               .          O\n",
       "\n",
       "[692602 rows x 3 columns]"
      ]
     },
     "execution_count": 227,
     "metadata": {},
     "output_type": "execute_result"
    }
   ],
   "source": [
    "merged_df"
   ]
  },
  {
   "cell_type": "code",
   "execution_count": 230,
   "metadata": {},
   "outputs": [
    {
     "data": {
      "text/plain": [
       "O            596287\n",
       "B-version     29260\n",
       "I-version     25546\n",
       "B-product     18957\n",
       "I-product     11933\n",
       "B-vendor      10557\n",
       "I-vendor         62\n",
       "Name: custom_bio, dtype: int64"
      ]
     },
     "execution_count": 230,
     "metadata": {},
     "output_type": "execute_result"
    }
   ],
   "source": [
    "merged_df.custom_bio.value_counts()"
   ]
  },
  {
   "cell_type": "code",
   "execution_count": 229,
   "metadata": {},
   "outputs": [],
   "source": [
    "merged_df['custom_bio'] = merged_df['custom_bio'].replace({'B-versions': 'B-version'})"
   ]
  },
  {
   "cell_type": "code",
   "execution_count": 231,
   "metadata": {},
   "outputs": [],
   "source": [
    "merged_df.to_csv(output_file, sep='\\t', index=False)"
   ]
  },
  {
   "cell_type": "markdown",
   "metadata": {},
   "source": [
    "## Разбиваем датасет на train/test"
   ]
  },
  {
   "cell_type": "code",
   "execution_count": 61,
   "metadata": {},
   "outputs": [],
   "source": [
    "df = pd.read_csv('cve_dataset_bio.tsv', sep='\\t')"
   ]
  },
  {
   "cell_type": "code",
   "execution_count": 62,
   "metadata": {},
   "outputs": [],
   "source": [
    "from sklearn.model_selection import train_test_split"
   ]
  },
  {
   "cell_type": "code",
   "execution_count": 63,
   "metadata": {},
   "outputs": [],
   "source": [
    "# Group by CVE entries\n",
    "groups = []\n",
    "current_group = []\n",
    "for _, row in df.iterrows():\n",
    "    if row[\"cve_id\"] != \"0\":\n",
    "        if current_group:\n",
    "            groups.append(current_group)\n",
    "        current_group = [row]\n",
    "    else:\n",
    "        current_group.append(row)\n",
    "if current_group:\n",
    "    groups.append(current_group)"
   ]
  },
  {
   "cell_type": "code",
   "execution_count": 64,
   "metadata": {},
   "outputs": [],
   "source": [
    "# Split into train/test/val\n",
    "train_groups, test_groups = train_test_split(groups, test_size=0.1, random_state=42)"
   ]
  },
  {
   "cell_type": "code",
   "execution_count": 65,
   "metadata": {},
   "outputs": [],
   "source": [
    "# Reconstruct splits\n",
    "def flatten(groups):\n",
    "    return pd.DataFrame([row for group in groups for row in group])"
   ]
  },
  {
   "cell_type": "code",
   "execution_count": 66,
   "metadata": {},
   "outputs": [],
   "source": [
    "train_df = flatten(train_groups)\n",
    "test_df = flatten(test_groups)"
   ]
  },
  {
   "cell_type": "markdown",
   "metadata": {},
   "source": [
    "тестируем, что из датасетов, созданных для обогащения, часть записей попала в тест"
   ]
  },
  {
   "cell_type": "code",
   "execution_count": 67,
   "metadata": {},
   "outputs": [
    {
     "name": "stdout",
     "output_type": "stream",
     "text": [
      "84\n"
     ]
    },
    {
     "data": {
      "application/vnd.microsoft.datawrangler.viewer.v0+json": {
       "columns": [
        {
         "name": "index",
         "rawType": "int64",
         "type": "integer"
        },
        {
         "name": "cve_id",
         "rawType": "object",
         "type": "string"
        },
        {
         "name": "words",
         "rawType": "object",
         "type": "string"
        },
        {
         "name": "custom_bio",
         "rawType": "object",
         "type": "string"
        }
       ],
       "conversionMethod": "pd.DataFrame",
       "ref": "99ff8ffb-fe5d-44e2-993e-3dd6ba11bedf",
       "rows": [
        [
         "685990",
         "CVE-2017-2594",
         "hawtio",
         "B-product"
        ],
        [
         "689842",
         "CVE-2023-4090",
         "Cross-site",
         "O"
        ],
        [
         "689731",
         "CVE-2023-39196",
         "Improper",
         "O"
        ],
        [
         "689882",
         "CVE-2023-45814",
         "Bunkum",
         "B-product"
        ],
        [
         "687367",
         "CVE-2020-15119",
         "In",
         "O"
        ],
        [
         "687402",
         "CVE-2012-2666",
         "golang",
         "B-vendor"
        ],
        [
         "685418",
         "CVE-2014-125098",
         "A",
         "O"
        ]
       ],
       "shape": {
        "columns": 3,
        "rows": 7
       }
      },
      "text/html": [
       "<div>\n",
       "<style scoped>\n",
       "    .dataframe tbody tr th:only-of-type {\n",
       "        vertical-align: middle;\n",
       "    }\n",
       "\n",
       "    .dataframe tbody tr th {\n",
       "        vertical-align: top;\n",
       "    }\n",
       "\n",
       "    .dataframe thead th {\n",
       "        text-align: right;\n",
       "    }\n",
       "</style>\n",
       "<table border=\"1\" class=\"dataframe\">\n",
       "  <thead>\n",
       "    <tr style=\"text-align: right;\">\n",
       "      <th></th>\n",
       "      <th>cve_id</th>\n",
       "      <th>words</th>\n",
       "      <th>custom_bio</th>\n",
       "    </tr>\n",
       "  </thead>\n",
       "  <tbody>\n",
       "    <tr>\n",
       "      <th>685990</th>\n",
       "      <td>CVE-2017-2594</td>\n",
       "      <td>hawtio</td>\n",
       "      <td>B-product</td>\n",
       "    </tr>\n",
       "    <tr>\n",
       "      <th>689842</th>\n",
       "      <td>CVE-2023-4090</td>\n",
       "      <td>Cross-site</td>\n",
       "      <td>O</td>\n",
       "    </tr>\n",
       "    <tr>\n",
       "      <th>689731</th>\n",
       "      <td>CVE-2023-39196</td>\n",
       "      <td>Improper</td>\n",
       "      <td>O</td>\n",
       "    </tr>\n",
       "    <tr>\n",
       "      <th>689882</th>\n",
       "      <td>CVE-2023-45814</td>\n",
       "      <td>Bunkum</td>\n",
       "      <td>B-product</td>\n",
       "    </tr>\n",
       "    <tr>\n",
       "      <th>687367</th>\n",
       "      <td>CVE-2020-15119</td>\n",
       "      <td>In</td>\n",
       "      <td>O</td>\n",
       "    </tr>\n",
       "    <tr>\n",
       "      <th>687402</th>\n",
       "      <td>CVE-2012-2666</td>\n",
       "      <td>golang</td>\n",
       "      <td>B-vendor</td>\n",
       "    </tr>\n",
       "    <tr>\n",
       "      <th>685418</th>\n",
       "      <td>CVE-2014-125098</td>\n",
       "      <td>A</td>\n",
       "      <td>O</td>\n",
       "    </tr>\n",
       "  </tbody>\n",
       "</table>\n",
       "</div>"
      ],
      "text/plain": [
       "                 cve_id       words custom_bio\n",
       "685990    CVE-2017-2594      hawtio  B-product\n",
       "689842    CVE-2023-4090  Cross-site          O\n",
       "689731   CVE-2023-39196    Improper          O\n",
       "689882   CVE-2023-45814      Bunkum  B-product\n",
       "687367   CVE-2020-15119          In          O\n",
       "687402    CVE-2012-2666      golang   B-vendor\n",
       "685418  CVE-2014-125098           A          O"
      ]
     },
     "execution_count": 67,
     "metadata": {},
     "output_type": "execute_result"
    }
   ],
   "source": [
    "print(len(df2[df2.cve_id != '0'].cve_id.unique()))\n",
    "test_df[test_df.cve_id.isin(df2[df2.cve_id != '0'].cve_id.unique())]"
   ]
  },
  {
   "cell_type": "code",
   "execution_count": 68,
   "metadata": {},
   "outputs": [
    {
     "name": "stdout",
     "output_type": "stream",
     "text": [
      "35\n"
     ]
    },
    {
     "data": {
      "application/vnd.microsoft.datawrangler.viewer.v0+json": {
       "columns": [
        {
         "name": "index",
         "rawType": "int64",
         "type": "integer"
        },
        {
         "name": "cve_id",
         "rawType": "object",
         "type": "string"
        },
        {
         "name": "words",
         "rawType": "object",
         "type": "string"
        },
        {
         "name": "custom_bio",
         "rawType": "object",
         "type": "string"
        }
       ],
       "conversionMethod": "pd.DataFrame",
       "ref": "9f9194f6-a3b6-4a3a-b2e8-a3982adc900e",
       "rows": [
        [
         "691601",
         "CVE-2004-1822",
         "Multiple",
         "O"
        ],
        [
         "691397",
         "CVE-2013-3009",
         "The",
         "O"
        ]
       ],
       "shape": {
        "columns": 3,
        "rows": 2
       }
      },
      "text/html": [
       "<div>\n",
       "<style scoped>\n",
       "    .dataframe tbody tr th:only-of-type {\n",
       "        vertical-align: middle;\n",
       "    }\n",
       "\n",
       "    .dataframe tbody tr th {\n",
       "        vertical-align: top;\n",
       "    }\n",
       "\n",
       "    .dataframe thead th {\n",
       "        text-align: right;\n",
       "    }\n",
       "</style>\n",
       "<table border=\"1\" class=\"dataframe\">\n",
       "  <thead>\n",
       "    <tr style=\"text-align: right;\">\n",
       "      <th></th>\n",
       "      <th>cve_id</th>\n",
       "      <th>words</th>\n",
       "      <th>custom_bio</th>\n",
       "    </tr>\n",
       "  </thead>\n",
       "  <tbody>\n",
       "    <tr>\n",
       "      <th>691601</th>\n",
       "      <td>CVE-2004-1822</td>\n",
       "      <td>Multiple</td>\n",
       "      <td>O</td>\n",
       "    </tr>\n",
       "    <tr>\n",
       "      <th>691397</th>\n",
       "      <td>CVE-2013-3009</td>\n",
       "      <td>The</td>\n",
       "      <td>O</td>\n",
       "    </tr>\n",
       "  </tbody>\n",
       "</table>\n",
       "</div>"
      ],
      "text/plain": [
       "               cve_id     words custom_bio\n",
       "691601  CVE-2004-1822  Multiple          O\n",
       "691397  CVE-2013-3009       The          O"
      ]
     },
     "execution_count": 68,
     "metadata": {},
     "output_type": "execute_result"
    }
   ],
   "source": [
    "print(len(df3[df3.cve_id != '0'].cve_id.unique()))\n",
    "test_df[test_df.cve_id.isin(df3[df3.cve_id != '0'].cve_id.unique())]"
   ]
  },
  {
   "cell_type": "code",
   "execution_count": 69,
   "metadata": {},
   "outputs": [
    {
     "name": "stdout",
     "output_type": "stream",
     "text": [
      "10\n"
     ]
    },
    {
     "data": {
      "application/vnd.microsoft.datawrangler.viewer.v0+json": {
       "columns": [
        {
         "name": "index",
         "rawType": "int64",
         "type": "integer"
        },
        {
         "name": "cve_id",
         "rawType": "object",
         "type": "string"
        },
        {
         "name": "words",
         "rawType": "object",
         "type": "string"
        },
        {
         "name": "custom_bio",
         "rawType": "object",
         "type": "string"
        }
       ],
       "conversionMethod": "pd.DataFrame",
       "ref": "2caaa825-92e6-4f45-ac31-62d6fbecf127",
       "rows": [
        [
         "691912",
         "CVE-2016-5007",
         "Both",
         "O"
        ],
        [
         "692422",
         "CVE-2023-5054",
         "The",
         "O"
        ]
       ],
       "shape": {
        "columns": 3,
        "rows": 2
       }
      },
      "text/html": [
       "<div>\n",
       "<style scoped>\n",
       "    .dataframe tbody tr th:only-of-type {\n",
       "        vertical-align: middle;\n",
       "    }\n",
       "\n",
       "    .dataframe tbody tr th {\n",
       "        vertical-align: top;\n",
       "    }\n",
       "\n",
       "    .dataframe thead th {\n",
       "        text-align: right;\n",
       "    }\n",
       "</style>\n",
       "<table border=\"1\" class=\"dataframe\">\n",
       "  <thead>\n",
       "    <tr style=\"text-align: right;\">\n",
       "      <th></th>\n",
       "      <th>cve_id</th>\n",
       "      <th>words</th>\n",
       "      <th>custom_bio</th>\n",
       "    </tr>\n",
       "  </thead>\n",
       "  <tbody>\n",
       "    <tr>\n",
       "      <th>691912</th>\n",
       "      <td>CVE-2016-5007</td>\n",
       "      <td>Both</td>\n",
       "      <td>O</td>\n",
       "    </tr>\n",
       "    <tr>\n",
       "      <th>692422</th>\n",
       "      <td>CVE-2023-5054</td>\n",
       "      <td>The</td>\n",
       "      <td>O</td>\n",
       "    </tr>\n",
       "  </tbody>\n",
       "</table>\n",
       "</div>"
      ],
      "text/plain": [
       "               cve_id words custom_bio\n",
       "691912  CVE-2016-5007  Both          O\n",
       "692422  CVE-2023-5054   The          O"
      ]
     },
     "execution_count": 69,
     "metadata": {},
     "output_type": "execute_result"
    }
   ],
   "source": [
    "print(len(df4[df4.cve_id != '0'].cve_id.unique()))\n",
    "test_df[test_df.cve_id.isin(df4[df4.cve_id != '0'].cve_id.unique())]"
   ]
  },
  {
   "cell_type": "code",
   "execution_count": 73,
   "metadata": {},
   "outputs": [
    {
     "data": {
      "text/plain": [
       "{'0'}"
      ]
     },
     "execution_count": 73,
     "metadata": {},
     "output_type": "execute_result"
    }
   ],
   "source": [
    "set(train_df.cve_id) & set(test_df.cve_id)"
   ]
  },
  {
   "cell_type": "code",
   "execution_count": 74,
   "metadata": {},
   "outputs": [
    {
     "data": {
      "text/plain": [
       "O            0.860556\n",
       "B-version    0.042443\n",
       "I-version    0.036957\n",
       "B-product    0.027398\n",
       "I-product    0.017254\n",
       "B-vendor     0.015297\n",
       "I-vendor     0.000095\n",
       "Name: custom_bio, dtype: float64"
      ]
     },
     "execution_count": 74,
     "metadata": {},
     "output_type": "execute_result"
    }
   ],
   "source": [
    "train_df.custom_bio.value_counts(normalize=1)"
   ]
  },
  {
   "cell_type": "code",
   "execution_count": 75,
   "metadata": {},
   "outputs": [
    {
     "data": {
      "text/plain": [
       "O            0.864320\n",
       "B-version    0.040503\n",
       "I-version    0.036240\n",
       "B-product    0.027130\n",
       "I-product    0.017008\n",
       "B-vendor     0.014756\n",
       "I-vendor     0.000043\n",
       "Name: custom_bio, dtype: float64"
      ]
     },
     "execution_count": 75,
     "metadata": {},
     "output_type": "execute_result"
    }
   ],
   "source": [
    "test_df.custom_bio.value_counts(normalize=1)"
   ]
  },
  {
   "cell_type": "code",
   "execution_count": 76,
   "metadata": {},
   "outputs": [
    {
     "data": {
      "application/vnd.microsoft.datawrangler.viewer.v0+json": {
       "columns": [
        {
         "name": "index",
         "rawType": "int64",
         "type": "integer"
        },
        {
         "name": "cve_id",
         "rawType": "object",
         "type": "string"
        },
        {
         "name": "words",
         "rawType": "object",
         "type": "string"
        },
        {
         "name": "custom_bio",
         "rawType": "object",
         "type": "string"
        }
       ],
       "conversionMethod": "pd.DataFrame",
       "ref": "a86fe204-9898-4619-8f81-1ec00d39fdaf",
       "rows": [
        [
         "333189",
         "0",
         "impact",
         "O"
        ],
        [
         "333190",
         "0",
         "via",
         "O"
        ],
        [
         "333191",
         "0",
         "vectors",
         "O"
        ],
        [
         "333192",
         "0",
         "that",
         "O"
        ],
        [
         "333193",
         "0",
         "leverage",
         "O"
        ],
        [
         "333194",
         "0",
         "\"",
         "O"
        ],
        [
         "333195",
         "0",
         "type",
         "O"
        ],
        [
         "333196",
         "0",
         "confusion",
         "O"
        ],
        [
         "333197",
         "0",
         ".",
         "O"
        ],
        [
         "333198",
         "0",
         "\"",
         "O"
        ]
       ],
       "shape": {
        "columns": 3,
        "rows": 10
       }
      },
      "text/html": [
       "<div>\n",
       "<style scoped>\n",
       "    .dataframe tbody tr th:only-of-type {\n",
       "        vertical-align: middle;\n",
       "    }\n",
       "\n",
       "    .dataframe tbody tr th {\n",
       "        vertical-align: top;\n",
       "    }\n",
       "\n",
       "    .dataframe thead th {\n",
       "        text-align: right;\n",
       "    }\n",
       "</style>\n",
       "<table border=\"1\" class=\"dataframe\">\n",
       "  <thead>\n",
       "    <tr style=\"text-align: right;\">\n",
       "      <th></th>\n",
       "      <th>cve_id</th>\n",
       "      <th>words</th>\n",
       "      <th>custom_bio</th>\n",
       "    </tr>\n",
       "  </thead>\n",
       "  <tbody>\n",
       "    <tr>\n",
       "      <th>333189</th>\n",
       "      <td>0</td>\n",
       "      <td>impact</td>\n",
       "      <td>O</td>\n",
       "    </tr>\n",
       "    <tr>\n",
       "      <th>333190</th>\n",
       "      <td>0</td>\n",
       "      <td>via</td>\n",
       "      <td>O</td>\n",
       "    </tr>\n",
       "    <tr>\n",
       "      <th>333191</th>\n",
       "      <td>0</td>\n",
       "      <td>vectors</td>\n",
       "      <td>O</td>\n",
       "    </tr>\n",
       "    <tr>\n",
       "      <th>333192</th>\n",
       "      <td>0</td>\n",
       "      <td>that</td>\n",
       "      <td>O</td>\n",
       "    </tr>\n",
       "    <tr>\n",
       "      <th>333193</th>\n",
       "      <td>0</td>\n",
       "      <td>leverage</td>\n",
       "      <td>O</td>\n",
       "    </tr>\n",
       "    <tr>\n",
       "      <th>333194</th>\n",
       "      <td>0</td>\n",
       "      <td>\"</td>\n",
       "      <td>O</td>\n",
       "    </tr>\n",
       "    <tr>\n",
       "      <th>333195</th>\n",
       "      <td>0</td>\n",
       "      <td>type</td>\n",
       "      <td>O</td>\n",
       "    </tr>\n",
       "    <tr>\n",
       "      <th>333196</th>\n",
       "      <td>0</td>\n",
       "      <td>confusion</td>\n",
       "      <td>O</td>\n",
       "    </tr>\n",
       "    <tr>\n",
       "      <th>333197</th>\n",
       "      <td>0</td>\n",
       "      <td>.</td>\n",
       "      <td>O</td>\n",
       "    </tr>\n",
       "    <tr>\n",
       "      <th>333198</th>\n",
       "      <td>0</td>\n",
       "      <td>\"</td>\n",
       "      <td>O</td>\n",
       "    </tr>\n",
       "  </tbody>\n",
       "</table>\n",
       "</div>"
      ],
      "text/plain": [
       "       cve_id      words custom_bio\n",
       "333189      0     impact          O\n",
       "333190      0        via          O\n",
       "333191      0    vectors          O\n",
       "333192      0       that          O\n",
       "333193      0   leverage          O\n",
       "333194      0          \"          O\n",
       "333195      0       type          O\n",
       "333196      0  confusion          O\n",
       "333197      0          .          O\n",
       "333198      0          \"          O"
      ]
     },
     "execution_count": 76,
     "metadata": {},
     "output_type": "execute_result"
    }
   ],
   "source": [
    "train_df.tail(10)"
   ]
  },
  {
   "cell_type": "code",
   "execution_count": 92,
   "metadata": {},
   "outputs": [
    {
     "data": {
      "application/vnd.microsoft.datawrangler.viewer.v0+json": {
       "columns": [
        {
         "name": "index",
         "rawType": "int64",
         "type": "integer"
        },
        {
         "name": "cve_id",
         "rawType": "object",
         "type": "string"
        },
        {
         "name": "words",
         "rawType": "object",
         "type": "string"
        },
        {
         "name": "custom_bio",
         "rawType": "object",
         "type": "string"
        }
       ],
       "conversionMethod": "pd.DataFrame",
       "ref": "c433d274-a5bf-49fe-b4e2-0c458fa3a3b6",
       "rows": [
        [
         "0",
         "CVE-2011-0776",
         "The",
         "O"
        ],
        [
         "1",
         "0",
         "sandbox",
         "O"
        ],
        [
         "2",
         "0",
         "implementation",
         "O"
        ],
        [
         "3",
         "0",
         "in",
         "O"
        ],
        [
         "4",
         "0",
         "Google",
         "B-vendor"
        ],
        [
         "5",
         "0",
         "Chrome",
         "B-product"
        ],
        [
         "6",
         "0",
         "before",
         "B-version"
        ],
        [
         "7",
         "0",
         "9.0.597.84",
         "I-version"
        ],
        [
         "8",
         "0",
         "on",
         "O"
        ],
        [
         "9",
         "0",
         "Mac",
         "O"
        ],
        [
         "10",
         "0",
         "OS",
         "O"
        ],
        [
         "11",
         "0",
         "X",
         "O"
        ],
        [
         "12",
         "0",
         "might",
         "O"
        ],
        [
         "13",
         "0",
         "allow",
         "O"
        ],
        [
         "14",
         "0",
         "remote",
         "O"
        ],
        [
         "15",
         "0",
         "attackers",
         "O"
        ],
        [
         "16",
         "0",
         "to",
         "O"
        ],
        [
         "17",
         "0",
         "obtain",
         "O"
        ],
        [
         "18",
         "0",
         "potentially",
         "O"
        ],
        [
         "19",
         "0",
         "sensitive",
         "O"
        ],
        [
         "20",
         "0",
         "information",
         "O"
        ],
        [
         "21",
         "0",
         "about",
         "O"
        ],
        [
         "22",
         "0",
         "local",
         "O"
        ],
        [
         "23",
         "0",
         "files",
         "O"
        ],
        [
         "24",
         "0",
         "via",
         "O"
        ],
        [
         "25",
         "0",
         "vectors",
         "O"
        ],
        [
         "26",
         "0",
         "related",
         "O"
        ],
        [
         "27",
         "0",
         "to",
         "O"
        ],
        [
         "28",
         "0",
         "the",
         "O"
        ],
        [
         "29",
         "0",
         "stat",
         "O"
        ],
        [
         "30",
         "0",
         "system",
         "O"
        ],
        [
         "31",
         "0",
         "call",
         "O"
        ],
        [
         "32",
         "0",
         ".",
         "O"
        ],
        [
         "33",
         "CVE-2012-2132",
         "libsoup",
         "B-product"
        ],
        [
         "34",
         "0",
         "2.32.2",
         "B-version"
        ],
        [
         "35",
         "0",
         "and",
         "I-version"
        ],
        [
         "36",
         "0",
         "earlier",
         "I-version"
        ],
        [
         "37",
         "0",
         "does",
         "O"
        ],
        [
         "38",
         "0",
         "not",
         "O"
        ],
        [
         "39",
         "0",
         "validate",
         "O"
        ],
        [
         "40",
         "0",
         "certificates",
         "O"
        ],
        [
         "41",
         "0",
         "or",
         "O"
        ],
        [
         "42",
         "0",
         "clear",
         "O"
        ],
        [
         "43",
         "0",
         "the",
         "O"
        ],
        [
         "44",
         "0",
         "trust",
         "O"
        ],
        [
         "45",
         "0",
         "flag",
         "O"
        ],
        [
         "46",
         "0",
         "when",
         "O"
        ],
        [
         "47",
         "0",
         "the",
         "O"
        ],
        [
         "48",
         "0",
         "ssl-ca-file",
         "O"
        ],
        [
         "49",
         "0",
         "does",
         "O"
        ]
       ],
       "shape": {
        "columns": 3,
        "rows": 622459
       }
      },
      "text/html": [
       "<div>\n",
       "<style scoped>\n",
       "    .dataframe tbody tr th:only-of-type {\n",
       "        vertical-align: middle;\n",
       "    }\n",
       "\n",
       "    .dataframe tbody tr th {\n",
       "        vertical-align: top;\n",
       "    }\n",
       "\n",
       "    .dataframe thead th {\n",
       "        text-align: right;\n",
       "    }\n",
       "</style>\n",
       "<table border=\"1\" class=\"dataframe\">\n",
       "  <thead>\n",
       "    <tr style=\"text-align: right;\">\n",
       "      <th></th>\n",
       "      <th>cve_id</th>\n",
       "      <th>words</th>\n",
       "      <th>custom_bio</th>\n",
       "    </tr>\n",
       "  </thead>\n",
       "  <tbody>\n",
       "    <tr>\n",
       "      <th>0</th>\n",
       "      <td>CVE-2011-0776</td>\n",
       "      <td>The</td>\n",
       "      <td>O</td>\n",
       "    </tr>\n",
       "    <tr>\n",
       "      <th>1</th>\n",
       "      <td>0</td>\n",
       "      <td>sandbox</td>\n",
       "      <td>O</td>\n",
       "    </tr>\n",
       "    <tr>\n",
       "      <th>2</th>\n",
       "      <td>0</td>\n",
       "      <td>implementation</td>\n",
       "      <td>O</td>\n",
       "    </tr>\n",
       "    <tr>\n",
       "      <th>3</th>\n",
       "      <td>0</td>\n",
       "      <td>in</td>\n",
       "      <td>O</td>\n",
       "    </tr>\n",
       "    <tr>\n",
       "      <th>4</th>\n",
       "      <td>0</td>\n",
       "      <td>Google</td>\n",
       "      <td>B-vendor</td>\n",
       "    </tr>\n",
       "    <tr>\n",
       "      <th>...</th>\n",
       "      <td>...</td>\n",
       "      <td>...</td>\n",
       "      <td>...</td>\n",
       "    </tr>\n",
       "    <tr>\n",
       "      <th>622454</th>\n",
       "      <td>0</td>\n",
       "      <td>\"</td>\n",
       "      <td>O</td>\n",
       "    </tr>\n",
       "    <tr>\n",
       "      <th>622455</th>\n",
       "      <td>0</td>\n",
       "      <td>type</td>\n",
       "      <td>O</td>\n",
       "    </tr>\n",
       "    <tr>\n",
       "      <th>622456</th>\n",
       "      <td>0</td>\n",
       "      <td>confusion</td>\n",
       "      <td>O</td>\n",
       "    </tr>\n",
       "    <tr>\n",
       "      <th>622457</th>\n",
       "      <td>0</td>\n",
       "      <td>.</td>\n",
       "      <td>O</td>\n",
       "    </tr>\n",
       "    <tr>\n",
       "      <th>622458</th>\n",
       "      <td>0</td>\n",
       "      <td>\"</td>\n",
       "      <td>O</td>\n",
       "    </tr>\n",
       "  </tbody>\n",
       "</table>\n",
       "<p>622459 rows × 3 columns</p>\n",
       "</div>"
      ],
      "text/plain": [
       "               cve_id           words custom_bio\n",
       "0       CVE-2011-0776             The          O\n",
       "1                   0         sandbox          O\n",
       "2                   0  implementation          O\n",
       "3                   0              in          O\n",
       "4                   0          Google   B-vendor\n",
       "...               ...             ...        ...\n",
       "622454              0               \"          O\n",
       "622455              0            type          O\n",
       "622456              0       confusion          O\n",
       "622457              0               .          O\n",
       "622458              0               \"          O\n",
       "\n",
       "[622459 rows x 3 columns]"
      ]
     },
     "execution_count": 92,
     "metadata": {},
     "output_type": "execute_result"
    }
   ],
   "source": [
    "train_df = train_df.reset_index().drop('index', axis=1)\n",
    "train_df['words'] = train_df['words'].fillna(' ')\n",
    "train_df"
   ]
  },
  {
   "cell_type": "code",
   "execution_count": 94,
   "metadata": {},
   "outputs": [],
   "source": [
    "train_df.to_csv('train_df_cve_dataset_bio.tsv', sep='\\t')"
   ]
  },
  {
   "cell_type": "code",
   "execution_count": 78,
   "metadata": {},
   "outputs": [
    {
     "data": {
      "application/vnd.microsoft.datawrangler.viewer.v0+json": {
       "columns": [
        {
         "name": "index",
         "rawType": "int64",
         "type": "integer"
        },
        {
         "name": "cve_id",
         "rawType": "object",
         "type": "string"
        },
        {
         "name": "words",
         "rawType": "object",
         "type": "string"
        },
        {
         "name": "custom_bio",
         "rawType": "object",
         "type": "string"
        }
       ],
       "conversionMethod": "pd.DataFrame",
       "ref": "24ef2291-6845-424d-8232-f78ac5fe3af9",
       "rows": [
        [
         "473408",
         "CVE-2012-1790",
         "Absolute",
         "O"
        ],
        [
         "473409",
         "0",
         "path",
         "O"
        ],
        [
         "473410",
         "0",
         "traversal",
         "O"
        ],
        [
         "473411",
         "0",
         "vulnerability",
         "O"
        ],
        [
         "473412",
         "0",
         "in",
         "O"
        ],
        [
         "473413",
         "0",
         "Webgrind",
         "B-product"
        ],
        [
         "473414",
         "0",
         "1.0",
         "B-version"
        ],
        [
         "473415",
         "0",
         "and",
         "O"
        ],
        [
         "473416",
         "0",
         "1.0.2",
         "B-version"
        ],
        [
         "473417",
         "0",
         "allows",
         "O"
        ]
       ],
       "shape": {
        "columns": 3,
        "rows": 10
       }
      },
      "text/html": [
       "<div>\n",
       "<style scoped>\n",
       "    .dataframe tbody tr th:only-of-type {\n",
       "        vertical-align: middle;\n",
       "    }\n",
       "\n",
       "    .dataframe tbody tr th {\n",
       "        vertical-align: top;\n",
       "    }\n",
       "\n",
       "    .dataframe thead th {\n",
       "        text-align: right;\n",
       "    }\n",
       "</style>\n",
       "<table border=\"1\" class=\"dataframe\">\n",
       "  <thead>\n",
       "    <tr style=\"text-align: right;\">\n",
       "      <th></th>\n",
       "      <th>cve_id</th>\n",
       "      <th>words</th>\n",
       "      <th>custom_bio</th>\n",
       "    </tr>\n",
       "  </thead>\n",
       "  <tbody>\n",
       "    <tr>\n",
       "      <th>473408</th>\n",
       "      <td>CVE-2012-1790</td>\n",
       "      <td>Absolute</td>\n",
       "      <td>O</td>\n",
       "    </tr>\n",
       "    <tr>\n",
       "      <th>473409</th>\n",
       "      <td>0</td>\n",
       "      <td>path</td>\n",
       "      <td>O</td>\n",
       "    </tr>\n",
       "    <tr>\n",
       "      <th>473410</th>\n",
       "      <td>0</td>\n",
       "      <td>traversal</td>\n",
       "      <td>O</td>\n",
       "    </tr>\n",
       "    <tr>\n",
       "      <th>473411</th>\n",
       "      <td>0</td>\n",
       "      <td>vulnerability</td>\n",
       "      <td>O</td>\n",
       "    </tr>\n",
       "    <tr>\n",
       "      <th>473412</th>\n",
       "      <td>0</td>\n",
       "      <td>in</td>\n",
       "      <td>O</td>\n",
       "    </tr>\n",
       "    <tr>\n",
       "      <th>473413</th>\n",
       "      <td>0</td>\n",
       "      <td>Webgrind</td>\n",
       "      <td>B-product</td>\n",
       "    </tr>\n",
       "    <tr>\n",
       "      <th>473414</th>\n",
       "      <td>0</td>\n",
       "      <td>1.0</td>\n",
       "      <td>B-version</td>\n",
       "    </tr>\n",
       "    <tr>\n",
       "      <th>473415</th>\n",
       "      <td>0</td>\n",
       "      <td>and</td>\n",
       "      <td>O</td>\n",
       "    </tr>\n",
       "    <tr>\n",
       "      <th>473416</th>\n",
       "      <td>0</td>\n",
       "      <td>1.0.2</td>\n",
       "      <td>B-version</td>\n",
       "    </tr>\n",
       "    <tr>\n",
       "      <th>473417</th>\n",
       "      <td>0</td>\n",
       "      <td>allows</td>\n",
       "      <td>O</td>\n",
       "    </tr>\n",
       "  </tbody>\n",
       "</table>\n",
       "</div>"
      ],
      "text/plain": [
       "               cve_id          words custom_bio\n",
       "473408  CVE-2012-1790       Absolute          O\n",
       "473409              0           path          O\n",
       "473410              0      traversal          O\n",
       "473411              0  vulnerability          O\n",
       "473412              0             in          O\n",
       "473413              0       Webgrind  B-product\n",
       "473414              0            1.0  B-version\n",
       "473415              0            and          O\n",
       "473416              0          1.0.2  B-version\n",
       "473417              0         allows          O"
      ]
     },
     "execution_count": 78,
     "metadata": {},
     "output_type": "execute_result"
    }
   ],
   "source": [
    "test_df.head(10)"
   ]
  },
  {
   "cell_type": "code",
   "execution_count": 95,
   "metadata": {},
   "outputs": [
    {
     "data": {
      "application/vnd.microsoft.datawrangler.viewer.v0+json": {
       "columns": [
        {
         "name": "index",
         "rawType": "int64",
         "type": "integer"
        },
        {
         "name": "cve_id",
         "rawType": "object",
         "type": "string"
        },
        {
         "name": "words",
         "rawType": "object",
         "type": "string"
        },
        {
         "name": "custom_bio",
         "rawType": "object",
         "type": "string"
        }
       ],
       "conversionMethod": "pd.DataFrame",
       "ref": "ebfc6a0a-7aa8-4ca3-a9e4-9062b66790ea",
       "rows": [
        [
         "0",
         "CVE-2012-1790",
         "Absolute",
         "O"
        ],
        [
         "1",
         "0",
         "path",
         "O"
        ],
        [
         "2",
         "0",
         "traversal",
         "O"
        ],
        [
         "3",
         "0",
         "vulnerability",
         "O"
        ],
        [
         "4",
         "0",
         "in",
         "O"
        ],
        [
         "5",
         "0",
         "Webgrind",
         "B-product"
        ],
        [
         "6",
         "0",
         "1.0",
         "B-version"
        ],
        [
         "7",
         "0",
         "and",
         "O"
        ],
        [
         "8",
         "0",
         "1.0.2",
         "B-version"
        ],
        [
         "9",
         "0",
         "allows",
         "O"
        ],
        [
         "10",
         "0",
         "remote",
         "O"
        ],
        [
         "11",
         "0",
         "attackers",
         "O"
        ],
        [
         "12",
         "0",
         "to",
         "O"
        ],
        [
         "13",
         "0",
         "read",
         "O"
        ],
        [
         "14",
         "0",
         "arbitrary",
         "O"
        ],
        [
         "15",
         "0",
         "files",
         "O"
        ],
        [
         "16",
         "0",
         "via",
         "O"
        ],
        [
         "17",
         "0",
         "a",
         "O"
        ],
        [
         "18",
         "0",
         "full",
         "O"
        ],
        [
         "19",
         "0",
         "pathname",
         "O"
        ],
        [
         "20",
         "0",
         "in",
         "O"
        ],
        [
         "21",
         "0",
         "the",
         "O"
        ],
        [
         "22",
         "0",
         "file",
         "O"
        ],
        [
         "23",
         "0",
         "parameter",
         "O"
        ],
        [
         "24",
         "0",
         "to",
         "O"
        ],
        [
         "25",
         "0",
         "index.php",
         "O"
        ],
        [
         "26",
         "0",
         ".",
         "O"
        ],
        [
         "27",
         "CVE-2011-3074",
         "Use-after-free",
         "O"
        ],
        [
         "28",
         "0",
         "vulnerability",
         "O"
        ],
        [
         "29",
         "0",
         "in",
         "O"
        ],
        [
         "30",
         "0",
         "Google",
         "B-vendor"
        ],
        [
         "31",
         "0",
         "Chrome",
         "B-product"
        ],
        [
         "32",
         "0",
         "before",
         "B-version"
        ],
        [
         "33",
         "0",
         "18.0.1025.151",
         "I-version"
        ],
        [
         "34",
         "0",
         "allows",
         "O"
        ],
        [
         "35",
         "0",
         "remote",
         "O"
        ],
        [
         "36",
         "0",
         "attackers",
         "O"
        ],
        [
         "37",
         "0",
         "to",
         "O"
        ],
        [
         "38",
         "0",
         "cause",
         "O"
        ],
        [
         "39",
         "0",
         "a",
         "O"
        ],
        [
         "40",
         "0",
         "denial",
         "O"
        ],
        [
         "41",
         "0",
         "of",
         "O"
        ],
        [
         "42",
         "0",
         "service",
         "O"
        ],
        [
         "43",
         "0",
         "or",
         "O"
        ],
        [
         "44",
         "0",
         "possibly",
         "O"
        ],
        [
         "45",
         "0",
         "have",
         "O"
        ],
        [
         "46",
         "0",
         "unspecified",
         "O"
        ],
        [
         "47",
         "0",
         "other",
         "O"
        ],
        [
         "48",
         "0",
         "impact",
         "O"
        ],
        [
         "49",
         "0",
         "via",
         "O"
        ]
       ],
       "shape": {
        "columns": 3,
        "rows": 70143
       }
      },
      "text/html": [
       "<div>\n",
       "<style scoped>\n",
       "    .dataframe tbody tr th:only-of-type {\n",
       "        vertical-align: middle;\n",
       "    }\n",
       "\n",
       "    .dataframe tbody tr th {\n",
       "        vertical-align: top;\n",
       "    }\n",
       "\n",
       "    .dataframe thead th {\n",
       "        text-align: right;\n",
       "    }\n",
       "</style>\n",
       "<table border=\"1\" class=\"dataframe\">\n",
       "  <thead>\n",
       "    <tr style=\"text-align: right;\">\n",
       "      <th></th>\n",
       "      <th>cve_id</th>\n",
       "      <th>words</th>\n",
       "      <th>custom_bio</th>\n",
       "    </tr>\n",
       "  </thead>\n",
       "  <tbody>\n",
       "    <tr>\n",
       "      <th>0</th>\n",
       "      <td>CVE-2012-1790</td>\n",
       "      <td>Absolute</td>\n",
       "      <td>O</td>\n",
       "    </tr>\n",
       "    <tr>\n",
       "      <th>1</th>\n",
       "      <td>0</td>\n",
       "      <td>path</td>\n",
       "      <td>O</td>\n",
       "    </tr>\n",
       "    <tr>\n",
       "      <th>2</th>\n",
       "      <td>0</td>\n",
       "      <td>traversal</td>\n",
       "      <td>O</td>\n",
       "    </tr>\n",
       "    <tr>\n",
       "      <th>3</th>\n",
       "      <td>0</td>\n",
       "      <td>vulnerability</td>\n",
       "      <td>O</td>\n",
       "    </tr>\n",
       "    <tr>\n",
       "      <th>4</th>\n",
       "      <td>0</td>\n",
       "      <td>in</td>\n",
       "      <td>O</td>\n",
       "    </tr>\n",
       "    <tr>\n",
       "      <th>...</th>\n",
       "      <td>...</td>\n",
       "      <td>...</td>\n",
       "      <td>...</td>\n",
       "    </tr>\n",
       "    <tr>\n",
       "      <th>70138</th>\n",
       "      <td>0</td>\n",
       "      <td>an</td>\n",
       "      <td>O</td>\n",
       "    </tr>\n",
       "    <tr>\n",
       "      <th>70139</th>\n",
       "      <td>0</td>\n",
       "      <td>unspecified</td>\n",
       "      <td>O</td>\n",
       "    </tr>\n",
       "    <tr>\n",
       "      <th>70140</th>\n",
       "      <td>0</td>\n",
       "      <td>internal</td>\n",
       "      <td>O</td>\n",
       "    </tr>\n",
       "    <tr>\n",
       "      <th>70141</th>\n",
       "      <td>0</td>\n",
       "      <td>error</td>\n",
       "      <td>O</td>\n",
       "    </tr>\n",
       "    <tr>\n",
       "      <th>70142</th>\n",
       "      <td>0</td>\n",
       "      <td>.</td>\n",
       "      <td>O</td>\n",
       "    </tr>\n",
       "  </tbody>\n",
       "</table>\n",
       "<p>70143 rows × 3 columns</p>\n",
       "</div>"
      ],
      "text/plain": [
       "              cve_id          words custom_bio\n",
       "0      CVE-2012-1790       Absolute          O\n",
       "1                  0           path          O\n",
       "2                  0      traversal          O\n",
       "3                  0  vulnerability          O\n",
       "4                  0             in          O\n",
       "...              ...            ...        ...\n",
       "70138              0             an          O\n",
       "70139              0    unspecified          O\n",
       "70140              0       internal          O\n",
       "70141              0          error          O\n",
       "70142              0              .          O\n",
       "\n",
       "[70143 rows x 3 columns]"
      ]
     },
     "execution_count": 95,
     "metadata": {},
     "output_type": "execute_result"
    }
   ],
   "source": [
    "test_df = test_df.reset_index().drop('index', axis=1)\n",
    "test_df['words'] = test_df['words'].fillna(' ')\n",
    "test_df"
   ]
  },
  {
   "cell_type": "code",
   "execution_count": 96,
   "metadata": {},
   "outputs": [],
   "source": [
    "test_df.to_csv('test_df_cve_dataset_bio.tsv', sep='\\t')"
   ]
  },
  {
   "cell_type": "markdown",
   "metadata": {},
   "source": [
    "## Evaluate"
   ]
  },
  {
   "cell_type": "code",
   "execution_count": 22,
   "metadata": {},
   "outputs": [],
   "source": [
    "from transformers import (AutoTokenizer, AutoModelForTokenClassification,\n",
    "                         pipeline)"
   ]
  },
  {
   "cell_type": "code",
   "execution_count": 23,
   "metadata": {},
   "outputs": [],
   "source": [
    "path_to_model = \"/home/mikhail/Documents/pandan_study/vkr/vulns_scanner/mikhail_code/models/nuner2_v1_150325/best_model_tmp\"\n",
    "final_tokenizer = AutoTokenizer.from_pretrained(path_to_model, use_fast=True, add_prefix_space=True, local_files_only=True)\n",
    "final_model = AutoModelForTokenClassification.from_pretrained(path_to_model, local_files_only=True)"
   ]
  },
  {
   "cell_type": "code",
   "execution_count": 82,
   "metadata": {},
   "outputs": [
    {
     "data": {
      "text/plain": [
       "Int64Index([473408, 473409, 473410, 473411, 473412, 473413, 473414, 473415,\n",
       "            473416, 473417,\n",
       "            ...\n",
       "            337475, 337476, 337477, 337478, 337479, 337480, 337481, 337482,\n",
       "            337483, 337484],\n",
       "           dtype='int64', length=70143)"
      ]
     },
     "execution_count": 82,
     "metadata": {},
     "output_type": "execute_result"
    }
   ],
   "source": [
    "test_df.index"
   ]
  },
  {
   "cell_type": "code",
   "execution_count": 24,
   "metadata": {},
   "outputs": [
    {
     "name": "stderr",
     "output_type": "stream",
     "text": [
      "Device set to use cpu\n"
     ]
    },
    {
     "name": "stdout",
     "output_type": "stream",
     "text": [
      "Entity: version   Word:  5.1-BETA-1   Prob: 0.99713945\n"
     ]
    },
    {
     "name": "stderr",
     "output_type": "stream",
     "text": [
      "/home/mikhail/.local/lib/python3.10/site-packages/transformers/pipelines/token_classification.py:398: UserWarning: Tokenizer does not support real words, using fallback heuristic\n",
      "  warnings.warn(\n"
     ]
    }
   ],
   "source": [
    "s = 'Improper Restriction of XML External Entity Reference in GitHub repository hazelcast/hazelcast in 5.1-BETA-1'\n",
    "\n",
    "token_classifier = pipeline(\n",
    "    \"token-classification\", model=final_model, aggregation_strategy=\"first\", tokenizer=final_tokenizer\n",
    ")\n",
    "res = token_classifier(s)\n",
    "for i, r in enumerate(res):\n",
    "    # print('Entity: '+ r['entity_group'] + '   Word: ' + r['word'])\n",
    "    print('Entity: '+ r['entity_group'] + '   Word: ' + r['word'] + '   Prob: ' + str(r['score']))"
   ]
  },
  {
   "cell_type": "code",
   "execution_count": 40,
   "metadata": {},
   "outputs": [
    {
     "data": {
      "text/plain": [
       "[Encoding(num_tokens=30, attributes=[ids, type_ids, tokens, offsets, attention_mask, special_tokens_mask, overflowing])]"
      ]
     },
     "execution_count": 40,
     "metadata": {},
     "output_type": "execute_result"
    }
   ],
   "source": [
    "tokens = final_tokenizer(s, return_tensors='pt', truncation=True, padding=True)\n",
    "tokens[:5]"
   ]
  },
  {
   "cell_type": "code",
   "execution_count": 56,
   "metadata": {},
   "outputs": [
    {
     "data": {
      "text/plain": [
       "tensor([    0, 27455,  1741, 40950,  1499,     9, 46917, 25468, 46718, 34177,\n",
       "           11, 39097, 30076, 32468,   523,  5182,    73,   298, 43874,  5182,\n",
       "           11,   195,     4,   134,    12,   387, 19739,    12,   134,     2])"
      ]
     },
     "execution_count": 56,
     "metadata": {},
     "output_type": "execute_result"
    }
   ],
   "source": [
    "tokens['input_ids'][0]"
   ]
  },
  {
   "cell_type": "code",
   "execution_count": null,
   "metadata": {},
   "outputs": [
    {
     "data": {
      "text/plain": [
       "'<s> Improper Restriction of XML External Entity Reference in GitHub repository hazelcast/hazelcast in 5.1-BETA-1</s>'"
      ]
     },
     "execution_count": 57,
     "metadata": {},
     "output_type": "execute_result"
    }
   ],
   "source": [
    "final_tokenizer.decode(tokens['input_ids'][0], )"
   ]
  },
  {
   "cell_type": "code",
   "execution_count": 43,
   "metadata": {},
   "outputs": [],
   "source": [
    "output = final_model(**tokens)"
   ]
  },
  {
   "cell_type": "code",
   "execution_count": 34,
   "metadata": {},
   "outputs": [
    {
     "data": {
      "text/plain": [
       "torch.Size([1, 30, 7])"
      ]
     },
     "execution_count": 34,
     "metadata": {},
     "output_type": "execute_result"
    }
   ],
   "source": [
    "output.logits.shape"
   ]
  },
  {
   "cell_type": "code",
   "execution_count": 36,
   "metadata": {},
   "outputs": [],
   "source": [
    "import numpy as np"
   ]
  },
  {
   "cell_type": "code",
   "execution_count": 46,
   "metadata": {},
   "outputs": [],
   "source": [
    "lbls_in_dataset = [\n",
    "    'O',\n",
    "    'B-product',\n",
    "    'I-product',\n",
    "    'B-vendor',\n",
    "    'I-vendor',\n",
    "    'B-version',\n",
    "    'I-version',\n",
    "]\n",
    "label2id = {v:i for i, v in enumerate(lbls_in_dataset)}\n",
    "id2label = {i:v for i, v in enumerate(lbls_in_dataset)}"
   ]
  },
  {
   "cell_type": "code",
   "execution_count": 48,
   "metadata": {},
   "outputs": [
    {
     "data": {
      "text/plain": [
       "array([0, 0, 0, 0, 0, 0, 0, 0, 0, 0, 0, 0, 0, 0, 0, 0, 0, 0, 0, 0, 0, 5,\n",
       "       5, 5, 5, 5, 5, 5, 5, 0])"
      ]
     },
     "execution_count": 48,
     "metadata": {},
     "output_type": "execute_result"
    }
   ],
   "source": [
    "res = np.argmax(output.logits.detach().numpy(), axis=2)[0]\n",
    "res"
   ]
  },
  {
   "cell_type": "code",
   "execution_count": 49,
   "metadata": {},
   "outputs": [
    {
     "data": {
      "text/plain": [
       "['O',\n",
       " 'O',\n",
       " 'O',\n",
       " 'O',\n",
       " 'O',\n",
       " 'O',\n",
       " 'O',\n",
       " 'O',\n",
       " 'O',\n",
       " 'O',\n",
       " 'O',\n",
       " 'O',\n",
       " 'O',\n",
       " 'O',\n",
       " 'O',\n",
       " 'O',\n",
       " 'O',\n",
       " 'O',\n",
       " 'O',\n",
       " 'O',\n",
       " 'O',\n",
       " 'B-version',\n",
       " 'B-version',\n",
       " 'B-version',\n",
       " 'B-version',\n",
       " 'B-version',\n",
       " 'B-version',\n",
       " 'B-version',\n",
       " 'B-version',\n",
       " 'O']"
      ]
     },
     "execution_count": 49,
     "metadata": {},
     "output_type": "execute_result"
    }
   ],
   "source": [
    "[id2label[x] for x in res]\n"
   ]
  },
  {
   "cell_type": "code",
   "execution_count": 87,
   "metadata": {},
   "outputs": [],
   "source": [
    "import torch"
   ]
  },
  {
   "cell_type": "code",
   "execution_count": 98,
   "metadata": {},
   "outputs": [],
   "source": [
    "groups = []\n",
    "current_group = []\n",
    "for _, row in test_df.iterrows():\n",
    "    if row[\"cve_id\"] != \"0\":\n",
    "        if current_group:\n",
    "            groups.append(current_group)\n",
    "        current_group = [row]\n",
    "    else:\n",
    "        current_group.append(row)\n",
    "if current_group:\n",
    "    groups.append(current_group)"
   ]
  },
  {
   "cell_type": "code",
   "execution_count": null,
   "metadata": {},
   "outputs": [
    {
     "name": "stdout",
     "output_type": "stream",
     "text": [
      "              precision    recall  f1-score   support\n",
      "\n",
      "     product       0.97      0.97      0.97      1903\n",
      "      vendor       0.98      0.99      0.98      1035\n",
      "     version       0.99      0.99      0.99      2841\n",
      "\n",
      "   micro avg       0.98      0.98      0.98      5779\n",
      "   macro avg       0.98      0.98      0.98      5779\n",
      "weighted avg       0.98      0.98      0.98      5779\n",
      "\n"
     ]
    }
   ],
   "source": [
    "from seqeval.metrics import classification_report\n",
    "y_true = []\n",
    "y_pred = []\n",
    "\n",
    "for group in groups:\n",
    "    # Extract words and ground truth labels\n",
    "    words = [row[\"words\"] for row in group]\n",
    "    true_tags = [row[\"custom_bio\"] for row in group]\n",
    "    \n",
    "    # Tokenize with word alignment\n",
    "    tokenized = final_tokenizer(\n",
    "        words,\n",
    "        is_split_into_words=True,  # Critical for per-word alignment\n",
    "        return_tensors=\"pt\",\n",
    "        truncation=True,\n",
    "        # return_offsets_mapping=True\n",
    "    ).to(final_model.device)\n",
    "    \n",
    "    # Get word-to-token mapping\n",
    "    word_ids = tokenized.word_ids(batch_index=0)\n",
    "    \n",
    "    # Inference\n",
    "    with torch.no_grad():\n",
    "        outputs = final_model(**tokenized)\n",
    "    \n",
    "    # Get predictions\n",
    "    pred_indices = torch.argmax(outputs.logits, dim=2).squeeze().tolist()\n",
    "    pred_tags = [final_model.config.id2label[idx] for idx in pred_indices]\n",
    "    \n",
    "    # Align predictions to original words\n",
    "    aligned_preds = []\n",
    "    current_word = None\n",
    "    for idx, word_id in enumerate(word_ids):\n",
    "        if word_id is None:\n",
    "            continue  # Skip special tokens\n",
    "        if word_id != current_word:\n",
    "            aligned_preds.append(pred_tags[idx])\n",
    "            current_word = word_id\n",
    "    \n",
    "    # Ensure alignment matches original word count\n",
    "    if len(aligned_preds) != len(words):\n",
    "        print(f\"Alignment error in CVE {group[0]['cve_id']}\")\n",
    "        continue\n",
    "    \n",
    "    y_true.append(true_tags)\n",
    "    y_pred.append(aligned_preds)\n",
    "\n",
    "# Compute metrics\n",
    "print(classification_report(y_true, y_pred, mode='strict'))"
   ]
  },
  {
   "cell_type": "code",
   "execution_count": 100,
   "metadata": {},
   "outputs": [
    {
     "data": {
      "text/plain": [
       "O            60626\n",
       "B-version     2841\n",
       "I-version     2542\n",
       "B-product     1903\n",
       "I-product     1193\n",
       "B-vendor      1035\n",
       "I-vendor         3\n",
       "Name: custom_bio, dtype: int64"
      ]
     },
     "execution_count": 100,
     "metadata": {},
     "output_type": "execute_result"
    }
   ],
   "source": [
    "test_df.custom_bio.value_counts()"
   ]
  },
  {
   "cell_type": "code",
   "execution_count": 102,
   "metadata": {},
   "outputs": [
    {
     "name": "stderr",
     "output_type": "stream",
     "text": [
      "Some weights of RobertaForTokenClassification were not initialized from the model checkpoint at numind/NuNER-v2.0 and are newly initialized: ['classifier.bias', 'classifier.weight']\n",
      "You should probably TRAIN this model on a down-stream task to be able to use it for predictions and inference.\n"
     ]
    }
   ],
   "source": [
    "path_to_model = \"numind/NuNER-v2.0\"\n",
    "base_tokenizer = AutoTokenizer.from_pretrained(path_to_model, use_fast=True, add_prefix_space=True)\n",
    "base_model = AutoModelForTokenClassification.from_pretrained(path_to_model)"
   ]
  },
  {
   "cell_type": "code",
   "execution_count": 103,
   "metadata": {},
   "outputs": [
    {
     "ename": "ValueError",
     "evalue": "Invalid token is found: LABEL_1. Allowed prefixes are: B|O|I.",
     "output_type": "error",
     "traceback": [
      "\u001b[0;31m---------------------------------------------------------------------------\u001b[0m",
      "\u001b[0;31mValueError\u001b[0m                                Traceback (most recent call last)",
      "\u001b[0;32m/tmp/ipykernel_6320/28917662.py\u001b[0m in \u001b[0;36m<module>\u001b[0;34m\u001b[0m\n\u001b[1;32m     47\u001b[0m \u001b[0;34m\u001b[0m\u001b[0m\n\u001b[1;32m     48\u001b[0m \u001b[0;31m# Compute metrics\u001b[0m\u001b[0;34m\u001b[0m\u001b[0;34m\u001b[0m\u001b[0m\n\u001b[0;32m---> 49\u001b[0;31m \u001b[0mprint\u001b[0m\u001b[0;34m(\u001b[0m\u001b[0mclassification_report\u001b[0m\u001b[0;34m(\u001b[0m\u001b[0my_true\u001b[0m\u001b[0;34m,\u001b[0m \u001b[0my_pred\u001b[0m\u001b[0;34m,\u001b[0m \u001b[0mmode\u001b[0m\u001b[0;34m=\u001b[0m\u001b[0;34m'strict'\u001b[0m\u001b[0;34m)\u001b[0m\u001b[0;34m)\u001b[0m\u001b[0;34m\u001b[0m\u001b[0;34m\u001b[0m\u001b[0m\n\u001b[0m",
      "\u001b[0;32m~/.local/lib/python3.10/site-packages/seqeval/metrics/sequence_labeling.py\u001b[0m in \u001b[0;36mclassification_report\u001b[0;34m(y_true, y_pred, digits, suffix, output_dict, mode, sample_weight, zero_division, scheme)\u001b[0m\n\u001b[1;32m    668\u001b[0m     \"\"\"\n\u001b[1;32m    669\u001b[0m     \u001b[0;32mif\u001b[0m \u001b[0mmode\u001b[0m \u001b[0;34m==\u001b[0m \u001b[0;34m'strict'\u001b[0m\u001b[0;34m:\u001b[0m\u001b[0;34m\u001b[0m\u001b[0;34m\u001b[0m\u001b[0m\n\u001b[0;32m--> 670\u001b[0;31m         return cr(y_true, y_pred,\n\u001b[0m\u001b[1;32m    671\u001b[0m                   \u001b[0mdigits\u001b[0m\u001b[0;34m=\u001b[0m\u001b[0mdigits\u001b[0m\u001b[0;34m,\u001b[0m\u001b[0;34m\u001b[0m\u001b[0;34m\u001b[0m\u001b[0m\n\u001b[1;32m    672\u001b[0m                   \u001b[0moutput_dict\u001b[0m\u001b[0;34m=\u001b[0m\u001b[0moutput_dict\u001b[0m\u001b[0;34m,\u001b[0m\u001b[0;34m\u001b[0m\u001b[0;34m\u001b[0m\u001b[0m\n",
      "\u001b[0;32m~/.local/lib/python3.10/site-packages/seqeval/metrics/v1.py\u001b[0m in \u001b[0;36mclassification_report\u001b[0;34m(y_true, y_pred, sample_weight, digits, output_dict, zero_division, suffix, scheme)\u001b[0m\n\u001b[1;32m    382\u001b[0m \u001b[0;34m\u001b[0m\u001b[0m\n\u001b[1;32m    383\u001b[0m     \u001b[0mentities_true\u001b[0m \u001b[0;34m=\u001b[0m \u001b[0mEntities\u001b[0m\u001b[0;34m(\u001b[0m\u001b[0my_true\u001b[0m\u001b[0;34m,\u001b[0m \u001b[0mscheme\u001b[0m\u001b[0;34m,\u001b[0m \u001b[0msuffix\u001b[0m\u001b[0;34m)\u001b[0m\u001b[0;34m\u001b[0m\u001b[0;34m\u001b[0m\u001b[0m\n\u001b[0;32m--> 384\u001b[0;31m     \u001b[0mentities_pred\u001b[0m \u001b[0;34m=\u001b[0m \u001b[0mEntities\u001b[0m\u001b[0;34m(\u001b[0m\u001b[0my_pred\u001b[0m\u001b[0;34m,\u001b[0m \u001b[0mscheme\u001b[0m\u001b[0;34m,\u001b[0m \u001b[0msuffix\u001b[0m\u001b[0;34m)\u001b[0m\u001b[0;34m\u001b[0m\u001b[0;34m\u001b[0m\u001b[0m\n\u001b[0m\u001b[1;32m    385\u001b[0m     \u001b[0mtarget_names\u001b[0m \u001b[0;34m=\u001b[0m \u001b[0msorted\u001b[0m\u001b[0;34m(\u001b[0m\u001b[0mentities_true\u001b[0m\u001b[0;34m.\u001b[0m\u001b[0munique_tags\u001b[0m \u001b[0;34m|\u001b[0m \u001b[0mentities_pred\u001b[0m\u001b[0;34m.\u001b[0m\u001b[0munique_tags\u001b[0m\u001b[0;34m)\u001b[0m\u001b[0;34m\u001b[0m\u001b[0;34m\u001b[0m\u001b[0m\n\u001b[1;32m    386\u001b[0m \u001b[0;34m\u001b[0m\u001b[0m\n",
      "\u001b[0;32m~/.local/lib/python3.10/site-packages/seqeval/scheme.py\u001b[0m in \u001b[0;36m__init__\u001b[0;34m(self, sequences, scheme, suffix, delimiter)\u001b[0m\n\u001b[1;32m    272\u001b[0m \u001b[0;34m\u001b[0m\u001b[0m\n\u001b[1;32m    273\u001b[0m     \u001b[0;32mdef\u001b[0m \u001b[0m__init__\u001b[0m\u001b[0;34m(\u001b[0m\u001b[0mself\u001b[0m\u001b[0;34m,\u001b[0m \u001b[0msequences\u001b[0m\u001b[0;34m:\u001b[0m \u001b[0mList\u001b[0m\u001b[0;34m[\u001b[0m\u001b[0mList\u001b[0m\u001b[0;34m[\u001b[0m\u001b[0mstr\u001b[0m\u001b[0;34m]\u001b[0m\u001b[0;34m]\u001b[0m\u001b[0;34m,\u001b[0m \u001b[0mscheme\u001b[0m\u001b[0;34m:\u001b[0m \u001b[0mType\u001b[0m\u001b[0;34m[\u001b[0m\u001b[0mToken\u001b[0m\u001b[0;34m]\u001b[0m\u001b[0;34m,\u001b[0m \u001b[0msuffix\u001b[0m\u001b[0;34m:\u001b[0m \u001b[0mbool\u001b[0m \u001b[0;34m=\u001b[0m \u001b[0;32mFalse\u001b[0m\u001b[0;34m,\u001b[0m \u001b[0mdelimiter\u001b[0m\u001b[0;34m:\u001b[0m \u001b[0mstr\u001b[0m \u001b[0;34m=\u001b[0m \u001b[0;34m'-'\u001b[0m\u001b[0;34m)\u001b[0m\u001b[0;34m:\u001b[0m\u001b[0;34m\u001b[0m\u001b[0;34m\u001b[0m\u001b[0m\n\u001b[0;32m--> 274\u001b[0;31m         self.entities = [\n\u001b[0m\u001b[1;32m    275\u001b[0m             \u001b[0mTokens\u001b[0m\u001b[0;34m(\u001b[0m\u001b[0mseq\u001b[0m\u001b[0;34m,\u001b[0m \u001b[0mscheme\u001b[0m\u001b[0;34m=\u001b[0m\u001b[0mscheme\u001b[0m\u001b[0;34m,\u001b[0m \u001b[0msuffix\u001b[0m\u001b[0;34m=\u001b[0m\u001b[0msuffix\u001b[0m\u001b[0;34m,\u001b[0m \u001b[0mdelimiter\u001b[0m\u001b[0;34m=\u001b[0m\u001b[0mdelimiter\u001b[0m\u001b[0;34m,\u001b[0m \u001b[0msent_id\u001b[0m\u001b[0;34m=\u001b[0m\u001b[0msent_id\u001b[0m\u001b[0;34m)\u001b[0m\u001b[0;34m.\u001b[0m\u001b[0mentities\u001b[0m\u001b[0;34m\u001b[0m\u001b[0;34m\u001b[0m\u001b[0m\n\u001b[1;32m    276\u001b[0m             \u001b[0;32mfor\u001b[0m \u001b[0msent_id\u001b[0m\u001b[0;34m,\u001b[0m \u001b[0mseq\u001b[0m \u001b[0;32min\u001b[0m \u001b[0menumerate\u001b[0m\u001b[0;34m(\u001b[0m\u001b[0msequences\u001b[0m\u001b[0;34m)\u001b[0m\u001b[0;34m\u001b[0m\u001b[0;34m\u001b[0m\u001b[0m\n",
      "\u001b[0;32m~/.local/lib/python3.10/site-packages/seqeval/scheme.py\u001b[0m in \u001b[0;36m<listcomp>\u001b[0;34m(.0)\u001b[0m\n\u001b[1;32m    273\u001b[0m     \u001b[0;32mdef\u001b[0m \u001b[0m__init__\u001b[0m\u001b[0;34m(\u001b[0m\u001b[0mself\u001b[0m\u001b[0;34m,\u001b[0m \u001b[0msequences\u001b[0m\u001b[0;34m:\u001b[0m \u001b[0mList\u001b[0m\u001b[0;34m[\u001b[0m\u001b[0mList\u001b[0m\u001b[0;34m[\u001b[0m\u001b[0mstr\u001b[0m\u001b[0;34m]\u001b[0m\u001b[0;34m]\u001b[0m\u001b[0;34m,\u001b[0m \u001b[0mscheme\u001b[0m\u001b[0;34m:\u001b[0m \u001b[0mType\u001b[0m\u001b[0;34m[\u001b[0m\u001b[0mToken\u001b[0m\u001b[0;34m]\u001b[0m\u001b[0;34m,\u001b[0m \u001b[0msuffix\u001b[0m\u001b[0;34m:\u001b[0m \u001b[0mbool\u001b[0m \u001b[0;34m=\u001b[0m \u001b[0;32mFalse\u001b[0m\u001b[0;34m,\u001b[0m \u001b[0mdelimiter\u001b[0m\u001b[0;34m:\u001b[0m \u001b[0mstr\u001b[0m \u001b[0;34m=\u001b[0m \u001b[0;34m'-'\u001b[0m\u001b[0;34m)\u001b[0m\u001b[0;34m:\u001b[0m\u001b[0;34m\u001b[0m\u001b[0;34m\u001b[0m\u001b[0m\n\u001b[1;32m    274\u001b[0m         self.entities = [\n\u001b[0;32m--> 275\u001b[0;31m             \u001b[0mTokens\u001b[0m\u001b[0;34m(\u001b[0m\u001b[0mseq\u001b[0m\u001b[0;34m,\u001b[0m \u001b[0mscheme\u001b[0m\u001b[0;34m=\u001b[0m\u001b[0mscheme\u001b[0m\u001b[0;34m,\u001b[0m \u001b[0msuffix\u001b[0m\u001b[0;34m=\u001b[0m\u001b[0msuffix\u001b[0m\u001b[0;34m,\u001b[0m \u001b[0mdelimiter\u001b[0m\u001b[0;34m=\u001b[0m\u001b[0mdelimiter\u001b[0m\u001b[0;34m,\u001b[0m \u001b[0msent_id\u001b[0m\u001b[0;34m=\u001b[0m\u001b[0msent_id\u001b[0m\u001b[0;34m)\u001b[0m\u001b[0;34m.\u001b[0m\u001b[0mentities\u001b[0m\u001b[0;34m\u001b[0m\u001b[0;34m\u001b[0m\u001b[0m\n\u001b[0m\u001b[1;32m    276\u001b[0m             \u001b[0;32mfor\u001b[0m \u001b[0msent_id\u001b[0m\u001b[0;34m,\u001b[0m \u001b[0mseq\u001b[0m \u001b[0;32min\u001b[0m \u001b[0menumerate\u001b[0m\u001b[0;34m(\u001b[0m\u001b[0msequences\u001b[0m\u001b[0;34m)\u001b[0m\u001b[0;34m\u001b[0m\u001b[0;34m\u001b[0m\u001b[0m\n\u001b[1;32m    277\u001b[0m         ]\n",
      "\u001b[0;32m~/.local/lib/python3.10/site-packages/seqeval/scheme.py\u001b[0m in \u001b[0;36mentities\u001b[0;34m(self)\u001b[0m\n\u001b[1;32m    243\u001b[0m         \u001b[0;32mwhile\u001b[0m \u001b[0mi\u001b[0m \u001b[0;34m<\u001b[0m \u001b[0mlen\u001b[0m\u001b[0;34m(\u001b[0m\u001b[0mself\u001b[0m\u001b[0;34m.\u001b[0m\u001b[0mextended_tokens\u001b[0m\u001b[0;34m)\u001b[0m\u001b[0;34m:\u001b[0m\u001b[0;34m\u001b[0m\u001b[0;34m\u001b[0m\u001b[0m\n\u001b[1;32m    244\u001b[0m             \u001b[0mtoken\u001b[0m \u001b[0;34m=\u001b[0m \u001b[0mself\u001b[0m\u001b[0;34m.\u001b[0m\u001b[0mextended_tokens\u001b[0m\u001b[0;34m[\u001b[0m\u001b[0mi\u001b[0m\u001b[0;34m]\u001b[0m\u001b[0;34m\u001b[0m\u001b[0;34m\u001b[0m\u001b[0m\n\u001b[0;32m--> 245\u001b[0;31m             \u001b[0mtoken\u001b[0m\u001b[0;34m.\u001b[0m\u001b[0mis_valid\u001b[0m\u001b[0;34m(\u001b[0m\u001b[0;34m)\u001b[0m\u001b[0;34m\u001b[0m\u001b[0;34m\u001b[0m\u001b[0m\n\u001b[0m\u001b[1;32m    246\u001b[0m             \u001b[0;32mif\u001b[0m \u001b[0mtoken\u001b[0m\u001b[0;34m.\u001b[0m\u001b[0mis_start\u001b[0m\u001b[0;34m(\u001b[0m\u001b[0mprev\u001b[0m\u001b[0;34m)\u001b[0m\u001b[0;34m:\u001b[0m\u001b[0;34m\u001b[0m\u001b[0;34m\u001b[0m\u001b[0m\n\u001b[1;32m    247\u001b[0m                 \u001b[0mend\u001b[0m \u001b[0;34m=\u001b[0m \u001b[0mself\u001b[0m\u001b[0;34m.\u001b[0m\u001b[0m_forward\u001b[0m\u001b[0;34m(\u001b[0m\u001b[0mstart\u001b[0m\u001b[0;34m=\u001b[0m\u001b[0mi\u001b[0m \u001b[0;34m+\u001b[0m \u001b[0;36m1\u001b[0m\u001b[0;34m,\u001b[0m \u001b[0mprev\u001b[0m\u001b[0;34m=\u001b[0m\u001b[0mtoken\u001b[0m\u001b[0;34m)\u001b[0m\u001b[0;34m\u001b[0m\u001b[0;34m\u001b[0m\u001b[0m\n",
      "\u001b[0;32m~/.local/lib/python3.10/site-packages/seqeval/scheme.py\u001b[0m in \u001b[0;36mis_valid\u001b[0;34m(self)\u001b[0m\n\u001b[1;32m     65\u001b[0m             \u001b[0mallowed_prefixes\u001b[0m \u001b[0;34m=\u001b[0m \u001b[0mstr\u001b[0m\u001b[0;34m(\u001b[0m\u001b[0mself\u001b[0m\u001b[0;34m.\u001b[0m\u001b[0mallowed_prefix\u001b[0m\u001b[0;34m)\u001b[0m\u001b[0;34m.\u001b[0m\u001b[0mreplace\u001b[0m\u001b[0;34m(\u001b[0m\u001b[0;34m'Prefix.'\u001b[0m\u001b[0;34m,\u001b[0m \u001b[0;34m''\u001b[0m\u001b[0;34m)\u001b[0m\u001b[0;34m\u001b[0m\u001b[0;34m\u001b[0m\u001b[0m\n\u001b[1;32m     66\u001b[0m             \u001b[0mmessage\u001b[0m \u001b[0;34m=\u001b[0m \u001b[0;34m'Invalid token is found: {}. Allowed prefixes are: {}.'\u001b[0m\u001b[0;34m\u001b[0m\u001b[0;34m\u001b[0m\u001b[0m\n\u001b[0;32m---> 67\u001b[0;31m             \u001b[0;32mraise\u001b[0m \u001b[0mValueError\u001b[0m\u001b[0;34m(\u001b[0m\u001b[0mmessage\u001b[0m\u001b[0;34m.\u001b[0m\u001b[0mformat\u001b[0m\u001b[0;34m(\u001b[0m\u001b[0mself\u001b[0m\u001b[0;34m.\u001b[0m\u001b[0mtoken\u001b[0m\u001b[0;34m,\u001b[0m \u001b[0mallowed_prefixes\u001b[0m\u001b[0;34m)\u001b[0m\u001b[0;34m)\u001b[0m\u001b[0;34m\u001b[0m\u001b[0;34m\u001b[0m\u001b[0m\n\u001b[0m\u001b[1;32m     68\u001b[0m         \u001b[0;32mreturn\u001b[0m \u001b[0;32mTrue\u001b[0m\u001b[0;34m\u001b[0m\u001b[0;34m\u001b[0m\u001b[0m\n\u001b[1;32m     69\u001b[0m \u001b[0;34m\u001b[0m\u001b[0m\n",
      "\u001b[0;31mValueError\u001b[0m: Invalid token is found: LABEL_1. Allowed prefixes are: B|O|I."
     ]
    }
   ],
   "source": [
    "from seqeval.metrics import classification_report\n",
    "y_true = []\n",
    "y_pred = []\n",
    "\n",
    "for group in groups:\n",
    "    # Extract words and ground truth labels\n",
    "    words = [row[\"words\"] for row in group]\n",
    "    true_tags = [row[\"custom_bio\"] for row in group]\n",
    "    \n",
    "    # Tokenize with word alignment\n",
    "    tokenized = base_tokenizer(\n",
    "        words,\n",
    "        is_split_into_words=True,  # Critical for per-word alignment\n",
    "        return_tensors=\"pt\",\n",
    "        truncation=True,\n",
    "        # return_offsets_mapping=True\n",
    "    ).to(base_model.device)\n",
    "    \n",
    "    # Get word-to-token mapping\n",
    "    word_ids = tokenized.word_ids(batch_index=0)\n",
    "    \n",
    "    # Inference\n",
    "    with torch.no_grad():\n",
    "        outputs = base_model(**tokenized)\n",
    "    \n",
    "    # Get predictions\n",
    "    pred_indices = torch.argmax(outputs.logits, dim=2).squeeze().tolist()\n",
    "    pred_tags = [base_model.config.id2label[idx] for idx in pred_indices]\n",
    "    \n",
    "    # Align predictions to original words\n",
    "    aligned_preds = []\n",
    "    current_word = None\n",
    "    for idx, word_id in enumerate(word_ids):\n",
    "        if word_id is None:\n",
    "            continue  # Skip special tokens\n",
    "        if word_id != current_word:\n",
    "            aligned_preds.append(pred_tags[idx])\n",
    "            current_word = word_id\n",
    "    \n",
    "    # Ensure alignment matches original word count\n",
    "    if len(aligned_preds) != len(words):\n",
    "        print(f\"Alignment error in CVE {group[0]['cve_id']}\")\n",
    "        continue\n",
    "    \n",
    "    y_true.append(true_tags)\n",
    "    y_pred.append(aligned_preds)\n",
    "\n",
    "# Compute metrics\n",
    "print(classification_report(y_true, y_pred, mode='strict'))"
   ]
  },
  {
   "cell_type": "markdown",
   "metadata": {},
   "source": [
    "## Создаём валидационный датасет, не участвующий в обучении\n",
    "\n",
    "Его CVE не будут входить в train\\test"
   ]
  },
  {
   "cell_type": "code",
   "execution_count": 105,
   "metadata": {},
   "outputs": [],
   "source": [
    "import pandas as pd\n",
    "import psycopg2 as p2\n",
    "from psycopg2 import sql\n",
    "from collections import Counter"
   ]
  },
  {
   "cell_type": "code",
   "execution_count": 110,
   "metadata": {},
   "outputs": [
    {
     "data": {
      "application/vnd.microsoft.datawrangler.viewer.v0+json": {
       "columns": [
        {
         "name": "index",
         "rawType": "int64",
         "type": "integer"
        },
        {
         "name": "cve_id",
         "rawType": "object",
         "type": "string"
        },
        {
         "name": "cpe_id_pk",
         "rawType": "int64",
         "type": "integer"
        },
        {
         "name": "vendor",
         "rawType": "object",
         "type": "string"
        },
        {
         "name": "product",
         "rawType": "object",
         "type": "string"
        },
        {
         "name": "version",
         "rawType": "object",
         "type": "string"
        },
        {
         "name": "descr",
         "rawType": "object",
         "type": "string"
        },
        {
         "name": "initial_cpe",
         "rawType": "object",
         "type": "string"
        }
       ],
       "conversionMethod": "pd.DataFrame",
       "ref": "cf4950a2-8771-47d7-a044-64b0ab39cbe3",
       "rows": [
        [
         "0",
         "CVE-2004-0134",
         "1128",
         "sgi",
         "irix",
         "6.5.15m",
         "cpr (libcpr) in SGI IRIX before 6.5.25 allows local users to gain privileges by loading a user provided library while restarting the checkpointed process.",
         "cpe:2.3:o:sgi:irix:6.5.15m:*:*:*:*:*:*:*"
        ],
        [
         "1",
         "CVE-2004-0823",
         "5101",
         "openldap",
         "openldap",
         "2.1.15",
         "OpenLDAP 1.0 through 2.1.19, as used in Apple Mac OS 10.3.4 and 10.3.5 and possibly other operating systems, may allow certain authentication schemes to use hashed (crypt) passwords in the userPassword attribute as if they were plaintext passwords, which allows remote attackers to re-use hashed passwords without decrypting them.",
         "cpe:2.3:a:openldap:openldap:2.1.15:*:*:*:*:*:*:*"
        ],
        [
         "2",
         "CVE-2004-0823",
         "5122",
         "openldap",
         "openldap",
         "2.0.25",
         "OpenLDAP 1.0 through 2.1.19, as used in Apple Mac OS 10.3.4 and 10.3.5 and possibly other operating systems, may allow certain authentication schemes to use hashed (crypt) passwords in the userPassword attribute as if they were plaintext passwords, which allows remote attackers to re-use hashed passwords without decrypting them.",
         "cpe:2.3:a:openldap:openldap:2.0.25:*:*:*:*:*:*:*"
        ],
        [
         "3",
         "CVE-2004-1149",
         "6552",
         "broadcom",
         "etrust_ez_antivirus",
         "7.0.1.3",
         "Computer Associates eTrust EZ Antivirus 7.0.0 to 7.0.4, including 7.0.1.4, installs its files with insecure permissions (ACLs), which allows local users to gain privileges by replacing critical programs with malicious ones, as demonstrated using VetMsg.exe.",
         "cpe:2.3:a:broadcom:etrust_ez_antivirus:7.0.1.3:*:*:*:*:*:*:*"
        ],
        [
         "4",
         "CVE-2004-2022",
         "9258",
         "activestate",
         "activeperl",
         "5.7.2",
         "ActivePerl 5.8.x and others, and Larry Wall's Perl 5.6.1 and others, when running on Windows systems, allows attackers to cause a denial of service (crash) and possibly execute arbitrary code via a long argument to the system command, which leads to a stack-based buffer overflow.  NOTE: it is unclear whether this bug is in Perl or the OS API that is used by Perl.",
         "cpe:2.3:a:activestate:activeperl:5.7.2:*:*:*:*:*:*:*"
        ]
       ],
       "shape": {
        "columns": 7,
        "rows": 5
       }
      },
      "text/html": [
       "<div>\n",
       "<style scoped>\n",
       "    .dataframe tbody tr th:only-of-type {\n",
       "        vertical-align: middle;\n",
       "    }\n",
       "\n",
       "    .dataframe tbody tr th {\n",
       "        vertical-align: top;\n",
       "    }\n",
       "\n",
       "    .dataframe thead th {\n",
       "        text-align: right;\n",
       "    }\n",
       "</style>\n",
       "<table border=\"1\" class=\"dataframe\">\n",
       "  <thead>\n",
       "    <tr style=\"text-align: right;\">\n",
       "      <th></th>\n",
       "      <th>cve_id</th>\n",
       "      <th>cpe_id_pk</th>\n",
       "      <th>vendor</th>\n",
       "      <th>product</th>\n",
       "      <th>version</th>\n",
       "      <th>descr</th>\n",
       "      <th>initial_cpe</th>\n",
       "    </tr>\n",
       "  </thead>\n",
       "  <tbody>\n",
       "    <tr>\n",
       "      <th>0</th>\n",
       "      <td>CVE-2004-0134</td>\n",
       "      <td>1128</td>\n",
       "      <td>sgi</td>\n",
       "      <td>irix</td>\n",
       "      <td>6.5.15m</td>\n",
       "      <td>cpr (libcpr) in SGI IRIX before 6.5.25 allows ...</td>\n",
       "      <td>cpe:2.3:o:sgi:irix:6.5.15m:*:*:*:*:*:*:*</td>\n",
       "    </tr>\n",
       "    <tr>\n",
       "      <th>1</th>\n",
       "      <td>CVE-2004-0823</td>\n",
       "      <td>5101</td>\n",
       "      <td>openldap</td>\n",
       "      <td>openldap</td>\n",
       "      <td>2.1.15</td>\n",
       "      <td>OpenLDAP 1.0 through 2.1.19, as used in Apple ...</td>\n",
       "      <td>cpe:2.3:a:openldap:openldap:2.1.15:*:*:*:*:*:*:*</td>\n",
       "    </tr>\n",
       "    <tr>\n",
       "      <th>2</th>\n",
       "      <td>CVE-2004-0823</td>\n",
       "      <td>5122</td>\n",
       "      <td>openldap</td>\n",
       "      <td>openldap</td>\n",
       "      <td>2.0.25</td>\n",
       "      <td>OpenLDAP 1.0 through 2.1.19, as used in Apple ...</td>\n",
       "      <td>cpe:2.3:a:openldap:openldap:2.0.25:*:*:*:*:*:*:*</td>\n",
       "    </tr>\n",
       "    <tr>\n",
       "      <th>3</th>\n",
       "      <td>CVE-2004-1149</td>\n",
       "      <td>6552</td>\n",
       "      <td>broadcom</td>\n",
       "      <td>etrust_ez_antivirus</td>\n",
       "      <td>7.0.1.3</td>\n",
       "      <td>Computer Associates eTrust EZ Antivirus 7.0.0 ...</td>\n",
       "      <td>cpe:2.3:a:broadcom:etrust_ez_antivirus:7.0.1.3...</td>\n",
       "    </tr>\n",
       "    <tr>\n",
       "      <th>4</th>\n",
       "      <td>CVE-2004-2022</td>\n",
       "      <td>9258</td>\n",
       "      <td>activestate</td>\n",
       "      <td>activeperl</td>\n",
       "      <td>5.7.2</td>\n",
       "      <td>ActivePerl 5.8.x and others, and Larry Wall's ...</td>\n",
       "      <td>cpe:2.3:a:activestate:activeperl:5.7.2:*:*:*:*...</td>\n",
       "    </tr>\n",
       "  </tbody>\n",
       "</table>\n",
       "</div>"
      ],
      "text/plain": [
       "          cve_id  cpe_id_pk       vendor              product  version  \\\n",
       "0  CVE-2004-0134       1128          sgi                 irix  6.5.15m   \n",
       "1  CVE-2004-0823       5101     openldap             openldap   2.1.15   \n",
       "2  CVE-2004-0823       5122     openldap             openldap   2.0.25   \n",
       "3  CVE-2004-1149       6552     broadcom  etrust_ez_antivirus  7.0.1.3   \n",
       "4  CVE-2004-2022       9258  activestate           activeperl    5.7.2   \n",
       "\n",
       "                                               descr  \\\n",
       "0  cpr (libcpr) in SGI IRIX before 6.5.25 allows ...   \n",
       "1  OpenLDAP 1.0 through 2.1.19, as used in Apple ...   \n",
       "2  OpenLDAP 1.0 through 2.1.19, as used in Apple ...   \n",
       "3  Computer Associates eTrust EZ Antivirus 7.0.0 ...   \n",
       "4  ActivePerl 5.8.x and others, and Larry Wall's ...   \n",
       "\n",
       "                                         initial_cpe  \n",
       "0           cpe:2.3:o:sgi:irix:6.5.15m:*:*:*:*:*:*:*  \n",
       "1   cpe:2.3:a:openldap:openldap:2.1.15:*:*:*:*:*:*:*  \n",
       "2   cpe:2.3:a:openldap:openldap:2.0.25:*:*:*:*:*:*:*  \n",
       "3  cpe:2.3:a:broadcom:etrust_ez_antivirus:7.0.1.3...  \n",
       "4  cpe:2.3:a:activestate:activeperl:5.7.2:*:*:*:*...  "
      ]
     },
     "execution_count": 110,
     "metadata": {},
     "output_type": "execute_result"
    }
   ],
   "source": [
    "dbname = \"vulns_scanner\"\n",
    "user = 'postgres'\n",
    "password = 'postgres'\n",
    "host = 'localhost'\n",
    "port = '5432'\n",
    "\n",
    "conn = p2.connect(dbname=dbname, user=user, password=password, host=host, port=port)\n",
    "cur = conn.cursor()\n",
    "cur.execute('''\n",
    "select cve_id, cpe_id_pk, vendor, product, version, descr, initial_cpe   \n",
    "from cves c inner join descriptions d on c.cve_id_pk=d.cve_id_fk\n",
    "inner join cve_cpe_config ccc on c.cve_id_pk=ccc.cve_id_fk inner join cpes cp on ccc.cpe_id_fk=cp.cpe_id_pk \n",
    "where descr like '%_._%'\n",
    "limit 100000\n",
    "''')\n",
    "colnames = [desc[0] for desc in cur.description]\n",
    "tuples = cur.fetchall()\n",
    "cur.close()\n",
    "df = pd.DataFrame(tuples, columns=colnames)\n",
    "df.head()"
   ]
  },
  {
   "cell_type": "code",
   "execution_count": 166,
   "metadata": {},
   "outputs": [],
   "source": [
    "df_sample = df[(~df.cve_id.isin(train_df.cve_id.unique())) & (~df.cve_id.isin(test_df.cve_id.unique()))].sample(110)"
   ]
  },
  {
   "cell_type": "code",
   "execution_count": 167,
   "metadata": {},
   "outputs": [],
   "source": [
    "df_sample = df_sample.drop_duplicates(subset=['cve_id']).iloc[:100]"
   ]
  },
  {
   "cell_type": "code",
   "execution_count": 168,
   "metadata": {},
   "outputs": [
    {
     "data": {
      "text/plain": [
       "(100, 7)"
      ]
     },
     "execution_count": 168,
     "metadata": {},
     "output_type": "execute_result"
    }
   ],
   "source": [
    "df_sample.shape"
   ]
  },
  {
   "cell_type": "code",
   "execution_count": 169,
   "metadata": {},
   "outputs": [
    {
     "data": {
      "text/plain": [
       "Counter({'2023': 25,\n",
       "         '2008': 1,\n",
       "         '2020': 5,\n",
       "         '2022': 16,\n",
       "         '2021': 8,\n",
       "         '2016': 4,\n",
       "         '2005': 1,\n",
       "         '2014': 4,\n",
       "         '2018': 6,\n",
       "         '2004': 2,\n",
       "         '2017': 8,\n",
       "         '2019': 6,\n",
       "         '2015': 5,\n",
       "         '2024': 1,\n",
       "         '2013': 3,\n",
       "         '2012': 2,\n",
       "         '2006': 1,\n",
       "         '2009': 1,\n",
       "         '2001': 1})"
      ]
     },
     "execution_count": 169,
     "metadata": {},
     "output_type": "execute_result"
    }
   ],
   "source": [
    "Counter(df_sample.cve_id.astype(str).apply(lambda x: x[4:8]))"
   ]
  },
  {
   "cell_type": "code",
   "execution_count": 170,
   "metadata": {},
   "outputs": [
    {
     "data": {
      "text/plain": [
       "set()"
      ]
     },
     "execution_count": 170,
     "metadata": {},
     "output_type": "execute_result"
    }
   ],
   "source": [
    "set(df_sample.cve_id.unique()) & set(train_df.cve_id.unique())"
   ]
  },
  {
   "cell_type": "code",
   "execution_count": 171,
   "metadata": {},
   "outputs": [
    {
     "data": {
      "text/plain": [
       "set()"
      ]
     },
     "execution_count": 171,
     "metadata": {},
     "output_type": "execute_result"
    }
   ],
   "source": [
    "set(df_sample.cve_id.unique()) & set(test_df.cve_id.unique())"
   ]
  },
  {
   "cell_type": "code",
   "execution_count": 172,
   "metadata": {},
   "outputs": [],
   "source": [
    "df_sample.to_csv('df_100_not_in_stucco_v2.csv', index=False)"
   ]
  },
  {
   "cell_type": "code",
   "execution_count": 173,
   "metadata": {},
   "outputs": [
    {
     "data": {
      "application/vnd.microsoft.datawrangler.viewer.v0+json": {
       "columns": [
        {
         "name": "index",
         "rawType": "int64",
         "type": "integer"
        },
        {
         "name": "cve_id",
         "rawType": "object",
         "type": "string"
        },
        {
         "name": "cpe_id_pk",
         "rawType": "int64",
         "type": "integer"
        },
        {
         "name": "vendor",
         "rawType": "object",
         "type": "string"
        },
        {
         "name": "product",
         "rawType": "object",
         "type": "string"
        },
        {
         "name": "version",
         "rawType": "object",
         "type": "string"
        },
        {
         "name": "descr",
         "rawType": "object",
         "type": "string"
        },
        {
         "name": "initial_cpe",
         "rawType": "object",
         "type": "string"
        }
       ],
       "conversionMethod": "pd.DataFrame",
       "ref": "917c23ca-c9e1-44b3-a047-8e2db066fde9",
       "rows": [
        [
         "85738",
         "CVE-2023-0878",
         "294697",
         "nuxt",
         "nuxt",
         "1.0.0",
         "Cross-site Scripting (XSS) - Generic in GitHub repository nuxt/framework prior to 3.2.1.",
         "cpe:2.3:a:nuxt:nuxt:1.0.0:rc8:*:*:*:*:*:*"
        ],
        [
         "67391",
         "CVE-2008-0444",
         "273643",
         "elog",
         "elog",
         "2.2.0",
         "Cross-site scripting (XSS) vulnerability in Electronic Logbook (ELOG) before 2.7.0 allows remote attackers to inject arbitrary web script or HTML via subtext parameter to unspecified components.",
         "cpe:2.3:a:elog:elog:2.2.0:*:*:*:*:*:*:*"
        ],
        [
         "56731",
         "CVE-2020-14518",
         "460900",
         "philips",
         "dreammapper",
         "2.17.1",
         "Philips DreamMapper, Version 2.24 and prior. Information written to log files can give guidance to a potential attacker.",
         "cpe:2.3:a:philips:dreammapper:2.17.1:*:*:*:*:iphone_os:*:*"
        ],
        [
         "98299",
         "CVE-2022-27858",
         "141525",
         "activity_log_project",
         "activity_log",
         "2.2.8",
         "CSV Injection vulnerability in Activity Log Team Activity Log <= 2.8.3 on WordPress.\n\n",
         "cpe:2.3:a:activity_log_project:activity_log:2.2.8:*:*:*:*:wordpress:*:*"
        ],
        [
         "72771",
         "CVE-2022-4725",
         "214060",
         "amazon",
         "aws_software_development_kit",
         "2.2.4",
         "A vulnerability was found in AWS SDK 2.59.0. It has been rated as critical. This issue affects the function XpathUtils of the file aws-android-sdk-core/src/main/java/com/amazonaws/util/XpathUtils.java of the component XML Parser. The manipulation leads to server-side request forgery. Upgrading to version 2.59.1 is able to address this issue. The name of the patch is c3e6d69422e1f0c80fe53f2d757b8df97619af2b. It is recommended to upgrade the affected component. The identifier VDB-216737 was assigned to this vulnerability.",
         "cpe:2.3:a:amazon:aws_software_development_kit:2.2.4:*:*:*:*:android:*:*"
        ],
        [
         "55350",
         "CVE-2021-32691",
         "625325",
         "apollosapp",
         "data-connector-rock",
         "1.2.5",
         "Apollos Apps is an open source platform for launching church-related apps. In Apollos Apps versions prior to 2.20.0, new user registrations are able to access anyone's account by only knowing their basic profile information (name, birthday, gender, etc). This includes all app functionality within the app, as well as any authenticated links to Rock-based webpages (such as giving and events). There is a patch in version 2.20.0. As a workaround, one can patch one's server by overriding the `create` data source method on the `People` class.",
         "cpe:2.3:a:apollosapp:data-connector-rock:1.2.5:-:*:*:*:node.js:*:*"
        ],
        [
         "22083",
         "CVE-2016-4572",
         "435704",
         "cloudera",
         "cdh",
         "5.5.1",
         "In Cloudera CDH before 5.7.1, Impala REVOKE ALL ON SERVER commands do not revoke all privileges.",
         "cpe:2.3:a:cloudera:cdh:5.5.1:*:*:*:*:*:*:*"
        ],
        [
         "54222",
         "CVE-2023-31441",
         "341885",
         "ncia",
         "advisor_network",
         "2.2.0",
         "In NATO Communications and Information Agency anet (aka Advisor Network) through 3.3.0, an attacker can provide a crafted JSON file to sanitizeJson and cause an exception. This is related to the U+FFFD Unicode replacement character. A for loop does not consider that a data structure is being modified during loop execution.",
         "cpe:2.3:a:ncia:advisor_network:2.2.0:*:*:*:*:*:*:*"
        ],
        [
         "31346",
         "CVE-2023-42261",
         "372961",
         "opensecurity",
         "mobile_security_framework",
         "0.9.4.1",
         "Mobile Security Framework (MobSF) <=v3.7.8 Beta is vulnerable to Insecure Permissions. NOTE: the vendor's position is that authentication is intentionally not implemented because the product is not intended for an untrusted network environment. Use cases requiring authentication could, for example, use a reverse proxy server.",
         "cpe:2.3:a:opensecurity:mobile_security_framework:0.9.4.1:*:*:*:*:*:*:*"
        ],
        [
         "62539",
         "CVE-2022-36532",
         "175865",
         "bolt",
         "bolt_cms",
         "3.0.2",
         "Bolt CMS contains a vulnerability in version 5.1.12 and below that allows an authenticated user with the ROLE_EDITOR privileges to upload and rename a malicious file to achieve remote code execution.",
         "cpe:2.3:a:bolt:bolt_cms:3.0.2:*:*:*:*:*:*:*"
        ],
        [
         "6390",
         "CVE-2023-5654",
         "409357",
         "facebook",
         "react-devtools",
         "4.10.4",
         "The React Developer Tools extension registers a message listener with window.addEventListener('message', <listener>) in a content script that is accessible to any webpage that is active in the browser. Within the listener is code that requests a URL derived from the received message via fetch(). The URL is not validated or sanitised before it is fetched, thus allowing a malicious web page to arbitrarily fetch URL’s via the victim's browser.",
         "cpe:2.3:a:facebook:react-devtools:4.10.4:*:*:*:*:*:*:*"
        ],
        [
         "21476",
         "CVE-2005-4194",
         "57989",
         "innovateware",
         "sights_n_sounds_streaming_media_server",
         "",
         "Buffer overflow in MediaServerList.exe in Sights 'n Sounds Streaming Media Server 2.0.3.a allows remote attackers to cause a denial of service (application crash) via a long query string.",
         "cpe:2.3:a:innovateware:sights_n_sounds_streaming_media_server:*:*:*:*:*:*:*:*"
        ],
        [
         "57562",
         "CVE-2023-35094",
         "353966",
         "mpembed",
         "wp_matterport_shortcode",
         "1.7.1",
         "Auth. (contributor+) Stored Cross-Site Scripting (XSS) vulnerability in Julien Berthelot / MPEmbed WP Matterport Shortcode plugin <= 2.1.4 versions.",
         "cpe:2.3:a:mpembed:wp_matterport_shortcode:1.7.1:*:*:*:*:wordpress:*:*"
        ],
        [
         "64278",
         "CVE-2014-7851",
         "723387",
         "redhat",
         "ovirt-engine",
         "3.3",
         "oVirt 3.2.2 through 3.5.0 does not invalidate the restapi session after logout from the webadmin, which allows remote authenticated users with knowledge of another user's session data to gain that user's privileges by replacing their session token with that of another user.",
         "cpe:2.3:a:redhat:ovirt-engine:3.3:rc1:*:*:*:*:*:*"
        ],
        [
         "28990",
         "CVE-2018-5429",
         "538870",
         "tibco",
         "jasperreports_library",
         "6.3.2",
         "A vulnerability in the report scripting component of TIBCO Software Inc.'s TIBCO JasperReports Server, TIBCO JasperReports Server Community Edition, TIBCO JasperReports Server for ActiveMatrix BPM, TIBCO JasperReports Library, TIBCO JasperReports Library Community Edition, TIBCO JasperReports Library for ActiveMatrix BPM, TIBCO Jaspersoft for AWS with Multi-Tenancy, TIBCO Jaspersoft Reporting and Analytics for AWS, TIBCO Jaspersoft Studio, TIBCO Jaspersoft Studio Community Edition, and TIBCO Jaspersoft Studio for ActiveMatrix BPM may allow analytic reports that contain scripting to perform arbitrary code execution. Affected releases include TIBCO Software Inc.'s TIBCO JasperReports Server: versions up to and including 6.2.4; 6.3.0; 6.3.2;6.3.3; 6.4.0; 6.4.2, TIBCO JasperReports Server Community Edition: versions up to and including 6.4.2, TIBCO JasperReports Server for ActiveMatrix BPM: versions up to and including 6.4.2, TIBCO JasperReports Library: versions up to and including 6.2.4; 6.3.0; 6.3.2; 6.3.3; 6.4.0; 6.4.1; 6.4.2, TIBCO JasperReports Library Community Edition: versions up to and including 6.4.3, TIBCO JasperReports Library for ActiveMatrix BPM: versions up to and including 6.4.2, TIBCO Jaspersoft for AWS with Multi-Tenancy: versions up to and including 6.4.2, TIBCO Jaspersoft Reporting and Analytics for AWS: versions up to and including 6.4.2, TIBCO Jaspersoft Studio: versions up to and including 6.2.4; 6.3.0; 6.3.2; 6.3.3; 6.4.0; 6.4.2, TIBCO Jaspersoft Studio Community Edition: versions up to and including 6.4.3, TIBCO Jaspersoft Studio for ActiveMatrix BPM: versions up to and including 6.4.2.",
         "cpe:2.3:a:tibco:jasperreports_library:6.3.2:*:*:*:*:*:*:*"
        ],
        [
         "21449",
         "CVE-2004-0431",
         "2712",
         "apple",
         "quicktime",
         "6.5",
         "Integer overflow in Apple QuickTime (QuickTime.qts) before 6.5.1 allows attackers to execute arbitrary code via a large \"number of entries\" field in the sample-to-chunk table data for a .mov movie file, which leads to a heap-based buffer overflow.",
         "cpe:2.3:a:apple:quicktime:6.5:*:*:*:*:*:*:*"
        ],
        [
         "14106",
         "CVE-2023-0166",
         "288596",
         "pickplugins",
         "product_slider_for_woocommerce",
         "1.12.16",
         "The Product Slider for WooCommerce by PickPlugins WordPress plugin before 1.13.42 does not validate and escape some of its shortcode attributes before outputting them back in a page/post where the shortcode is embed, which could allow users with the contributor role and above to perform Stored Cross-Site Scripting attacks.",
         "cpe:2.3:a:pickplugins:product_slider_for_woocommerce:1.12.16:*:*:*:*:wordpress:*:*"
        ],
        [
         "84252",
         "CVE-2017-12976",
         "660883",
         "git-annex_project",
         "git-annex",
         "6.20160211",
         "git-annex before 6.20170818 allows remote attackers to execute arbitrary commands via an ssh URL with an initial dash character in the hostname, as demonstrated by an ssh://-eProxyCommand= URL, a related issue to CVE-2017-9800, CVE-2017-12836, CVE-2017-1000116, and CVE-2017-1000117.",
         "cpe:2.3:a:git-annex_project:git-annex:6.20160211:*:*:*:*:*:*:*"
        ],
        [
         "97247",
         "CVE-2021-21423",
         "598693",
         "projen_project",
         "projen",
         "0.15.3",
         "`projen` is a project generation tool that synthesizes project configuration files such as `package.json`, `tsconfig.json`, `.gitignore`, GitHub Workflows, `eslint`, `jest`, and more, from a well-typed definition written in JavaScript. Users of projen's `NodeProject` project type (including any project type derived from it) include a `.github/workflows/rebuild-bot.yml` workflow that may allow any GitHub user to trigger execution of un-trusted code in the context of the \"main\" repository (as opposed to that of a fork). In some situations, such untrusted code may potentially be able to commit to the \"main\" repository. The rebuild-bot workflow is triggered by comments including `@projen rebuild` on pull-request to trigger a re-build of the projen project, and updating the pull request with the updated files. This workflow is triggered by an `issue_comment` event, and thus always executes with a `GITHUB_TOKEN` belonging to the repository into which the pull-request is made (this is in contrast with workflows triggered by `pull_request` events, which always execute with a `GITHUB_TOKEN` belonging to the repository from which the pull-request is made). Repositories that do not have branch protection configured on their default branch (typically `main` or `master`) could possibly allow an untrusted user to gain access to secrets configured on the repository (such as NPM tokens, etc). Branch protection prohibits this escalation, as the managed `GITHUB_TOKEN` would not be able to modify the contents of a protected branch and affected workflows must be defined on the default branch.",
         "cpe:2.3:a:projen_project:projen:0.15.3:*:*:*:*:node.js:*:*"
        ],
        [
         "49456",
         "CVE-2021-3765",
         "633684",
         "validator_project",
         "validator",
         "3.19.1",
         "validator.js is vulnerable to Inefficient Regular Expression Complexity",
         "cpe:2.3:a:validator_project:validator:3.19.1:*:*:*:*:node.js:*:*"
        ],
        [
         "98214",
         "CVE-2019-11504",
         "686626",
         "zotonic",
         "zotonic",
         "0.24.1",
         "Zotonic before version 0.47 has mod_admin XSS.",
         "cpe:2.3:a:zotonic:zotonic:0.24.1:*:*:*:*:*:*:*"
        ],
        [
         "62641",
         "CVE-2023-25975",
         "319514",
         "etsy_shop_project",
         "etsy_shop",
         "0.11",
         "Cross-Site Request Forgery (CSRF) vulnerability in Frédéric Sheedy Etsy Shop plugin <= 3.0.3 versions.",
         "cpe:2.3:a:etsy_shop_project:etsy_shop:0.11:*:*:*:*:wordpress:*:*"
        ],
        [
         "39651",
         "CVE-2022-23993",
         "114133",
         "pfsense",
         "pfsense",
         "2.3.0",
         "/usr/local/www/pkg.php in pfSense CE before 2.6.0 and pfSense Plus before 22.01 uses $_REQUEST['pkg_filter'] in a PHP echo call, causing XSS.",
         "cpe:2.3:a:pfsense:pfsense:2.3.0:*:*:*:*:*:*:*"
        ],
        [
         "27290",
         "CVE-2018-1000831",
         "512048",
         "k9mail",
         "k-9_mail",
         "5.200",
         "K9Mail version <= v5.600 contains a XML External Entity (XXE) vulnerability in WebDAV response parser that can result in Disclosure of confidential data, denial of service, SSRF, port scanning. This attack appear to be exploitable via malicious WebDAV server or intercept the reponse of a valid WebDAV server.",
         "cpe:2.3:a:k9mail:k-9_mail:5.200:*:*:*:*:*:*:*"
        ],
        [
         "17193",
         "CVE-2017-1207",
         "659454",
         "ibm",
         "integration_bus",
         "9.0.0",
         "IBM WebSphere Message Broker stores user credentials in plain in clear text which can be read by a local user. IBM X-Force ID: 123777.",
         "cpe:2.3:a:ibm:integration_bus:9.0.0:*:*:*:*:*:*:*"
        ],
        [
         "38522",
         "CVE-2017-1723",
         "667334",
         "ibm",
         "qradar_network_insights",
         "7.2.8",
         "IBM Security QRadar SIEM 7.2 and 7.3 could allow a remote attacker to traverse directories on the system. An attacker could send a specially-crafted URL request containing \"dot dot\" sequences (/../) to view arbitrary files on the system. IBM X-Force ID: 134812.",
         "cpe:2.3:a:ibm:qradar_network_insights:7.2.8:p10:*:*:*:*:*:*"
        ],
        [
         "58573",
         "CVE-2015-8360",
         "582917",
         "atlassian",
         "bamboo",
         "2.5.5",
         "An unspecified resource in Atlassian Bamboo before 5.9.9 and 5.10.x before 5.10.0 allows remote attackers to execute arbitrary Java code via serialized data to the JMS port.",
         "cpe:2.3:a:atlassian:bamboo:2.5.5:*:*:*:*:*:*:*"
        ],
        [
         "13181",
         "CVE-2015-3933",
         "577007",
         "metalgenix",
         "genixcms",
         "0.0.3",
         "Multiple SQL injection vulnerabilities in inc/lib/User.class.php in MetalGenix GeniXCMS before 0.0.3-patch allow remote attackers to execute arbitrary SQL commands via the (1) email parameter or (2) userid parameter to register.php.",
         "cpe:2.3:a:metalgenix:genixcms:0.0.3:patch:*:*:*:*:*:*"
        ],
        [
         "32284",
         "CVE-2015-1913",
         "574002",
         "ibm",
         "rational_test_workbench",
         "8.0.1.4",
         "Rational Test Control Panel in IBM Rational Test Workbench and Rational Test Virtualization Server 8.0.0.x before 8.0.0.5, 8.0.1.x before 8.0.1.6, 8.5.0.x before 8.5.0.4, 8.5.1.x before 8.5.1.5, 8.6.0.x before 8.6.0.4, and 8.7.0.x before 8.7.0.2 uses the MD5 algorithm for password hashing, which makes it easier for remote attackers to bypass authentication via unspecified vectors.",
         "cpe:2.3:a:ibm:rational_test_workbench:8.0.1.4:*:*:*:*:*:*:*"
        ],
        [
         "81692",
         "CVE-2022-36296",
         "174494",
         "jumpdemand",
         "activedemand",
         "0.1.64",
         "Broken Authentication vulnerability in JumpDEMAND Inc. ActiveDEMAND plugin <= 0.2.27 at WordPress allows unauthenticated post update/create/delete.\n\n",
         "cpe:2.3:a:jumpdemand:activedemand:0.1.64:*:*:*:*:wordpress:*:*"
        ],
        [
         "65714",
         "CVE-2021-43009",
         "646632",
         "opservices",
         "opmon",
         "9.9",
         "A Cross Site Scripting (XSS) vulnerability exists in OpServices OpMon through 9.11 via the search parameter in the request URL.",
         "cpe:2.3:a:opservices:opmon:9.9:*:*:*:*:*:*:*"
        ],
        [
         "56623",
         "CVE-2023-26517",
         "323070",
         "plugin-planet",
         "dashboard_widget_suite",
         "1.5",
         "Auth. (admin+) Stored Cross-Site Scripting (XSS) vulnerability in Jeff Starr Dashboard Widgets Suite plugin <= 3.2.1 versions.",
         "cpe:2.3:a:plugin-planet:dashboard_widget_suite:1.5:*:*:*:*:wordpress:*:*"
        ],
        [
         "25909",
         "CVE-2019-19919",
         "702629",
         "handlebars.js_project",
         "handlebars.js",
         "4.0.3",
         "Versions of handlebars prior to 4.3.0 are vulnerable to Prototype Pollution leading to Remote Code Execution. Templates may alter an Object's __proto__ and __defineGetter__ properties, which may allow an attacker to execute arbitrary code through crafted payloads.",
         "cpe:2.3:a:handlebars.js_project:handlebars.js:4.0.3:-:*:*:*:node.js:*:*"
        ],
        [
         "18045",
         "CVE-2017-11348",
         "657882",
         "octopus",
         "octopus_server",
         "3.2.20",
         "In Octopus Deploy 3.x before 3.15.4, an authenticated user with PackagePush permission to upload packages could upload a maliciously crafted NuGet package, potentially overwriting other packages or modifying system files. This is a directory traversal in the PackageId value.",
         "cpe:2.3:a:octopus:octopus_server:3.2.20:*:*:*:*:*:*:*"
        ],
        [
         "88251",
         "CVE-2022-24124",
         "114598",
         "casbin",
         "casdoor",
         "1.7.2",
         "The query API in Casdoor before 1.13.1 has a SQL injection vulnerability related to the field and value parameters, as demonstrated by api/get-organizations.",
         "cpe:2.3:a:casbin:casdoor:1.7.2:*:*:*:*:*:*:*"
        ],
        [
         "51045",
         "CVE-2023-1554",
         "298377",
         "fullworksplugins",
         "quick_paypal_payments",
         "5.7.4",
         "The Quick Paypal Payments WordPress plugin before 5.7.26.4 does not sanitise and escape some of its settings, which could allow high privilege users such as admin to perform Stored Cross-Site Scripting attacks even when the unfiltered_html capability is disallowed (for example in multisite setup)",
         "cpe:2.3:a:fullworksplugins:quick_paypal_payments:5.7.4:*:*:*:*:wordpress:*:*"
        ],
        [
         "47256",
         "CVE-2023-0230",
         "289006",
         "vektor-inc",
         "vk_all_in_one_expansion_unit",
         "3.4.0",
         "The VK All in One Expansion Unit WordPress plugin before 9.86.0.0 does not validate and escape some of its block options before outputting them back in a page/post where the block is embed, which could allow users with the contributor role and above to perform Stored Cross-Site Scripting attacks.",
         "cpe:2.3:a:vektor-inc:vk_all_in_one_expansion_unit:3.4.0:*:*:*:*:wordpress:*:*"
        ],
        [
         "22533",
         "CVE-2016-9132",
         "443587",
         "botan_project",
         "botan",
         "1.9.13",
         "In Botan 1.8.0 through 1.11.33, when decoding BER data an integer overflow could occur, which would cause an incorrect length field to be computed. Some API callers may use the returned (incorrect and attacker controlled) length field in a way which later causes memory corruption or other failure.",
         "cpe:2.3:a:botan_project:botan:1.9.13:*:*:*:*:*:*:*"
        ],
        [
         "45278",
         "CVE-2022-1453",
         "83102",
         "carrcommunications",
         "rsvpmaker",
         "7.3.2",
         "The RSVPMaker plugin for WordPress is vulnerable to unauthenticated SQL Injection due to missing SQL escaping and parameterization on user supplied data passed to a SQL query in the rsvpmaker-util.php file. This makes it possible for unauthenticated attackers to steal sensitive information from the database in versions up to and including 9.2.5.",
         "cpe:2.3:a:carrcommunications:rsvpmaker:7.3.2:*:*:*:*:wordpress:*:*"
        ],
        [
         "68164",
         "CVE-2021-42715",
         "645433",
         "nothings",
         "stb_image.h",
         "2.17",
         "An issue was discovered in stb stb_image.h 1.33 through 2.27. The HDR loader parsed truncated end-of-file RLE scanlines as an infinite sequence of zero-length runs. An attacker could potentially have caused denial of service in applications using stb_image by submitting crafted HDR files.",
         "cpe:2.3:a:nothings:stb_image.h:2.17:*:*:*:*:*:*:*"
        ],
        [
         "16377",
         "CVE-2017-6198",
         "674580",
         "sandstorm",
         "sandstorm",
         "0.78",
         "The Supervisor in Sandstorm doesn't set and enforce the resource limits of a process. This allows remote attackers to cause a denial of service by launching a fork bomb in the sandbox, or by using a large amount of disk space.",
         "cpe:2.3:a:sandstorm:sandstorm:0.78:*:*:*:*:*:*:*"
        ],
        [
         "78010",
         "CVE-2023-0479",
         "291462",
         "tychesoftwares",
         "print_invoice_\\&_delivery_notes_for_woocommerce",
         "3.3.1",
         "The Print Invoice & Delivery Notes for WooCommerce WordPress plugin before 4.7.2 is vulnerable to reflected XSS by echoing a GET value in an admin note within the WooCommerce orders page. This means that this vulnerability can be exploited for users with the edit_others_shop_orders capability. WooCommerce must be installed and active. This vulnerability is caused by a urldecode() after cleanup with esc_url_raw(), allowing double encoding.",
         "cpe:2.3:a:tychesoftwares:print_invoice_\\&_delivery_notes_for_woocommerce:3.3.1:*:*:*:*:wordpress:*:*"
        ],
        [
         "74011",
         "CVE-2017-16067",
         "665079",
         "node-opencv_project",
         "node-opencv",
         "0.3.1",
         "node-opencv was a malicious module published with the intent to hijack environment variables. It has been unpublished by npm.",
         "cpe:2.3:a:node-opencv_project:node-opencv:0.3.1:*:*:*:*:node.js:*:*"
        ],
        [
         "63602",
         "CVE-2023-32743",
         "346357",
         "woocommerce",
         "automatewoo",
         "5.0.2",
         "Improper Neutralization of Special Elements used in an SQL Command ('SQL Injection') vulnerability in WooCommerce AutomateWoo.This issue affects AutomateWoo: from n/a through 5.7.1.\n\n",
         "cpe:2.3:a:woocommerce:automatewoo:5.0.2:*:*:*:*:wordpress:*:*"
        ],
        [
         "4382",
         "CVE-2023-52216",
         "406740",
         "yevhenkotelnytskyi",
         "js_\\&_css_script_optimizer",
         "0.1.4",
         "Cross-Site Request Forgery (CSRF) vulnerability in Yevhen Kotelnytskyi JS & CSS Script Optimizer.This issue affects JS & CSS Script Optimizer: from n/a through 0.3.3.\n\n",
         "cpe:2.3:a:yevhenkotelnytskyi:js_\\&_css_script_optimizer:0.1.4:*:*:*:*:wordpress:*:*"
        ],
        [
         "75651",
         "CVE-2024-23820",
         "269647",
         "openfga",
         "openfga",
         "1.3.10",
         "OpenFGA, an authorization/permission engine, is vulnerable to a denial of service attack in versions prior to 1.4.3. In some scenarios that depend on the model and tuples used, a call to `ListObjects` may not  release memory properly. So when a sufficiently high number of those calls are executed, the OpenFGA server can create an `out of memory` error and terminate. Version 1.4.3 contains a patch for this issue.",
         "cpe:2.3:a:openfga:openfga:1.3.10:*:*:*:*:*:*:*"
        ],
        [
         "33507",
         "CVE-2013-5829",
         "558621",
         "oracle",
         "jdk",
         "1.5.0",
         "Unspecified vulnerability in Oracle Java SE 7u40 and earlier, Java SE 6u60 and earlier, Java SE 5.0u51 and earlier, and Java SE Embedded 7u40 and earlier allows remote attackers to affect confidentiality, integrity, and availability via unknown vectors related to 2D, a different vulnerability than CVE-2013-5809.",
         "cpe:2.3:a:oracle:jdk:1.5.0:update28:*:*:*:*:*:*"
        ],
        [
         "87396",
         "CVE-2022-1323",
         "81657",
         "2code",
         "discy",
         "4.4",
         "The Discy WordPress theme before 5.0 lacks authorization checks then processing ajax requests to the discy_update_options action,  allowing any logged in users (with privileges as low as Subscriber,) to change Theme options by sending a crafted POST request.",
         "cpe:2.3:a:2code:discy:4.4:*:*:*:*:wordpress:*:*"
        ],
        [
         "82728",
         "CVE-2023-24998",
         "315104",
         "apache",
         "commons_fileupload",
         "1.2.2",
         "Apache Commons FileUpload before 1.5 does not limit the number of request parts to be processed resulting in the possibility of an attacker triggering a DoS with a malicious upload or series of uploads.\n\n\n\n\nNote that, like all of the file upload limits, the\n          new configuration option (FileUploadBase#setFileCountMax) is not\n          enabled by default and must be explicitly configured.\n\n\n",
         "cpe:2.3:a:apache:commons_fileupload:1.2.2:*:*:*:*:*:*:*"
        ],
        [
         "36387",
         "CVE-2013-4818",
         "557311",
         "hp",
         "icewall_sso_agent",
         "10.0",
         "Unspecified vulnerability in HP IceWall SSO 8.0 through 10.0, IceWall SSO Agent Option 8.0 through 10.0, IceWall SSO Smart Device Option 10.0, and IceWall File Manager 3.0 through SP4 allows remote attackers to obtain sensitive information via unknown vectors.",
         "cpe:2.3:a:hp:icewall_sso_agent:10.0:*:*:*:standard:*:*:*"
        ]
       ],
       "shape": {
        "columns": 7,
        "rows": 100
       }
      },
      "text/html": [
       "<div>\n",
       "<style scoped>\n",
       "    .dataframe tbody tr th:only-of-type {\n",
       "        vertical-align: middle;\n",
       "    }\n",
       "\n",
       "    .dataframe tbody tr th {\n",
       "        vertical-align: top;\n",
       "    }\n",
       "\n",
       "    .dataframe thead th {\n",
       "        text-align: right;\n",
       "    }\n",
       "</style>\n",
       "<table border=\"1\" class=\"dataframe\">\n",
       "  <thead>\n",
       "    <tr style=\"text-align: right;\">\n",
       "      <th></th>\n",
       "      <th>cve_id</th>\n",
       "      <th>cpe_id_pk</th>\n",
       "      <th>vendor</th>\n",
       "      <th>product</th>\n",
       "      <th>version</th>\n",
       "      <th>descr</th>\n",
       "      <th>initial_cpe</th>\n",
       "    </tr>\n",
       "  </thead>\n",
       "  <tbody>\n",
       "    <tr>\n",
       "      <th>85738</th>\n",
       "      <td>CVE-2023-0878</td>\n",
       "      <td>294697</td>\n",
       "      <td>nuxt</td>\n",
       "      <td>nuxt</td>\n",
       "      <td>1.0.0</td>\n",
       "      <td>Cross-site Scripting (XSS) - Generic in GitHub...</td>\n",
       "      <td>cpe:2.3:a:nuxt:nuxt:1.0.0:rc8:*:*:*:*:*:*</td>\n",
       "    </tr>\n",
       "    <tr>\n",
       "      <th>67391</th>\n",
       "      <td>CVE-2008-0444</td>\n",
       "      <td>273643</td>\n",
       "      <td>elog</td>\n",
       "      <td>elog</td>\n",
       "      <td>2.2.0</td>\n",
       "      <td>Cross-site scripting (XSS) vulnerability in El...</td>\n",
       "      <td>cpe:2.3:a:elog:elog:2.2.0:*:*:*:*:*:*:*</td>\n",
       "    </tr>\n",
       "    <tr>\n",
       "      <th>56731</th>\n",
       "      <td>CVE-2020-14518</td>\n",
       "      <td>460900</td>\n",
       "      <td>philips</td>\n",
       "      <td>dreammapper</td>\n",
       "      <td>2.17.1</td>\n",
       "      <td>Philips DreamMapper, Version 2.24 and prior. I...</td>\n",
       "      <td>cpe:2.3:a:philips:dreammapper:2.17.1:*:*:*:*:i...</td>\n",
       "    </tr>\n",
       "    <tr>\n",
       "      <th>98299</th>\n",
       "      <td>CVE-2022-27858</td>\n",
       "      <td>141525</td>\n",
       "      <td>activity_log_project</td>\n",
       "      <td>activity_log</td>\n",
       "      <td>2.2.8</td>\n",
       "      <td>CSV Injection vulnerability in Activity Log Te...</td>\n",
       "      <td>cpe:2.3:a:activity_log_project:activity_log:2....</td>\n",
       "    </tr>\n",
       "    <tr>\n",
       "      <th>72771</th>\n",
       "      <td>CVE-2022-4725</td>\n",
       "      <td>214060</td>\n",
       "      <td>amazon</td>\n",
       "      <td>aws_software_development_kit</td>\n",
       "      <td>2.2.4</td>\n",
       "      <td>A vulnerability was found in AWS SDK 2.59.0. I...</td>\n",
       "      <td>cpe:2.3:a:amazon:aws_software_development_kit:...</td>\n",
       "    </tr>\n",
       "    <tr>\n",
       "      <th>...</th>\n",
       "      <td>...</td>\n",
       "      <td>...</td>\n",
       "      <td>...</td>\n",
       "      <td>...</td>\n",
       "      <td>...</td>\n",
       "      <td>...</td>\n",
       "      <td>...</td>\n",
       "    </tr>\n",
       "    <tr>\n",
       "      <th>53502</th>\n",
       "      <td>CVE-2023-4827</td>\n",
       "      <td>389896</td>\n",
       "      <td>ninjateam</td>\n",
       "      <td>filester</td>\n",
       "      <td>1.5.1</td>\n",
       "      <td>The File Manager Pro WordPress plugin before 1...</td>\n",
       "      <td>cpe:2.3:a:ninjateam:filester:1.5.1:*:*:*:*:wor...</td>\n",
       "    </tr>\n",
       "    <tr>\n",
       "      <th>61911</th>\n",
       "      <td>CVE-2021-34628</td>\n",
       "      <td>629697</td>\n",
       "      <td>weblizar</td>\n",
       "      <td>admin_custom_login</td>\n",
       "      <td>2.4.2</td>\n",
       "      <td>The Admin Custom Login WordPress plugin is vul...</td>\n",
       "      <td>cpe:2.3:a:weblizar:admin_custom_login:2.4.2:*:...</td>\n",
       "    </tr>\n",
       "    <tr>\n",
       "      <th>42384</th>\n",
       "      <td>CVE-2017-16083</td>\n",
       "      <td>665237</td>\n",
       "      <td>node-simple-router</td>\n",
       "      <td>node-simple-router</td>\n",
       "      <td>0.9.1-3</td>\n",
       "      <td>node-simple-router is a minimalistic router fo...</td>\n",
       "      <td>cpe:2.3:a:node-simple-router:node-simple-route...</td>\n",
       "    </tr>\n",
       "    <tr>\n",
       "      <th>97732</th>\n",
       "      <td>CVE-2017-5869</td>\n",
       "      <td>673773</td>\n",
       "      <td>nuxeo</td>\n",
       "      <td>nuxeo</td>\n",
       "      <td>6.0</td>\n",
       "      <td>Directory traversal vulnerability in the file ...</td>\n",
       "      <td>cpe:2.3:a:nuxeo:nuxeo:6.0:hotfix38:*:*:*:*:*:*</td>\n",
       "    </tr>\n",
       "    <tr>\n",
       "      <th>77808</th>\n",
       "      <td>CVE-2014-4758</td>\n",
       "      <td>719940</td>\n",
       "      <td>ibm</td>\n",
       "      <td>websphere_application_server</td>\n",
       "      <td>7.2.0.1</td>\n",
       "      <td>IBM Business Process Manager (BPM) 7.5.x throu...</td>\n",
       "      <td>cpe:2.3:a:ibm:websphere_application_server:7.2...</td>\n",
       "    </tr>\n",
       "  </tbody>\n",
       "</table>\n",
       "<p>100 rows × 7 columns</p>\n",
       "</div>"
      ],
      "text/plain": [
       "               cve_id  cpe_id_pk                vendor  \\\n",
       "85738   CVE-2023-0878     294697                  nuxt   \n",
       "67391   CVE-2008-0444     273643                  elog   \n",
       "56731  CVE-2020-14518     460900               philips   \n",
       "98299  CVE-2022-27858     141525  activity_log_project   \n",
       "72771   CVE-2022-4725     214060                amazon   \n",
       "...               ...        ...                   ...   \n",
       "53502   CVE-2023-4827     389896             ninjateam   \n",
       "61911  CVE-2021-34628     629697              weblizar   \n",
       "42384  CVE-2017-16083     665237    node-simple-router   \n",
       "97732   CVE-2017-5869     673773                 nuxeo   \n",
       "77808   CVE-2014-4758     719940                   ibm   \n",
       "\n",
       "                            product  version  \\\n",
       "85738                          nuxt    1.0.0   \n",
       "67391                          elog    2.2.0   \n",
       "56731                   dreammapper   2.17.1   \n",
       "98299                  activity_log    2.2.8   \n",
       "72771  aws_software_development_kit    2.2.4   \n",
       "...                             ...      ...   \n",
       "53502                      filester    1.5.1   \n",
       "61911            admin_custom_login    2.4.2   \n",
       "42384            node-simple-router  0.9.1-3   \n",
       "97732                         nuxeo      6.0   \n",
       "77808  websphere_application_server  7.2.0.1   \n",
       "\n",
       "                                                   descr  \\\n",
       "85738  Cross-site Scripting (XSS) - Generic in GitHub...   \n",
       "67391  Cross-site scripting (XSS) vulnerability in El...   \n",
       "56731  Philips DreamMapper, Version 2.24 and prior. I...   \n",
       "98299  CSV Injection vulnerability in Activity Log Te...   \n",
       "72771  A vulnerability was found in AWS SDK 2.59.0. I...   \n",
       "...                                                  ...   \n",
       "53502  The File Manager Pro WordPress plugin before 1...   \n",
       "61911  The Admin Custom Login WordPress plugin is vul...   \n",
       "42384  node-simple-router is a minimalistic router fo...   \n",
       "97732  Directory traversal vulnerability in the file ...   \n",
       "77808  IBM Business Process Manager (BPM) 7.5.x throu...   \n",
       "\n",
       "                                             initial_cpe  \n",
       "85738          cpe:2.3:a:nuxt:nuxt:1.0.0:rc8:*:*:*:*:*:*  \n",
       "67391            cpe:2.3:a:elog:elog:2.2.0:*:*:*:*:*:*:*  \n",
       "56731  cpe:2.3:a:philips:dreammapper:2.17.1:*:*:*:*:i...  \n",
       "98299  cpe:2.3:a:activity_log_project:activity_log:2....  \n",
       "72771  cpe:2.3:a:amazon:aws_software_development_kit:...  \n",
       "...                                                  ...  \n",
       "53502  cpe:2.3:a:ninjateam:filester:1.5.1:*:*:*:*:wor...  \n",
       "61911  cpe:2.3:a:weblizar:admin_custom_login:2.4.2:*:...  \n",
       "42384  cpe:2.3:a:node-simple-router:node-simple-route...  \n",
       "97732     cpe:2.3:a:nuxeo:nuxeo:6.0:hotfix38:*:*:*:*:*:*  \n",
       "77808  cpe:2.3:a:ibm:websphere_application_server:7.2...  \n",
       "\n",
       "[100 rows x 7 columns]"
      ]
     },
     "execution_count": 173,
     "metadata": {},
     "output_type": "execute_result"
    }
   ],
   "source": [
    "df_sample"
   ]
  },
  {
   "cell_type": "code",
   "execution_count": null,
   "metadata": {},
   "outputs": [],
   "source": []
  }
 ],
 "metadata": {
  "kernelspec": {
   "display_name": "Python 3",
   "language": "python",
   "name": "python3"
  },
  "language_info": {
   "codemirror_mode": {
    "name": "ipython",
    "version": 3
   },
   "file_extension": ".py",
   "mimetype": "text/x-python",
   "name": "python",
   "nbconvert_exporter": "python",
   "pygments_lexer": "ipython3",
   "version": "3.10.12"
  }
 },
 "nbformat": 4,
 "nbformat_minor": 2
}
