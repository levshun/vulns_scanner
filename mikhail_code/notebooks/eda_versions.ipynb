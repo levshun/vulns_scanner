{
 "cells": [
  {
   "cell_type": "markdown",
   "metadata": {},
   "source": [
    "Обогатим датасет версиями, в которых присутствуют слова, отсутствующие в Stucco"
   ]
  },
  {
   "cell_type": "code",
   "execution_count": 1,
   "metadata": {},
   "outputs": [],
   "source": [
    "import pandas as pd\n",
    "import numpy as np\n",
    "import psycopg2 as p2\n",
    "from psycopg2 import sql\n",
    "from collections import Counter\n",
    "from tqdm import tqdm\n",
    "\n",
    "pd.set_option('display.width', 20000)\n",
    "pd.set_option('display.max_columns', None)\n",
    "pd.set_option('display.max_rows', 100)\n",
    "pd.set_option('display.max_colwidth', 200)"
   ]
  },
  {
   "cell_type": "markdown",
   "metadata": {},
   "source": [
    "Стучимся в БД"
   ]
  },
  {
   "cell_type": "code",
   "execution_count": 2,
   "metadata": {},
   "outputs": [],
   "source": [
    "dbname = \"vulns_scanner\"\n",
    "user = 'postgres'\n",
    "password = 'postgres'\n",
    "host = 'localhost'\n",
    "port = '5432'"
   ]
  },
  {
   "cell_type": "code",
   "execution_count": 10,
   "metadata": {},
   "outputs": [
    {
     "data": {
      "application/vnd.microsoft.datawrangler.viewer.v0+json": {
       "columns": [
        {
         "name": "index",
         "rawType": "int64",
         "type": "integer"
        },
        {
         "name": "cve_id",
         "rawType": "object",
         "type": "string"
        },
        {
         "name": "vendor",
         "rawType": "object",
         "type": "string"
        },
        {
         "name": "product",
         "rawType": "object",
         "type": "string"
        },
        {
         "name": "version",
         "rawType": "object",
         "type": "string"
        },
        {
         "name": "descr",
         "rawType": "object",
         "type": "string"
        },
        {
         "name": "initial_cpe",
         "rawType": "object",
         "type": "string"
        }
       ],
       "conversionMethod": "pd.DataFrame",
       "ref": "2971cfa1-f90a-4359-92d9-24c8bbd4b599",
       "rows": [
        [
         "0",
         "CVE-2004-1643",
         "progress",
         "ws_ftp_server",
         "5.0.2",
         "WS_FTP 5.0.2 allows remote authenticated users to cause a denial of service (CPU consumption) via a CD command that contains an invalid path with a \"../\" sequence.",
         "cpe:2.3:a:progress:ws_ftp_server:5.0.2:*:*:*:*:*:*:*"
        ],
        [
         "1",
         "CVE-2004-0658",
         "linux",
         "linux_kernel",
         "2.5.51",
         "Integer overflow in the hpsb_alloc_packet function (incorrectly reported as alloc_hpsb_packet) in IEEE 1394 (Firewire) driver 2.4 and 2.6 allows local users to cause a denial of service (crash) and possibly execute arbitrary code via the functions (1) raw1394_write, (2) state_connected, (3) handle_remote_request, or (4) hpsb_make_writebpacket.",
         "cpe:2.3:o:linux:linux_kernel:2.5.51:*:*:*:*:*:*:*"
        ],
        [
         "2",
         "CVE-2004-0658",
         "linux",
         "linux_kernel",
         "2.5.24",
         "Integer overflow in the hpsb_alloc_packet function (incorrectly reported as alloc_hpsb_packet) in IEEE 1394 (Firewire) driver 2.4 and 2.6 allows local users to cause a denial of service (crash) and possibly execute arbitrary code via the functions (1) raw1394_write, (2) state_connected, (3) handle_remote_request, or (4) hpsb_make_writebpacket.",
         "cpe:2.3:o:linux:linux_kernel:2.5.24:*:*:*:*:*:*:*"
        ],
        [
         "3",
         "CVE-2004-1051",
         "todd_miller",
         "sudo",
         "1.6.3_p2",
         "sudo before 1.6.8p2 allows local users to execute arbitrary commands by using \"()\" style environment variables to create functions that have the same name as any program within the bash script that is called without using the program's full pathname.",
         "cpe:2.3:a:todd_miller:sudo:1.6.3_p2:*:*:*:*:*:*:*"
        ],
        [
         "4",
         "CVE-2004-1772",
         "gnu",
         "sharutils",
         "4.2",
         "Stack-based buffer overflow in shar in GNU sharutils 4.2.1 allows local users to execute arbitrary code via a long -o command line argument.",
         "cpe:2.3:a:gnu:sharutils:4.2:*:*:*:*:*:*:*"
        ]
       ],
       "shape": {
        "columns": 6,
        "rows": 5
       }
      },
      "text/html": [
       "<div>\n",
       "<style scoped>\n",
       "    .dataframe tbody tr th:only-of-type {\n",
       "        vertical-align: middle;\n",
       "    }\n",
       "\n",
       "    .dataframe tbody tr th {\n",
       "        vertical-align: top;\n",
       "    }\n",
       "\n",
       "    .dataframe thead th {\n",
       "        text-align: right;\n",
       "    }\n",
       "</style>\n",
       "<table border=\"1\" class=\"dataframe\">\n",
       "  <thead>\n",
       "    <tr style=\"text-align: right;\">\n",
       "      <th></th>\n",
       "      <th>cve_id</th>\n",
       "      <th>vendor</th>\n",
       "      <th>product</th>\n",
       "      <th>version</th>\n",
       "      <th>descr</th>\n",
       "      <th>initial_cpe</th>\n",
       "    </tr>\n",
       "  </thead>\n",
       "  <tbody>\n",
       "    <tr>\n",
       "      <th>0</th>\n",
       "      <td>CVE-2004-1643</td>\n",
       "      <td>progress</td>\n",
       "      <td>ws_ftp_server</td>\n",
       "      <td>5.0.2</td>\n",
       "      <td>WS_FTP 5.0.2 allows remote authenticated users to cause a denial of service (CPU consumption) via a CD command that contains an invalid path with a \"../\" sequence.</td>\n",
       "      <td>cpe:2.3:a:progress:ws_ftp_server:5.0.2:*:*:*:*:*:*:*</td>\n",
       "    </tr>\n",
       "    <tr>\n",
       "      <th>1</th>\n",
       "      <td>CVE-2004-0658</td>\n",
       "      <td>linux</td>\n",
       "      <td>linux_kernel</td>\n",
       "      <td>2.5.51</td>\n",
       "      <td>Integer overflow in the hpsb_alloc_packet function (incorrectly reported as alloc_hpsb_packet) in IEEE 1394 (Firewire) driver 2.4 and 2.6 allows local users to cause a denial of service (crash) an...</td>\n",
       "      <td>cpe:2.3:o:linux:linux_kernel:2.5.51:*:*:*:*:*:*:*</td>\n",
       "    </tr>\n",
       "    <tr>\n",
       "      <th>2</th>\n",
       "      <td>CVE-2004-0658</td>\n",
       "      <td>linux</td>\n",
       "      <td>linux_kernel</td>\n",
       "      <td>2.5.24</td>\n",
       "      <td>Integer overflow in the hpsb_alloc_packet function (incorrectly reported as alloc_hpsb_packet) in IEEE 1394 (Firewire) driver 2.4 and 2.6 allows local users to cause a denial of service (crash) an...</td>\n",
       "      <td>cpe:2.3:o:linux:linux_kernel:2.5.24:*:*:*:*:*:*:*</td>\n",
       "    </tr>\n",
       "    <tr>\n",
       "      <th>3</th>\n",
       "      <td>CVE-2004-1051</td>\n",
       "      <td>todd_miller</td>\n",
       "      <td>sudo</td>\n",
       "      <td>1.6.3_p2</td>\n",
       "      <td>sudo before 1.6.8p2 allows local users to execute arbitrary commands by using \"()\" style environment variables to create functions that have the same name as any program within the bash script tha...</td>\n",
       "      <td>cpe:2.3:a:todd_miller:sudo:1.6.3_p2:*:*:*:*:*:*:*</td>\n",
       "    </tr>\n",
       "    <tr>\n",
       "      <th>4</th>\n",
       "      <td>CVE-2004-1772</td>\n",
       "      <td>gnu</td>\n",
       "      <td>sharutils</td>\n",
       "      <td>4.2</td>\n",
       "      <td>Stack-based buffer overflow in shar in GNU sharutils 4.2.1 allows local users to execute arbitrary code via a long -o command line argument.</td>\n",
       "      <td>cpe:2.3:a:gnu:sharutils:4.2:*:*:*:*:*:*:*</td>\n",
       "    </tr>\n",
       "  </tbody>\n",
       "</table>\n",
       "</div>"
      ],
      "text/plain": [
       "          cve_id       vendor        product   version                                                                                                                                                                                                    descr                                           initial_cpe\n",
       "0  CVE-2004-1643     progress  ws_ftp_server     5.0.2                                      WS_FTP 5.0.2 allows remote authenticated users to cause a denial of service (CPU consumption) via a CD command that contains an invalid path with a \"../\" sequence.  cpe:2.3:a:progress:ws_ftp_server:5.0.2:*:*:*:*:*:*:*\n",
       "1  CVE-2004-0658        linux   linux_kernel    2.5.51  Integer overflow in the hpsb_alloc_packet function (incorrectly reported as alloc_hpsb_packet) in IEEE 1394 (Firewire) driver 2.4 and 2.6 allows local users to cause a denial of service (crash) an...     cpe:2.3:o:linux:linux_kernel:2.5.51:*:*:*:*:*:*:*\n",
       "2  CVE-2004-0658        linux   linux_kernel    2.5.24  Integer overflow in the hpsb_alloc_packet function (incorrectly reported as alloc_hpsb_packet) in IEEE 1394 (Firewire) driver 2.4 and 2.6 allows local users to cause a denial of service (crash) an...     cpe:2.3:o:linux:linux_kernel:2.5.24:*:*:*:*:*:*:*\n",
       "3  CVE-2004-1051  todd_miller           sudo  1.6.3_p2  sudo before 1.6.8p2 allows local users to execute arbitrary commands by using \"()\" style environment variables to create functions that have the same name as any program within the bash script tha...     cpe:2.3:a:todd_miller:sudo:1.6.3_p2:*:*:*:*:*:*:*\n",
       "4  CVE-2004-1772          gnu      sharutils       4.2                                                             Stack-based buffer overflow in shar in GNU sharutils 4.2.1 allows local users to execute arbitrary code via a long -o command line argument.             cpe:2.3:a:gnu:sharutils:4.2:*:*:*:*:*:*:*"
      ]
     },
     "execution_count": 10,
     "metadata": {},
     "output_type": "execute_result"
    }
   ],
   "source": [
    "conn = p2.connect(dbname=dbname, user=user, password=password, host=host, port=port)\n",
    "cur = conn.cursor()\n",
    "cur.execute('''\n",
    "select cve_id, vendor, product, version, descr, initial_cpe  \n",
    "from cves c inner join descriptions d on c.cve_id_pk=d.cve_id_fk\n",
    "inner join cve_cpe_config ccc on c.cve_id_pk=ccc.cve_id_fk inner join cpes cp on ccc.cpe_id_fk=cp.cpe_id_pk \n",
    "where descr like '%_._%'\n",
    "limit 10000000\n",
    "''')\n",
    "colnames = [desc[0] for desc in cur.description]\n",
    "tuples = cur.fetchall()\n",
    "cur.close()\n",
    "# df = pd.DataFrame(tuples, columns=['cpe_id_pk', 'cpe_version', 'part', 'vendor', \n",
    "#                                     'product', 'version', 'update', 'edition', \n",
    "#                                     'sw_edition', 'target_sw', 'target_hw', \n",
    "#                                     'language', 'other', 'initial_cpe'])\n",
    "df = pd.DataFrame(tuples, columns=colnames)\n",
    "df.head()"
   ]
  },
  {
   "cell_type": "code",
   "execution_count": 11,
   "metadata": {},
   "outputs": [
    {
     "data": {
      "text/plain": [
       "(686075, 6)"
      ]
     },
     "execution_count": 11,
     "metadata": {},
     "output_type": "execute_result"
    }
   ],
   "source": [
    "df.shape"
   ]
  },
  {
   "cell_type": "code",
   "execution_count": null,
   "metadata": {},
   "outputs": [
    {
     "data": {
      "application/vnd.microsoft.datawrangler.viewer.v0+json": {
       "columns": [
        {
         "name": "index",
         "rawType": "int64",
         "type": "integer"
        },
        {
         "name": "cve_id",
         "rawType": "object",
         "type": "string"
        },
        {
         "name": "vendor",
         "rawType": "object",
         "type": "string"
        },
        {
         "name": "product",
         "rawType": "object",
         "type": "string"
        },
        {
         "name": "version",
         "rawType": "object",
         "type": "string"
        },
        {
         "name": "descr",
         "rawType": "object",
         "type": "string"
        },
        {
         "name": "matched_regex_before",
         "rawType": "object",
         "type": "string"
        },
        {
         "name": "matched_regex_after",
         "rawType": "object",
         "type": "string"
        }
       ],
       "conversionMethod": "pd.DataFrame",
       "ref": "8ee9e5f3-5885-4655-85f8-ca71eea38067",
       "rows": [
        [
         "0",
         "CVE-2004-0013",
         "jabber_software_foundation",
         "jabber_server",
         "1.4.3",
         "jabber 1.4.2, 1.4.2a, and possibly earlier versions, does not properly handle SSL connections, which allows remote attackers to cause a denial of service (crash).",
         "jabber",
         ""
        ],
        [
         "1",
         "CVE-2004-0043",
         "yahoo",
         "messenger",
         "5.6.0.1351",
         "Buffer overflow in Yahoo Instant Messenger 5.6.0.1351 and earlier allows remote attackers to cause a denial of service (crash) and possibly execute arbitrary code via a long filename in the download feature.",
         "Messenger",
         "and"
        ],
        [
         "2",
         "CVE-2004-0043",
         "yahoo",
         "messenger",
         "5.6.0.1358",
         "Buffer overflow in Yahoo Instant Messenger 5.6.0.1351 and earlier allows remote attackers to cause a denial of service (crash) and possibly execute arbitrary code via a long filename in the download feature.",
         "Messenger",
         "and"
        ],
        [
         "3",
         "CVE-2004-0159",
         "samhain_labs",
         "hsftp",
         "1.4",
         "Format string vulnerability in hsftp 1.11 allows remote authenticated users to cause a denial of service and possibly execute arbitrary code via file names containing format string characters that are not properly handled when executing an \"ls\" command.",
         "hsftp",
         ""
        ],
        [
         "4",
         "CVE-2004-0159",
         "samhain_labs",
         "hsftp",
         "1.11",
         "Format string vulnerability in hsftp 1.11 allows remote authenticated users to cause a denial of service and possibly execute arbitrary code via file names containing format string characters that are not properly handled when executing an \"ls\" command.",
         "hsftp",
         ""
        ],
        [
         "5",
         "CVE-2004-0352",
         "cisco",
         "content_services_switch_11000",
         "-",
         "Cisco 11000 Series Content Services Switches (CSS) running WebNS 5.0(x) before 05.0(04.07)S, and 6.10(x) before 06.10(02.05)S allow remote attackers to cause a denial of service (device reset) via a malformed packet to UDP port 5002.",
         "WebNS",
         ""
        ],
        [
         "6",
         "CVE-2004-0465",
         "openconnect",
         "webconnect",
         "6.4.4",
         "Directory traversal vulnerability in jretest.html in WebConnect 6.5 and 6.4.4, and possibly earlier versions, allows remote attackers to read keys within arbitrary INI formatted files via \"..//\" sequences in the WCP_USER parameter.",
         "WebConnect",
         ""
        ],
        [
         "7",
         "CVE-2004-0658",
         "linux",
         "linux_kernel",
         "2.5.51",
         "Integer overflow in the hpsb_alloc_packet function (incorrectly reported as alloc_hpsb_packet) in IEEE 1394 (Firewire) driver 2.4 and 2.6 allows local users to cause a denial of service (crash) and possibly execute arbitrary code via the functions (1) raw1394_write, (2) state_connected, (3) handle_remote_request, or (4) hpsb_make_writebpacket.",
         "driver",
         ""
        ],
        [
         "8",
         "CVE-2004-0658",
         "linux",
         "linux_kernel",
         "2.5.24",
         "Integer overflow in the hpsb_alloc_packet function (incorrectly reported as alloc_hpsb_packet) in IEEE 1394 (Firewire) driver 2.4 and 2.6 allows local users to cause a denial of service (crash) and possibly execute arbitrary code via the functions (1) raw1394_write, (2) state_connected, (3) handle_remote_request, or (4) hpsb_make_writebpacket.",
         "driver",
         ""
        ],
        [
         "9",
         "CVE-2004-0658",
         "linux",
         "linux_kernel",
         "2.5.46",
         "Integer overflow in the hpsb_alloc_packet function (incorrectly reported as alloc_hpsb_packet) in IEEE 1394 (Firewire) driver 2.4 and 2.6 allows local users to cause a denial of service (crash) and possibly execute arbitrary code via the functions (1) raw1394_write, (2) state_connected, (3) handle_remote_request, or (4) hpsb_make_writebpacket.",
         "driver",
         ""
        ],
        [
         "10",
         "CVE-2004-0731",
         "francisco_burzi",
         "php-nuke",
         "8.0_final",
         "Cross-site scripting (XSS) vulnerability in index.php in the Search module for Php-Nuke allows remote attackers to inject arbitrary script as other users via the input field.",
         "",
         ""
        ],
        [
         "11",
         "CVE-2004-0749",
         "subversion",
         "subversion",
         "1.0.5",
         "The mod_authz_svn module in Subversion 1.0.7 and earlier does not properly restrict access to all metadata on unreadable paths, which could allow remote attackers to gain sensitive information via (1) svn log -v, (2) svn propget, or (3) svn blame, and other commands that follow renames.",
         "Subversion",
         "and"
        ],
        [
         "12",
         "CVE-2004-0815",
         "samba",
         "samba",
         "2.2.4",
         "The unix_clean_name function in Samba 2.2.x through 2.2.11, and 3.0.x before 3.0.2a, trims certain directory names down to absolute paths, which could allow remote attackers to bypass the specified share restrictions and read, write, or list arbitrary files via \"/.////\" style sequences in pathnames.",
         "Samba",
         ""
        ],
        [
         "13",
         "CVE-2004-1051",
         "todd_miller",
         "sudo",
         "1.6.3_p2",
         "sudo before 1.6.8p2 allows local users to execute arbitrary commands by using \"()\" style environment variables to create functions that have the same name as any program within the bash script that is called without using the program's full pathname.",
         "before",
         ""
        ],
        [
         "14",
         "CVE-2004-1225",
         "sugarcrm",
         "sugarcrm",
         "1.1a",
         "SQL injection vulnerability in SugarCRM Sugar Sales before 2.0.1a allows remote attackers to execute arbitrary SQL commands and gain privileges via the record parameter in a DetailView action to index.php, and record parameters in other functionality.",
         "before",
         ""
        ],
        [
         "15",
         "CVE-2004-1225",
         "sugarcrm",
         "sugarcrm",
         "1.1f",
         "SQL injection vulnerability in SugarCRM Sugar Sales before 2.0.1a allows remote attackers to execute arbitrary SQL commands and gain privileges via the record parameter in a DetailView action to index.php, and record parameters in other functionality.",
         "before",
         ""
        ],
        [
         "16",
         "CVE-2004-1469",
         "peter_d._gray",
         "sus",
         "2.0",
         "Format string vulnerability in the log function in SUS 2.0.2, and other versions before 2.0.6, allows local users to execute arbitrary code via format string specifiers in a command line argument that is passed directly to syslog.",
         "SUS",
         ""
        ],
        [
         "17",
         "CVE-2004-1498",
         "webhost_automation",
         "helm_control_panel",
         "3.1.17",
         "SQL injection vulnerability in the compose message form in HELM 3.1.19 and earlier allows remote attackers to execute arbitrary SQL commands via the messageToUserAccNum parameter.",
         "HELM",
         "and"
        ],
        [
         "18",
         "CVE-2004-1772",
         "gnu",
         "sharutils",
         "4.2",
         "Stack-based buffer overflow in shar in GNU sharutils 4.2.1 allows local users to execute arbitrary code via a long -o command line argument.",
         "sharutils",
         "allows"
        ],
        [
         "19",
         "CVE-2004-2030",
         "liferay",
         "liferay_enterprise_portal",
         "",
         "Multiple cross-site scripting (XSS) vulnerabilities in index.jsp for Liferay before 2.2.0 release 10/1/2004 allow remote attackers to inject arbitrary web script or HTML, as demonstrated using the message subject.",
         "before",
         "release"
        ],
        [
         "20",
         "CVE-2004-2205",
         "symantec_veritas",
         "cluster_server",
         "3.5_solaris_mp2",
         "Unknown vulnerability in Veritas Cluster Server 1.0.1 through 4.0 allows local users to gain root access via unspecified vectors.",
         "Server",
         "through"
        ],
        [
         "21",
         "CVE-2004-2431",
         "the_ignition_project",
         "ignitionserver",
         "0.3.1_b1",
         "Unknown vulnerability in The Ignition Project ignitionServer 0.1.2 through 0.3.1, with the linking service enabled, allows remote attackers to bypass authentication.",
         "ignitionServer",
         "through"
        ],
        [
         "22",
         "CVE-2004-2484",
         "php_gift_registry",
         "phpgiftreg",
         "1.3.1",
         "Cross-site scripting (XSS) vulnerability in PHP Gift Registry 1.3.5 and earlier allows remote attackers to inject arbitrary web script or HTML via the message parameter to (1) event.php or (2) index.php.",
         "Registry",
         "and"
        ],
        [
         "23",
         "CVE-2004-2484",
         "php_gift_registry",
         "phpgiftreg",
         "1.3.4",
         "Cross-site scripting (XSS) vulnerability in PHP Gift Registry 1.3.5 and earlier allows remote attackers to inject arbitrary web script or HTML via the message parameter to (1) event.php or (2) index.php.",
         "Registry",
         "and"
        ],
        [
         "24",
         "CVE-2004-2759",
         "sun",
         "storeedge_utilization_suite",
         "4.1",
         "Shared Sun StorEdge QFS and SAM-QFS file systems, as used in Utilization Suite 4.0 through 4.1 and Performance Suite 4.0 through 4.1, might allow local users to read portions of deleted files by accessing data within sparse files.",
         "Suite",
         ""
        ],
        [
         "25",
         "CVE-2010-0097",
         "isc",
         "bind",
         "9.6.1",
         "ISC BIND 9.0.x through 9.3.x, 9.4 before 9.4.3-P5, 9.5 before 9.5.2-P2, 9.6 before 9.6.1-P3, and 9.7.0 beta does not properly validate DNSSEC (1) NSEC and (2) NSEC3 records, which allows remote attackers to add the Authenticated Data (AD) flag to a forged NXDOMAIN response for an existing domain.",
         "BIND",
         "beta"
        ],
        [
         "26",
         "CVE-2010-0097",
         "isc",
         "bind",
         "9.1.1",
         "ISC BIND 9.0.x through 9.3.x, 9.4 before 9.4.3-P5, 9.5 before 9.5.2-P2, 9.6 before 9.6.1-P3, and 9.7.0 beta does not properly validate DNSSEC (1) NSEC and (2) NSEC3 records, which allows remote attackers to add the Authenticated Data (AD) flag to a forged NXDOMAIN response for an existing domain.",
         "BIND",
         "beta"
        ],
        [
         "27",
         "CVE-2010-0097",
         "isc",
         "bind",
         "9.3.1",
         "ISC BIND 9.0.x through 9.3.x, 9.4 before 9.4.3-P5, 9.5 before 9.5.2-P2, 9.6 before 9.6.1-P3, and 9.7.0 beta does not properly validate DNSSEC (1) NSEC and (2) NSEC3 records, which allows remote attackers to add the Authenticated Data (AD) flag to a forged NXDOMAIN response for an existing domain.",
         "BIND",
         "beta"
        ],
        [
         "28",
         "CVE-2010-0097",
         "isc",
         "bind",
         "9.1.3",
         "ISC BIND 9.0.x through 9.3.x, 9.4 before 9.4.3-P5, 9.5 before 9.5.2-P2, 9.6 before 9.6.1-P3, and 9.7.0 beta does not properly validate DNSSEC (1) NSEC and (2) NSEC3 records, which allows remote attackers to add the Authenticated Data (AD) flag to a forged NXDOMAIN response for an existing domain.",
         "BIND",
         "beta"
        ],
        [
         "29",
         "CVE-2010-0097",
         "isc",
         "bind",
         "9.3.5",
         "ISC BIND 9.0.x through 9.3.x, 9.4 before 9.4.3-P5, 9.5 before 9.5.2-P2, 9.6 before 9.6.1-P3, and 9.7.0 beta does not properly validate DNSSEC (1) NSEC and (2) NSEC3 records, which allows remote attackers to add the Authenticated Data (AD) flag to a forged NXDOMAIN response for an existing domain.",
         "BIND",
         "beta"
        ],
        [
         "30",
         "CVE-2010-0097",
         "isc",
         "bind",
         "9.5.0",
         "ISC BIND 9.0.x through 9.3.x, 9.4 before 9.4.3-P5, 9.5 before 9.5.2-P2, 9.6 before 9.6.1-P3, and 9.7.0 beta does not properly validate DNSSEC (1) NSEC and (2) NSEC3 records, which allows remote attackers to add the Authenticated Data (AD) flag to a forged NXDOMAIN response for an existing domain.",
         "BIND",
         "beta"
        ],
        [
         "31",
         "CVE-2010-0097",
         "isc",
         "bind",
         "9.3.2",
         "ISC BIND 9.0.x through 9.3.x, 9.4 before 9.4.3-P5, 9.5 before 9.5.2-P2, 9.6 before 9.6.1-P3, and 9.7.0 beta does not properly validate DNSSEC (1) NSEC and (2) NSEC3 records, which allows remote attackers to add the Authenticated Data (AD) flag to a forged NXDOMAIN response for an existing domain.",
         "BIND",
         "beta"
        ],
        [
         "32",
         "CVE-2010-0097",
         "isc",
         "bind",
         "9.2.2",
         "ISC BIND 9.0.x through 9.3.x, 9.4 before 9.4.3-P5, 9.5 before 9.5.2-P2, 9.6 before 9.6.1-P3, and 9.7.0 beta does not properly validate DNSSEC (1) NSEC and (2) NSEC3 records, which allows remote attackers to add the Authenticated Data (AD) flag to a forged NXDOMAIN response for an existing domain.",
         "BIND",
         "beta"
        ],
        [
         "33",
         "CVE-2010-0097",
         "isc",
         "bind",
         "9.4.1",
         "ISC BIND 9.0.x through 9.3.x, 9.4 before 9.4.3-P5, 9.5 before 9.5.2-P2, 9.6 before 9.6.1-P3, and 9.7.0 beta does not properly validate DNSSEC (1) NSEC and (2) NSEC3 records, which allows remote attackers to add the Authenticated Data (AD) flag to a forged NXDOMAIN response for an existing domain.",
         "BIND",
         "beta"
        ],
        [
         "34",
         "CVE-2010-0097",
         "isc",
         "bind",
         "9.7.0",
         "ISC BIND 9.0.x through 9.3.x, 9.4 before 9.4.3-P5, 9.5 before 9.5.2-P2, 9.6 before 9.6.1-P3, and 9.7.0 beta does not properly validate DNSSEC (1) NSEC and (2) NSEC3 records, which allows remote attackers to add the Authenticated Data (AD) flag to a forged NXDOMAIN response for an existing domain.",
         "BIND",
         "beta"
        ],
        [
         "35",
         "CVE-2010-0097",
         "isc",
         "bind",
         "9.7.0",
         "ISC BIND 9.0.x through 9.3.x, 9.4 before 9.4.3-P5, 9.5 before 9.5.2-P2, 9.6 before 9.6.1-P3, and 9.7.0 beta does not properly validate DNSSEC (1) NSEC and (2) NSEC3 records, which allows remote attackers to add the Authenticated Data (AD) flag to a forged NXDOMAIN response for an existing domain.",
         "BIND",
         "beta"
        ],
        [
         "36",
         "CVE-2010-0097",
         "isc",
         "bind",
         "9.7.0",
         "ISC BIND 9.0.x through 9.3.x, 9.4 before 9.4.3-P5, 9.5 before 9.5.2-P2, 9.6 before 9.6.1-P3, and 9.7.0 beta does not properly validate DNSSEC (1) NSEC and (2) NSEC3 records, which allows remote attackers to add the Authenticated Data (AD) flag to a forged NXDOMAIN response for an existing domain.",
         "BIND",
         "beta"
        ],
        [
         "37",
         "CVE-2010-0097",
         "isc",
         "bind",
         "9.7.0",
         "ISC BIND 9.0.x through 9.3.x, 9.4 before 9.4.3-P5, 9.5 before 9.5.2-P2, 9.6 before 9.6.1-P3, and 9.7.0 beta does not properly validate DNSSEC (1) NSEC and (2) NSEC3 records, which allows remote attackers to add the Authenticated Data (AD) flag to a forged NXDOMAIN response for an existing domain.",
         "BIND",
         "beta"
        ],
        [
         "38",
         "CVE-2010-0097",
         "isc",
         "bind",
         "9.6",
         "ISC BIND 9.0.x through 9.3.x, 9.4 before 9.4.3-P5, 9.5 before 9.5.2-P2, 9.6 before 9.6.1-P3, and 9.7.0 beta does not properly validate DNSSEC (1) NSEC and (2) NSEC3 records, which allows remote attackers to add the Authenticated Data (AD) flag to a forged NXDOMAIN response for an existing domain.",
         "BIND",
         "beta"
        ],
        [
         "39",
         "CVE-2010-0097",
         "isc",
         "bind",
         "9.2.1",
         "ISC BIND 9.0.x through 9.3.x, 9.4 before 9.4.3-P5, 9.5 before 9.5.2-P2, 9.6 before 9.6.1-P3, and 9.7.0 beta does not properly validate DNSSEC (1) NSEC and (2) NSEC3 records, which allows remote attackers to add the Authenticated Data (AD) flag to a forged NXDOMAIN response for an existing domain.",
         "BIND",
         "beta"
        ],
        [
         "40",
         "CVE-2010-0097",
         "isc",
         "bind",
         "9.2.1",
         "ISC BIND 9.0.x through 9.3.x, 9.4 before 9.4.3-P5, 9.5 before 9.5.2-P2, 9.6 before 9.6.1-P3, and 9.7.0 beta does not properly validate DNSSEC (1) NSEC and (2) NSEC3 records, which allows remote attackers to add the Authenticated Data (AD) flag to a forged NXDOMAIN response for an existing domain.",
         "BIND",
         "beta"
        ],
        [
         "41",
         "CVE-2010-0097",
         "isc",
         "bind",
         "9.5.0",
         "ISC BIND 9.0.x through 9.3.x, 9.4 before 9.4.3-P5, 9.5 before 9.5.2-P2, 9.6 before 9.6.1-P3, and 9.7.0 beta does not properly validate DNSSEC (1) NSEC and (2) NSEC3 records, which allows remote attackers to add the Authenticated Data (AD) flag to a forged NXDOMAIN response for an existing domain.",
         "BIND",
         "beta"
        ],
        [
         "42",
         "CVE-2010-0097",
         "isc",
         "bind",
         "9.5.0",
         "ISC BIND 9.0.x through 9.3.x, 9.4 before 9.4.3-P5, 9.5 before 9.5.2-P2, 9.6 before 9.6.1-P3, and 9.7.0 beta does not properly validate DNSSEC (1) NSEC and (2) NSEC3 records, which allows remote attackers to add the Authenticated Data (AD) flag to a forged NXDOMAIN response for an existing domain.",
         "BIND",
         "beta"
        ],
        [
         "43",
         "CVE-2010-0097",
         "isc",
         "bind",
         "9.4.2",
         "ISC BIND 9.0.x through 9.3.x, 9.4 before 9.4.3-P5, 9.5 before 9.5.2-P2, 9.6 before 9.6.1-P3, and 9.7.0 beta does not properly validate DNSSEC (1) NSEC and (2) NSEC3 records, which allows remote attackers to add the Authenticated Data (AD) flag to a forged NXDOMAIN response for an existing domain.",
         "BIND",
         "beta"
        ],
        [
         "44",
         "CVE-2010-0097",
         "isc",
         "bind",
         "9.3.1",
         "ISC BIND 9.0.x through 9.3.x, 9.4 before 9.4.3-P5, 9.5 before 9.5.2-P2, 9.6 before 9.6.1-P3, and 9.7.0 beta does not properly validate DNSSEC (1) NSEC and (2) NSEC3 records, which allows remote attackers to add the Authenticated Data (AD) flag to a forged NXDOMAIN response for an existing domain.",
         "BIND",
         "beta"
        ],
        [
         "45",
         "CVE-2010-0097",
         "isc",
         "bind",
         "9.3.1",
         "ISC BIND 9.0.x through 9.3.x, 9.4 before 9.4.3-P5, 9.5 before 9.5.2-P2, 9.6 before 9.6.1-P3, and 9.7.0 beta does not properly validate DNSSEC (1) NSEC and (2) NSEC3 records, which allows remote attackers to add the Authenticated Data (AD) flag to a forged NXDOMAIN response for an existing domain.",
         "BIND",
         "beta"
        ],
        [
         "46",
         "CVE-2010-0097",
         "isc",
         "bind",
         "9.1",
         "ISC BIND 9.0.x through 9.3.x, 9.4 before 9.4.3-P5, 9.5 before 9.5.2-P2, 9.6 before 9.6.1-P3, and 9.7.0 beta does not properly validate DNSSEC (1) NSEC and (2) NSEC3 records, which allows remote attackers to add the Authenticated Data (AD) flag to a forged NXDOMAIN response for an existing domain.",
         "BIND",
         "beta"
        ],
        [
         "47",
         "CVE-2010-0097",
         "isc",
         "bind",
         "9.4.3",
         "ISC BIND 9.0.x through 9.3.x, 9.4 before 9.4.3-P5, 9.5 before 9.5.2-P2, 9.6 before 9.6.1-P3, and 9.7.0 beta does not properly validate DNSSEC (1) NSEC and (2) NSEC3 records, which allows remote attackers to add the Authenticated Data (AD) flag to a forged NXDOMAIN response for an existing domain.",
         "BIND",
         "beta"
        ],
        [
         "48",
         "CVE-2010-0097",
         "isc",
         "bind",
         "9.4.3",
         "ISC BIND 9.0.x through 9.3.x, 9.4 before 9.4.3-P5, 9.5 before 9.5.2-P2, 9.6 before 9.6.1-P3, and 9.7.0 beta does not properly validate DNSSEC (1) NSEC and (2) NSEC3 records, which allows remote attackers to add the Authenticated Data (AD) flag to a forged NXDOMAIN response for an existing domain.",
         "BIND",
         "beta"
        ],
        [
         "49",
         "CVE-2010-0097",
         "isc",
         "bind",
         "9.4.3",
         "ISC BIND 9.0.x through 9.3.x, 9.4 before 9.4.3-P5, 9.5 before 9.5.2-P2, 9.6 before 9.6.1-P3, and 9.7.0 beta does not properly validate DNSSEC (1) NSEC and (2) NSEC3 records, which allows remote attackers to add the Authenticated Data (AD) flag to a forged NXDOMAIN response for an existing domain.",
         "BIND",
         "beta"
        ]
       ],
       "shape": {
        "columns": 7,
        "rows": 686075
       }
      },
      "text/html": [
       "<div>\n",
       "<style scoped>\n",
       "    .dataframe tbody tr th:only-of-type {\n",
       "        vertical-align: middle;\n",
       "    }\n",
       "\n",
       "    .dataframe tbody tr th {\n",
       "        vertical-align: top;\n",
       "    }\n",
       "\n",
       "    .dataframe thead th {\n",
       "        text-align: right;\n",
       "    }\n",
       "</style>\n",
       "<table border=\"1\" class=\"dataframe\">\n",
       "  <thead>\n",
       "    <tr style=\"text-align: right;\">\n",
       "      <th></th>\n",
       "      <th>cve_id</th>\n",
       "      <th>vendor</th>\n",
       "      <th>product</th>\n",
       "      <th>version</th>\n",
       "      <th>descr</th>\n",
       "      <th>matched_regex_before</th>\n",
       "      <th>matched_regex_after</th>\n",
       "    </tr>\n",
       "  </thead>\n",
       "  <tbody>\n",
       "    <tr>\n",
       "      <th>0</th>\n",
       "      <td>CVE-2004-0013</td>\n",
       "      <td>jabber_software_foundation</td>\n",
       "      <td>jabber_server</td>\n",
       "      <td>1.4.3</td>\n",
       "      <td>jabber 1.4.2, 1.4.2a, and possibly earlier versions, does not properly handle SSL connections, which allows remote attackers to cause a denial of service (crash).</td>\n",
       "      <td>jabber</td>\n",
       "      <td></td>\n",
       "    </tr>\n",
       "    <tr>\n",
       "      <th>1</th>\n",
       "      <td>CVE-2004-0043</td>\n",
       "      <td>yahoo</td>\n",
       "      <td>messenger</td>\n",
       "      <td>5.6.0.1351</td>\n",
       "      <td>Buffer overflow in Yahoo Instant Messenger 5.6.0.1351 and earlier allows remote attackers to cause a denial of service (crash) and possibly execute arbitrary code via a long filename in the downlo...</td>\n",
       "      <td>Messenger</td>\n",
       "      <td>and</td>\n",
       "    </tr>\n",
       "    <tr>\n",
       "      <th>2</th>\n",
       "      <td>CVE-2004-0043</td>\n",
       "      <td>yahoo</td>\n",
       "      <td>messenger</td>\n",
       "      <td>5.6.0.1358</td>\n",
       "      <td>Buffer overflow in Yahoo Instant Messenger 5.6.0.1351 and earlier allows remote attackers to cause a denial of service (crash) and possibly execute arbitrary code via a long filename in the downlo...</td>\n",
       "      <td>Messenger</td>\n",
       "      <td>and</td>\n",
       "    </tr>\n",
       "    <tr>\n",
       "      <th>3</th>\n",
       "      <td>CVE-2004-0159</td>\n",
       "      <td>samhain_labs</td>\n",
       "      <td>hsftp</td>\n",
       "      <td>1.4</td>\n",
       "      <td>Format string vulnerability in hsftp 1.11 allows remote authenticated users to cause a denial of service and possibly execute arbitrary code via file names containing format string characters that...</td>\n",
       "      <td>hsftp</td>\n",
       "      <td></td>\n",
       "    </tr>\n",
       "    <tr>\n",
       "      <th>4</th>\n",
       "      <td>CVE-2004-0159</td>\n",
       "      <td>samhain_labs</td>\n",
       "      <td>hsftp</td>\n",
       "      <td>1.11</td>\n",
       "      <td>Format string vulnerability in hsftp 1.11 allows remote authenticated users to cause a denial of service and possibly execute arbitrary code via file names containing format string characters that...</td>\n",
       "      <td>hsftp</td>\n",
       "      <td></td>\n",
       "    </tr>\n",
       "    <tr>\n",
       "      <th>...</th>\n",
       "      <td>...</td>\n",
       "      <td>...</td>\n",
       "      <td>...</td>\n",
       "      <td>...</td>\n",
       "      <td>...</td>\n",
       "      <td>...</td>\n",
       "      <td>...</td>\n",
       "    </tr>\n",
       "    <tr>\n",
       "      <th>686070</th>\n",
       "      <td>CVE-2002-0600</td>\n",
       "      <td>kth</td>\n",
       "      <td>kth_kerberos</td>\n",
       "      <td>4_1.1.1</td>\n",
       "      <td>Heap overflow in the KTH Kerberos 4 FTP client 4-1.1.1 allows remote malicious servers to execute arbitrary code on the client via a long response to a passive (PASV) mode request.</td>\n",
       "      <td></td>\n",
       "      <td>allows</td>\n",
       "    </tr>\n",
       "    <tr>\n",
       "      <th>686071</th>\n",
       "      <td>CVE-2002-0910</td>\n",
       "      <td>debian</td>\n",
       "      <td>netstd</td>\n",
       "      <td>3.07</td>\n",
       "      <td>Buffer overflows in netstd 3.07-17 package allows remote DNS servers to execute arbitrary code via a long FQDN reply, as observed in the utilities (1) linux-ftpd, (2) pcnfsd, (3) tftp, (4) tracero...</td>\n",
       "      <td>netstd</td>\n",
       "      <td></td>\n",
       "    </tr>\n",
       "    <tr>\n",
       "      <th>686072</th>\n",
       "      <td>CVE-2002-1964</td>\n",
       "      <td>wesmo</td>\n",
       "      <td>phpeventcalendar</td>\n",
       "      <td>1.1</td>\n",
       "      <td>Unknown vulnerability in WesMo phpEventCalendar 1.1 allows remote attackers to execute arbitrary commands via unknown attack vectors.</td>\n",
       "      <td>phpEventCalendar</td>\n",
       "      <td></td>\n",
       "    </tr>\n",
       "    <tr>\n",
       "      <th>686073</th>\n",
       "      <td>CVE-2002-2110</td>\n",
       "      <td>rca</td>\n",
       "      <td>digital_cable_modem</td>\n",
       "      <td>dcm225</td>\n",
       "      <td>The RCA Digital Cable Modems DCM225 and DCM225E allow remote attackers to cause a denial of service (modem device reset) by connecting to port 80 on the 10.0.0.0/8 device.</td>\n",
       "      <td>the</td>\n",
       "      <td></td>\n",
       "    </tr>\n",
       "    <tr>\n",
       "      <th>686074</th>\n",
       "      <td>CVE-2002-2376</td>\n",
       "      <td>leung</td>\n",
       "      <td>e-guest</td>\n",
       "      <td>1.1</td>\n",
       "      <td>Cross-site scripting (XSS) vulnerability in E-Guest_sign.pl in E-Guest 1.1 allows remote attackers to inject arbitrary SSI directives, web script, and HTML via the (1) full name, (2) email, (3) ho...</td>\n",
       "      <td>Guest</td>\n",
       "      <td></td>\n",
       "    </tr>\n",
       "  </tbody>\n",
       "</table>\n",
       "<p>686075 rows × 7 columns</p>\n",
       "</div>"
      ],
      "text/plain": [
       "               cve_id                      vendor              product     version                                                                                                                                                                                                    descr matched_regex_before matched_regex_after\n",
       "0       CVE-2004-0013  jabber_software_foundation        jabber_server       1.4.3                                       jabber 1.4.2, 1.4.2a, and possibly earlier versions, does not properly handle SSL connections, which allows remote attackers to cause a denial of service (crash).               jabber                    \n",
       "1       CVE-2004-0043                       yahoo            messenger  5.6.0.1351  Buffer overflow in Yahoo Instant Messenger 5.6.0.1351 and earlier allows remote attackers to cause a denial of service (crash) and possibly execute arbitrary code via a long filename in the downlo...            Messenger                 and\n",
       "2       CVE-2004-0043                       yahoo            messenger  5.6.0.1358  Buffer overflow in Yahoo Instant Messenger 5.6.0.1351 and earlier allows remote attackers to cause a denial of service (crash) and possibly execute arbitrary code via a long filename in the downlo...            Messenger                 and\n",
       "3       CVE-2004-0159                samhain_labs                hsftp         1.4  Format string vulnerability in hsftp 1.11 allows remote authenticated users to cause a denial of service and possibly execute arbitrary code via file names containing format string characters that...                hsftp                    \n",
       "4       CVE-2004-0159                samhain_labs                hsftp        1.11  Format string vulnerability in hsftp 1.11 allows remote authenticated users to cause a denial of service and possibly execute arbitrary code via file names containing format string characters that...                hsftp                    \n",
       "...               ...                         ...                  ...         ...                                                                                                                                                                                                      ...                  ...                 ...\n",
       "686070  CVE-2002-0600                         kth         kth_kerberos     4_1.1.1                     Heap overflow in the KTH Kerberos 4 FTP client 4-1.1.1 allows remote malicious servers to execute arbitrary code on the client via a long response to a passive (PASV) mode request.                                   allows\n",
       "686071  CVE-2002-0910                      debian               netstd        3.07  Buffer overflows in netstd 3.07-17 package allows remote DNS servers to execute arbitrary code via a long FQDN reply, as observed in the utilities (1) linux-ftpd, (2) pcnfsd, (3) tftp, (4) tracero...               netstd                    \n",
       "686072  CVE-2002-1964                       wesmo     phpeventcalendar         1.1                                                                    Unknown vulnerability in WesMo phpEventCalendar 1.1 allows remote attackers to execute arbitrary commands via unknown attack vectors.     phpEventCalendar                    \n",
       "686073  CVE-2002-2110                         rca  digital_cable_modem      dcm225                              The RCA Digital Cable Modems DCM225 and DCM225E allow remote attackers to cause a denial of service (modem device reset) by connecting to port 80 on the 10.0.0.0/8 device.                  the                    \n",
       "686074  CVE-2002-2376                       leung              e-guest         1.1  Cross-site scripting (XSS) vulnerability in E-Guest_sign.pl in E-Guest 1.1 allows remote attackers to inject arbitrary SSI directives, web script, and HTML via the (1) full name, (2) email, (3) ho...                Guest                    \n",
       "\n",
       "[686075 rows x 7 columns]"
      ]
     },
     "execution_count": 131,
     "metadata": {},
     "output_type": "execute_result"
    }
   ],
   "source": [
    "df['product_in_descr']"
   ]
  },
  {
   "cell_type": "code",
   "execution_count": null,
   "metadata": {},
   "outputs": [],
   "source": [
    "cpe:2.3:a:hookturn:advanced_forms_for_acf:*:*:*:*:*:wordpress:*:*"
   ]
  },
  {
   "cell_type": "code",
   "execution_count": 13,
   "metadata": {},
   "outputs": [
    {
     "data": {
      "application/vnd.microsoft.datawrangler.viewer.v0+json": {
       "columns": [
        {
         "name": "index",
         "rawType": "int64",
         "type": "integer"
        },
        {
         "name": "cve_id",
         "rawType": "object",
         "type": "string"
        },
        {
         "name": "vendor",
         "rawType": "object",
         "type": "string"
        },
        {
         "name": "product",
         "rawType": "object",
         "type": "string"
        },
        {
         "name": "version",
         "rawType": "object",
         "type": "string"
        },
        {
         "name": "descr",
         "rawType": "object",
         "type": "string"
        },
        {
         "name": "initial_cpe",
         "rawType": "object",
         "type": "string"
        }
       ],
       "conversionMethod": "pd.DataFrame",
       "ref": "645480f1-8c7d-43f2-9749-d25fe137c57a",
       "rows": [],
       "shape": {
        "columns": 6,
        "rows": 0
       }
      },
      "text/html": [
       "<div>\n",
       "<style scoped>\n",
       "    .dataframe tbody tr th:only-of-type {\n",
       "        vertical-align: middle;\n",
       "    }\n",
       "\n",
       "    .dataframe tbody tr th {\n",
       "        vertical-align: top;\n",
       "    }\n",
       "\n",
       "    .dataframe thead th {\n",
       "        text-align: right;\n",
       "    }\n",
       "</style>\n",
       "<table border=\"1\" class=\"dataframe\">\n",
       "  <thead>\n",
       "    <tr style=\"text-align: right;\">\n",
       "      <th></th>\n",
       "      <th>cve_id</th>\n",
       "      <th>vendor</th>\n",
       "      <th>product</th>\n",
       "      <th>version</th>\n",
       "      <th>descr</th>\n",
       "      <th>initial_cpe</th>\n",
       "    </tr>\n",
       "  </thead>\n",
       "  <tbody>\n",
       "  </tbody>\n",
       "</table>\n",
       "</div>"
      ],
      "text/plain": [
       "Empty DataFrame\n",
       "Columns: [cve_id, vendor, product, version, descr, initial_cpe]\n",
       "Index: []"
      ]
     },
     "execution_count": 13,
     "metadata": {},
     "output_type": "execute_result"
    }
   ],
   "source": [
    "df[df.cve_id == \"CVE-2021-25441\"]"
   ]
  },
  {
   "cell_type": "code",
   "execution_count": 7,
   "metadata": {},
   "outputs": [
    {
     "data": {
      "text/plain": [
       "array(['1.4.3', '5.6.0.1351', '5.6.0.1358', '1.4', '1.11', '-', '6.4.4',\n",
       "       '2.5.51', '2.5.24', '2.5.46', '8.0_final', '1.0.5', '2.2.4',\n",
       "       '1.6.3_p2', '1.1a', '1.1f', '2.0', '3.1.17', '4.2', '',\n",
       "       '3.5_solaris_mp2', '0.3.1_b1', '1.3.1', '1.3.4', '4.1', '9.6.1',\n",
       "       '9.1.1', '9.3.1', '9.1.3', '9.3.5', '9.5.0', '9.3.2', '9.2.2',\n",
       "       '9.4.1', '9.7.0', '9.6', '9.2.1', '9.4.2', '9.1', '9.4.3', '9.2.0',\n",
       "       '9.4.0', '9.3.3', '9.5.1', '9.6.0', '10.0.6', '10.0', '3.5',\n",
       "       '0.9.8', '2.11.1', '2.10.11', '2.8.0-a1', '2.9.1', '2.11.0a1',\n",
       "       '2.10.2', '2.8.6', '2.12.1', '5.1.6', '1.11.2', '1.13.3', '4.7.0',\n",
       "       '5.8.5', '5.9.5', '4.7.7', '6.3.9', '5.5.0', '0.73', 'x2.0.0',\n",
       "       '0.8.5', '1.0.0', '1.6.0', '0.13.0\\\\+1', '0.15.0', '2.6.27.56',\n",
       "       '1.6.2', '1.4.0', '1.7.3', '5.0.0', '5.0.1', '5.1', '5.1.17',\n",
       "       '0.3.3', '0.3.0', '2.17a', '2.18', '2.34b', '2.63a', '2.73',\n",
       "       '2.74c', '2.93', '2.96', '3.16', '3.16b', '3.18', '3.28', '3.46',\n",
       "       '3.52', '3.63', '3.80', '3.86', '3.88', '3.90', '4.06', '4.09',\n",
       "       '4.20', '4.25', '4.45', '4.91', '5.08', '1.3.14', '0.1.10',\n",
       "       '0.1.4', '1.0.1', '1.1.1', '0.6.6', '0.7.8', '1.4.9', '10.0.5',\n",
       "       '4.4.0', '4.3.0', '4.3.1', '2.47.00', '3.8m', '1.4.002', '1.2.0',\n",
       "       '1.3.10', '1.4.1', '1.5.0', '1.6.8', '1.6.11', '2.2.1', '2.5.2',\n",
       "       '2.10.0', '3.1.13', '4.0.3', '4.0.4', '4.3.3', '4.5.1', '4.5.2',\n",
       "       '4.6.0', '4.7.2', '4.8.2', '4.8.3', '4.8.11', '4.11.2', '4.12.2',\n",
       "       '4.12.6', '5.4.1', '5.8.0', '5.9.7', '5.9.8', '5.9.9', '1.7.2',\n",
       "       '1.2.3', '8.3', '8.4', '6.3.3', '6.6.1-8', '6.6.2-3', '6.4.2',\n",
       "       '6.4.1-4', '6.5.9-4', '6.4.6-2', '6.5.2-9', '6.5.0-2', '6.5.7-2',\n",
       "       '6.6.2-1', '6.4.6-4', '6.4.6-6', '6.4.2-7', '6.5.1-10', '6.5.3-3',\n",
       "       '6.3.6-5', '6.5.1-7', '6.5.2-2', '6.3.6', '6.4.1-2', '6.4.6-3',\n",
       "       '6.6.3-2', '6.4.2-6', '6.5.2-10', '6.5.0-3', '6.5.6-3', '6.5.0-10',\n",
       "       '6.5.7-8', '6.4.9-10', '6.5.7-1', '6.4.7-8', '2.0.3', '2.0.9',\n",
       "       '8.0.1', '6.5.4', '5.5', '3.2.0', '0.2.10', '5.7', '1.6.7.35',\n",
       "       '6.0', '4.6', '4.6.1', '4.7.1', '4.6.6', '4.14', '5.5.1', '5.5.2',\n",
       "       '8.0', '5.1.0', '3.6', '95', '0.93', '2.2.3', '2.3.1', '0.44',\n",
       "       '1.07', '12.4xp', '12.0xn', '10.1', '1.0', '1.9_beta1', '1.8.5',\n",
       "       'wi-v6.0.1.6', 'wi-v7.0.1.1', '11.3\\\\(11b\\\\)', '12.3\\\\(10\\\\)',\n",
       "       '12.1\\\\(22\\\\)ea6', '12.0\\\\(13\\\\)wt6\\\\(1\\\\)', '12.1\\\\(5\\\\)xv4',\n",
       "       '12.2\\\\(18\\\\)s9', '12.0\\\\(15\\\\)sc', '11.1\\\\(5\\\\)', '12.3\\\\(7\\\\)ja',\n",
       "       '12.1\\\\(22\\\\)e1', '12.2\\\\(25\\\\)seb3', '12.1\\\\(19\\\\)ew3',\n",
       "       '12.0\\\\(15a\\\\)', '12.0\\\\(17\\\\)sl', '11.3\\\\(1\\\\)ed',\n",
       "       '12.2\\\\(24\\\\)sv', '12.1\\\\(5\\\\)ya2', '12.3\\\\(10e\\\\)',\n",
       "       '12.0\\\\(20\\\\)w5\\\\(22b\\\\)', '12.0\\\\(17\\\\)sl9', '11.2\\\\(26e\\\\)',\n",
       "       '11.2p', '12.1\\\\(1\\\\)db2', '12.2\\\\(25\\\\)sw3a', '12.0\\\\(18\\\\)st1',\n",
       "       '12.2sec', '11.3aa', '12.3\\\\(9a\\\\)bc6', '12.1\\\\(5\\\\)xr2',\n",
       "       '12.0\\\\(13a\\\\)', '12.1\\\\(11b\\\\)', '12.0\\\\(8\\\\)', '10.3\\\\(3.3\\\\)',\n",
       "       '12.1\\\\(9a\\\\)', '12.1\\\\(13\\\\)e1', '11.1\\\\(7\\\\)', '12.0\\\\(30\\\\)s4',\n",
       "       '11.3\\\\(11\\\\)b', '12.3\\\\(12\\\\)', '12.3\\\\(13a\\\\)bc',\n",
       "       '12.1\\\\(3\\\\)xt3', '12.3\\\\(11\\\\)yj', '12.1\\\\(10.5\\\\)ec', '12.3yc',\n",
       "       '12.1\\\\(5\\\\)t9', '11.3\\\\(11c\\\\)', '11.2gs', '4.0', '4.2i', '2.2',\n",
       "       '3crwer100-75', '0.4.9', '0.6.12', '1.3.12', '1.1.9', '1.0a',\n",
       "       '2.50', 'ee400-r', '1.2.9', '1.x', '1.01', '0.11.1', '3.1.9',\n",
       "       '3.1.4', '0.1.5', '0.1.3', '2.1', '0.9.7_stable', '4.0.8',\n",
       "       '8.50.02', '1.1', 'ix1010', 'ix2015', '1.0.4', '0.10.02',\n",
       "       '0.11.05', '0.09.8', '0.10.24', '0.09.1', '0.11.12', '0.7',\n",
       "       '19.0.1033.0', '0.10.5', '1.0.2', '2.4.0', '3.5.0', '5.2.1',\n",
       "       '2.6.4', '3.2.5', '3.3.0', '3.9.6', '4.0.2', '4.2.1', '4.2.4',\n",
       "       '4.4.1', '3.5.1', '4.1.0', '4.1.9', '4.6.5', '4.6.14', '4.6.16',\n",
       "       '5.3.0', '1.1.2', '1.2.5', '1.3.6', '1.6.5', '1.7.1', '9.700',\n",
       "       '9.704', '9.17.11', '9.17.20', '2.4.7', '3.1.2', '3.2.3', '3.9.1',\n",
       "       '4.9.531', '4.9.570', '1.1.3', '1.1.5', '1.3.0', '1.4.5', '1.5.2',\n",
       "       '2.1.9', '2.5.6', '2.9.3', '3.5.7', '3.6.3', '3.6.5', '3.6.6',\n",
       "       '5.2.2', '5.2.4', '5.2.7', '5.3.7', '5.5.5', '5.6.0', '5.6.1',\n",
       "       '5.6.3', '5.7.7', '5.8.6', '6.0.7', '6.1.7', '6.4.9', '6.5.5',\n",
       "       '6.5.6', '6.6.2', '6.7.0', '7.3.1', '7.5.3', '7.5.7', '7.7.5',\n",
       "       '7.8.6', '7.9.9', '8.0.4', '8.3.1', '8.3.7', '8.5.2', '8.5.4',\n",
       "       '8.8.7', '8.9.8', '9.2.5', '9.6.5', '10.1.3', '10.3.0', '10.5.0',\n",
       "       '10.6.0', '10.7.5', '10.7.7', '10.8.5', '11.0.4', '11.2.1', '2.4',\n",
       "       '3.2.2', '3.2.11', '4.0.14.1', '4.0.16', '4.1.2', '4.1.2.1',\n",
       "       '4.1.13', '1.8', '0.2.1.2', '0.2.2.1', '0.2.3.0', '0.2.7.1',\n",
       "       '0.2.8.0', '0.3.6.2', '0.4.0.0', '0.4.2.1', '0.5.7.3', '0.5.14.0',\n",
       "       '0.5.14.3', '0.6.12.1', '0.6.17.3', '0.6.17.4', '0.8.0.0',\n",
       "       '0.8.10.2', '1.0.0.3', '1.7.0', '1.8.0', '1.9.0', '1.10.0',\n",
       "       '1.10.1', '1.11.0', '1.12.0', '1.13.0', '1.14.0', '1.15.0',\n",
       "       '1.17.0', '1.18.0', '1.19.0', '1.23.0', '1.24.0', '1.24.1',\n",
       "       '1.25.0', '2.1.0', '2.1.1', '2.3.0', '2.3.2', '2.5.0', '2.7.0',\n",
       "       '2.8.0', '2.2.0', '1.1.6', '1.1.29', '1.1.40', '1.1.51', '2.0.4',\n",
       "       '2.1.7', '2.3.6', '2.4.1', '2.4.9', '2.7.5', '3.0.1', '3.0.2',\n",
       "       '3.0.3', '3.0.6', '3.4.4', '1.1.91', '1.1.97', '1.2.24', '1.2.31',\n",
       "       '1.3.29', '1.3.32', '1.3.52', '1.3.76', '1.3.82', '1.3.89',\n",
       "       '1.3.94', '1.4.01', '1.4.16', '1.4.55', '1.4.90', '1.4.95',\n",
       "       '1.5.01', '1.5.04', '1.5.26', '1.5.27', '1.5.28', '6.6.104',\n",
       "       '6.6.117', '0.892', '0.4.57', '0.32.4', '0.33.4.5', '0.574',\n",
       "       '0.610', '0.810', '0.812', '0.814', '0.822', '0.837', '0.853',\n",
       "       '0.961', '0.5910', '0.5934', '0.5961', '1.066', '1.0974', '1.2580',\n",
       "       '1.2601', '1.3100', '1.3940', '1.3960', '1.4100', '1.4520',\n",
       "       '1.5000', '1.5230', '1.52500', '2.2860', '2.3000', '2.3500',\n",
       "       '2.4350', '2.4391', '2.5700', '2.6869', '2.6870', '2.6876',\n",
       "       '2.6886', '2.6889', '2.6894', '2.6897', '2.7007', '2.7010',\n",
       "       '2.72100', '2.72190', '2.77340', '2.77370', '2.77510', '2.775300',\n",
       "       '3.1.12', '3.3.7', '3.3.8', '3.4.121', '1.7', '1.9', '2.11',\n",
       "       '1.3.2', '8.0.15', '8.0.17', '8.0.20', '8.0.26', '12.1.2',\n",
       "       '12.1.0', '12.1.1', '11.6.2', '13.1.0', '14.1.0', '14.1.4',\n",
       "       '13.1.3', '13.1.5', '12.1.4', '15.1.1', '15.1.4', '13.1.1',\n",
       "       '11.6.3', '15.1.2', '12.1.6', '11.6.4', '0.6.1', '0.7.2', '0.7.5',\n",
       "       '1.5', '2.7.1', '3.6.2', '3.9.8', '4.3.7', '4.6.3', '4.6.4', '4.8',\n",
       "       '4.9.4', '5.3', '5.8.8', '6.2', '6.4.3', '6.5.8', '8.0.2', '8.8.3',\n",
       "       '9.1.8', '1.0.7', '1.0.3', '1.2.2', '1.2.4', '1.6.3', '1.7.4',\n",
       "       '2.0.8', '2.3.3', '2.4.3', '2.5.6.1', '2.5.6.9', '2.5.8.3',\n",
       "       '2.5.9.6', '2.6.0.8', '2.6.1.6', '2.6.3.7', '2.6.6.0', '3.1.1',\n",
       "       '3.5.2', '3.5.8', '3.7.2', '3.7.7', '3.8.5', '3.8.8', '3.9.2',\n",
       "       '4.0.1', '4.26', '0.2.0', '1.2.1', '4.1.3', '4.3.2', '4.13',\n",
       "       '4.26.1', '4.34', '4.36', '5.7.1.2', '6.1.1.0', '6.2.0', '6.2.1',\n",
       "       '6.5.1', '6.7.5', '6.8.1', '6.8.11', '6.9.0', '7.0.7', '7.1.2',\n",
       "       '7.1.4', '7.3.0', '7.3.2', '8.0.8', '8.1.2', '8.4.2', '8.6.1',\n",
       "       '8.7.10', '8.9.2', '9.0.1', '9.1.2', '10.0.3', '10.0.11',\n",
       "       '10.0.22', '10.0.28', '10.1.2', '10.2.7', '10.4.4', '10.4.5',\n",
       "       '11.0.5', '11.0.8', '12.3.0', '12.5.0', '12.5.4', '12.6.8',\n",
       "       '12.8.1', '13.3.3', '13.5.5', '13.9.7', '13.10.5', '14.1.5',\n",
       "       '14.6.9', '15.1.3', '15.4.1', '15.8.7', '16.4.5', '16.6.7',\n",
       "       '17.0.0', '17.1.4', '5.2', '4.9.2', '6.2.6', '6.3.2', '1.0.6',\n",
       "       '1.0.9', '1.0.16', '1.2.6', '1.4.10', '2.0.2.1', '2.0.5.1',\n",
       "       '2.0.5.2', '2.0.5.3', '3.6.1', '2.2.10', '2.2.18', '2.2.25',\n",
       "       '2.2.28', '2.2.30', '2.2.37', '2.2.44', '16.1.3', '3.10.5s',\n",
       "       '3.11.2s', '3.15.3s', '3.16.3s', '3.16.2bs', '3.13.8s', '3.16.6bs',\n",
       "       '3.16.7as', '3.13.6bs', '3.18.7sp', '6.4.0.4', '6.6.7', '9.8.4.3',\n",
       "       '9.14.1.10', '9.8.2.8', '9.8.2.14', '9.8.4.34', '9.14.1',\n",
       "       '9.18.2.8', '6.4.0.16', '15.6\\\\(3\\\\)m6b', '15.2\\\\(7\\\\)e0b',\n",
       "       '6.15.3', '6.17.0', '6.20.3', '6.21.2', '6.21.8', '0.8.1',\n",
       "       '0.9.2.5', '0.9.6.3', '0.9.7.5', '0.9.9.7', '0.9.9.15', '1.4.2',\n",
       "       '1.4.7', '1.7.6', '1.8.3', '1.8.9', '1.8.11', '1.9.7', '2.0.0',\n",
       "       '2.2.8', '2.6.0', '2.6.5', '2.7.3', '2.7.9', '2.7.12', '1.12.1',\n",
       "       '0.10.7', '22.1.0', '0.1.14', '0.6.4', '0.6.5', '0.6.8', '0.7.0',\n",
       "       '0.8.3', '0.8.4', '0.9.0', '16.2', '16.1', '18.1', '17.4', '17.2',\n",
       "       '18.3', '18.4', '17.3', '19.1', '18.2', '1.2.7', '5.4.0',\n",
       "       '9.0.0.0', '9.0.0.9', '9.0.5.1', '19.5.205', '20.7.156',\n",
       "       '21.7.146', '21.11.133', '3.1.0', '1.21.1', '1.22.1', '1.34.4',\n",
       "       '1.42.0', '1.42.6', '1.49.4', '1.54.1', '1.60.0', '1.69.4',\n",
       "       '1.91.0', '1.95.0', '1.101.0', '1.103.0', '1.112.0', '1.143.1',\n",
       "       '1.150.0', '1.175.3', '1.192.3', '1.211.0', '1.216.0', '1.219.0',\n",
       "       '1.230.7', '1.279.2', '1.283.0', '1.287.0', '1.290.1', '1.298.1',\n",
       "       '1.303.2', '1.304.0', '1.330.1', '1.347.0', '1.351.0', '1.370.1',\n",
       "       '1.381.0', '1.382.0', '1.391.1', '1.406.0', '1.410.3', '1.413.1',\n",
       "       '1.420.1', '1.427.2', '1.437.0', '1.457.0', '1.499.0', '1.500.0',\n",
       "       '1.505.0', '1.509.0', '1.539.0', '1.544.0', '1.550.0', '1.557.0',\n",
       "       '1.601.0', '1.617.0', '1.645.0', '1.652.0', '1.664.0', '1.707.0',\n",
       "       '1.724.0', '1.739.0', '1.742.0', '1.744.0', '1.756.0', '1.762.0',\n",
       "       '1.782.0', '1.794.0', '1.826.0', '1.827.0', '1.828.0', '1.852.0',\n",
       "       '1.861.0', '1.863.0', '1.899.0', '1.940.0', '1.955.0', '1.987.0',\n",
       "       '1.1005.0', '1.1034.0', '1.1041.0', '1.1056.0', '2.17.3', '2.23.4',\n",
       "       '2.25.3', '1.1.0', '3.7.0', '3.18.1', '3.24.3', '1.8.1', '1.23.1',\n",
       "       '2.11.4', '1.22.0', '1.31.0', '3.17.0', '3.20.0', '4.18.1',\n",
       "       '4.19.1', '4.19.5', '4.21.4', '4.32.1', '4.32.2', '4.36.0',\n",
       "       '5.1.1', '1.5.6', '4.70', '0.1.36', '0.1.42', '0.1.46', '4.0.0',\n",
       "       '6.0.1', '13.0.0', '1.6.4', '7.53', '7.69', '7.71', '7.89', '7.96',\n",
       "       '8.30', '8.34', '8.39', '8.49', '8.51', '9.05', '9.60', '9.66',\n",
       "       '9.95', '9.98', '10.04', '10.07', '10.28', '10.29', '10.31',\n",
       "       '10.46', '10.56', '10.64', '10.89', '11.67', '11.79', '11.96',\n",
       "       '1.8.8', '2.0.2', '2.1.4', '2.4.2', '0.9', '0.9.1',\n",
       "       '20220525.165232', '20220801.121815', '20220906.123713', '1.1.13',\n",
       "       '1.1.26', '1.2.10', '1.2.19', '1.2.21', '1.2.23',\n",
       "       '20220308.104122', '20220310.164417', '20220420.140326',\n",
       "       '20220725.082712', '20220729.112725', '20220801.125515',\n",
       "       '20220812.093715', '20220815.091022', '20220822.113041',\n",
       "       '20220826.102742', '20221018.100911', '2.1.5', '2.4.8', '2.4.13',\n",
       "       '0.2.1', '0.3.6', '0.6.2', '0.4', '0.9.5', '1.2.10.442',\n",
       "       '1.2.14.515', '1.2.27.591', '1.2.29.598', '1.2.35.614',\n",
       "       '1.2.47.646', '1.2.55.664', '1.2.73.711', '1.3.0.715', '1.3.3.726',\n",
       "       '1.3.20.770', '1.3.30.805', '1.3.31.813', '1.3.31.820',\n",
       "       '1.3.40.869', '1.3.49.998', '1.3.59.1094', '1.3.59.1099',\n",
       "       '1.3.64.1141', '1.3.75.1178', '1.3.83.1242', '1.3.104.1479',\n",
       "       '1.4.27.1646', '1.4.37.1787', '1.4.40.1867', '1.5.30.2181',\n",
       "       '1.5.95.2558', '1.5.96.2561', '1.5.98.2578', '1.5.100.2626',\n",
       "       '1.5.103.2661', '1.5.107.2672', '1.5.118.2729', '1.6.1.2800',\n",
       "       '1.6.3.2824', '1.7.6.3071', '1.8.6.3245', '1.9.5.3345',\n",
       "       '1.9.8.3366', '1.9.12.3383', '1.9.12.3385', '1.9.13.3393',\n",
       "       '1.9.15.3415', '1.9.16.3434', '1.9.20.3454', '1.9.31.3534',\n",
       "       '1.11.44.3633', '1.11.44.3641', '1.11.48.3661', '1.12.3.3692',\n",
       "       '1.13.0.3702', '1.13.10.3730', '1.15.3.3772', '1.17.11.3872',\n",
       "       '1.17.21.3997', '1.17.30.4017', '1.17.31.4019', '1.17.64.4120',\n",
       "       '1.17.76.4185', '1.17.85.4208', '1.17.86.4219', '1.17.93.4292',\n",
       "       '1.18.01.4327', '1.18.08.4370', '1.18.12.4392'], dtype=object)"
      ]
     },
     "execution_count": 7,
     "metadata": {},
     "output_type": "execute_result"
    }
   ],
   "source": [
    "df['version'].unique()[:1000]"
   ]
  },
  {
   "cell_type": "markdown",
   "metadata": {},
   "source": [
    "## Версии before"
   ]
  },
  {
   "cell_type": "code",
   "execution_count": 6,
   "metadata": {},
   "outputs": [],
   "source": [
    "import re\n",
    "\n",
    "def extract_word_before_version(text):\n",
    "    # The regex looks for a word (letters) followed by a version pattern with at least two dots\n",
    "    pattern = r'([a-zA-Z><=]+)\\s+\\d+(?:\\.\\d+){1,}'\n",
    "    match = re.search(pattern, text)\n",
    "    if match:\n",
    "        return match.group(1)\n",
    "    else:\n",
    "        return ''"
   ]
  },
  {
   "cell_type": "code",
   "execution_count": 62,
   "metadata": {},
   "outputs": [
    {
     "name": "stdout",
     "output_type": "stream",
     "text": [
      "before\n",
      "name\n",
      "tuesday\n",
      "you\n",
      ">=\n"
     ]
    }
   ],
   "source": [
    "print(extract_word_before_version(\"Google Chrome before 19.0.1084.46\"))  # Output: before\n",
    "print(extract_word_before_version(\"i have got the name 2.1.0\"))          # Output: name\n",
    "print(extract_word_before_version(\"this is tuesday 1.2.1.1.1\"))          # Output: tuesday\n",
    "print(extract_word_before_version(\"mama i love you 6.0\"))      \n",
    "print(extract_word_before_version(\"all that are >= 6.0\"))   "
   ]
  },
  {
   "cell_type": "code",
   "execution_count": 7,
   "metadata": {},
   "outputs": [],
   "source": [
    "df['matched_regex_before'] = df['descr'].apply(extract_word_before_version)"
   ]
  },
  {
   "cell_type": "code",
   "execution_count": 64,
   "metadata": {},
   "outputs": [
    {
     "data": {
      "text/html": [
       "<div>\n",
       "<style scoped>\n",
       "    .dataframe tbody tr th:only-of-type {\n",
       "        vertical-align: middle;\n",
       "    }\n",
       "\n",
       "    .dataframe tbody tr th {\n",
       "        vertical-align: top;\n",
       "    }\n",
       "\n",
       "    .dataframe thead th {\n",
       "        text-align: right;\n",
       "    }\n",
       "</style>\n",
       "<table border=\"1\" class=\"dataframe\">\n",
       "  <thead>\n",
       "    <tr style=\"text-align: right;\">\n",
       "      <th></th>\n",
       "      <th>word</th>\n",
       "      <th>matched_regex_before</th>\n",
       "    </tr>\n",
       "  </thead>\n",
       "  <tbody>\n",
       "    <tr>\n",
       "      <th>0</th>\n",
       "      <td>before</td>\n",
       "      <td>223119</td>\n",
       "    </tr>\n",
       "    <tr>\n",
       "      <th>1</th>\n",
       "      <td></td>\n",
       "      <td>105968</td>\n",
       "    </tr>\n",
       "    <tr>\n",
       "      <th>2</th>\n",
       "      <td>through</td>\n",
       "      <td>54907</td>\n",
       "    </tr>\n",
       "    <tr>\n",
       "      <th>3</th>\n",
       "      <td>version</td>\n",
       "      <td>51086</td>\n",
       "    </tr>\n",
       "    <tr>\n",
       "      <th>4</th>\n",
       "      <td>to</td>\n",
       "      <td>48571</td>\n",
       "    </tr>\n",
       "    <tr>\n",
       "      <th>...</th>\n",
       "      <td>...</td>\n",
       "      <td>...</td>\n",
       "    </tr>\n",
       "    <tr>\n",
       "      <th>9354</th>\n",
       "      <td>TxtBlog</td>\n",
       "      <td>1</td>\n",
       "    </tr>\n",
       "    <tr>\n",
       "      <th>9355</th>\n",
       "      <td>cmsWorks</td>\n",
       "      <td>1</td>\n",
       "    </tr>\n",
       "    <tr>\n",
       "      <th>9356</th>\n",
       "      <td>cpLinks</td>\n",
       "      <td>1</td>\n",
       "    </tr>\n",
       "    <tr>\n",
       "      <th>9357</th>\n",
       "      <td>PostfixAdmin</td>\n",
       "      <td>1</td>\n",
       "    </tr>\n",
       "    <tr>\n",
       "      <th>9358</th>\n",
       "      <td>netstd</td>\n",
       "      <td>1</td>\n",
       "    </tr>\n",
       "  </tbody>\n",
       "</table>\n",
       "<p>9359 rows × 2 columns</p>\n",
       "</div>"
      ],
      "text/plain": [
       "              word  matched_regex_before\n",
       "0           before                223119\n",
       "1                                 105968\n",
       "2          through                 54907\n",
       "3          version                 51086\n",
       "4               to                 48571\n",
       "...            ...                   ...\n",
       "9354       TxtBlog                     1\n",
       "9355      cmsWorks                     1\n",
       "9356       cpLinks                     1\n",
       "9357  PostfixAdmin                     1\n",
       "9358        netstd                     1\n",
       "\n",
       "[9359 rows x 2 columns]"
      ]
     },
     "execution_count": 64,
     "metadata": {},
     "output_type": "execute_result"
    }
   ],
   "source": [
    "matched_df = df['matched_regex_before'].value_counts().reset_index()\n",
    "matched_df = matched_df.rename(columns={'index': 'word'})\n",
    "matched_df"
   ]
  },
  {
   "cell_type": "code",
   "execution_count": 79,
   "metadata": {},
   "outputs": [
    {
     "data": {
      "text/html": [
       "<div>\n",
       "<style scoped>\n",
       "    .dataframe tbody tr th:only-of-type {\n",
       "        vertical-align: middle;\n",
       "    }\n",
       "\n",
       "    .dataframe tbody tr th {\n",
       "        vertical-align: top;\n",
       "    }\n",
       "\n",
       "    .dataframe thead th {\n",
       "        text-align: right;\n",
       "    }\n",
       "</style>\n",
       "<table border=\"1\" class=\"dataframe\">\n",
       "  <thead>\n",
       "    <tr style=\"text-align: right;\">\n",
       "      <th></th>\n",
       "      <th>word</th>\n",
       "      <th>matched_regex_before</th>\n",
       "      <th>capital</th>\n",
       "    </tr>\n",
       "  </thead>\n",
       "  <tbody>\n",
       "    <tr>\n",
       "      <th>0</th>\n",
       "      <td>before</td>\n",
       "      <td>223119</td>\n",
       "      <td>False</td>\n",
       "    </tr>\n",
       "    <tr>\n",
       "      <th>1</th>\n",
       "      <td></td>\n",
       "      <td>105968</td>\n",
       "      <td>False</td>\n",
       "    </tr>\n",
       "    <tr>\n",
       "      <th>2</th>\n",
       "      <td>through</td>\n",
       "      <td>54907</td>\n",
       "      <td>False</td>\n",
       "    </tr>\n",
       "    <tr>\n",
       "      <th>3</th>\n",
       "      <td>version</td>\n",
       "      <td>51086</td>\n",
       "      <td>False</td>\n",
       "    </tr>\n",
       "    <tr>\n",
       "      <th>4</th>\n",
       "      <td>to</td>\n",
       "      <td>48571</td>\n",
       "      <td>False</td>\n",
       "    </tr>\n",
       "  </tbody>\n",
       "</table>\n",
       "</div>"
      ],
      "text/plain": [
       "      word  matched_regex_before  capital\n",
       "0   before                223119    False\n",
       "1                         105968    False\n",
       "2  through                 54907    False\n",
       "3  version                 51086    False\n",
       "4       to                 48571    False"
      ]
     },
     "execution_count": 79,
     "metadata": {},
     "output_type": "execute_result"
    }
   ],
   "source": [
    "matched_df['capital'] = matched_df['word'].str.match(r'^[A-Z]')  # Regex: ^[A-Z] means \"starts with uppercase A-Z\"\n",
    "matched_df[matched_df.capital == False].head(5)"
   ]
  },
  {
   "cell_type": "code",
   "execution_count": 1,
   "metadata": {},
   "outputs": [
    {
     "ename": "NameError",
     "evalue": "name 'matched_df' is not defined",
     "output_type": "error",
     "traceback": [
      "\u001b[0;31m---------------------------------------------------------------------------\u001b[0m",
      "\u001b[0;31mNameError\u001b[0m                                 Traceback (most recent call last)",
      "\u001b[0;32m/tmp/ipykernel_433805/2840616314.py\u001b[0m in \u001b[0;36m<module>\u001b[0;34m\u001b[0m\n\u001b[0;32m----> 1\u001b[0;31m \u001b[0mmatched_df\u001b[0m\u001b[0;34m.\u001b[0m\u001b[0mhead\u001b[0m\u001b[0;34m(\u001b[0m\u001b[0;36m30\u001b[0m\u001b[0;34m)\u001b[0m\u001b[0;34m\u001b[0m\u001b[0;34m\u001b[0m\u001b[0m\n\u001b[0m",
      "\u001b[0;31mNameError\u001b[0m: name 'matched_df' is not defined"
     ]
    }
   ],
   "source": [
    "matched_df.head(30)"
   ]
  },
  {
   "cell_type": "code",
   "execution_count": 80,
   "metadata": {},
   "outputs": [
    {
     "data": {
      "text/plain": [
       "['before', '', 'through', 'version', 'to']"
      ]
     },
     "execution_count": 80,
     "metadata": {},
     "output_type": "execute_result"
    }
   ],
   "source": [
    "matched_df[matched_df.capital == False].head(5).word.tolist()"
   ]
  },
  {
   "cell_type": "code",
   "execution_count": 1,
   "metadata": {},
   "outputs": [],
   "source": [
    "# prior\n",
    "# up to\n",
    "before_words = ['before',\n",
    " 'to',\n",
    " 'version',\n",
    " 'through',\n",
    " 'versions',\n",
    " 'and',\n",
    " 'application',\n",
    " 'is',\n",
    " 'from',\n",
    " 'including',\n",
    " 'in',\n",
    " 'below',\n",
    " 'than',\n",
    " 'the',\n",
    " 'possibly',\n",
    " 'is',\n",
    " 'after',\n",
    " 'older',\n",
    " 'until',\n",
    " '<',\n",
    " '<='\n",
    " ]\n",
    "\n",
    "before_words2 = [\n",
    "    'older',\n",
    "    'until'\n",
    "]"
   ]
  },
  {
   "cell_type": "code",
   "execution_count": 5,
   "metadata": {},
   "outputs": [
    {
     "data": {
      "text/plain": [
       "21"
      ]
     },
     "execution_count": 5,
     "metadata": {},
     "output_type": "execute_result"
    }
   ],
   "source": [
    "len(before_words)"
   ]
  },
  {
   "cell_type": "code",
   "execution_count": 136,
   "metadata": {},
   "outputs": [],
   "source": [
    "def check_conditions(row, wrd):\n",
    "    if ((row['vendor'] in row['descr']) and\n",
    "        (row['product'] in row['descr']) and\n",
    "        (row['matched_regex_before'] == wrd)):\n",
    "        return True\n",
    "    else:\n",
    "        return False\n",
    "    \n",
    "def check_conditions_before_less_conditions(row, wrd):\n",
    "    if (((row['vendor'] in row['descr'].lower()) or\n",
    "        (row['product'] in row['descr'].lower())) and\n",
    "        (row['matched_regex_before'] == wrd)):\n",
    "        return True\n",
    "    else:\n",
    "        return False"
   ]
  },
  {
   "cell_type": "code",
   "execution_count": 82,
   "metadata": {},
   "outputs": [
    {
     "data": {
      "application/vnd.microsoft.datawrangler.viewer.v0+json": {
       "columns": [
        {
         "name": "index",
         "rawType": "int64",
         "type": "integer"
        },
        {
         "name": "cve_id",
         "rawType": "object",
         "type": "string"
        },
        {
         "name": "vendor",
         "rawType": "object",
         "type": "string"
        },
        {
         "name": "product",
         "rawType": "object",
         "type": "string"
        },
        {
         "name": "version",
         "rawType": "object",
         "type": "string"
        },
        {
         "name": "descr",
         "rawType": "object",
         "type": "string"
        },
        {
         "name": "matched_regex_before",
         "rawType": "object",
         "type": "string"
        }
       ],
       "conversionMethod": "pd.DataFrame",
       "ref": "f158eb9d-4ea7-47aa-98f9-442ee97c9602",
       "rows": [
        [
         "600628",
         "CVE-2002-2220",
         "chetcpasswd",
         "chetcpasswd",
         "1.12",
         "Buffer overflow in Pedro Lineu Orso chetcpasswd before 1.12, when configured for access from 0.0.0.0, allows local users to gain privileges via unspecified vectors.",
         "before"
        ],
        [
         "96551",
         "CVE-2022-25875",
         "svelte",
         "svelte",
         "3.37.0",
         "The package svelte before 3.49.0 are vulnerable to Cross-site Scripting (XSS) due to improper input sanitization and to improper escape of attributes when using objects during SSR (Server-Side Rendering). Exploiting this vulnerability is possible via objects with a custom toString() function.",
         "before"
        ],
        [
         "133498",
         "CVE-2023-50724",
         "resque",
         "resque",
         "1.22.0",
         "Resque (pronounced like \"rescue\") is a Redis-backed library for creating background jobs, placing those jobs on multiple queues, and processing them later. resque-web in resque versions before 2.1.0 are vulnerable to reflected XSS through the current_queue parameter in the path of the queues endpoint. This issue has been patched in version 2.1.0.\n",
         "before"
        ],
        [
         "187545",
         "CVE-2022-21190",
         "mozilla",
         "convict",
         "0.5.0",
         "This affects the package convict before 6.2.3. This is a bypass of [CVE-2022-22143](https://security.snyk.io/vuln/SNYK-JS-CONVICT-2340604). The [fix](https://github.com/mozilla/node-convict/commit/3b86be087d8f14681a9c889d45da7fe3ad9cd880) introduced, relies on the startsWith method and does not prevent the vulnerability: before splitting the path, it checks if it starts with __proto__ or this.constructor.prototype. To bypass this check it's possible to prepend the dangerous paths with any string value followed by a dot, like for example foo.__proto__ or foo.this.constructor.prototype.",
         "before"
        ],
        [
         "283239",
         "CVE-2016-10714",
         "zsh",
         "zsh",
         "4.0.5",
         "In zsh before 5.3, an off-by-one error resulted in undersized buffers that were intended to support PATH_MAX characters.",
         "before"
        ]
       ],
       "shape": {
        "columns": 6,
        "rows": 5
       }
      },
      "text/html": [
       "<div>\n",
       "<style scoped>\n",
       "    .dataframe tbody tr th:only-of-type {\n",
       "        vertical-align: middle;\n",
       "    }\n",
       "\n",
       "    .dataframe tbody tr th {\n",
       "        vertical-align: top;\n",
       "    }\n",
       "\n",
       "    .dataframe thead th {\n",
       "        text-align: right;\n",
       "    }\n",
       "</style>\n",
       "<table border=\"1\" class=\"dataframe\">\n",
       "  <thead>\n",
       "    <tr style=\"text-align: right;\">\n",
       "      <th></th>\n",
       "      <th>cve_id</th>\n",
       "      <th>vendor</th>\n",
       "      <th>product</th>\n",
       "      <th>version</th>\n",
       "      <th>descr</th>\n",
       "      <th>matched_regex_before</th>\n",
       "    </tr>\n",
       "  </thead>\n",
       "  <tbody>\n",
       "    <tr>\n",
       "      <th>600628</th>\n",
       "      <td>CVE-2002-2220</td>\n",
       "      <td>chetcpasswd</td>\n",
       "      <td>chetcpasswd</td>\n",
       "      <td>1.12</td>\n",
       "      <td>Buffer overflow in Pedro Lineu Orso chetcpasswd before 1.12, when configured for access from 0.0.0.0, allows local users to gain privileges via unspecified vectors.</td>\n",
       "      <td>before</td>\n",
       "    </tr>\n",
       "    <tr>\n",
       "      <th>96551</th>\n",
       "      <td>CVE-2022-25875</td>\n",
       "      <td>svelte</td>\n",
       "      <td>svelte</td>\n",
       "      <td>3.37.0</td>\n",
       "      <td>The package svelte before 3.49.0 are vulnerable to Cross-site Scripting (XSS) due to improper input sanitization and to improper escape of attributes when using objects during SSR (Server-Side Ren...</td>\n",
       "      <td>before</td>\n",
       "    </tr>\n",
       "    <tr>\n",
       "      <th>133498</th>\n",
       "      <td>CVE-2023-50724</td>\n",
       "      <td>resque</td>\n",
       "      <td>resque</td>\n",
       "      <td>1.22.0</td>\n",
       "      <td>Resque (pronounced like \"rescue\") is a Redis-backed library for creating background jobs, placing those jobs on multiple queues, and processing them later. resque-web in resque versions before 2.1...</td>\n",
       "      <td>before</td>\n",
       "    </tr>\n",
       "    <tr>\n",
       "      <th>187545</th>\n",
       "      <td>CVE-2022-21190</td>\n",
       "      <td>mozilla</td>\n",
       "      <td>convict</td>\n",
       "      <td>0.5.0</td>\n",
       "      <td>This affects the package convict before 6.2.3. This is a bypass of [CVE-2022-22143](https://security.snyk.io/vuln/SNYK-JS-CONVICT-2340604). The [fix](https://github.com/mozilla/node-convict/commit...</td>\n",
       "      <td>before</td>\n",
       "    </tr>\n",
       "    <tr>\n",
       "      <th>283239</th>\n",
       "      <td>CVE-2016-10714</td>\n",
       "      <td>zsh</td>\n",
       "      <td>zsh</td>\n",
       "      <td>4.0.5</td>\n",
       "      <td>In zsh before 5.3, an off-by-one error resulted in undersized buffers that were intended to support PATH_MAX characters.</td>\n",
       "      <td>before</td>\n",
       "    </tr>\n",
       "  </tbody>\n",
       "</table>\n",
       "</div>"
      ],
      "text/plain": [
       "                cve_id       vendor      product version                                                                                                                                                                                                    descr matched_regex_before\n",
       "600628   CVE-2002-2220  chetcpasswd  chetcpasswd    1.12                                     Buffer overflow in Pedro Lineu Orso chetcpasswd before 1.12, when configured for access from 0.0.0.0, allows local users to gain privileges via unspecified vectors.               before\n",
       "96551   CVE-2022-25875       svelte       svelte  3.37.0  The package svelte before 3.49.0 are vulnerable to Cross-site Scripting (XSS) due to improper input sanitization and to improper escape of attributes when using objects during SSR (Server-Side Ren...               before\n",
       "133498  CVE-2023-50724       resque       resque  1.22.0  Resque (pronounced like \"rescue\") is a Redis-backed library for creating background jobs, placing those jobs on multiple queues, and processing them later. resque-web in resque versions before 2.1...               before\n",
       "187545  CVE-2022-21190      mozilla      convict   0.5.0  This affects the package convict before 6.2.3. This is a bypass of [CVE-2022-22143](https://security.snyk.io/vuln/SNYK-JS-CONVICT-2340604). The [fix](https://github.com/mozilla/node-convict/commit...               before\n",
       "283239  CVE-2016-10714          zsh          zsh   4.0.5                                                                                 In zsh before 5.3, an off-by-one error resulted in undersized buffers that were intended to support PATH_MAX characters.               before"
      ]
     },
     "execution_count": 82,
     "metadata": {},
     "output_type": "execute_result"
    }
   ],
   "source": [
    "tt = df[df.apply(lambda x: check_conditions(x, 'before'), axis=1)]\n",
    "tt.sample(len(tt)).head()"
   ]
  },
  {
   "cell_type": "code",
   "execution_count": 83,
   "metadata": {},
   "outputs": [
    {
     "name": "stderr",
     "output_type": "stream",
     "text": [
      "  5%|▍         | 1/21 [00:03<01:16,  3.82s/it]"
     ]
    },
    {
     "name": "stdout",
     "output_type": "stream",
     "text": [
      "before (13923, 6)\n"
     ]
    },
    {
     "name": "stderr",
     "output_type": "stream",
     "text": [
      " 10%|▉         | 2/21 [00:07<01:12,  3.84s/it]"
     ]
    },
    {
     "name": "stdout",
     "output_type": "stream",
     "text": [
      "to (10647, 6)\n"
     ]
    },
    {
     "name": "stderr",
     "output_type": "stream",
     "text": [
      " 14%|█▍        | 3/21 [00:11<01:09,  3.84s/it]"
     ]
    },
    {
     "name": "stdout",
     "output_type": "stream",
     "text": [
      "version (6167, 6)\n"
     ]
    },
    {
     "name": "stderr",
     "output_type": "stream",
     "text": [
      " 19%|█▉        | 4/21 [00:15<01:05,  3.84s/it]"
     ]
    },
    {
     "name": "stdout",
     "output_type": "stream",
     "text": [
      "through (1804, 6)\n"
     ]
    },
    {
     "name": "stderr",
     "output_type": "stream",
     "text": [
      " 24%|██▍       | 5/21 [00:19<01:01,  3.84s/it]"
     ]
    },
    {
     "name": "stdout",
     "output_type": "stream",
     "text": [
      "versions (665, 6)\n"
     ]
    },
    {
     "name": "stderr",
     "output_type": "stream",
     "text": [
      " 29%|██▊       | 6/21 [00:23<00:57,  3.85s/it]"
     ]
    },
    {
     "name": "stdout",
     "output_type": "stream",
     "text": [
      "and (24, 6)\n"
     ]
    },
    {
     "name": "stderr",
     "output_type": "stream",
     "text": [
      " 33%|███▎      | 7/21 [00:26<00:53,  3.85s/it]"
     ]
    },
    {
     "name": "stdout",
     "output_type": "stream",
     "text": [
      "application (109, 6)\n"
     ]
    },
    {
     "name": "stderr",
     "output_type": "stream",
     "text": [
      " 38%|███▊      | 8/21 [00:30<00:50,  3.87s/it]"
     ]
    },
    {
     "name": "stdout",
     "output_type": "stream",
     "text": [
      "is (37, 6)\n"
     ]
    },
    {
     "name": "stderr",
     "output_type": "stream",
     "text": [
      " 43%|████▎     | 9/21 [00:34<00:46,  3.84s/it]"
     ]
    },
    {
     "name": "stdout",
     "output_type": "stream",
     "text": [
      "from (229, 6)\n"
     ]
    },
    {
     "name": "stderr",
     "output_type": "stream",
     "text": [
      " 48%|████▊     | 10/21 [00:38<00:42,  3.84s/it]"
     ]
    },
    {
     "name": "stdout",
     "output_type": "stream",
     "text": [
      "including (777, 6)\n"
     ]
    },
    {
     "name": "stderr",
     "output_type": "stream",
     "text": [
      " 52%|█████▏    | 11/21 [00:42<00:38,  3.84s/it]"
     ]
    },
    {
     "name": "stdout",
     "output_type": "stream",
     "text": [
      "in (121, 6)\n"
     ]
    },
    {
     "name": "stderr",
     "output_type": "stream",
     "text": [
      " 57%|█████▋    | 12/21 [00:46<00:34,  3.83s/it]"
     ]
    },
    {
     "name": "stdout",
     "output_type": "stream",
     "text": [
      "below (148, 6)\n"
     ]
    },
    {
     "name": "stderr",
     "output_type": "stream",
     "text": [
      " 62%|██████▏   | 13/21 [00:49<00:30,  3.85s/it]"
     ]
    },
    {
     "name": "stdout",
     "output_type": "stream",
     "text": [
      "than (27, 6)\n"
     ]
    },
    {
     "name": "stderr",
     "output_type": "stream",
     "text": [
      " 67%|██████▋   | 14/21 [00:53<00:26,  3.86s/it]"
     ]
    },
    {
     "name": "stdout",
     "output_type": "stream",
     "text": [
      "the (7, 6)\n"
     ]
    },
    {
     "name": "stderr",
     "output_type": "stream",
     "text": [
      " 71%|███████▏  | 15/21 [00:57<00:23,  3.86s/it]"
     ]
    },
    {
     "name": "stdout",
     "output_type": "stream",
     "text": [
      "possibly (23, 6)\n"
     ]
    },
    {
     "name": "stderr",
     "output_type": "stream",
     "text": [
      " 76%|███████▌  | 16/21 [01:01<00:19,  3.88s/it]"
     ]
    },
    {
     "name": "stdout",
     "output_type": "stream",
     "text": [
      "is (37, 6)\n"
     ]
    },
    {
     "name": "stderr",
     "output_type": "stream",
     "text": [
      " 81%|████████  | 17/21 [01:05<00:15,  3.88s/it]"
     ]
    },
    {
     "name": "stdout",
     "output_type": "stream",
     "text": [
      "after (14, 6)\n"
     ]
    },
    {
     "name": "stderr",
     "output_type": "stream",
     "text": [
      " 86%|████████▌ | 18/21 [01:09<00:11,  3.90s/it]"
     ]
    },
    {
     "name": "stdout",
     "output_type": "stream",
     "text": [
      "older (0, 6)\n"
     ]
    },
    {
     "name": "stderr",
     "output_type": "stream",
     "text": [
      " 90%|█████████ | 19/21 [01:13<00:07,  3.91s/it]"
     ]
    },
    {
     "name": "stdout",
     "output_type": "stream",
     "text": [
      "until (0, 6)\n"
     ]
    },
    {
     "name": "stderr",
     "output_type": "stream",
     "text": [
      " 95%|█████████▌| 20/21 [01:17<00:03,  3.91s/it]"
     ]
    },
    {
     "name": "stdout",
     "output_type": "stream",
     "text": [
      "< (335, 6)\n"
     ]
    },
    {
     "name": "stderr",
     "output_type": "stream",
     "text": [
      "100%|██████████| 21/21 [01:21<00:00,  3.87s/it]"
     ]
    },
    {
     "name": "stdout",
     "output_type": "stream",
     "text": [
      "<= (663, 6)\n"
     ]
    },
    {
     "name": "stderr",
     "output_type": "stream",
     "text": [
      "\n"
     ]
    }
   ],
   "source": [
    "df_new_words = pd.DataFrame()\n",
    "for wrd in tqdm(before_words):\n",
    "    filtered_df = df[df.apply(lambda x: check_conditions(x, wrd), axis=1)]\n",
    "    print(wrd, filtered_df.shape)\n",
    "    if filtered_df.empty:\n",
    "        continue\n",
    "    df_samples_per_word = filtered_df.sample(len(filtered_df), random_state=43).groupby('cve_id').sample(1, random_state=43).head()\n",
    "    if df_new_words.empty:\n",
    "        df_new_words = df_samples_per_word\n",
    "    else:\n",
    "        df_new_words = pd.concat([df_new_words, df_samples_per_word])"
   ]
  },
  {
   "cell_type": "code",
   "execution_count": 137,
   "metadata": {},
   "outputs": [
    {
     "name": "stderr",
     "output_type": "stream",
     "text": [
      " 50%|█████     | 1/2 [00:05<00:05,  5.49s/it]"
     ]
    },
    {
     "name": "stdout",
     "output_type": "stream",
     "text": [
      "older (0, 7)\n"
     ]
    },
    {
     "name": "stderr",
     "output_type": "stream",
     "text": [
      "100%|██████████| 2/2 [00:11<00:00,  5.52s/it]"
     ]
    },
    {
     "name": "stdout",
     "output_type": "stream",
     "text": [
      "until (18, 7)\n"
     ]
    },
    {
     "name": "stderr",
     "output_type": "stream",
     "text": [
      "\n"
     ]
    }
   ],
   "source": [
    "#\n",
    "df_new_words_before = pd.DataFrame()\n",
    "for wrd in tqdm(before_words2):\n",
    "    filtered_df = df[df.apply(lambda x: check_conditions_before_less_conditions(x, wrd), axis=1)]\n",
    "    print(wrd, filtered_df.shape)\n",
    "    if filtered_df.empty:\n",
    "        continue\n",
    "    df_samples_per_word = filtered_df.sample(len(filtered_df), random_state=43).groupby('cve_id').sample(1, random_state=43).head()\n",
    "    if df_new_words_before.empty:\n",
    "        df_new_words_before = df_samples_per_word\n",
    "    else:\n",
    "        df_new_words_before = pd.concat([df_new_words_before, df_samples_per_word])"
   ]
  },
  {
   "cell_type": "code",
   "execution_count": 139,
   "metadata": {},
   "outputs": [
    {
     "data": {
      "application/vnd.microsoft.datawrangler.viewer.v0+json": {
       "columns": [
        {
         "name": "index",
         "rawType": "int64",
         "type": "integer"
        },
        {
         "name": "cve_id",
         "rawType": "object",
         "type": "string"
        },
        {
         "name": "vendor",
         "rawType": "object",
         "type": "string"
        },
        {
         "name": "product",
         "rawType": "object",
         "type": "string"
        },
        {
         "name": "version",
         "rawType": "object",
         "type": "string"
        },
        {
         "name": "descr",
         "rawType": "object",
         "type": "string"
        },
        {
         "name": "matched_regex_before",
         "rawType": "object",
         "type": "string"
        },
        {
         "name": "matched_regex_after",
         "rawType": "object",
         "type": "string"
        }
       ],
       "conversionMethod": "pd.DataFrame",
       "ref": "36c13079-40ec-4764-bed5-3778bd9be870",
       "rows": [
        [
         "540011",
         "CVE-2018-0250",
         "cisco",
         "aironet_access_point_software",
         "8.2\\(160.0\\)",
         "A vulnerability in Central Web Authentication (CWA) with FlexConnect Access Points (APs) for Cisco Aironet 1560, 1810, 1810w, 1815, 1830, 1850, 2800, and 3800 Series APs could allow an authenticated, adjacent attacker to bypass a configured FlexConnect access control list (ACL). The vulnerability is due to the AP ignoring the ACL download from the client during authentication. An attacker could exploit this vulnerability by connecting to the targeted device with a vulnerable configuration. A successful exploit could allow the attacker to bypass a configured client FlexConnect ACL. This vulnerability affects the following Cisco products if they are running a vulnerable release of Central Web Authentication with FlexConnect Access Points Software: Aironet 1560 Series Access Points, Aironet 1810 Series OfficeExtend Access Points, Aironet 1810w Series Access Points, Aironet 1815 Series Access Points, Aironet 1830 Series Access Points, Aironet 1850 Series Access Points, Aironet 2800 Series Access Points, Aironet 3800 Series Access Points. Note: Central Web Authentication with FlexConnect Access Points was an unsupported configuration until 8.5.100.0. Cisco Bug IDs: CSCve17756.",
         "until",
         ""
        ],
        [
         "376666",
         "CVE-2023-39196",
         "apache",
         "ozone",
         "1.3.0",
         "Improper Authentication vulnerability in Apache Ozone.\n\nThe vulnerability allows an attacker to download metadata internal to the Storage Container Manager service without proper authentication.\nThe attacker is not allowed to do any modification within the Ozone Storage Container Manager service using this vulnerability.\nThe accessible metadata does not contain sensitive information that can be used to exploit the system later on, and the accessible data does not make it possible to gain access to actual user data within Ozone.\nThis issue affects Apache Ozone: 1.2.0 and subsequent releases up until 1.3.0.\n\nUsers are recommended to upgrade to version 1.4.0, which fixes the issue.\n\n",
         "until",
         "and"
        ],
        [
         "208388",
         "CVE-2023-4090",
         "acilia",
         "widestand",
         "-",
         "Cross-site Scripting (XSS) reflected vulnerability on WideStand until 5.3.5 version, which generates one of the meta tags directly using the content of the queried URL, which would allow an attacker to inject HTML/Javascript code into the response.",
         "until",
         "version"
        ],
        [
         "178482",
         "CVE-2023-45814",
         "littlebigfresh",
         "bunkum",
         "4.0",
         "Bunkum is an open-source protocol-agnostic request server for custom game servers. First, a little bit of background. So, in the beginning, Bunkum's `AuthenticationService` only supported injecting `IUser`s. However, as Refresh and SoundShapesServer implemented permissions systems support for injecting `IToken`s into endpoints was added. All was well until 4.0. Bunkum 4.0 then changed to enforce relations between `IToken`s and `IUser`s. This wasn't implemented in a very good way in the `AuthenticationService`, and ended up breaking caching in such a way that cached tokens would persist after the lifetime of the request - since we tried to cache both tokens and users. From that point until now, from what I understand, Bunkum was attempting to use that cached token at the start of the next request once cached. Naturally, when that token expired, downstream projects like Refresh would remove the object from Realm - and cause the object in the cache to be in a detached state, causing an exception from invalid use of `IToken.User`. So in other words, a use-after-free since Realm can't manage the lifetime of the cached token. Security-wise, the scope is fairly limited, can only be pulled off on a couple endpoints given a few conditions, and you can't guarantee which token you're going to get. Also, the token *would* get invalidated properly if the endpoint had either a `IToken` usage or a `IUser` usage. The fix is to just wipe the token cache after the request was handled, which is now in `4.2.1`. Users are advised to upgrade. There are no known workarounds for this vulnerability.",
         "until",
         ""
        ],
        [
         "48602",
         "CVE-2023-7078",
         "cloudflare",
         "miniflare",
         "3.20230821.0",
         "Sending specially crafted HTTP requests to Miniflare's server could result in arbitrary HTTP and WebSocket requests being sent from the server. If Miniflare was configured to listen on external network interfaces (as was the default in wrangler until 3.19.0), an attacker on the local network could access other local servers.\n\n",
         "until",
         ""
        ]
       ],
       "shape": {
        "columns": 7,
        "rows": 5
       }
      },
      "text/html": [
       "<div>\n",
       "<style scoped>\n",
       "    .dataframe tbody tr th:only-of-type {\n",
       "        vertical-align: middle;\n",
       "    }\n",
       "\n",
       "    .dataframe tbody tr th {\n",
       "        vertical-align: top;\n",
       "    }\n",
       "\n",
       "    .dataframe thead th {\n",
       "        text-align: right;\n",
       "    }\n",
       "</style>\n",
       "<table border=\"1\" class=\"dataframe\">\n",
       "  <thead>\n",
       "    <tr style=\"text-align: right;\">\n",
       "      <th></th>\n",
       "      <th>cve_id</th>\n",
       "      <th>vendor</th>\n",
       "      <th>product</th>\n",
       "      <th>version</th>\n",
       "      <th>descr</th>\n",
       "      <th>matched_regex_before</th>\n",
       "      <th>matched_regex_after</th>\n",
       "    </tr>\n",
       "  </thead>\n",
       "  <tbody>\n",
       "    <tr>\n",
       "      <th>540011</th>\n",
       "      <td>CVE-2018-0250</td>\n",
       "      <td>cisco</td>\n",
       "      <td>aironet_access_point_software</td>\n",
       "      <td>8.2\\(160.0\\)</td>\n",
       "      <td>A vulnerability in Central Web Authentication (CWA) with FlexConnect Access Points (APs) for Cisco Aironet 1560, 1810, 1810w, 1815, 1830, 1850, 2800, and 3800 Series APs could allow an authenticat...</td>\n",
       "      <td>until</td>\n",
       "      <td></td>\n",
       "    </tr>\n",
       "    <tr>\n",
       "      <th>376666</th>\n",
       "      <td>CVE-2023-39196</td>\n",
       "      <td>apache</td>\n",
       "      <td>ozone</td>\n",
       "      <td>1.3.0</td>\n",
       "      <td>Improper Authentication vulnerability in Apache Ozone.\\n\\nThe vulnerability allows an attacker to download metadata internal to the Storage Container Manager service without proper authentication....</td>\n",
       "      <td>until</td>\n",
       "      <td>and</td>\n",
       "    </tr>\n",
       "    <tr>\n",
       "      <th>208388</th>\n",
       "      <td>CVE-2023-4090</td>\n",
       "      <td>acilia</td>\n",
       "      <td>widestand</td>\n",
       "      <td>-</td>\n",
       "      <td>Cross-site Scripting (XSS) reflected vulnerability on WideStand until 5.3.5 version, which generates one of the meta tags directly using the content of the queried URL, which would allow an attack...</td>\n",
       "      <td>until</td>\n",
       "      <td>version</td>\n",
       "    </tr>\n",
       "    <tr>\n",
       "      <th>178482</th>\n",
       "      <td>CVE-2023-45814</td>\n",
       "      <td>littlebigfresh</td>\n",
       "      <td>bunkum</td>\n",
       "      <td>4.0</td>\n",
       "      <td>Bunkum is an open-source protocol-agnostic request server for custom game servers. First, a little bit of background. So, in the beginning, Bunkum's `AuthenticationService` only supported injectin...</td>\n",
       "      <td>until</td>\n",
       "      <td></td>\n",
       "    </tr>\n",
       "    <tr>\n",
       "      <th>48602</th>\n",
       "      <td>CVE-2023-7078</td>\n",
       "      <td>cloudflare</td>\n",
       "      <td>miniflare</td>\n",
       "      <td>3.20230821.0</td>\n",
       "      <td>Sending specially crafted HTTP requests to Miniflare's server could result in arbitrary HTTP and WebSocket requests being sent from the server. If Miniflare was configured to listen on external ne...</td>\n",
       "      <td>until</td>\n",
       "      <td></td>\n",
       "    </tr>\n",
       "  </tbody>\n",
       "</table>\n",
       "</div>"
      ],
      "text/plain": [
       "                cve_id          vendor                        product       version                                                                                                                                                                                                    descr matched_regex_before matched_regex_after\n",
       "540011   CVE-2018-0250           cisco  aironet_access_point_software  8.2\\(160.0\\)  A vulnerability in Central Web Authentication (CWA) with FlexConnect Access Points (APs) for Cisco Aironet 1560, 1810, 1810w, 1815, 1830, 1850, 2800, and 3800 Series APs could allow an authenticat...                until                    \n",
       "376666  CVE-2023-39196          apache                          ozone         1.3.0  Improper Authentication vulnerability in Apache Ozone.\\n\\nThe vulnerability allows an attacker to download metadata internal to the Storage Container Manager service without proper authentication....                until                 and\n",
       "208388   CVE-2023-4090          acilia                      widestand             -  Cross-site Scripting (XSS) reflected vulnerability on WideStand until 5.3.5 version, which generates one of the meta tags directly using the content of the queried URL, which would allow an attack...                until             version\n",
       "178482  CVE-2023-45814  littlebigfresh                         bunkum           4.0  Bunkum is an open-source protocol-agnostic request server for custom game servers. First, a little bit of background. So, in the beginning, Bunkum's `AuthenticationService` only supported injectin...                until                    \n",
       "48602    CVE-2023-7078      cloudflare                      miniflare  3.20230821.0  Sending specially crafted HTTP requests to Miniflare's server could result in arbitrary HTTP and WebSocket requests being sent from the server. If Miniflare was configured to listen on external ne...                until                    "
      ]
     },
     "execution_count": 139,
     "metadata": {},
     "output_type": "execute_result"
    }
   ],
   "source": [
    "df_new_words_before"
   ]
  },
  {
   "cell_type": "code",
   "execution_count": 12,
   "metadata": {},
   "outputs": [],
   "source": [
    "df_new_words.to_excel('test_versions.xlsx', index=False)"
   ]
  },
  {
   "cell_type": "code",
   "execution_count": 85,
   "metadata": {},
   "outputs": [
    {
     "data": {
      "application/vnd.microsoft.datawrangler.viewer.v0+json": {
       "columns": [
        {
         "name": "index",
         "rawType": "int64",
         "type": "integer"
        },
        {
         "name": "cve_id",
         "rawType": "object",
         "type": "string"
        },
        {
         "name": "vendor",
         "rawType": "object",
         "type": "string"
        },
        {
         "name": "product",
         "rawType": "object",
         "type": "string"
        },
        {
         "name": "version",
         "rawType": "object",
         "type": "string"
        },
        {
         "name": "descr",
         "rawType": "object",
         "type": "string"
        },
        {
         "name": "matched_regex_before",
         "rawType": "object",
         "type": "string"
        }
       ],
       "conversionMethod": "pd.DataFrame",
       "ref": "6996e42d-6c62-4bbe-9a4c-7cd396f5641c",
       "rows": [
        [
         "595399",
         "CVE-1999-1383",
         "tcsh",
         "tcsh",
         "6.05",
         "(1) bash before 1.14.7, and (2) tcsh 6.05 allow local users to gain privileges via directory names that contain shell metacharacters (` back-tick), which can cause the commands enclosed in the directory name to be executed when the shell expands filenames using the \\w option in the PS1 variable.",
         "before"
        ],
        [
         "159804",
         "CVE-2001-0366",
         "sap",
         "saposcol",
         "1.3",
         "saposcol in SAP R/3 Web Application Server Demo before 1.5 trusts the PATH environmental variable to find and execute the expand program, which allows local users to obtain root access by modifying the PATH to point to a Trojan horse expand program.",
         "before"
        ],
        [
         "488080",
         "CVE-2001-0439",
         "licq",
         "licq",
         "",
         "licq before 1.0.3 allows remote attackers to execute arbitrary commands via shell metacharacters in a URL.",
         "before"
        ],
        [
         "342690",
         "CVE-2001-0825",
         "xinetd",
         "xinetd",
         "2.1.8.9",
         "Buffer overflow in internal string handling routines of xinetd before 2.1.8.8 allows remote attackers to execute arbitrary commands via a length argument of zero or less, which disables the length check.",
         "before"
        ],
        [
         "505766",
         "CVE-2001-1229",
         "libshout",
         "libshout",
         "",
         "Buffer overflows in (1) Icecast before 1.3.9 and (2) libshout before 1.0.4 allow remote attackers to cause a denial of service (crash) and execute arbitrary code.",
         "before"
        ]
       ],
       "shape": {
        "columns": 6,
        "rows": 5
       }
      },
      "text/html": [
       "<div>\n",
       "<style scoped>\n",
       "    .dataframe tbody tr th:only-of-type {\n",
       "        vertical-align: middle;\n",
       "    }\n",
       "\n",
       "    .dataframe tbody tr th {\n",
       "        vertical-align: top;\n",
       "    }\n",
       "\n",
       "    .dataframe thead th {\n",
       "        text-align: right;\n",
       "    }\n",
       "</style>\n",
       "<table border=\"1\" class=\"dataframe\">\n",
       "  <thead>\n",
       "    <tr style=\"text-align: right;\">\n",
       "      <th></th>\n",
       "      <th>cve_id</th>\n",
       "      <th>vendor</th>\n",
       "      <th>product</th>\n",
       "      <th>version</th>\n",
       "      <th>descr</th>\n",
       "      <th>matched_regex_before</th>\n",
       "    </tr>\n",
       "  </thead>\n",
       "  <tbody>\n",
       "    <tr>\n",
       "      <th>595399</th>\n",
       "      <td>CVE-1999-1383</td>\n",
       "      <td>tcsh</td>\n",
       "      <td>tcsh</td>\n",
       "      <td>6.05</td>\n",
       "      <td>(1) bash before 1.14.7, and (2) tcsh 6.05 allow local users to gain privileges via directory names that contain shell metacharacters (` back-tick), which can cause the commands enclosed in the dir...</td>\n",
       "      <td>before</td>\n",
       "    </tr>\n",
       "    <tr>\n",
       "      <th>159804</th>\n",
       "      <td>CVE-2001-0366</td>\n",
       "      <td>sap</td>\n",
       "      <td>saposcol</td>\n",
       "      <td>1.3</td>\n",
       "      <td>saposcol in SAP R/3 Web Application Server Demo before 1.5 trusts the PATH environmental variable to find and execute the expand program, which allows local users to obtain root access by modifyin...</td>\n",
       "      <td>before</td>\n",
       "    </tr>\n",
       "    <tr>\n",
       "      <th>488080</th>\n",
       "      <td>CVE-2001-0439</td>\n",
       "      <td>licq</td>\n",
       "      <td>licq</td>\n",
       "      <td></td>\n",
       "      <td>licq before 1.0.3 allows remote attackers to execute arbitrary commands via shell metacharacters in a URL.</td>\n",
       "      <td>before</td>\n",
       "    </tr>\n",
       "    <tr>\n",
       "      <th>342690</th>\n",
       "      <td>CVE-2001-0825</td>\n",
       "      <td>xinetd</td>\n",
       "      <td>xinetd</td>\n",
       "      <td>2.1.8.9</td>\n",
       "      <td>Buffer overflow in internal string handling routines of xinetd before 2.1.8.8 allows remote attackers to execute arbitrary commands via a length argument of zero or less, which disables the length...</td>\n",
       "      <td>before</td>\n",
       "    </tr>\n",
       "    <tr>\n",
       "      <th>505766</th>\n",
       "      <td>CVE-2001-1229</td>\n",
       "      <td>libshout</td>\n",
       "      <td>libshout</td>\n",
       "      <td></td>\n",
       "      <td>Buffer overflows in (1) Icecast before 1.3.9 and (2) libshout before 1.0.4 allow remote attackers to cause a denial of service (crash) and execute arbitrary code.</td>\n",
       "      <td>before</td>\n",
       "    </tr>\n",
       "  </tbody>\n",
       "</table>\n",
       "</div>"
      ],
      "text/plain": [
       "               cve_id    vendor   product  version                                                                                                                                                                                                    descr matched_regex_before\n",
       "595399  CVE-1999-1383      tcsh      tcsh     6.05  (1) bash before 1.14.7, and (2) tcsh 6.05 allow local users to gain privileges via directory names that contain shell metacharacters (` back-tick), which can cause the commands enclosed in the dir...               before\n",
       "159804  CVE-2001-0366       sap  saposcol      1.3  saposcol in SAP R/3 Web Application Server Demo before 1.5 trusts the PATH environmental variable to find and execute the expand program, which allows local users to obtain root access by modifyin...               before\n",
       "488080  CVE-2001-0439      licq      licq                                                                                                        licq before 1.0.3 allows remote attackers to execute arbitrary commands via shell metacharacters in a URL.               before\n",
       "342690  CVE-2001-0825    xinetd    xinetd  2.1.8.9  Buffer overflow in internal string handling routines of xinetd before 2.1.8.8 allows remote attackers to execute arbitrary commands via a length argument of zero or less, which disables the length...               before\n",
       "505766  CVE-2001-1229  libshout  libshout                                                Buffer overflows in (1) Icecast before 1.3.9 and (2) libshout before 1.0.4 allow remote attackers to cause a denial of service (crash) and execute arbitrary code.               before"
      ]
     },
     "execution_count": 85,
     "metadata": {},
     "output_type": "execute_result"
    }
   ],
   "source": [
    "df_new_words.head()"
   ]
  },
  {
   "cell_type": "code",
   "execution_count": 87,
   "metadata": {},
   "outputs": [
    {
     "data": {
      "text/plain": [
       "Counter({'1999': 4,\n",
       "         '2001': 5,\n",
       "         '2010': 4,\n",
       "         '2012': 2,\n",
       "         '2014': 7,\n",
       "         '2008': 2,\n",
       "         '2015': 1,\n",
       "         '2005': 1,\n",
       "         '2006': 4,\n",
       "         '2009': 3,\n",
       "         '2017': 6,\n",
       "         '2018': 5,\n",
       "         '2002': 2,\n",
       "         '2004': 2,\n",
       "         '2022': 12,\n",
       "         '2019': 6,\n",
       "         '2020': 5,\n",
       "         '2021': 7,\n",
       "         '2023': 2,\n",
       "         '2016': 3,\n",
       "         '2007': 2})"
      ]
     },
     "execution_count": 87,
     "metadata": {},
     "output_type": "execute_result"
    }
   ],
   "source": [
    "from collections import Counter\n",
    "Counter(df_new_words.cve_id.apply(lambda x: x[4:8]))"
   ]
  },
  {
   "cell_type": "code",
   "execution_count": 151,
   "metadata": {},
   "outputs": [],
   "source": [
    "all_cves = []\n",
    "all_tokens = []\n",
    "all_bio = []\n",
    "for i, row in df_new_words_before.iterrows():\n",
    "    cves = []\n",
    "    bio_ann = []\n",
    "    spl_tokens = [x for x in re.split(' |\\\\n', row['descr']) if x]\n",
    "    tokens = []\n",
    "    # print(spl_tokens)\n",
    "    for tok in spl_tokens:\n",
    "        if tok.endswith('.'):\n",
    "            tokens.append(tok.rstrip('.'))\n",
    "            tokens.append('.')\n",
    "        elif tok.endswith(','):\n",
    "            tokens.append(tok.rstrip(','))\n",
    "            tokens.append(',')\n",
    "        else:\n",
    "            tokens.append(tok)\n",
    "    # print(tokens)\n",
    "    for tok_i in range(len(tokens)):\n",
    "        if tokens[tok_i] == row['vendor']:\n",
    "            bio_ann.append('B-vendor')\n",
    "        elif tokens[tok_i] == row['product']:\n",
    "            bio_ann.append('B-product')\n",
    "        elif tokens[tok_i] == row['matched_regex_before']:\n",
    "            bio_ann.append('B-version')\n",
    "        else:\n",
    "            bio_ann.append('O')\n",
    "        if tok_i == 0:\n",
    "            cves.append(row['cve_id'])\n",
    "        else:\n",
    "            cves.append('0')\n",
    "    assert len(bio_ann) == len(tokens)\n",
    "    all_bio.extend(bio_ann)\n",
    "    all_tokens.extend(tokens)\n",
    "    all_cves.extend(cves)"
   ]
  },
  {
   "cell_type": "code",
   "execution_count": 152,
   "metadata": {},
   "outputs": [],
   "source": [
    "df_before_annotated = pd.DataFrame(data={'cve_id': all_cves,\n",
    "                                         'words': all_tokens,\n",
    "                                         'custom_bio': all_bio})"
   ]
  },
  {
   "cell_type": "code",
   "execution_count": 153,
   "metadata": {},
   "outputs": [
    {
     "data": {
      "application/vnd.microsoft.datawrangler.viewer.v0+json": {
       "columns": [
        {
         "name": "index",
         "rawType": "int64",
         "type": "integer"
        },
        {
         "name": "cve_id",
         "rawType": "object",
         "type": "string"
        },
        {
         "name": "words",
         "rawType": "object",
         "type": "string"
        },
        {
         "name": "custom_bio",
         "rawType": "object",
         "type": "string"
        }
       ],
       "conversionMethod": "pd.DataFrame",
       "ref": "580be547-bb4c-4422-a3bd-4a770ecd66a0",
       "rows": [
        [
         "0",
         "CVE-2018-0250",
         "A",
         "O"
        ],
        [
         "1",
         "0",
         "vulnerability",
         "O"
        ],
        [
         "2",
         "0",
         "in",
         "O"
        ],
        [
         "3",
         "0",
         "Central",
         "O"
        ],
        [
         "4",
         "0",
         "Web",
         "O"
        ],
        [
         "5",
         "0",
         "Authentication",
         "O"
        ],
        [
         "6",
         "0",
         "(CWA)",
         "O"
        ],
        [
         "7",
         "0",
         "with",
         "O"
        ],
        [
         "8",
         "0",
         "FlexConnect",
         "O"
        ],
        [
         "9",
         "0",
         "Access",
         "O"
        ],
        [
         "10",
         "0",
         "Points",
         "O"
        ],
        [
         "11",
         "0",
         "(APs)",
         "O"
        ],
        [
         "12",
         "0",
         "for",
         "O"
        ],
        [
         "13",
         "0",
         "Cisco",
         "O"
        ],
        [
         "14",
         "0",
         "Aironet",
         "O"
        ],
        [
         "15",
         "0",
         "1560",
         "O"
        ],
        [
         "16",
         "0",
         ",",
         "O"
        ],
        [
         "17",
         "0",
         "1810",
         "O"
        ],
        [
         "18",
         "0",
         ",",
         "O"
        ],
        [
         "19",
         "0",
         "1810w",
         "O"
        ],
        [
         "20",
         "0",
         ",",
         "O"
        ],
        [
         "21",
         "0",
         "1815",
         "O"
        ],
        [
         "22",
         "0",
         ",",
         "O"
        ],
        [
         "23",
         "0",
         "1830",
         "O"
        ],
        [
         "24",
         "0",
         ",",
         "O"
        ],
        [
         "25",
         "0",
         "1850",
         "O"
        ],
        [
         "26",
         "0",
         ",",
         "O"
        ],
        [
         "27",
         "0",
         "2800",
         "O"
        ],
        [
         "28",
         "0",
         ",",
         "O"
        ],
        [
         "29",
         "0",
         "and",
         "O"
        ],
        [
         "30",
         "0",
         "3800",
         "O"
        ],
        [
         "31",
         "0",
         "Series",
         "O"
        ],
        [
         "32",
         "0",
         "APs",
         "O"
        ],
        [
         "33",
         "0",
         "could",
         "O"
        ],
        [
         "34",
         "0",
         "allow",
         "O"
        ],
        [
         "35",
         "0",
         "an",
         "O"
        ],
        [
         "36",
         "0",
         "authenticated",
         "O"
        ],
        [
         "37",
         "0",
         ",",
         "O"
        ],
        [
         "38",
         "0",
         "adjacent",
         "O"
        ],
        [
         "39",
         "0",
         "attacker",
         "O"
        ],
        [
         "40",
         "0",
         "to",
         "O"
        ],
        [
         "41",
         "0",
         "bypass",
         "O"
        ],
        [
         "42",
         "0",
         "a",
         "O"
        ],
        [
         "43",
         "0",
         "configured",
         "O"
        ],
        [
         "44",
         "0",
         "FlexConnect",
         "O"
        ],
        [
         "45",
         "0",
         "access",
         "O"
        ],
        [
         "46",
         "0",
         "control",
         "O"
        ],
        [
         "47",
         "0",
         "list",
         "O"
        ],
        [
         "48",
         "0",
         "(ACL)",
         "O"
        ],
        [
         "49",
         "0",
         ".",
         "O"
        ]
       ],
       "shape": {
        "columns": 3,
        "rows": 300
       }
      },
      "text/html": [
       "<div>\n",
       "<style scoped>\n",
       "    .dataframe tbody tr th:only-of-type {\n",
       "        vertical-align: middle;\n",
       "    }\n",
       "\n",
       "    .dataframe tbody tr th {\n",
       "        vertical-align: top;\n",
       "    }\n",
       "\n",
       "    .dataframe thead th {\n",
       "        text-align: right;\n",
       "    }\n",
       "</style>\n",
       "<table border=\"1\" class=\"dataframe\">\n",
       "  <thead>\n",
       "    <tr style=\"text-align: right;\">\n",
       "      <th></th>\n",
       "      <th>cve_id</th>\n",
       "      <th>words</th>\n",
       "      <th>custom_bio</th>\n",
       "    </tr>\n",
       "  </thead>\n",
       "  <tbody>\n",
       "    <tr>\n",
       "      <th>0</th>\n",
       "      <td>CVE-2018-0250</td>\n",
       "      <td>A</td>\n",
       "      <td>O</td>\n",
       "    </tr>\n",
       "    <tr>\n",
       "      <th>1</th>\n",
       "      <td>0</td>\n",
       "      <td>vulnerability</td>\n",
       "      <td>O</td>\n",
       "    </tr>\n",
       "    <tr>\n",
       "      <th>2</th>\n",
       "      <td>0</td>\n",
       "      <td>in</td>\n",
       "      <td>O</td>\n",
       "    </tr>\n",
       "    <tr>\n",
       "      <th>3</th>\n",
       "      <td>0</td>\n",
       "      <td>Central</td>\n",
       "      <td>O</td>\n",
       "    </tr>\n",
       "    <tr>\n",
       "      <th>4</th>\n",
       "      <td>0</td>\n",
       "      <td>Web</td>\n",
       "      <td>O</td>\n",
       "    </tr>\n",
       "    <tr>\n",
       "      <th>...</th>\n",
       "      <td>...</td>\n",
       "      <td>...</td>\n",
       "      <td>...</td>\n",
       "    </tr>\n",
       "    <tr>\n",
       "      <th>295</th>\n",
       "      <td>0</td>\n",
       "      <td>1.4.0</td>\n",
       "      <td>O</td>\n",
       "    </tr>\n",
       "    <tr>\n",
       "      <th>296</th>\n",
       "      <td>0</td>\n",
       "      <td>,</td>\n",
       "      <td>O</td>\n",
       "    </tr>\n",
       "    <tr>\n",
       "      <th>297</th>\n",
       "      <td>0</td>\n",
       "      <td>which</td>\n",
       "      <td>O</td>\n",
       "    </tr>\n",
       "    <tr>\n",
       "      <th>298</th>\n",
       "      <td>0</td>\n",
       "      <td>fixes</td>\n",
       "      <td>O</td>\n",
       "    </tr>\n",
       "    <tr>\n",
       "      <th>299</th>\n",
       "      <td>0</td>\n",
       "      <td>the</td>\n",
       "      <td>O</td>\n",
       "    </tr>\n",
       "  </tbody>\n",
       "</table>\n",
       "<p>300 rows × 3 columns</p>\n",
       "</div>"
      ],
      "text/plain": [
       "            cve_id          words custom_bio\n",
       "0    CVE-2018-0250              A          O\n",
       "1                0  vulnerability          O\n",
       "2                0             in          O\n",
       "3                0        Central          O\n",
       "4                0            Web          O\n",
       "..             ...            ...        ...\n",
       "295              0          1.4.0          O\n",
       "296              0              ,          O\n",
       "297              0          which          O\n",
       "298              0          fixes          O\n",
       "299              0            the          O\n",
       "\n",
       "[300 rows x 3 columns]"
      ]
     },
     "execution_count": 153,
     "metadata": {},
     "output_type": "execute_result"
    }
   ],
   "source": [
    "df_before_annotated.head(300)"
   ]
  },
  {
   "cell_type": "code",
   "execution_count": 149,
   "metadata": {},
   "outputs": [
    {
     "data": {
      "text/plain": [
       "369266    Improper Authentication vulnerability in Apache Ozone.\\n\\nThe vulnerability allows an attacker to download metadata internal to the Storage Container Manager service without proper authentication....\n",
       "376665    Improper Authentication vulnerability in Apache Ozone.\\n\\nThe vulnerability allows an attacker to download metadata internal to the Storage Container Manager service without proper authentication....\n",
       "376666    Improper Authentication vulnerability in Apache Ozone.\\n\\nThe vulnerability allows an attacker to download metadata internal to the Storage Container Manager service without proper authentication....\n",
       "381626    Improper Authentication vulnerability in Apache Ozone.\\n\\nThe vulnerability allows an attacker to download metadata internal to the Storage Container Manager service without proper authentication....\n",
       "381627    Improper Authentication vulnerability in Apache Ozone.\\n\\nThe vulnerability allows an attacker to download metadata internal to the Storage Container Manager service without proper authentication....\n",
       "381628    Improper Authentication vulnerability in Apache Ozone.\\n\\nThe vulnerability allows an attacker to download metadata internal to the Storage Container Manager service without proper authentication....\n",
       "386605    Improper Authentication vulnerability in Apache Ozone.\\n\\nThe vulnerability allows an attacker to download metadata internal to the Storage Container Manager service without proper authentication....\n",
       "391514    Improper Authentication vulnerability in Apache Ozone.\\n\\nThe vulnerability allows an attacker to download metadata internal to the Storage Container Manager service without proper authentication....\n",
       "396571    Improper Authentication vulnerability in Apache Ozone.\\n\\nThe vulnerability allows an attacker to download metadata internal to the Storage Container Manager service without proper authentication....\n",
       "396572    Improper Authentication vulnerability in Apache Ozone.\\n\\nThe vulnerability allows an attacker to download metadata internal to the Storage Container Manager service without proper authentication....\n",
       "399088    Improper Authentication vulnerability in Apache Ozone.\\n\\nThe vulnerability allows an attacker to download metadata internal to the Storage Container Manager service without proper authentication....\n",
       "406505    Improper Authentication vulnerability in Apache Ozone.\\n\\nThe vulnerability allows an attacker to download metadata internal to the Storage Container Manager service without proper authentication....\n",
       "Name: descr, dtype: object"
      ]
     },
     "execution_count": 149,
     "metadata": {},
     "output_type": "execute_result"
    }
   ],
   "source": [
    "df[df.cve_id == 'CVE-2023-39196'].descr"
   ]
  },
  {
   "cell_type": "code",
   "execution_count": 154,
   "metadata": {},
   "outputs": [],
   "source": [
    "df_before_annotated.to_csv(f'./cve_dataset_bio_{len(df_before_annotated)}_before_versions_added_until.tsv', index=False, sep='\\t')"
   ]
  },
  {
   "cell_type": "code",
   "execution_count": 96,
   "metadata": {},
   "outputs": [],
   "source": [
    "df_tt = pd.read_csv('cve_dataset_bio_4477_before_versions.tsv', sep='\\t')"
   ]
  },
  {
   "cell_type": "code",
   "execution_count": 98,
   "metadata": {},
   "outputs": [
    {
     "data": {
      "application/vnd.microsoft.datawrangler.viewer.v0+json": {
       "columns": [
        {
         "name": "index",
         "rawType": "int64",
         "type": "integer"
        },
        {
         "name": "cve_id",
         "rawType": "object",
         "type": "string"
        },
        {
         "name": "words",
         "rawType": "object",
         "type": "string"
        },
        {
         "name": "custom_bio",
         "rawType": "object",
         "type": "string"
        }
       ],
       "conversionMethod": "pd.DataFrame",
       "ref": "43482ec3-9771-4a40-9f89-525299820224",
       "rows": [
        [
         "146",
         "CVE-2001-1229",
         "Buffer",
         "O"
        ],
        [
         "147",
         "0",
         "overflows",
         "O"
        ],
        [
         "148",
         "0",
         "in",
         "O"
        ],
        [
         "149",
         "0",
         "(1)",
         "O"
        ],
        [
         "150",
         "0",
         "Icecast",
         "B-vendor"
        ],
        [
         "151",
         "0",
         "Icecast",
         "B-product"
        ],
        [
         "152",
         "0",
         "before",
         "B-version"
        ],
        [
         "153",
         "0",
         "1.3.9",
         "O"
        ],
        [
         "154",
         "0",
         "and",
         "O"
        ],
        [
         "155",
         "0",
         "(2)",
         "O"
        ],
        [
         "156",
         "0",
         "libshout",
         "B-vendor"
        ],
        [
         "157",
         "0",
         "libshout",
         "B-product"
        ],
        [
         "158",
         "0",
         "before",
         "B-version"
        ],
        [
         "159",
         "0",
         "1.0.4",
         "I-version"
        ],
        [
         "160",
         "0",
         "allow",
         "O"
        ],
        [
         "161",
         "0",
         "remote",
         "O"
        ],
        [
         "162",
         "0",
         "attackers",
         "O"
        ],
        [
         "163",
         "0",
         "to",
         "O"
        ],
        [
         "164",
         "0",
         "cause",
         "O"
        ],
        [
         "165",
         "0",
         "a",
         "O"
        ],
        [
         "166",
         "0",
         "denial",
         "O"
        ],
        [
         "167",
         "0",
         "of",
         "O"
        ],
        [
         "168",
         "0",
         "service",
         "O"
        ],
        [
         "169",
         "0",
         "(crash)",
         "O"
        ],
        [
         "170",
         "0",
         "and",
         "O"
        ],
        [
         "171",
         "0",
         "execute",
         "O"
        ],
        [
         "172",
         "0",
         "arbitrary",
         "O"
        ],
        [
         "173",
         "0",
         "code",
         "O"
        ],
        [
         "174",
         "0",
         ".",
         "O"
        ],
        [
         "175",
         "CVE-2001-0489",
         "Format",
         "O"
        ],
        [
         "176",
         "0",
         "string",
         "O"
        ],
        [
         "177",
         "0",
         "vulnerability",
         "O"
        ]
       ],
       "shape": {
        "columns": 3,
        "rows": 32
       }
      },
      "text/html": [
       "<div>\n",
       "<style scoped>\n",
       "    .dataframe tbody tr th:only-of-type {\n",
       "        vertical-align: middle;\n",
       "    }\n",
       "\n",
       "    .dataframe tbody tr th {\n",
       "        vertical-align: top;\n",
       "    }\n",
       "\n",
       "    .dataframe thead th {\n",
       "        text-align: right;\n",
       "    }\n",
       "</style>\n",
       "<table border=\"1\" class=\"dataframe\">\n",
       "  <thead>\n",
       "    <tr style=\"text-align: right;\">\n",
       "      <th></th>\n",
       "      <th>cve_id</th>\n",
       "      <th>words</th>\n",
       "      <th>custom_bio</th>\n",
       "    </tr>\n",
       "  </thead>\n",
       "  <tbody>\n",
       "    <tr>\n",
       "      <th>146</th>\n",
       "      <td>CVE-2001-1229</td>\n",
       "      <td>Buffer</td>\n",
       "      <td>O</td>\n",
       "    </tr>\n",
       "    <tr>\n",
       "      <th>147</th>\n",
       "      <td>0</td>\n",
       "      <td>overflows</td>\n",
       "      <td>O</td>\n",
       "    </tr>\n",
       "    <tr>\n",
       "      <th>148</th>\n",
       "      <td>0</td>\n",
       "      <td>in</td>\n",
       "      <td>O</td>\n",
       "    </tr>\n",
       "    <tr>\n",
       "      <th>149</th>\n",
       "      <td>0</td>\n",
       "      <td>(1)</td>\n",
       "      <td>O</td>\n",
       "    </tr>\n",
       "    <tr>\n",
       "      <th>150</th>\n",
       "      <td>0</td>\n",
       "      <td>Icecast</td>\n",
       "      <td>B-vendor</td>\n",
       "    </tr>\n",
       "    <tr>\n",
       "      <th>151</th>\n",
       "      <td>0</td>\n",
       "      <td>Icecast</td>\n",
       "      <td>B-product</td>\n",
       "    </tr>\n",
       "    <tr>\n",
       "      <th>152</th>\n",
       "      <td>0</td>\n",
       "      <td>before</td>\n",
       "      <td>B-version</td>\n",
       "    </tr>\n",
       "    <tr>\n",
       "      <th>153</th>\n",
       "      <td>0</td>\n",
       "      <td>1.3.9</td>\n",
       "      <td>O</td>\n",
       "    </tr>\n",
       "    <tr>\n",
       "      <th>154</th>\n",
       "      <td>0</td>\n",
       "      <td>and</td>\n",
       "      <td>O</td>\n",
       "    </tr>\n",
       "    <tr>\n",
       "      <th>155</th>\n",
       "      <td>0</td>\n",
       "      <td>(2)</td>\n",
       "      <td>O</td>\n",
       "    </tr>\n",
       "    <tr>\n",
       "      <th>156</th>\n",
       "      <td>0</td>\n",
       "      <td>libshout</td>\n",
       "      <td>B-vendor</td>\n",
       "    </tr>\n",
       "    <tr>\n",
       "      <th>157</th>\n",
       "      <td>0</td>\n",
       "      <td>libshout</td>\n",
       "      <td>B-product</td>\n",
       "    </tr>\n",
       "    <tr>\n",
       "      <th>158</th>\n",
       "      <td>0</td>\n",
       "      <td>before</td>\n",
       "      <td>B-version</td>\n",
       "    </tr>\n",
       "    <tr>\n",
       "      <th>159</th>\n",
       "      <td>0</td>\n",
       "      <td>1.0.4</td>\n",
       "      <td>I-version</td>\n",
       "    </tr>\n",
       "    <tr>\n",
       "      <th>160</th>\n",
       "      <td>0</td>\n",
       "      <td>allow</td>\n",
       "      <td>O</td>\n",
       "    </tr>\n",
       "    <tr>\n",
       "      <th>161</th>\n",
       "      <td>0</td>\n",
       "      <td>remote</td>\n",
       "      <td>O</td>\n",
       "    </tr>\n",
       "    <tr>\n",
       "      <th>162</th>\n",
       "      <td>0</td>\n",
       "      <td>attackers</td>\n",
       "      <td>O</td>\n",
       "    </tr>\n",
       "    <tr>\n",
       "      <th>163</th>\n",
       "      <td>0</td>\n",
       "      <td>to</td>\n",
       "      <td>O</td>\n",
       "    </tr>\n",
       "    <tr>\n",
       "      <th>164</th>\n",
       "      <td>0</td>\n",
       "      <td>cause</td>\n",
       "      <td>O</td>\n",
       "    </tr>\n",
       "    <tr>\n",
       "      <th>165</th>\n",
       "      <td>0</td>\n",
       "      <td>a</td>\n",
       "      <td>O</td>\n",
       "    </tr>\n",
       "    <tr>\n",
       "      <th>166</th>\n",
       "      <td>0</td>\n",
       "      <td>denial</td>\n",
       "      <td>O</td>\n",
       "    </tr>\n",
       "    <tr>\n",
       "      <th>167</th>\n",
       "      <td>0</td>\n",
       "      <td>of</td>\n",
       "      <td>O</td>\n",
       "    </tr>\n",
       "    <tr>\n",
       "      <th>168</th>\n",
       "      <td>0</td>\n",
       "      <td>service</td>\n",
       "      <td>O</td>\n",
       "    </tr>\n",
       "    <tr>\n",
       "      <th>169</th>\n",
       "      <td>0</td>\n",
       "      <td>(crash)</td>\n",
       "      <td>O</td>\n",
       "    </tr>\n",
       "    <tr>\n",
       "      <th>170</th>\n",
       "      <td>0</td>\n",
       "      <td>and</td>\n",
       "      <td>O</td>\n",
       "    </tr>\n",
       "    <tr>\n",
       "      <th>171</th>\n",
       "      <td>0</td>\n",
       "      <td>execute</td>\n",
       "      <td>O</td>\n",
       "    </tr>\n",
       "    <tr>\n",
       "      <th>172</th>\n",
       "      <td>0</td>\n",
       "      <td>arbitrary</td>\n",
       "      <td>O</td>\n",
       "    </tr>\n",
       "    <tr>\n",
       "      <th>173</th>\n",
       "      <td>0</td>\n",
       "      <td>code</td>\n",
       "      <td>O</td>\n",
       "    </tr>\n",
       "    <tr>\n",
       "      <th>174</th>\n",
       "      <td>0</td>\n",
       "      <td>.</td>\n",
       "      <td>O</td>\n",
       "    </tr>\n",
       "    <tr>\n",
       "      <th>175</th>\n",
       "      <td>CVE-2001-0489</td>\n",
       "      <td>Format</td>\n",
       "      <td>O</td>\n",
       "    </tr>\n",
       "    <tr>\n",
       "      <th>176</th>\n",
       "      <td>0</td>\n",
       "      <td>string</td>\n",
       "      <td>O</td>\n",
       "    </tr>\n",
       "    <tr>\n",
       "      <th>177</th>\n",
       "      <td>0</td>\n",
       "      <td>vulnerability</td>\n",
       "      <td>O</td>\n",
       "    </tr>\n",
       "  </tbody>\n",
       "</table>\n",
       "</div>"
      ],
      "text/plain": [
       "            cve_id          words custom_bio\n",
       "146  CVE-2001-1229         Buffer          O\n",
       "147              0      overflows          O\n",
       "148              0             in          O\n",
       "149              0            (1)          O\n",
       "150              0        Icecast   B-vendor\n",
       "151              0        Icecast  B-product\n",
       "152              0         before  B-version\n",
       "153              0          1.3.9          O\n",
       "154              0            and          O\n",
       "155              0            (2)          O\n",
       "156              0       libshout   B-vendor\n",
       "157              0       libshout  B-product\n",
       "158              0         before  B-version\n",
       "159              0          1.0.4  I-version\n",
       "160              0          allow          O\n",
       "161              0         remote          O\n",
       "162              0      attackers          O\n",
       "163              0             to          O\n",
       "164              0          cause          O\n",
       "165              0              a          O\n",
       "166              0         denial          O\n",
       "167              0             of          O\n",
       "168              0        service          O\n",
       "169              0        (crash)          O\n",
       "170              0            and          O\n",
       "171              0        execute          O\n",
       "172              0      arbitrary          O\n",
       "173              0           code          O\n",
       "174              0              .          O\n",
       "175  CVE-2001-0489         Format          O\n",
       "176              0         string          O\n",
       "177              0  vulnerability          O"
      ]
     },
     "execution_count": 98,
     "metadata": {},
     "output_type": "execute_result"
    }
   ],
   "source": [
    "df_tt.iloc[146:178]"
   ]
  },
  {
   "cell_type": "code",
   "execution_count": 43,
   "metadata": {},
   "outputs": [
    {
     "name": "stdout",
     "output_type": "stream",
     "text": [
      "(4095,)\n",
      "(4095,)\n",
      "(4095,)\n"
     ]
    }
   ],
   "source": [
    "print(np.array(all_cves).shape)\n",
    "print(np.array(all_tokens).shape)\n",
    "print(np.array(all_bio).shape)"
   ]
  },
  {
   "cell_type": "code",
   "execution_count": 155,
   "metadata": {},
   "outputs": [
    {
     "data": {
      "application/vnd.microsoft.datawrangler.viewer.v0+json": {
       "columns": [
        {
         "name": "index",
         "rawType": "int64",
         "type": "integer"
        },
        {
         "name": "cve_id",
         "rawType": "object",
         "type": "string"
        },
        {
         "name": "words",
         "rawType": "object",
         "type": "string"
        },
        {
         "name": "custom_bio",
         "rawType": "object",
         "type": "string"
        }
       ],
       "conversionMethod": "pd.DataFrame",
       "ref": "bfb887ea-0212-449f-bbe8-71e03c66831a",
       "rows": [
        [
         "0",
         "CVE-1999-1383",
         "(1)",
         "O"
        ],
        [
         "1",
         "0",
         "bash",
         "B-vendor"
        ],
        [
         "2",
         "0",
         "before",
         "B-version"
        ],
        [
         "3",
         "0",
         "1.14.7",
         "I-version"
        ],
        [
         "4",
         "0",
         ",",
         "O"
        ],
        [
         "5",
         "0",
         "and",
         "O"
        ],
        [
         "6",
         "0",
         "(2)",
         "O"
        ],
        [
         "7",
         "0",
         "tcsh",
         "B-vendor"
        ],
        [
         "8",
         "0",
         "6.05",
         "B-version"
        ],
        [
         "9",
         "0",
         "allow",
         "O"
        ],
        [
         "10",
         "0",
         "local",
         "O"
        ],
        [
         "11",
         "0",
         "users",
         "O"
        ],
        [
         "12",
         "0",
         "to",
         "O"
        ],
        [
         "13",
         "0",
         "gain",
         "O"
        ],
        [
         "14",
         "0",
         "privileges",
         "O"
        ],
        [
         "15",
         "0",
         "via",
         "O"
        ],
        [
         "16",
         "0",
         "directory",
         "O"
        ],
        [
         "17",
         "0",
         "names",
         "O"
        ],
        [
         "18",
         "0",
         "that",
         "O"
        ],
        [
         "19",
         "0",
         "contain",
         "O"
        ],
        [
         "20",
         "0",
         "shell",
         "O"
        ],
        [
         "21",
         "0",
         "metacharacters",
         "O"
        ],
        [
         "22",
         "0",
         "(`",
         "O"
        ],
        [
         "23",
         "0",
         "back-tick)",
         "O"
        ],
        [
         "24",
         "0",
         ",",
         "O"
        ],
        [
         "25",
         "0",
         "which",
         "O"
        ],
        [
         "26",
         "0",
         "can",
         "O"
        ],
        [
         "27",
         "0",
         "cause",
         "O"
        ],
        [
         "28",
         "0",
         "the",
         "O"
        ],
        [
         "29",
         "0",
         "commands",
         "O"
        ],
        [
         "30",
         "0",
         "enclosed",
         "O"
        ],
        [
         "31",
         "0",
         "in",
         "O"
        ],
        [
         "32",
         "0",
         "the",
         "O"
        ],
        [
         "33",
         "0",
         "directory",
         "O"
        ],
        [
         "34",
         "0",
         "name",
         "O"
        ],
        [
         "35",
         "0",
         "to",
         "O"
        ],
        [
         "36",
         "0",
         "be",
         "O"
        ],
        [
         "37",
         "0",
         "executed",
         "O"
        ],
        [
         "38",
         "0",
         "when",
         "O"
        ],
        [
         "39",
         "0",
         "the",
         "O"
        ],
        [
         "40",
         "0",
         "shell",
         "O"
        ],
        [
         "41",
         "0",
         "expands",
         "O"
        ],
        [
         "42",
         "0",
         "filenames",
         "O"
        ],
        [
         "43",
         "0",
         "using",
         "O"
        ],
        [
         "44",
         "0",
         "the",
         "O"
        ],
        [
         "45",
         "0",
         "\\w",
         "O"
        ],
        [
         "46",
         "0",
         "option",
         "O"
        ],
        [
         "47",
         "0",
         "in",
         "O"
        ],
        [
         "48",
         "0",
         "the",
         "O"
        ],
        [
         "49",
         "0",
         "PS1",
         "O"
        ]
       ],
       "shape": {
        "columns": 3,
        "rows": 5159
       }
      },
      "text/html": [
       "<div>\n",
       "<style scoped>\n",
       "    .dataframe tbody tr th:only-of-type {\n",
       "        vertical-align: middle;\n",
       "    }\n",
       "\n",
       "    .dataframe tbody tr th {\n",
       "        vertical-align: top;\n",
       "    }\n",
       "\n",
       "    .dataframe thead th {\n",
       "        text-align: right;\n",
       "    }\n",
       "</style>\n",
       "<table border=\"1\" class=\"dataframe\">\n",
       "  <thead>\n",
       "    <tr style=\"text-align: right;\">\n",
       "      <th></th>\n",
       "      <th>cve_id</th>\n",
       "      <th>words</th>\n",
       "      <th>custom_bio</th>\n",
       "    </tr>\n",
       "  </thead>\n",
       "  <tbody>\n",
       "    <tr>\n",
       "      <th>0</th>\n",
       "      <td>CVE-1999-1383</td>\n",
       "      <td>(1)</td>\n",
       "      <td>O</td>\n",
       "    </tr>\n",
       "    <tr>\n",
       "      <th>1</th>\n",
       "      <td>0</td>\n",
       "      <td>bash</td>\n",
       "      <td>B-vendor</td>\n",
       "    </tr>\n",
       "    <tr>\n",
       "      <th>2</th>\n",
       "      <td>0</td>\n",
       "      <td>before</td>\n",
       "      <td>B-version</td>\n",
       "    </tr>\n",
       "    <tr>\n",
       "      <th>3</th>\n",
       "      <td>0</td>\n",
       "      <td>1.14.7</td>\n",
       "      <td>I-version</td>\n",
       "    </tr>\n",
       "    <tr>\n",
       "      <th>4</th>\n",
       "      <td>0</td>\n",
       "      <td>,</td>\n",
       "      <td>O</td>\n",
       "    </tr>\n",
       "    <tr>\n",
       "      <th>...</th>\n",
       "      <td>...</td>\n",
       "      <td>...</td>\n",
       "      <td>...</td>\n",
       "    </tr>\n",
       "    <tr>\n",
       "      <th>5154</th>\n",
       "      <td>0</td>\n",
       "      <td>access</td>\n",
       "      <td>O</td>\n",
       "    </tr>\n",
       "    <tr>\n",
       "      <th>5155</th>\n",
       "      <td>0</td>\n",
       "      <td>other</td>\n",
       "      <td>O</td>\n",
       "    </tr>\n",
       "    <tr>\n",
       "      <th>5156</th>\n",
       "      <td>0</td>\n",
       "      <td>local</td>\n",
       "      <td>O</td>\n",
       "    </tr>\n",
       "    <tr>\n",
       "      <th>5157</th>\n",
       "      <td>0</td>\n",
       "      <td>servers</td>\n",
       "      <td>O</td>\n",
       "    </tr>\n",
       "    <tr>\n",
       "      <th>5158</th>\n",
       "      <td>0</td>\n",
       "      <td>.</td>\n",
       "      <td>O</td>\n",
       "    </tr>\n",
       "  </tbody>\n",
       "</table>\n",
       "<p>5159 rows × 3 columns</p>\n",
       "</div>"
      ],
      "text/plain": [
       "             cve_id    words custom_bio\n",
       "0     CVE-1999-1383      (1)          O\n",
       "1                 0     bash   B-vendor\n",
       "2                 0   before  B-version\n",
       "3                 0   1.14.7  I-version\n",
       "4                 0        ,          O\n",
       "...             ...      ...        ...\n",
       "5154              0   access          O\n",
       "5155              0    other          O\n",
       "5156              0    local          O\n",
       "5157              0  servers          O\n",
       "5158              0        .          O\n",
       "\n",
       "[5159 rows x 3 columns]"
      ]
     },
     "execution_count": 155,
     "metadata": {},
     "output_type": "execute_result"
    }
   ],
   "source": [
    "pd.read_csv('cve_dataset_bio_4477_before_versions.tsv', sep='\\t')"
   ]
  },
  {
   "cell_type": "code",
   "execution_count": null,
   "metadata": {},
   "outputs": [],
   "source": []
  },
  {
   "cell_type": "markdown",
   "metadata": {},
   "source": [
    "## версии after"
   ]
  },
  {
   "cell_type": "code",
   "execution_count": 102,
   "metadata": {},
   "outputs": [
    {
     "name": "stdout",
     "output_type": "stream",
     "text": [
      "may\n",
      "version\n",
      "today\n",
      "\n"
     ]
    }
   ],
   "source": [
    "import re\n",
    "\n",
    "def extract_word_after_version(text):\n",
    "    # The regex looks for a version pattern with at least two dots followed by a word (letters)\n",
    "    pattern = r'\\d+(?:\\.\\d+){2,}\\s+(\\b[a-zA-Z]+\\b)'\n",
    "    match = re.search(pattern, text)\n",
    "    if match:\n",
    "        return match.group(1)\n",
    "    else:\n",
    "        return ''\n",
    "\n",
    "# Test cases\n",
    "print(extract_word_after_version(\"Google Chrome before 19.0.1084.46 may\"))  # Output: may\n",
    "print(extract_word_after_version(\"i have got the name 2.1.0 version\")) # Output: version\n",
    "print(extract_word_after_version(\"this is tuesday 1.2.1.1.1 today\"))   # Output: today\n",
    "print(extract_word_after_version(\"mama i love you 6.0\"))                # Output: False"
   ]
  },
  {
   "cell_type": "code",
   "execution_count": 103,
   "metadata": {},
   "outputs": [
    {
     "data": {
      "application/vnd.microsoft.datawrangler.viewer.v0+json": {
       "columns": [
        {
         "name": "index",
         "rawType": "int64",
         "type": "integer"
        },
        {
         "name": "word",
         "rawType": "object",
         "type": "string"
        },
        {
         "name": "matched_regex_after",
         "rawType": "int64",
         "type": "integer"
        }
       ],
       "conversionMethod": "pd.DataFrame",
       "ref": "9ef137ba-327b-4937-8349-4b01d0e74c49",
       "rows": [
        [
         "0",
         "",
         "308257"
        ],
        [
         "1",
         "and",
         "81376"
        ],
        [
         "2",
         "allows",
         "56205"
        ],
        [
         "3",
         "does",
         "48507"
        ],
        [
         "4",
         "for",
         "25996"
        ],
        [
         "5",
         "versions",
         "20638"
        ],
        [
         "6",
         "through",
         "14630"
        ],
        [
         "7",
         "are",
         "13671"
        ],
        [
         "8",
         "is",
         "13230"
        ],
        [
         "9",
         "has",
         "8485"
        ],
        [
         "10",
         "allow",
         "6808"
        ],
        [
         "11",
         "due",
         "6652"
        ],
        [
         "12",
         "contains",
         "6060"
        ],
        [
         "13",
         "to",
         "4893"
        ],
        [
         "14",
         "on",
         "4077"
        ],
        [
         "15",
         "at",
         "3397"
        ],
        [
         "16",
         "or",
         "3342"
        ],
        [
         "17",
         "in",
         "2937"
        ],
        [
         "18",
         "before",
         "2904"
        ],
        [
         "19",
         "was",
         "2661"
        ],
        [
         "20",
         "leaks",
         "2382"
        ],
        [
         "21",
         "via",
         "2010"
        ],
        [
         "22",
         "have",
         "1827"
        ],
        [
         "23",
         "can",
         "1667"
        ],
        [
         "24",
         "could",
         "1647"
        ],
        [
         "25",
         "might",
         "1641"
        ],
        [
         "26",
         "do",
         "1631"
        ],
        [
         "27",
         "uses",
         "1628"
        ],
        [
         "28",
         "contain",
         "1572"
        ],
        [
         "29",
         "mishandles",
         "1407"
        ],
        [
         "30",
         "did",
         "1394"
        ],
        [
         "31",
         "may",
         "1163"
        ],
        [
         "32",
         "using",
         "1050"
        ],
        [
         "33",
         "of",
         "887"
        ],
        [
         "34",
         "unserialises",
         "791"
        ],
        [
         "35",
         "that",
         "750"
        ],
        [
         "36",
         "a",
         "722"
        ],
        [
         "37",
         "beta",
         "720"
        ],
        [
         "38",
         "allowed",
         "704"
        ],
        [
         "39",
         "use",
         "671"
        ],
        [
         "40",
         "build",
         "628"
        ],
        [
         "41",
         "when",
         "543"
        ],
        [
         "42",
         "release",
         "482"
        ],
        [
         "43",
         "there",
         "479"
        ],
        [
         "44",
         "includes",
         "475"
        ],
        [
         "45",
         "unserializes",
         "467"
        ],
        [
         "46",
         "which",
         "449"
        ],
        [
         "47",
         "as",
         "443"
        ],
        [
         "48",
         "suffers",
         "431"
        ],
        [
         "49",
         "Beta",
         "426"
        ]
       ],
       "shape": {
        "columns": 2,
        "rows": 619
       }
      },
      "text/html": [
       "<div>\n",
       "<style scoped>\n",
       "    .dataframe tbody tr th:only-of-type {\n",
       "        vertical-align: middle;\n",
       "    }\n",
       "\n",
       "    .dataframe tbody tr th {\n",
       "        vertical-align: top;\n",
       "    }\n",
       "\n",
       "    .dataframe thead th {\n",
       "        text-align: right;\n",
       "    }\n",
       "</style>\n",
       "<table border=\"1\" class=\"dataframe\">\n",
       "  <thead>\n",
       "    <tr style=\"text-align: right;\">\n",
       "      <th></th>\n",
       "      <th>word</th>\n",
       "      <th>matched_regex_after</th>\n",
       "    </tr>\n",
       "  </thead>\n",
       "  <tbody>\n",
       "    <tr>\n",
       "      <th>0</th>\n",
       "      <td></td>\n",
       "      <td>308257</td>\n",
       "    </tr>\n",
       "    <tr>\n",
       "      <th>1</th>\n",
       "      <td>and</td>\n",
       "      <td>81376</td>\n",
       "    </tr>\n",
       "    <tr>\n",
       "      <th>2</th>\n",
       "      <td>allows</td>\n",
       "      <td>56205</td>\n",
       "    </tr>\n",
       "    <tr>\n",
       "      <th>3</th>\n",
       "      <td>does</td>\n",
       "      <td>48507</td>\n",
       "    </tr>\n",
       "    <tr>\n",
       "      <th>4</th>\n",
       "      <td>for</td>\n",
       "      <td>25996</td>\n",
       "    </tr>\n",
       "    <tr>\n",
       "      <th>...</th>\n",
       "      <td>...</td>\n",
       "      <td>...</td>\n",
       "    </tr>\n",
       "    <tr>\n",
       "      <th>614</th>\n",
       "      <td>GPL</td>\n",
       "      <td>1</td>\n",
       "    </tr>\n",
       "    <tr>\n",
       "      <th>615</th>\n",
       "      <td>compares</td>\n",
       "      <td>1</td>\n",
       "    </tr>\n",
       "    <tr>\n",
       "      <th>616</th>\n",
       "      <td>cPanel</td>\n",
       "      <td>1</td>\n",
       "    </tr>\n",
       "    <tr>\n",
       "      <th>617</th>\n",
       "      <td>IF</td>\n",
       "      <td>1</td>\n",
       "    </tr>\n",
       "    <tr>\n",
       "      <th>618</th>\n",
       "      <td>prints</td>\n",
       "      <td>1</td>\n",
       "    </tr>\n",
       "  </tbody>\n",
       "</table>\n",
       "<p>619 rows × 2 columns</p>\n",
       "</div>"
      ],
      "text/plain": [
       "         word  matched_regex_after\n",
       "0                           308257\n",
       "1         and                81376\n",
       "2      allows                56205\n",
       "3        does                48507\n",
       "4         for                25996\n",
       "..        ...                  ...\n",
       "614       GPL                    1\n",
       "615  compares                    1\n",
       "616    cPanel                    1\n",
       "617        IF                    1\n",
       "618    prints                    1\n",
       "\n",
       "[619 rows x 2 columns]"
      ]
     },
     "execution_count": 103,
     "metadata": {},
     "output_type": "execute_result"
    }
   ],
   "source": [
    "df['matched_regex_after'] = df['descr'].apply(extract_word_after_version)\n",
    "matched_df2 = df['matched_regex_after'].value_counts().reset_index()\n",
    "matched_df2 = matched_df2.rename(columns={'index': 'word'})\n",
    "matched_df2"
   ]
  },
  {
   "cell_type": "code",
   "execution_count": 106,
   "metadata": {},
   "outputs": [
    {
     "data": {
      "application/vnd.microsoft.datawrangler.viewer.v0+json": {
       "columns": [
        {
         "name": "index",
         "rawType": "int64",
         "type": "integer"
        },
        {
         "name": "word",
         "rawType": "object",
         "type": "string"
        },
        {
         "name": "matched_regex_after",
         "rawType": "int64",
         "type": "integer"
        },
        {
         "name": "capital",
         "rawType": "bool",
         "type": "boolean"
        }
       ],
       "conversionMethod": "pd.DataFrame",
       "ref": "3bdcdb9f-c0b5-4b93-8abe-816669052449",
       "rows": [
        [
         "0",
         "",
         "308257",
         "False"
        ],
        [
         "1",
         "and",
         "81376",
         "False"
        ],
        [
         "2",
         "allows",
         "56205",
         "False"
        ],
        [
         "3",
         "does",
         "48507",
         "False"
        ],
        [
         "4",
         "for",
         "25996",
         "False"
        ],
        [
         "5",
         "versions",
         "20638",
         "False"
        ],
        [
         "6",
         "through",
         "14630",
         "False"
        ],
        [
         "7",
         "are",
         "13671",
         "False"
        ],
        [
         "8",
         "is",
         "13230",
         "False"
        ],
        [
         "9",
         "has",
         "8485",
         "False"
        ],
        [
         "10",
         "allow",
         "6808",
         "False"
        ],
        [
         "11",
         "due",
         "6652",
         "False"
        ],
        [
         "12",
         "contains",
         "6060",
         "False"
        ],
        [
         "13",
         "to",
         "4893",
         "False"
        ],
        [
         "14",
         "on",
         "4077",
         "False"
        ],
        [
         "15",
         "at",
         "3397",
         "False"
        ],
        [
         "16",
         "or",
         "3342",
         "False"
        ],
        [
         "17",
         "in",
         "2937",
         "False"
        ],
        [
         "18",
         "before",
         "2904",
         "False"
        ],
        [
         "19",
         "was",
         "2661",
         "False"
        ],
        [
         "20",
         "leaks",
         "2382",
         "False"
        ],
        [
         "21",
         "via",
         "2010",
         "False"
        ],
        [
         "22",
         "have",
         "1827",
         "False"
        ],
        [
         "23",
         "can",
         "1667",
         "False"
        ],
        [
         "24",
         "could",
         "1647",
         "False"
        ],
        [
         "25",
         "might",
         "1641",
         "False"
        ],
        [
         "26",
         "do",
         "1631",
         "False"
        ],
        [
         "27",
         "uses",
         "1628",
         "False"
        ],
        [
         "28",
         "contain",
         "1572",
         "False"
        ],
        [
         "29",
         "mishandles",
         "1407",
         "False"
        ],
        [
         "30",
         "did",
         "1394",
         "False"
        ],
        [
         "31",
         "may",
         "1163",
         "False"
        ],
        [
         "32",
         "using",
         "1050",
         "False"
        ],
        [
         "33",
         "of",
         "887",
         "False"
        ],
        [
         "34",
         "unserialises",
         "791",
         "False"
        ],
        [
         "35",
         "that",
         "750",
         "False"
        ],
        [
         "36",
         "a",
         "722",
         "False"
        ],
        [
         "37",
         "beta",
         "720",
         "False"
        ],
        [
         "38",
         "allowed",
         "704",
         "False"
        ],
        [
         "39",
         "use",
         "671",
         "False"
        ],
        [
         "40",
         "build",
         "628",
         "False"
        ],
        [
         "41",
         "when",
         "543",
         "False"
        ],
        [
         "42",
         "release",
         "482",
         "False"
        ],
        [
         "43",
         "there",
         "479",
         "False"
        ],
        [
         "44",
         "includes",
         "475",
         "False"
        ],
        [
         "45",
         "unserializes",
         "467",
         "False"
        ],
        [
         "46",
         "which",
         "449",
         "False"
        ],
        [
         "47",
         "as",
         "443",
         "False"
        ],
        [
         "48",
         "suffers",
         "431",
         "False"
        ],
        [
         "50",
         "leads",
         "416",
         "False"
        ]
       ],
       "shape": {
        "columns": 3,
        "rows": 50
       }
      },
      "text/html": [
       "<div>\n",
       "<style scoped>\n",
       "    .dataframe tbody tr th:only-of-type {\n",
       "        vertical-align: middle;\n",
       "    }\n",
       "\n",
       "    .dataframe tbody tr th {\n",
       "        vertical-align: top;\n",
       "    }\n",
       "\n",
       "    .dataframe thead th {\n",
       "        text-align: right;\n",
       "    }\n",
       "</style>\n",
       "<table border=\"1\" class=\"dataframe\">\n",
       "  <thead>\n",
       "    <tr style=\"text-align: right;\">\n",
       "      <th></th>\n",
       "      <th>word</th>\n",
       "      <th>matched_regex_after</th>\n",
       "      <th>capital</th>\n",
       "    </tr>\n",
       "  </thead>\n",
       "  <tbody>\n",
       "    <tr>\n",
       "      <th>0</th>\n",
       "      <td></td>\n",
       "      <td>308257</td>\n",
       "      <td>False</td>\n",
       "    </tr>\n",
       "    <tr>\n",
       "      <th>1</th>\n",
       "      <td>and</td>\n",
       "      <td>81376</td>\n",
       "      <td>False</td>\n",
       "    </tr>\n",
       "    <tr>\n",
       "      <th>2</th>\n",
       "      <td>allows</td>\n",
       "      <td>56205</td>\n",
       "      <td>False</td>\n",
       "    </tr>\n",
       "    <tr>\n",
       "      <th>3</th>\n",
       "      <td>does</td>\n",
       "      <td>48507</td>\n",
       "      <td>False</td>\n",
       "    </tr>\n",
       "    <tr>\n",
       "      <th>4</th>\n",
       "      <td>for</td>\n",
       "      <td>25996</td>\n",
       "      <td>False</td>\n",
       "    </tr>\n",
       "    <tr>\n",
       "      <th>5</th>\n",
       "      <td>versions</td>\n",
       "      <td>20638</td>\n",
       "      <td>False</td>\n",
       "    </tr>\n",
       "    <tr>\n",
       "      <th>6</th>\n",
       "      <td>through</td>\n",
       "      <td>14630</td>\n",
       "      <td>False</td>\n",
       "    </tr>\n",
       "    <tr>\n",
       "      <th>7</th>\n",
       "      <td>are</td>\n",
       "      <td>13671</td>\n",
       "      <td>False</td>\n",
       "    </tr>\n",
       "    <tr>\n",
       "      <th>8</th>\n",
       "      <td>is</td>\n",
       "      <td>13230</td>\n",
       "      <td>False</td>\n",
       "    </tr>\n",
       "    <tr>\n",
       "      <th>9</th>\n",
       "      <td>has</td>\n",
       "      <td>8485</td>\n",
       "      <td>False</td>\n",
       "    </tr>\n",
       "    <tr>\n",
       "      <th>10</th>\n",
       "      <td>allow</td>\n",
       "      <td>6808</td>\n",
       "      <td>False</td>\n",
       "    </tr>\n",
       "    <tr>\n",
       "      <th>11</th>\n",
       "      <td>due</td>\n",
       "      <td>6652</td>\n",
       "      <td>False</td>\n",
       "    </tr>\n",
       "    <tr>\n",
       "      <th>12</th>\n",
       "      <td>contains</td>\n",
       "      <td>6060</td>\n",
       "      <td>False</td>\n",
       "    </tr>\n",
       "    <tr>\n",
       "      <th>13</th>\n",
       "      <td>to</td>\n",
       "      <td>4893</td>\n",
       "      <td>False</td>\n",
       "    </tr>\n",
       "    <tr>\n",
       "      <th>14</th>\n",
       "      <td>on</td>\n",
       "      <td>4077</td>\n",
       "      <td>False</td>\n",
       "    </tr>\n",
       "    <tr>\n",
       "      <th>15</th>\n",
       "      <td>at</td>\n",
       "      <td>3397</td>\n",
       "      <td>False</td>\n",
       "    </tr>\n",
       "    <tr>\n",
       "      <th>16</th>\n",
       "      <td>or</td>\n",
       "      <td>3342</td>\n",
       "      <td>False</td>\n",
       "    </tr>\n",
       "    <tr>\n",
       "      <th>17</th>\n",
       "      <td>in</td>\n",
       "      <td>2937</td>\n",
       "      <td>False</td>\n",
       "    </tr>\n",
       "    <tr>\n",
       "      <th>18</th>\n",
       "      <td>before</td>\n",
       "      <td>2904</td>\n",
       "      <td>False</td>\n",
       "    </tr>\n",
       "    <tr>\n",
       "      <th>19</th>\n",
       "      <td>was</td>\n",
       "      <td>2661</td>\n",
       "      <td>False</td>\n",
       "    </tr>\n",
       "    <tr>\n",
       "      <th>20</th>\n",
       "      <td>leaks</td>\n",
       "      <td>2382</td>\n",
       "      <td>False</td>\n",
       "    </tr>\n",
       "    <tr>\n",
       "      <th>21</th>\n",
       "      <td>via</td>\n",
       "      <td>2010</td>\n",
       "      <td>False</td>\n",
       "    </tr>\n",
       "    <tr>\n",
       "      <th>22</th>\n",
       "      <td>have</td>\n",
       "      <td>1827</td>\n",
       "      <td>False</td>\n",
       "    </tr>\n",
       "    <tr>\n",
       "      <th>23</th>\n",
       "      <td>can</td>\n",
       "      <td>1667</td>\n",
       "      <td>False</td>\n",
       "    </tr>\n",
       "    <tr>\n",
       "      <th>24</th>\n",
       "      <td>could</td>\n",
       "      <td>1647</td>\n",
       "      <td>False</td>\n",
       "    </tr>\n",
       "    <tr>\n",
       "      <th>25</th>\n",
       "      <td>might</td>\n",
       "      <td>1641</td>\n",
       "      <td>False</td>\n",
       "    </tr>\n",
       "    <tr>\n",
       "      <th>26</th>\n",
       "      <td>do</td>\n",
       "      <td>1631</td>\n",
       "      <td>False</td>\n",
       "    </tr>\n",
       "    <tr>\n",
       "      <th>27</th>\n",
       "      <td>uses</td>\n",
       "      <td>1628</td>\n",
       "      <td>False</td>\n",
       "    </tr>\n",
       "    <tr>\n",
       "      <th>28</th>\n",
       "      <td>contain</td>\n",
       "      <td>1572</td>\n",
       "      <td>False</td>\n",
       "    </tr>\n",
       "    <tr>\n",
       "      <th>29</th>\n",
       "      <td>mishandles</td>\n",
       "      <td>1407</td>\n",
       "      <td>False</td>\n",
       "    </tr>\n",
       "    <tr>\n",
       "      <th>30</th>\n",
       "      <td>did</td>\n",
       "      <td>1394</td>\n",
       "      <td>False</td>\n",
       "    </tr>\n",
       "    <tr>\n",
       "      <th>31</th>\n",
       "      <td>may</td>\n",
       "      <td>1163</td>\n",
       "      <td>False</td>\n",
       "    </tr>\n",
       "    <tr>\n",
       "      <th>32</th>\n",
       "      <td>using</td>\n",
       "      <td>1050</td>\n",
       "      <td>False</td>\n",
       "    </tr>\n",
       "    <tr>\n",
       "      <th>33</th>\n",
       "      <td>of</td>\n",
       "      <td>887</td>\n",
       "      <td>False</td>\n",
       "    </tr>\n",
       "    <tr>\n",
       "      <th>34</th>\n",
       "      <td>unserialises</td>\n",
       "      <td>791</td>\n",
       "      <td>False</td>\n",
       "    </tr>\n",
       "    <tr>\n",
       "      <th>35</th>\n",
       "      <td>that</td>\n",
       "      <td>750</td>\n",
       "      <td>False</td>\n",
       "    </tr>\n",
       "    <tr>\n",
       "      <th>36</th>\n",
       "      <td>a</td>\n",
       "      <td>722</td>\n",
       "      <td>False</td>\n",
       "    </tr>\n",
       "    <tr>\n",
       "      <th>37</th>\n",
       "      <td>beta</td>\n",
       "      <td>720</td>\n",
       "      <td>False</td>\n",
       "    </tr>\n",
       "    <tr>\n",
       "      <th>38</th>\n",
       "      <td>allowed</td>\n",
       "      <td>704</td>\n",
       "      <td>False</td>\n",
       "    </tr>\n",
       "    <tr>\n",
       "      <th>39</th>\n",
       "      <td>use</td>\n",
       "      <td>671</td>\n",
       "      <td>False</td>\n",
       "    </tr>\n",
       "    <tr>\n",
       "      <th>40</th>\n",
       "      <td>build</td>\n",
       "      <td>628</td>\n",
       "      <td>False</td>\n",
       "    </tr>\n",
       "    <tr>\n",
       "      <th>41</th>\n",
       "      <td>when</td>\n",
       "      <td>543</td>\n",
       "      <td>False</td>\n",
       "    </tr>\n",
       "    <tr>\n",
       "      <th>42</th>\n",
       "      <td>release</td>\n",
       "      <td>482</td>\n",
       "      <td>False</td>\n",
       "    </tr>\n",
       "    <tr>\n",
       "      <th>43</th>\n",
       "      <td>there</td>\n",
       "      <td>479</td>\n",
       "      <td>False</td>\n",
       "    </tr>\n",
       "    <tr>\n",
       "      <th>44</th>\n",
       "      <td>includes</td>\n",
       "      <td>475</td>\n",
       "      <td>False</td>\n",
       "    </tr>\n",
       "    <tr>\n",
       "      <th>45</th>\n",
       "      <td>unserializes</td>\n",
       "      <td>467</td>\n",
       "      <td>False</td>\n",
       "    </tr>\n",
       "    <tr>\n",
       "      <th>46</th>\n",
       "      <td>which</td>\n",
       "      <td>449</td>\n",
       "      <td>False</td>\n",
       "    </tr>\n",
       "    <tr>\n",
       "      <th>47</th>\n",
       "      <td>as</td>\n",
       "      <td>443</td>\n",
       "      <td>False</td>\n",
       "    </tr>\n",
       "    <tr>\n",
       "      <th>48</th>\n",
       "      <td>suffers</td>\n",
       "      <td>431</td>\n",
       "      <td>False</td>\n",
       "    </tr>\n",
       "    <tr>\n",
       "      <th>50</th>\n",
       "      <td>leads</td>\n",
       "      <td>416</td>\n",
       "      <td>False</td>\n",
       "    </tr>\n",
       "  </tbody>\n",
       "</table>\n",
       "</div>"
      ],
      "text/plain": [
       "            word  matched_regex_after  capital\n",
       "0                              308257    False\n",
       "1            and                81376    False\n",
       "2         allows                56205    False\n",
       "3           does                48507    False\n",
       "4            for                25996    False\n",
       "5       versions                20638    False\n",
       "6        through                14630    False\n",
       "7            are                13671    False\n",
       "8             is                13230    False\n",
       "9            has                 8485    False\n",
       "10         allow                 6808    False\n",
       "11           due                 6652    False\n",
       "12      contains                 6060    False\n",
       "13            to                 4893    False\n",
       "14            on                 4077    False\n",
       "15            at                 3397    False\n",
       "16            or                 3342    False\n",
       "17            in                 2937    False\n",
       "18        before                 2904    False\n",
       "19           was                 2661    False\n",
       "20         leaks                 2382    False\n",
       "21           via                 2010    False\n",
       "22          have                 1827    False\n",
       "23           can                 1667    False\n",
       "24         could                 1647    False\n",
       "25         might                 1641    False\n",
       "26            do                 1631    False\n",
       "27          uses                 1628    False\n",
       "28       contain                 1572    False\n",
       "29    mishandles                 1407    False\n",
       "30           did                 1394    False\n",
       "31           may                 1163    False\n",
       "32         using                 1050    False\n",
       "33            of                  887    False\n",
       "34  unserialises                  791    False\n",
       "35          that                  750    False\n",
       "36             a                  722    False\n",
       "37          beta                  720    False\n",
       "38       allowed                  704    False\n",
       "39           use                  671    False\n",
       "40         build                  628    False\n",
       "41          when                  543    False\n",
       "42       release                  482    False\n",
       "43         there                  479    False\n",
       "44      includes                  475    False\n",
       "45  unserializes                  467    False\n",
       "46         which                  449    False\n",
       "47            as                  443    False\n",
       "48       suffers                  431    False\n",
       "50         leads                  416    False"
      ]
     },
     "execution_count": 106,
     "metadata": {},
     "output_type": "execute_result"
    }
   ],
   "source": [
    "matched_df2['capital'] = matched_df2['word'].str.match(r'^[A-Z]')  # Regex: ^[A-Z] means \"starts with uppercase A-Z\"\n",
    "matched_df2[matched_df2.capital == False].head(50)"
   ]
  },
  {
   "cell_type": "code",
   "execution_count": 111,
   "metadata": {},
   "outputs": [
    {
     "data": {
      "text/plain": [
       "['',\n",
       " 'and',\n",
       " 'allows',\n",
       " 'does',\n",
       " 'for',\n",
       " 'versions',\n",
       " 'through',\n",
       " 'are',\n",
       " 'is',\n",
       " 'has',\n",
       " 'allow',\n",
       " 'due',\n",
       " 'contains',\n",
       " 'to',\n",
       " 'on',\n",
       " 'at',\n",
       " 'or',\n",
       " 'in',\n",
       " 'before',\n",
       " 'was',\n",
       " 'leaks',\n",
       " 'via',\n",
       " 'have',\n",
       " 'can',\n",
       " 'could',\n",
       " 'might',\n",
       " 'do',\n",
       " 'uses',\n",
       " 'contain',\n",
       " 'mishandles',\n",
       " 'did',\n",
       " 'may',\n",
       " 'using',\n",
       " 'of',\n",
       " 'unserialises',\n",
       " 'that',\n",
       " 'a',\n",
       " 'beta',\n",
       " 'allowed',\n",
       " 'use',\n",
       " 'build',\n",
       " 'when',\n",
       " 'release',\n",
       " 'there',\n",
       " 'includes',\n",
       " 'unserializes',\n",
       " 'which',\n",
       " 'as',\n",
       " 'suffers',\n",
       " 'Beta']"
      ]
     },
     "execution_count": 111,
     "metadata": {},
     "output_type": "execute_result"
    }
   ],
   "source": [
    "matched_df2.iloc[:50].word.tolist()"
   ]
  },
  {
   "cell_type": "code",
   "execution_count": 113,
   "metadata": {},
   "outputs": [],
   "source": [
    "after_words = [\n",
    "    'and',\n",
    "    'through',\n",
    "    'to',\n",
    "    'or',\n",
    "    'before',\n",
    "    'beta',\n",
    "    'build',\n",
    "    \n",
    "]"
   ]
  },
  {
   "cell_type": "code",
   "execution_count": null,
   "metadata": {},
   "outputs": [],
   "source": [
    "for wrd in matched_df2[matched_df2.capital == False].head(50).word:\n",
    "    print(wrd)\n",
    "    r = df[df['matched_regex_after'] == wrd]\n",
    "    if not r.empty:\n",
    "        print(r.sample(1).descr)\n",
    "    print('\\n\\n\\n')"
   ]
  },
  {
   "cell_type": "code",
   "execution_count": 115,
   "metadata": {},
   "outputs": [],
   "source": [
    "def check_conditions_after(row, wrd):\n",
    "    if ((row['vendor'] in row['descr']) and\n",
    "        (row['product'] in row['descr']) and\n",
    "        (row['matched_regex_after'] == wrd)):\n",
    "        return True\n",
    "    else:\n",
    "        return False"
   ]
  },
  {
   "cell_type": "code",
   "execution_count": 156,
   "metadata": {},
   "outputs": [],
   "source": [
    "def check_conditions_after_less_conditions(row, wrd):\n",
    "    if (((row['vendor'] in row['descr'].lower()) or\n",
    "        (row['product'] in row['descr'].lower())) and\n",
    "        (row['matched_regex_after'] == wrd)):\n",
    "        return True\n",
    "    else:\n",
    "        return False"
   ]
  },
  {
   "cell_type": "code",
   "execution_count": 157,
   "metadata": {},
   "outputs": [
    {
     "name": "stderr",
     "output_type": "stream",
     "text": [
      " 14%|█▍        | 1/7 [00:03<00:22,  3.78s/it]"
     ]
    },
    {
     "name": "stdout",
     "output_type": "stream",
     "text": [
      "and (5178, 7)\n"
     ]
    },
    {
     "name": "stderr",
     "output_type": "stream",
     "text": [
      " 29%|██▊       | 2/7 [00:07<00:18,  3.73s/it]"
     ]
    },
    {
     "name": "stdout",
     "output_type": "stream",
     "text": [
      "through (1002, 7)\n"
     ]
    },
    {
     "name": "stderr",
     "output_type": "stream",
     "text": [
      " 43%|████▎     | 3/7 [00:11<00:14,  3.72s/it]"
     ]
    },
    {
     "name": "stdout",
     "output_type": "stream",
     "text": [
      "to (130, 7)\n"
     ]
    },
    {
     "name": "stderr",
     "output_type": "stream",
     "text": [
      " 57%|█████▋    | 4/7 [00:14<00:11,  3.72s/it]"
     ]
    },
    {
     "name": "stdout",
     "output_type": "stream",
     "text": [
      "or (128, 7)\n"
     ]
    },
    {
     "name": "stderr",
     "output_type": "stream",
     "text": [
      " 71%|███████▏  | 5/7 [00:18<00:07,  3.74s/it]"
     ]
    },
    {
     "name": "stdout",
     "output_type": "stream",
     "text": [
      "before (171, 7)\n",
      "beta (3, 7)\n"
     ]
    },
    {
     "name": "stderr",
     "output_type": "stream",
     "text": [
      " 86%|████████▌ | 6/7 [00:27<00:05,  5.64s/it]"
     ]
    },
    {
     "name": "stdout",
     "output_type": "stream",
     "text": [
      "build (1, 7)\n"
     ]
    },
    {
     "name": "stderr",
     "output_type": "stream",
     "text": [
      "100%|██████████| 7/7 [00:37<00:00,  5.35s/it]\n"
     ]
    }
   ],
   "source": [
    "df_new_words_after = pd.DataFrame()\n",
    "for wrd in tqdm(after_words):\n",
    "    filtered_df = df[df.apply(lambda x: check_conditions_after(x, wrd), axis=1)]\n",
    "    print(wrd, filtered_df.shape)\n",
    "    if filtered_df.empty:\n",
    "        continue\n",
    "    elif filtered_df.cve_id.nunique() <= 5:\n",
    "        filtered_df = df[df.apply(lambda x: check_conditions_after_less_conditions(x, wrd), axis=1)]\n",
    "    df_samples_per_word = filtered_df.sample(len(filtered_df), random_state=43).groupby('cve_id').sample(1, random_state=43).head(5)\n",
    "    if df_new_words_after.empty:\n",
    "        df_new_words_after = df_samples_per_word\n",
    "    else:\n",
    "        df_new_words_after = pd.concat([df_new_words_after, df_samples_per_word])"
   ]
  },
  {
   "cell_type": "code",
   "execution_count": 158,
   "metadata": {},
   "outputs": [
    {
     "data": {
      "application/vnd.microsoft.datawrangler.viewer.v0+json": {
       "columns": [
        {
         "name": "index",
         "rawType": "int64",
         "type": "integer"
        },
        {
         "name": "cve_id",
         "rawType": "object",
         "type": "string"
        },
        {
         "name": "vendor",
         "rawType": "object",
         "type": "string"
        },
        {
         "name": "product",
         "rawType": "object",
         "type": "string"
        },
        {
         "name": "version",
         "rawType": "object",
         "type": "string"
        },
        {
         "name": "descr",
         "rawType": "object",
         "type": "string"
        },
        {
         "name": "matched_regex_before",
         "rawType": "object",
         "type": "string"
        },
        {
         "name": "matched_regex_after",
         "rawType": "object",
         "type": "string"
        }
       ],
       "conversionMethod": "pd.DataFrame",
       "ref": "de948b48-46c7-4378-b019-7428f442d86c",
       "rows": [
        [
         "119349",
         "CVE-1999-1483",
         "svgalib",
         "svgalib",
         "",
         "Buffer overflow in zgv in svgalib 1.2.10 and earlier allows local users to execute arbitrary code via a long HOME environment variable.",
         "svgalib",
         "and"
        ],
        [
         "170729",
         "CVE-2001-0556",
         "nedit",
         "nedit",
         "",
         "The Nirvana Editor (NEdit) 5.1.1 and earlier allows a local attacker to overwrite other users' files via a symlink attack on (1) backup files or (2) temporary files used when nedit prints a file or portions of a file.",
         "",
         "and"
        ],
        [
         "567214",
         "CVE-2001-0570",
         "minicom",
         "minicom",
         "",
         "minicom 1.83.1 and earlier allows a local attacker to gain additional privileges via numerous format string attacks.",
         "minicom",
         "and"
        ],
        [
         "259505",
         "CVE-2001-0700",
         "w3m",
         "w3m",
         "0.1.8",
         "Buffer overflow in w3m 0.2.1 and earlier allows a remote attacker to execute arbitrary code via a long base64 encoded MIME header.",
         "m",
         "and"
        ],
        [
         "595407",
         "CVE-2001-0834",
         "htdig",
         "htdig",
         "",
         "htsearch CGI program in htdig (ht://Dig) 3.1.5 and earlier allows remote attackers to use the -c option to specify an alternate configuration file, which could be used to (1) cause a denial of service (CPU consumption) by specifying a large file such as /dev/zero, or (2) read arbitrary files by uploading an alternate configuration file that specifies the target file.",
         "",
         "and"
        ],
        [
         "499787",
         "CVE-2003-1462",
         "mod_survey",
         "mod_survey",
         "3.0.7",
         "mod_survey 3.0.0 through 3.0.15-pre6 does not check whether a survey exists before creating a subdirectory for it, which allows remote attackers to cause a denial of service (disk consumption and possible crash).",
         "survey",
         "through"
        ],
        [
         "359080",
         "CVE-2005-0686",
         "mlterm",
         "mlterm",
         "2.7",
         "Integer overflow in mlterm 2.5.0 through 2.9.1, with gdk-pixbuf support enabled, allows remote attackers to execute arbitrary code via a large image file that is used as a background.",
         "mlterm",
         "through"
        ],
        [
         "236251",
         "CVE-2005-1692",
         "xine",
         "gxine",
         "0.44",
         "Format string vulnerability in gxine 0.4.1 through 0.4.4, and other versions down to 0.3, allows remote attackers to execute arbitrary code via a ram file with a URL whose hostname contains format string specifiers.",
         "gxine",
         "through"
        ],
        [
         "380589",
         "CVE-2005-3345",
         "rssh",
         "rssh",
         "2.2.3",
         "rssh 2.0.0 through 2.2.3 allows local users to bypass access restrictions and gain root privileges by using the rssh_chroot_helper command to chroot to an external directory.",
         "rssh",
         "through"
        ],
        [
         "240356",
         "CVE-2006-4244",
         "sql-ledger",
         "sql-ledger",
         "2.8.14",
         "SQL-Ledger 2.4.4 through 2.6.17 authenticates users by verifying that the value of the sql-ledger-[username] cookie matches the value of the sessionid parameter, which allows remote attackers to gain access as any logged-in user by setting the cookie and the parameter to the same value.",
         "Ledger",
         "through"
        ],
        [
         "392843",
         "CVE-2004-1951",
         "xine",
         "xine-ui",
         "0.9.23",
         "xine 1.x alpha, 1.x beta, and 1.0rc through 1.0rc3a, and xine-ui 0.9.21 to 0.9.23 allows remote attackers to overwrite arbitrary files via the (1) audio.sun_audio_device or (2) dxr3.devicename options in an MRL link.",
         "and",
         "to"
        ],
        [
         "349748",
         "CVE-2005-1453",
         "leafnode",
         "leafnode",
         "1.9.52",
         "fetchnews in leafnode 1.9.48 to 1.11.1 allows remote NNTP servers to cause a denial of service (crash) by closing the connection while fetchnews is reading (1) an article header or (2) an article body, which also prevents fetchnews from querying other servers.",
         "leafnode",
         "to"
        ],
        [
         "311229",
         "CVE-2007-0157",
         "neon",
         "neon",
         "0.26.2",
         "Array index error in the uri_lookup function in the URI parser for neon 0.26.0 to 0.26.2, possibly only on 64-bit platforms, allows remote malicious servers to cause a denial of service (crash) via a URI with non-ASCII characters, which triggers a buffer under-read due to a type conversion error that generates a negative index.",
         "neon",
         "to"
        ],
        [
         "458829",
         "CVE-2007-1287",
         "php",
         "php",
         "6.0",
         "A regression error in the phpinfo function in PHP 4.4.3 to 4.4.6, and PHP 6.0 in CVS, allows remote attackers to conduct cross-site scripting (XSS) attacks via GET, POST, or COOKIE array values, which are not escaped in the phpinfo output, as originally fixed for CVE-2005-3388.",
         "PHP",
         "to"
        ],
        [
         "386325",
         "CVE-2008-5617",
         "rsyslog",
         "rsyslog",
         "3.17.4",
         "The ACL handling in rsyslog 3.12.1 to 3.20.0, 4.1.0, and 4.1.1 does not follow $AllowedSender directive, which allows remote attackers to bypass intended access restrictions and spoof log messages or create a large number of spurious messages.",
         "rsyslog",
         "to"
        ],
        [
         "412212",
         "CVE-2018-1000125",
         "inversoft",
         "prime-jwt",
         "1.2.1",
         "inversoft prime-jwt version prior to version 1.3.0 or prior to commit 0d94dcef0133d699f21d217e922564adbb83a227 contains an input validation vulnerability in JWTDecoder.decode that can result in a JWT that is decoded and thus implicitly validated even if it lacks a valid signature. This attack appear to be exploitable via an attacker crafting a token with a valid header and body and then requests it to be validated. This vulnerability appears to have been fixed in 1.3.0 and later or after commit 0d94dcef0133d699f21d217e922564adbb83a227.",
         "version",
         "or"
        ],
        [
         "254009",
         "CVE-2020-15241",
         "typo3",
         "typo3",
         "8.7.25",
         "TYPO3 Fluid Engine (package `typo3fluid/fluid`) before versions 2.0.5, 2.1.4, 2.2.1, 2.3.5, 2.4.1, 2.5.5 or 2.6.1 is vulnerable to cross-site scripting when making use of the ternary conditional operator in templates like `{showFullName ? fullName : defaultValue}`. Updated versions of this package are bundled in following TYPO3 (`typo3/cms-core`) versions as well: TYPO3 v8.7.25 (using `typo3fluid/fluid` v2.5.4) and TYPO3 v9.5.6 (using `typo3fluid/fluid` v2.6.1).",
         "versions",
         "or"
        ],
        [
         "56485",
         "CVE-2021-32671",
         "flarum",
         "flarum",
         "1.0.0",
         "Flarum is a forum software for building communities. Flarum's translation system allowed for string inputs to be converted into HTML DOM nodes when rendered. This change was made after v0.1.0-beta.16 (our last beta before v1.0.0) and was not noticed or documented. This allowed for any user to type malicious HTML markup within certain user input fields and have this execute on client browsers. The example which led to the discovery of this vulnerability was in the forum search box. Entering faux-malicious HTML markup, such as <script>alert('test')</script> resulted in an alert box appearing on the forum. This attack could also be modified to perform AJAX requests on behalf of a user, possibly deleting discussions, modifying their settings or profile, or even modifying settings on the Admin panel if the attack was targetted towards a privileged user. All Flarum communities that run flarum v1.0.0 or v1.0.1 are impacted. The vulnerability has been fixed and published as flarum/core v1.0.2. All communities running Flarum v1.0 have to upgrade as soon as possible to v1.0.2.",
         "",
         "or"
        ],
        [
         "94705",
         "CVE-2021-41256",
         "nextcloud",
         "news",
         "0.9.9.24",
         "nextcloud news-android is an Android client for the Nextcloud news/feed reader app. In affected versions the Nextcloud News for Android app has a security issue by which a malicious application installed on the same device can send it an arbitrary Intent that gets reflected back, unintentionally giving read and write access to non-exported Content Providers in Nextcloud News for Android. Users should upgrade to version 0.9.9.63 or higher as soon as possible.",
         "version",
         "or"
        ],
        [
         "653377",
         "CVE-2022-23974",
         "apache",
         "pinot",
         "0.9.2",
         "In 0.9.3 or older versions of Apache Pinot segment upload path allowed segment directories to be imported into pinot tables. In pinot installations that allow open access to the controller a specially crafted request can potentially be exploited to cause disruption in pinot service. Pinot release 0.10.0 fixes this. See https://docs.pinot.apache.org/basics/releases/0.10.0",
         "In",
         "or"
        ],
        [
         "212468",
         "CVE-2007-0246",
         "gforge",
         "gforge",
         "",
         "plugins/scmcvs/www/cvsweb.php in the CVSWeb CGI in GForge 4.5.16 before 20070524, aka gforge-plugin-scmcvs, allows remote attackers to execute arbitrary commands via shell metacharacters in the PATH_INFO.",
         "GForge",
         "before"
        ],
        [
         "454429",
         "CVE-2009-1252",
         "ntp",
         "ntp",
         "4.2.5p58",
         "Stack-based buffer overflow in the crypto_recv function in ntp_crypto.c in ntpd in NTP before 4.2.4p7 and 4.2.5 before 4.2.5p74, when OpenSSL and autokey are enabled, allows remote attackers to execute arbitrary code via a crafted packet containing an extension field.",
         "before",
         "before"
        ],
        [
         "154767",
         "CVE-2013-2272",
         "bitcoin",
         "bitcoind",
         "0.6.0.10",
         "The penny-flooding protection mechanism in the CTxMemPool::accept method in bitcoind and Bitcoin-Qt before 0.4.9rc1, 0.5.x before 0.5.8rc1, 0.6.0 before 0.6.0.11rc1, 0.6.1 through 0.6.5 before 0.6.5rc1, and 0.7.x before 0.7.3rc1 allows remote attackers to determine associations between wallet addresses and IP addresses via a series of large Bitcoin transactions with insufficient fees.",
         "before",
         "before"
        ],
        [
         "680514",
         "CVE-2013-3009",
         "ibm",
         "java",
         "5.0.13.0",
         "The com.ibm.CORBA.iiop.ClientDelegate class in IBM Java 1.4.2 before 1.4.2 SR13-FP18, 5.0 before 5.0 SR16-FP3, 6 before 6 SR14, 6.0.1 before 6.0.1 SR6, and 7 before 7 SR5 improperly exposes the invoke method of the java.lang.reflect.Method class, which allows remote attackers to call setSecurityManager and bypass a sandbox protection mechanism via vectors related to the AccessController doPrivileged block.",
         "Java",
         "before"
        ],
        [
         "576802",
         "CVE-2013-3735",
         "php",
         "php",
         "5.4.32",
         "The Zend Engine in PHP before 5.4.16 RC1, and 5.5.0 before RC2, does not properly determine whether a parser error occurred, which allows context-dependent attackers to cause a denial of service (memory consumption and application crash) via a crafted function definition, as demonstrated by an attack within a shared web-hosting environment.  NOTE: the vendor's http://php.net/security-note.php page says \"for critical security situations you should be using OS-level security by running multiple web servers each as their own user id.",
         "before",
         "before"
        ],
        [
         "446143",
         "CVE-2001-0973",
         "fraunhofer_fit",
         "bscw",
         "3.3.1",
         "BSCW groupware system 3.3 through 4.0.2 beta allows remote attackers to read or modify arbitrary files by uploading and extracting a tar file with a symlink into the data-bag space.",
         "system",
         "beta"
        ],
        [
         "119359",
         "CVE-2002-0326",
         "working_resources_inc.",
         "badblue",
         "1.5",
         "Cross-site scripting vulnerability in BadBlue before 1.6.1 beta allows remote attackers to execute arbitrary script and possibly additional commands via a URL that contains Javascript.",
         "before",
         "beta"
        ],
        [
         "488133",
         "CVE-2004-1822",
         "phorum",
         "phorum",
         "3.3.1a",
         "Multiple cross-site scripting (XSS) vulnerabilities in Phorum 3.1 through 5.0.3 beta allow remote attackers to inject arbitrary web script or HTML via the (1) HTTP_REFERER parameter to login.php, (2) HTTP_REFERER parameter to register.php, or (3) target parameter to profile.php.",
         "Phorum",
         "beta"
        ],
        [
         "155517",
         "CVE-2004-2149",
         "oracle",
         "mysql",
         "4.1.4",
         "Buffer overflow in the prepared statements API in libmysqlclient for MySQL 4.1.3 beta and 4.1.4 allows remote attackers to cause a denial of service via a large number of placeholders.",
         "MySQL",
         "beta"
        ],
        [
         "231476",
         "CVE-2004-2535",
         "matthew_phillips",
         "sticker",
         "",
         "The person-to-person secure messaging feature in Sticker before 3.1.0 beta 2 allows remote attackers to post messages to unauthorized private groups by using the group's public encryption key.",
         "before",
         "beta"
        ],
        [
         "624293",
         "CVE-2002-0814",
         "vmware",
         "gsx_server",
         "2.0.0_build_2050",
         "Buffer overflow in VMware Authorization Service for VMware GSX Server 2.0.0 build-2050 allows remote authenticated users to execute arbitrary code via a long GLOBAL argument.",
         "Server",
         "build"
        ],
        [
         "116845",
         "CVE-2004-0577",
         "qbik",
         "wingate",
         "6.0_beta_2",
         "WinGate 5.2.3 build 901 and 6.0 beta 2 build 942, and other versions such as 5.0.5, allows remote attackers to read arbitrary files from the root directory via a URL request to the wingate-internal directory.",
         "WinGate",
         "build"
        ],
        [
         "387813",
         "CVE-2004-1112",
         "cisco",
         "security_agent",
         "4.0.3",
         "The buffer overflow trigger in Cisco Security Agent (CSA) before 4.0.3 build 728 waits five minutes for a user response before terminating the process, which could allow remote attackers to bypass the buffer overflow protection by sending additional buffer overflow attacks within the five minute timeout period.",
         "before",
         "build"
        ],
        [
         "306041",
         "CVE-2004-2515",
         "vmware",
         "workstation",
         "4.5.2_build_8848",
         "Format string vulnerability in VMware Workstation 4.5.2 build-8848, if running with elevated privileges, might allow local users to execute arbitrary code via format string specifiers in command line arguments. NOTE: it is not clear if there are any default or typical circumstances under which VMware would be running with privileges beyond those already available to the attackers, so this might not be a vulnerability.",
         "Workstation",
         "build"
        ],
        [
         "526262",
         "CVE-2005-2939",
         "vmware",
         "workstation",
         "5.0.0_build_13124",
         "Unquoted Windows search path vulnerability in VMWare Workstation 5.0.0 build-13124 might allow local users to gain privileges via a malicious \"program.exe\" file in the C: folder.",
         "Workstation",
         "build"
        ]
       ],
       "shape": {
        "columns": 7,
        "rows": 35
       }
      },
      "text/html": [
       "<div>\n",
       "<style scoped>\n",
       "    .dataframe tbody tr th:only-of-type {\n",
       "        vertical-align: middle;\n",
       "    }\n",
       "\n",
       "    .dataframe tbody tr th {\n",
       "        vertical-align: top;\n",
       "    }\n",
       "\n",
       "    .dataframe thead th {\n",
       "        text-align: right;\n",
       "    }\n",
       "</style>\n",
       "<table border=\"1\" class=\"dataframe\">\n",
       "  <thead>\n",
       "    <tr style=\"text-align: right;\">\n",
       "      <th></th>\n",
       "      <th>cve_id</th>\n",
       "      <th>vendor</th>\n",
       "      <th>product</th>\n",
       "      <th>version</th>\n",
       "      <th>descr</th>\n",
       "      <th>matched_regex_before</th>\n",
       "      <th>matched_regex_after</th>\n",
       "    </tr>\n",
       "  </thead>\n",
       "  <tbody>\n",
       "    <tr>\n",
       "      <th>119349</th>\n",
       "      <td>CVE-1999-1483</td>\n",
       "      <td>svgalib</td>\n",
       "      <td>svgalib</td>\n",
       "      <td></td>\n",
       "      <td>Buffer overflow in zgv in svgalib 1.2.10 and earlier allows local users to execute arbitrary code via a long HOME environment variable.</td>\n",
       "      <td>svgalib</td>\n",
       "      <td>and</td>\n",
       "    </tr>\n",
       "    <tr>\n",
       "      <th>170729</th>\n",
       "      <td>CVE-2001-0556</td>\n",
       "      <td>nedit</td>\n",
       "      <td>nedit</td>\n",
       "      <td></td>\n",
       "      <td>The Nirvana Editor (NEdit) 5.1.1 and earlier allows a local attacker to overwrite other users' files via a symlink attack on (1) backup files or (2) temporary files used when nedit prints a file o...</td>\n",
       "      <td></td>\n",
       "      <td>and</td>\n",
       "    </tr>\n",
       "    <tr>\n",
       "      <th>567214</th>\n",
       "      <td>CVE-2001-0570</td>\n",
       "      <td>minicom</td>\n",
       "      <td>minicom</td>\n",
       "      <td></td>\n",
       "      <td>minicom 1.83.1 and earlier allows a local attacker to gain additional privileges via numerous format string attacks.</td>\n",
       "      <td>minicom</td>\n",
       "      <td>and</td>\n",
       "    </tr>\n",
       "    <tr>\n",
       "      <th>259505</th>\n",
       "      <td>CVE-2001-0700</td>\n",
       "      <td>w3m</td>\n",
       "      <td>w3m</td>\n",
       "      <td>0.1.8</td>\n",
       "      <td>Buffer overflow in w3m 0.2.1 and earlier allows a remote attacker to execute arbitrary code via a long base64 encoded MIME header.</td>\n",
       "      <td>m</td>\n",
       "      <td>and</td>\n",
       "    </tr>\n",
       "    <tr>\n",
       "      <th>595407</th>\n",
       "      <td>CVE-2001-0834</td>\n",
       "      <td>htdig</td>\n",
       "      <td>htdig</td>\n",
       "      <td></td>\n",
       "      <td>htsearch CGI program in htdig (ht://Dig) 3.1.5 and earlier allows remote attackers to use the -c option to specify an alternate configuration file, which could be used to (1) cause a denial of ser...</td>\n",
       "      <td></td>\n",
       "      <td>and</td>\n",
       "    </tr>\n",
       "    <tr>\n",
       "      <th>499787</th>\n",
       "      <td>CVE-2003-1462</td>\n",
       "      <td>mod_survey</td>\n",
       "      <td>mod_survey</td>\n",
       "      <td>3.0.7</td>\n",
       "      <td>mod_survey 3.0.0 through 3.0.15-pre6 does not check whether a survey exists before creating a subdirectory for it, which allows remote attackers to cause a denial of service (disk consumption and ...</td>\n",
       "      <td>survey</td>\n",
       "      <td>through</td>\n",
       "    </tr>\n",
       "    <tr>\n",
       "      <th>359080</th>\n",
       "      <td>CVE-2005-0686</td>\n",
       "      <td>mlterm</td>\n",
       "      <td>mlterm</td>\n",
       "      <td>2.7</td>\n",
       "      <td>Integer overflow in mlterm 2.5.0 through 2.9.1, with gdk-pixbuf support enabled, allows remote attackers to execute arbitrary code via a large image file that is used as a background.</td>\n",
       "      <td>mlterm</td>\n",
       "      <td>through</td>\n",
       "    </tr>\n",
       "    <tr>\n",
       "      <th>236251</th>\n",
       "      <td>CVE-2005-1692</td>\n",
       "      <td>xine</td>\n",
       "      <td>gxine</td>\n",
       "      <td>0.44</td>\n",
       "      <td>Format string vulnerability in gxine 0.4.1 through 0.4.4, and other versions down to 0.3, allows remote attackers to execute arbitrary code via a ram file with a URL whose hostname contains format...</td>\n",
       "      <td>gxine</td>\n",
       "      <td>through</td>\n",
       "    </tr>\n",
       "    <tr>\n",
       "      <th>380589</th>\n",
       "      <td>CVE-2005-3345</td>\n",
       "      <td>rssh</td>\n",
       "      <td>rssh</td>\n",
       "      <td>2.2.3</td>\n",
       "      <td>rssh 2.0.0 through 2.2.3 allows local users to bypass access restrictions and gain root privileges by using the rssh_chroot_helper command to chroot to an external directory.</td>\n",
       "      <td>rssh</td>\n",
       "      <td>through</td>\n",
       "    </tr>\n",
       "    <tr>\n",
       "      <th>240356</th>\n",
       "      <td>CVE-2006-4244</td>\n",
       "      <td>sql-ledger</td>\n",
       "      <td>sql-ledger</td>\n",
       "      <td>2.8.14</td>\n",
       "      <td>SQL-Ledger 2.4.4 through 2.6.17 authenticates users by verifying that the value of the sql-ledger-[username] cookie matches the value of the sessionid parameter, which allows remote attackers to g...</td>\n",
       "      <td>Ledger</td>\n",
       "      <td>through</td>\n",
       "    </tr>\n",
       "    <tr>\n",
       "      <th>392843</th>\n",
       "      <td>CVE-2004-1951</td>\n",
       "      <td>xine</td>\n",
       "      <td>xine-ui</td>\n",
       "      <td>0.9.23</td>\n",
       "      <td>xine 1.x alpha, 1.x beta, and 1.0rc through 1.0rc3a, and xine-ui 0.9.21 to 0.9.23 allows remote attackers to overwrite arbitrary files via the (1) audio.sun_audio_device or (2) dxr3.devicename opt...</td>\n",
       "      <td>and</td>\n",
       "      <td>to</td>\n",
       "    </tr>\n",
       "    <tr>\n",
       "      <th>349748</th>\n",
       "      <td>CVE-2005-1453</td>\n",
       "      <td>leafnode</td>\n",
       "      <td>leafnode</td>\n",
       "      <td>1.9.52</td>\n",
       "      <td>fetchnews in leafnode 1.9.48 to 1.11.1 allows remote NNTP servers to cause a denial of service (crash) by closing the connection while fetchnews is reading (1) an article header or (2) an article ...</td>\n",
       "      <td>leafnode</td>\n",
       "      <td>to</td>\n",
       "    </tr>\n",
       "    <tr>\n",
       "      <th>311229</th>\n",
       "      <td>CVE-2007-0157</td>\n",
       "      <td>neon</td>\n",
       "      <td>neon</td>\n",
       "      <td>0.26.2</td>\n",
       "      <td>Array index error in the uri_lookup function in the URI parser for neon 0.26.0 to 0.26.2, possibly only on 64-bit platforms, allows remote malicious servers to cause a denial of service (crash) vi...</td>\n",
       "      <td>neon</td>\n",
       "      <td>to</td>\n",
       "    </tr>\n",
       "    <tr>\n",
       "      <th>458829</th>\n",
       "      <td>CVE-2007-1287</td>\n",
       "      <td>php</td>\n",
       "      <td>php</td>\n",
       "      <td>6.0</td>\n",
       "      <td>A regression error in the phpinfo function in PHP 4.4.3 to 4.4.6, and PHP 6.0 in CVS, allows remote attackers to conduct cross-site scripting (XSS) attacks via GET, POST, or COOKIE array values, w...</td>\n",
       "      <td>PHP</td>\n",
       "      <td>to</td>\n",
       "    </tr>\n",
       "    <tr>\n",
       "      <th>386325</th>\n",
       "      <td>CVE-2008-5617</td>\n",
       "      <td>rsyslog</td>\n",
       "      <td>rsyslog</td>\n",
       "      <td>3.17.4</td>\n",
       "      <td>The ACL handling in rsyslog 3.12.1 to 3.20.0, 4.1.0, and 4.1.1 does not follow $AllowedSender directive, which allows remote attackers to bypass intended access restrictions and spoof log messages...</td>\n",
       "      <td>rsyslog</td>\n",
       "      <td>to</td>\n",
       "    </tr>\n",
       "    <tr>\n",
       "      <th>412212</th>\n",
       "      <td>CVE-2018-1000125</td>\n",
       "      <td>inversoft</td>\n",
       "      <td>prime-jwt</td>\n",
       "      <td>1.2.1</td>\n",
       "      <td>inversoft prime-jwt version prior to version 1.3.0 or prior to commit 0d94dcef0133d699f21d217e922564adbb83a227 contains an input validation vulnerability in JWTDecoder.decode that can result in a ...</td>\n",
       "      <td>version</td>\n",
       "      <td>or</td>\n",
       "    </tr>\n",
       "    <tr>\n",
       "      <th>254009</th>\n",
       "      <td>CVE-2020-15241</td>\n",
       "      <td>typo3</td>\n",
       "      <td>typo3</td>\n",
       "      <td>8.7.25</td>\n",
       "      <td>TYPO3 Fluid Engine (package `typo3fluid/fluid`) before versions 2.0.5, 2.1.4, 2.2.1, 2.3.5, 2.4.1, 2.5.5 or 2.6.1 is vulnerable to cross-site scripting when making use of the ternary conditional o...</td>\n",
       "      <td>versions</td>\n",
       "      <td>or</td>\n",
       "    </tr>\n",
       "    <tr>\n",
       "      <th>56485</th>\n",
       "      <td>CVE-2021-32671</td>\n",
       "      <td>flarum</td>\n",
       "      <td>flarum</td>\n",
       "      <td>1.0.0</td>\n",
       "      <td>Flarum is a forum software for building communities. Flarum's translation system allowed for string inputs to be converted into HTML DOM nodes when rendered. This change was made after v0.1.0-beta...</td>\n",
       "      <td></td>\n",
       "      <td>or</td>\n",
       "    </tr>\n",
       "    <tr>\n",
       "      <th>94705</th>\n",
       "      <td>CVE-2021-41256</td>\n",
       "      <td>nextcloud</td>\n",
       "      <td>news</td>\n",
       "      <td>0.9.9.24</td>\n",
       "      <td>nextcloud news-android is an Android client for the Nextcloud news/feed reader app. In affected versions the Nextcloud News for Android app has a security issue by which a malicious application in...</td>\n",
       "      <td>version</td>\n",
       "      <td>or</td>\n",
       "    </tr>\n",
       "    <tr>\n",
       "      <th>653377</th>\n",
       "      <td>CVE-2022-23974</td>\n",
       "      <td>apache</td>\n",
       "      <td>pinot</td>\n",
       "      <td>0.9.2</td>\n",
       "      <td>In 0.9.3 or older versions of Apache Pinot segment upload path allowed segment directories to be imported into pinot tables. In pinot installations that allow open access to the controller a speci...</td>\n",
       "      <td>In</td>\n",
       "      <td>or</td>\n",
       "    </tr>\n",
       "    <tr>\n",
       "      <th>212468</th>\n",
       "      <td>CVE-2007-0246</td>\n",
       "      <td>gforge</td>\n",
       "      <td>gforge</td>\n",
       "      <td></td>\n",
       "      <td>plugins/scmcvs/www/cvsweb.php in the CVSWeb CGI in GForge 4.5.16 before 20070524, aka gforge-plugin-scmcvs, allows remote attackers to execute arbitrary commands via shell metacharacters in the PA...</td>\n",
       "      <td>GForge</td>\n",
       "      <td>before</td>\n",
       "    </tr>\n",
       "    <tr>\n",
       "      <th>454429</th>\n",
       "      <td>CVE-2009-1252</td>\n",
       "      <td>ntp</td>\n",
       "      <td>ntp</td>\n",
       "      <td>4.2.5p58</td>\n",
       "      <td>Stack-based buffer overflow in the crypto_recv function in ntp_crypto.c in ntpd in NTP before 4.2.4p7 and 4.2.5 before 4.2.5p74, when OpenSSL and autokey are enabled, allows remote attackers to ex...</td>\n",
       "      <td>before</td>\n",
       "      <td>before</td>\n",
       "    </tr>\n",
       "    <tr>\n",
       "      <th>154767</th>\n",
       "      <td>CVE-2013-2272</td>\n",
       "      <td>bitcoin</td>\n",
       "      <td>bitcoind</td>\n",
       "      <td>0.6.0.10</td>\n",
       "      <td>The penny-flooding protection mechanism in the CTxMemPool::accept method in bitcoind and Bitcoin-Qt before 0.4.9rc1, 0.5.x before 0.5.8rc1, 0.6.0 before 0.6.0.11rc1, 0.6.1 through 0.6.5 before 0.6...</td>\n",
       "      <td>before</td>\n",
       "      <td>before</td>\n",
       "    </tr>\n",
       "    <tr>\n",
       "      <th>680514</th>\n",
       "      <td>CVE-2013-3009</td>\n",
       "      <td>ibm</td>\n",
       "      <td>java</td>\n",
       "      <td>5.0.13.0</td>\n",
       "      <td>The com.ibm.CORBA.iiop.ClientDelegate class in IBM Java 1.4.2 before 1.4.2 SR13-FP18, 5.0 before 5.0 SR16-FP3, 6 before 6 SR14, 6.0.1 before 6.0.1 SR6, and 7 before 7 SR5 improperly exposes the in...</td>\n",
       "      <td>Java</td>\n",
       "      <td>before</td>\n",
       "    </tr>\n",
       "    <tr>\n",
       "      <th>576802</th>\n",
       "      <td>CVE-2013-3735</td>\n",
       "      <td>php</td>\n",
       "      <td>php</td>\n",
       "      <td>5.4.32</td>\n",
       "      <td>The Zend Engine in PHP before 5.4.16 RC1, and 5.5.0 before RC2, does not properly determine whether a parser error occurred, which allows context-dependent attackers to cause a denial of service (...</td>\n",
       "      <td>before</td>\n",
       "      <td>before</td>\n",
       "    </tr>\n",
       "    <tr>\n",
       "      <th>446143</th>\n",
       "      <td>CVE-2001-0973</td>\n",
       "      <td>fraunhofer_fit</td>\n",
       "      <td>bscw</td>\n",
       "      <td>3.3.1</td>\n",
       "      <td>BSCW groupware system 3.3 through 4.0.2 beta allows remote attackers to read or modify arbitrary files by uploading and extracting a tar file with a symlink into the data-bag space.</td>\n",
       "      <td>system</td>\n",
       "      <td>beta</td>\n",
       "    </tr>\n",
       "    <tr>\n",
       "      <th>119359</th>\n",
       "      <td>CVE-2002-0326</td>\n",
       "      <td>working_resources_inc.</td>\n",
       "      <td>badblue</td>\n",
       "      <td>1.5</td>\n",
       "      <td>Cross-site scripting vulnerability in BadBlue before 1.6.1 beta allows remote attackers to execute arbitrary script and possibly additional commands via a URL that contains Javascript.</td>\n",
       "      <td>before</td>\n",
       "      <td>beta</td>\n",
       "    </tr>\n",
       "    <tr>\n",
       "      <th>488133</th>\n",
       "      <td>CVE-2004-1822</td>\n",
       "      <td>phorum</td>\n",
       "      <td>phorum</td>\n",
       "      <td>3.3.1a</td>\n",
       "      <td>Multiple cross-site scripting (XSS) vulnerabilities in Phorum 3.1 through 5.0.3 beta allow remote attackers to inject arbitrary web script or HTML via the (1) HTTP_REFERER parameter to login.php, ...</td>\n",
       "      <td>Phorum</td>\n",
       "      <td>beta</td>\n",
       "    </tr>\n",
       "    <tr>\n",
       "      <th>155517</th>\n",
       "      <td>CVE-2004-2149</td>\n",
       "      <td>oracle</td>\n",
       "      <td>mysql</td>\n",
       "      <td>4.1.4</td>\n",
       "      <td>Buffer overflow in the prepared statements API in libmysqlclient for MySQL 4.1.3 beta and 4.1.4 allows remote attackers to cause a denial of service via a large number of placeholders.</td>\n",
       "      <td>MySQL</td>\n",
       "      <td>beta</td>\n",
       "    </tr>\n",
       "    <tr>\n",
       "      <th>231476</th>\n",
       "      <td>CVE-2004-2535</td>\n",
       "      <td>matthew_phillips</td>\n",
       "      <td>sticker</td>\n",
       "      <td></td>\n",
       "      <td>The person-to-person secure messaging feature in Sticker before 3.1.0 beta 2 allows remote attackers to post messages to unauthorized private groups by using the group's public encryption key.</td>\n",
       "      <td>before</td>\n",
       "      <td>beta</td>\n",
       "    </tr>\n",
       "    <tr>\n",
       "      <th>624293</th>\n",
       "      <td>CVE-2002-0814</td>\n",
       "      <td>vmware</td>\n",
       "      <td>gsx_server</td>\n",
       "      <td>2.0.0_build_2050</td>\n",
       "      <td>Buffer overflow in VMware Authorization Service for VMware GSX Server 2.0.0 build-2050 allows remote authenticated users to execute arbitrary code via a long GLOBAL argument.</td>\n",
       "      <td>Server</td>\n",
       "      <td>build</td>\n",
       "    </tr>\n",
       "    <tr>\n",
       "      <th>116845</th>\n",
       "      <td>CVE-2004-0577</td>\n",
       "      <td>qbik</td>\n",
       "      <td>wingate</td>\n",
       "      <td>6.0_beta_2</td>\n",
       "      <td>WinGate 5.2.3 build 901 and 6.0 beta 2 build 942, and other versions such as 5.0.5, allows remote attackers to read arbitrary files from the root directory via a URL request to the wingate-interna...</td>\n",
       "      <td>WinGate</td>\n",
       "      <td>build</td>\n",
       "    </tr>\n",
       "    <tr>\n",
       "      <th>387813</th>\n",
       "      <td>CVE-2004-1112</td>\n",
       "      <td>cisco</td>\n",
       "      <td>security_agent</td>\n",
       "      <td>4.0.3</td>\n",
       "      <td>The buffer overflow trigger in Cisco Security Agent (CSA) before 4.0.3 build 728 waits five minutes for a user response before terminating the process, which could allow remote attackers to bypass...</td>\n",
       "      <td>before</td>\n",
       "      <td>build</td>\n",
       "    </tr>\n",
       "    <tr>\n",
       "      <th>306041</th>\n",
       "      <td>CVE-2004-2515</td>\n",
       "      <td>vmware</td>\n",
       "      <td>workstation</td>\n",
       "      <td>4.5.2_build_8848</td>\n",
       "      <td>Format string vulnerability in VMware Workstation 4.5.2 build-8848, if running with elevated privileges, might allow local users to execute arbitrary code via format string specifiers in command l...</td>\n",
       "      <td>Workstation</td>\n",
       "      <td>build</td>\n",
       "    </tr>\n",
       "    <tr>\n",
       "      <th>526262</th>\n",
       "      <td>CVE-2005-2939</td>\n",
       "      <td>vmware</td>\n",
       "      <td>workstation</td>\n",
       "      <td>5.0.0_build_13124</td>\n",
       "      <td>Unquoted Windows search path vulnerability in VMWare Workstation 5.0.0 build-13124 might allow local users to gain privileges via a malicious \"program.exe\" file in the C: folder.</td>\n",
       "      <td>Workstation</td>\n",
       "      <td>build</td>\n",
       "    </tr>\n",
       "  </tbody>\n",
       "</table>\n",
       "</div>"
      ],
      "text/plain": [
       "                  cve_id                  vendor         product            version                                                                                                                                                                                                    descr matched_regex_before matched_regex_after\n",
       "119349     CVE-1999-1483                 svgalib         svgalib                                                                                     Buffer overflow in zgv in svgalib 1.2.10 and earlier allows local users to execute arbitrary code via a long HOME environment variable.              svgalib                 and\n",
       "170729     CVE-2001-0556                   nedit           nedit                     The Nirvana Editor (NEdit) 5.1.1 and earlier allows a local attacker to overwrite other users' files via a symlink attack on (1) backup files or (2) temporary files used when nedit prints a file o...                                      and\n",
       "567214     CVE-2001-0570                 minicom         minicom                                                                                                        minicom 1.83.1 and earlier allows a local attacker to gain additional privileges via numerous format string attacks.              minicom                 and\n",
       "259505     CVE-2001-0700                     w3m             w3m              0.1.8                                                                       Buffer overflow in w3m 0.2.1 and earlier allows a remote attacker to execute arbitrary code via a long base64 encoded MIME header.                    m                 and\n",
       "595407     CVE-2001-0834                   htdig           htdig                     htsearch CGI program in htdig (ht://Dig) 3.1.5 and earlier allows remote attackers to use the -c option to specify an alternate configuration file, which could be used to (1) cause a denial of ser...                                      and\n",
       "499787     CVE-2003-1462              mod_survey      mod_survey              3.0.7  mod_survey 3.0.0 through 3.0.15-pre6 does not check whether a survey exists before creating a subdirectory for it, which allows remote attackers to cause a denial of service (disk consumption and ...               survey             through\n",
       "359080     CVE-2005-0686                  mlterm          mlterm                2.7                  Integer overflow in mlterm 2.5.0 through 2.9.1, with gdk-pixbuf support enabled, allows remote attackers to execute arbitrary code via a large image file that is used as a background.               mlterm             through\n",
       "236251     CVE-2005-1692                    xine           gxine               0.44  Format string vulnerability in gxine 0.4.1 through 0.4.4, and other versions down to 0.3, allows remote attackers to execute arbitrary code via a ram file with a URL whose hostname contains format...                gxine             through\n",
       "380589     CVE-2005-3345                    rssh            rssh              2.2.3                           rssh 2.0.0 through 2.2.3 allows local users to bypass access restrictions and gain root privileges by using the rssh_chroot_helper command to chroot to an external directory.                 rssh             through\n",
       "240356     CVE-2006-4244              sql-ledger      sql-ledger             2.8.14  SQL-Ledger 2.4.4 through 2.6.17 authenticates users by verifying that the value of the sql-ledger-[username] cookie matches the value of the sessionid parameter, which allows remote attackers to g...               Ledger             through\n",
       "392843     CVE-2004-1951                    xine         xine-ui             0.9.23  xine 1.x alpha, 1.x beta, and 1.0rc through 1.0rc3a, and xine-ui 0.9.21 to 0.9.23 allows remote attackers to overwrite arbitrary files via the (1) audio.sun_audio_device or (2) dxr3.devicename opt...                  and                  to\n",
       "349748     CVE-2005-1453                leafnode        leafnode             1.9.52  fetchnews in leafnode 1.9.48 to 1.11.1 allows remote NNTP servers to cause a denial of service (crash) by closing the connection while fetchnews is reading (1) an article header or (2) an article ...             leafnode                  to\n",
       "311229     CVE-2007-0157                    neon            neon             0.26.2  Array index error in the uri_lookup function in the URI parser for neon 0.26.0 to 0.26.2, possibly only on 64-bit platforms, allows remote malicious servers to cause a denial of service (crash) vi...                 neon                  to\n",
       "458829     CVE-2007-1287                     php             php                6.0  A regression error in the phpinfo function in PHP 4.4.3 to 4.4.6, and PHP 6.0 in CVS, allows remote attackers to conduct cross-site scripting (XSS) attacks via GET, POST, or COOKIE array values, w...                  PHP                  to\n",
       "386325     CVE-2008-5617                 rsyslog         rsyslog             3.17.4  The ACL handling in rsyslog 3.12.1 to 3.20.0, 4.1.0, and 4.1.1 does not follow $AllowedSender directive, which allows remote attackers to bypass intended access restrictions and spoof log messages...              rsyslog                  to\n",
       "412212  CVE-2018-1000125               inversoft       prime-jwt              1.2.1  inversoft prime-jwt version prior to version 1.3.0 or prior to commit 0d94dcef0133d699f21d217e922564adbb83a227 contains an input validation vulnerability in JWTDecoder.decode that can result in a ...              version                  or\n",
       "254009    CVE-2020-15241                   typo3           typo3             8.7.25  TYPO3 Fluid Engine (package `typo3fluid/fluid`) before versions 2.0.5, 2.1.4, 2.2.1, 2.3.5, 2.4.1, 2.5.5 or 2.6.1 is vulnerable to cross-site scripting when making use of the ternary conditional o...             versions                  or\n",
       "56485     CVE-2021-32671                  flarum          flarum              1.0.0  Flarum is a forum software for building communities. Flarum's translation system allowed for string inputs to be converted into HTML DOM nodes when rendered. This change was made after v0.1.0-beta...                                       or\n",
       "94705     CVE-2021-41256               nextcloud            news           0.9.9.24  nextcloud news-android is an Android client for the Nextcloud news/feed reader app. In affected versions the Nextcloud News for Android app has a security issue by which a malicious application in...              version                  or\n",
       "653377    CVE-2022-23974                  apache           pinot              0.9.2  In 0.9.3 or older versions of Apache Pinot segment upload path allowed segment directories to be imported into pinot tables. In pinot installations that allow open access to the controller a speci...                   In                  or\n",
       "212468     CVE-2007-0246                  gforge          gforge                     plugins/scmcvs/www/cvsweb.php in the CVSWeb CGI in GForge 4.5.16 before 20070524, aka gforge-plugin-scmcvs, allows remote attackers to execute arbitrary commands via shell metacharacters in the PA...               GForge              before\n",
       "454429     CVE-2009-1252                     ntp             ntp           4.2.5p58  Stack-based buffer overflow in the crypto_recv function in ntp_crypto.c in ntpd in NTP before 4.2.4p7 and 4.2.5 before 4.2.5p74, when OpenSSL and autokey are enabled, allows remote attackers to ex...               before              before\n",
       "154767     CVE-2013-2272                 bitcoin        bitcoind           0.6.0.10  The penny-flooding protection mechanism in the CTxMemPool::accept method in bitcoind and Bitcoin-Qt before 0.4.9rc1, 0.5.x before 0.5.8rc1, 0.6.0 before 0.6.0.11rc1, 0.6.1 through 0.6.5 before 0.6...               before              before\n",
       "680514     CVE-2013-3009                     ibm            java           5.0.13.0  The com.ibm.CORBA.iiop.ClientDelegate class in IBM Java 1.4.2 before 1.4.2 SR13-FP18, 5.0 before 5.0 SR16-FP3, 6 before 6 SR14, 6.0.1 before 6.0.1 SR6, and 7 before 7 SR5 improperly exposes the in...                 Java              before\n",
       "576802     CVE-2013-3735                     php             php             5.4.32  The Zend Engine in PHP before 5.4.16 RC1, and 5.5.0 before RC2, does not properly determine whether a parser error occurred, which allows context-dependent attackers to cause a denial of service (...               before              before\n",
       "446143     CVE-2001-0973          fraunhofer_fit            bscw              3.3.1                    BSCW groupware system 3.3 through 4.0.2 beta allows remote attackers to read or modify arbitrary files by uploading and extracting a tar file with a symlink into the data-bag space.               system                beta\n",
       "119359     CVE-2002-0326  working_resources_inc.         badblue                1.5                 Cross-site scripting vulnerability in BadBlue before 1.6.1 beta allows remote attackers to execute arbitrary script and possibly additional commands via a URL that contains Javascript.               before                beta\n",
       "488133     CVE-2004-1822                  phorum          phorum             3.3.1a  Multiple cross-site scripting (XSS) vulnerabilities in Phorum 3.1 through 5.0.3 beta allow remote attackers to inject arbitrary web script or HTML via the (1) HTTP_REFERER parameter to login.php, ...               Phorum                beta\n",
       "155517     CVE-2004-2149                  oracle           mysql              4.1.4                 Buffer overflow in the prepared statements API in libmysqlclient for MySQL 4.1.3 beta and 4.1.4 allows remote attackers to cause a denial of service via a large number of placeholders.                MySQL                beta\n",
       "231476     CVE-2004-2535        matthew_phillips         sticker                            The person-to-person secure messaging feature in Sticker before 3.1.0 beta 2 allows remote attackers to post messages to unauthorized private groups by using the group's public encryption key.               before                beta\n",
       "624293     CVE-2002-0814                  vmware      gsx_server   2.0.0_build_2050                           Buffer overflow in VMware Authorization Service for VMware GSX Server 2.0.0 build-2050 allows remote authenticated users to execute arbitrary code via a long GLOBAL argument.               Server               build\n",
       "116845     CVE-2004-0577                    qbik         wingate         6.0_beta_2  WinGate 5.2.3 build 901 and 6.0 beta 2 build 942, and other versions such as 5.0.5, allows remote attackers to read arbitrary files from the root directory via a URL request to the wingate-interna...              WinGate               build\n",
       "387813     CVE-2004-1112                   cisco  security_agent              4.0.3  The buffer overflow trigger in Cisco Security Agent (CSA) before 4.0.3 build 728 waits five minutes for a user response before terminating the process, which could allow remote attackers to bypass...               before               build\n",
       "306041     CVE-2004-2515                  vmware     workstation   4.5.2_build_8848  Format string vulnerability in VMware Workstation 4.5.2 build-8848, if running with elevated privileges, might allow local users to execute arbitrary code via format string specifiers in command l...          Workstation               build\n",
       "526262     CVE-2005-2939                  vmware     workstation  5.0.0_build_13124                       Unquoted Windows search path vulnerability in VMWare Workstation 5.0.0 build-13124 might allow local users to gain privileges via a malicious \"program.exe\" file in the C: folder.          Workstation               build"
      ]
     },
     "execution_count": 158,
     "metadata": {},
     "output_type": "execute_result"
    }
   ],
   "source": [
    "df_new_words_after"
   ]
  },
  {
   "cell_type": "code",
   "execution_count": 159,
   "metadata": {},
   "outputs": [],
   "source": [
    "df_new_words_after.to_csv('df_new_words_after.csv', index=False)"
   ]
  },
  {
   "cell_type": "code",
   "execution_count": 160,
   "metadata": {},
   "outputs": [],
   "source": [
    "all_cves = []\n",
    "all_tokens = []\n",
    "all_bio = []\n",
    "for i, row in df_new_words_after.iterrows():\n",
    "    cves = []\n",
    "    bio_ann = []\n",
    "    spl_tokens = [x for x in re.split(' |\\\\n', row['descr']) if x]\n",
    "    tokens = []\n",
    "    # print(spl_tokens)\n",
    "    for tok in spl_tokens:\n",
    "        if tok.endswith('.'):\n",
    "            tokens.append(tok.rstrip('.'))\n",
    "            tokens.append('.')\n",
    "        elif tok.endswith(','):\n",
    "            tokens.append(tok.rstrip(','))\n",
    "            tokens.append(',')\n",
    "        else:\n",
    "            tokens.append(tok)\n",
    "    # print(tokens)\n",
    "    for tok_i in range(len(tokens)):\n",
    "        if tokens[tok_i] == row['vendor']:\n",
    "            bio_ann.append('B-vendor')\n",
    "        elif tokens[tok_i] == row['product']:\n",
    "            bio_ann.append('B-product')\n",
    "        elif tokens[tok_i] == row['matched_regex_after']:\n",
    "            bio_ann.append('B-version')\n",
    "        else:\n",
    "            bio_ann.append('O')\n",
    "        if tok_i == 0:\n",
    "            cves.append(row['cve_id'])\n",
    "        else:\n",
    "            cves.append('0')\n",
    "    assert len(bio_ann) == len(tokens)\n",
    "    all_bio.extend(bio_ann)\n",
    "    all_tokens.extend(tokens)\n",
    "    all_cves.extend(cves)"
   ]
  },
  {
   "cell_type": "code",
   "execution_count": null,
   "metadata": {},
   "outputs": [],
   "source": [
    "df_after_annotated = pd.DataFrame(data={'cve_id': all_cves,\n",
    "                                         'words': all_tokens,\n",
    "                                         'custom_bio': all_bio})\n",
    "df_after_annotated.to_csv(f'./cve_dataset_bio_{len(df_after_annotated)}_after_versions.tsv', index=False, sep='\\t')"
   ]
  },
  {
   "cell_type": "code",
   "execution_count": null,
   "metadata": {},
   "outputs": [],
   "source": []
  },
  {
   "cell_type": "code",
   "execution_count": null,
   "metadata": {},
   "outputs": [],
   "source": []
  },
  {
   "cell_type": "code",
   "execution_count": 164,
   "metadata": {},
   "outputs": [
    {
     "data": {
      "text/plain": [
       "Series([], Name: descr, dtype: object)"
      ]
     },
     "execution_count": 164,
     "metadata": {},
     "output_type": "execute_result"
    }
   ],
   "source": [
    "df[df.product == df.vendor].descr"
   ]
  },
  {
   "cell_type": "code",
   "execution_count": 167,
   "metadata": {},
   "outputs": [
    {
     "data": {
      "application/vnd.microsoft.datawrangler.viewer.v0+json": {
       "columns": [
        {
         "name": "index",
         "rawType": "int64",
         "type": "integer"
        },
        {
         "name": "cve_id",
         "rawType": "object",
         "type": "string"
        },
        {
         "name": "vendor",
         "rawType": "object",
         "type": "string"
        },
        {
         "name": "product",
         "rawType": "object",
         "type": "string"
        },
        {
         "name": "version",
         "rawType": "object",
         "type": "string"
        },
        {
         "name": "descr",
         "rawType": "object",
         "type": "string"
        },
        {
         "name": "matched_regex_before",
         "rawType": "object",
         "type": "string"
        },
        {
         "name": "matched_regex_after",
         "rawType": "object",
         "type": "string"
        }
       ],
       "conversionMethod": "pd.DataFrame",
       "ref": "a92be8ef-41bd-47bc-9050-b49cff062c6d",
       "rows": [
        [
         "0",
         "CVE-2004-0013",
         "jabber_software_foundation",
         "jabber_server",
         "1.4.3",
         "jabber 1.4.2, 1.4.2a, and possibly earlier versions, does not properly handle SSL connections, which allows remote attackers to cause a denial of service (crash).",
         "jabber",
         ""
        ],
        [
         "1",
         "CVE-2004-0043",
         "yahoo",
         "messenger",
         "5.6.0.1351",
         "Buffer overflow in Yahoo Instant Messenger 5.6.0.1351 and earlier allows remote attackers to cause a denial of service (crash) and possibly execute arbitrary code via a long filename in the download feature.",
         "Messenger",
         "and"
        ],
        [
         "2",
         "CVE-2004-0043",
         "yahoo",
         "messenger",
         "5.6.0.1358",
         "Buffer overflow in Yahoo Instant Messenger 5.6.0.1351 and earlier allows remote attackers to cause a denial of service (crash) and possibly execute arbitrary code via a long filename in the download feature.",
         "Messenger",
         "and"
        ],
        [
         "3",
         "CVE-2004-0159",
         "samhain_labs",
         "hsftp",
         "1.4",
         "Format string vulnerability in hsftp 1.11 allows remote authenticated users to cause a denial of service and possibly execute arbitrary code via file names containing format string characters that are not properly handled when executing an \"ls\" command.",
         "hsftp",
         ""
        ],
        [
         "4",
         "CVE-2004-0159",
         "samhain_labs",
         "hsftp",
         "1.11",
         "Format string vulnerability in hsftp 1.11 allows remote authenticated users to cause a denial of service and possibly execute arbitrary code via file names containing format string characters that are not properly handled when executing an \"ls\" command.",
         "hsftp",
         ""
        ],
        [
         "5",
         "CVE-2004-0352",
         "cisco",
         "content_services_switch_11000",
         "-",
         "Cisco 11000 Series Content Services Switches (CSS) running WebNS 5.0(x) before 05.0(04.07)S, and 6.10(x) before 06.10(02.05)S allow remote attackers to cause a denial of service (device reset) via a malformed packet to UDP port 5002.",
         "WebNS",
         ""
        ],
        [
         "6",
         "CVE-2004-0465",
         "openconnect",
         "webconnect",
         "6.4.4",
         "Directory traversal vulnerability in jretest.html in WebConnect 6.5 and 6.4.4, and possibly earlier versions, allows remote attackers to read keys within arbitrary INI formatted files via \"..//\" sequences in the WCP_USER parameter.",
         "WebConnect",
         ""
        ],
        [
         "7",
         "CVE-2004-0658",
         "linux",
         "linux_kernel",
         "2.5.51",
         "Integer overflow in the hpsb_alloc_packet function (incorrectly reported as alloc_hpsb_packet) in IEEE 1394 (Firewire) driver 2.4 and 2.6 allows local users to cause a denial of service (crash) and possibly execute arbitrary code via the functions (1) raw1394_write, (2) state_connected, (3) handle_remote_request, or (4) hpsb_make_writebpacket.",
         "driver",
         ""
        ],
        [
         "8",
         "CVE-2004-0658",
         "linux",
         "linux_kernel",
         "2.5.24",
         "Integer overflow in the hpsb_alloc_packet function (incorrectly reported as alloc_hpsb_packet) in IEEE 1394 (Firewire) driver 2.4 and 2.6 allows local users to cause a denial of service (crash) and possibly execute arbitrary code via the functions (1) raw1394_write, (2) state_connected, (3) handle_remote_request, or (4) hpsb_make_writebpacket.",
         "driver",
         ""
        ],
        [
         "9",
         "CVE-2004-0658",
         "linux",
         "linux_kernel",
         "2.5.46",
         "Integer overflow in the hpsb_alloc_packet function (incorrectly reported as alloc_hpsb_packet) in IEEE 1394 (Firewire) driver 2.4 and 2.6 allows local users to cause a denial of service (crash) and possibly execute arbitrary code via the functions (1) raw1394_write, (2) state_connected, (3) handle_remote_request, or (4) hpsb_make_writebpacket.",
         "driver",
         ""
        ],
        [
         "10",
         "CVE-2004-0731",
         "francisco_burzi",
         "php-nuke",
         "8.0_final",
         "Cross-site scripting (XSS) vulnerability in index.php in the Search module for Php-Nuke allows remote attackers to inject arbitrary script as other users via the input field.",
         "",
         ""
        ],
        [
         "11",
         "CVE-2004-0749",
         "subversion",
         "subversion",
         "1.0.5",
         "The mod_authz_svn module in Subversion 1.0.7 and earlier does not properly restrict access to all metadata on unreadable paths, which could allow remote attackers to gain sensitive information via (1) svn log -v, (2) svn propget, or (3) svn blame, and other commands that follow renames.",
         "Subversion",
         "and"
        ],
        [
         "12",
         "CVE-2004-0815",
         "samba",
         "samba",
         "2.2.4",
         "The unix_clean_name function in Samba 2.2.x through 2.2.11, and 3.0.x before 3.0.2a, trims certain directory names down to absolute paths, which could allow remote attackers to bypass the specified share restrictions and read, write, or list arbitrary files via \"/.////\" style sequences in pathnames.",
         "Samba",
         ""
        ],
        [
         "13",
         "CVE-2004-1051",
         "todd_miller",
         "sudo",
         "1.6.3_p2",
         "sudo before 1.6.8p2 allows local users to execute arbitrary commands by using \"()\" style environment variables to create functions that have the same name as any program within the bash script that is called without using the program's full pathname.",
         "before",
         ""
        ],
        [
         "14",
         "CVE-2004-1225",
         "sugarcrm",
         "sugarcrm",
         "1.1a",
         "SQL injection vulnerability in SugarCRM Sugar Sales before 2.0.1a allows remote attackers to execute arbitrary SQL commands and gain privileges via the record parameter in a DetailView action to index.php, and record parameters in other functionality.",
         "before",
         ""
        ],
        [
         "15",
         "CVE-2004-1225",
         "sugarcrm",
         "sugarcrm",
         "1.1f",
         "SQL injection vulnerability in SugarCRM Sugar Sales before 2.0.1a allows remote attackers to execute arbitrary SQL commands and gain privileges via the record parameter in a DetailView action to index.php, and record parameters in other functionality.",
         "before",
         ""
        ],
        [
         "16",
         "CVE-2004-1469",
         "peter_d._gray",
         "sus",
         "2.0",
         "Format string vulnerability in the log function in SUS 2.0.2, and other versions before 2.0.6, allows local users to execute arbitrary code via format string specifiers in a command line argument that is passed directly to syslog.",
         "SUS",
         ""
        ],
        [
         "17",
         "CVE-2004-1498",
         "webhost_automation",
         "helm_control_panel",
         "3.1.17",
         "SQL injection vulnerability in the compose message form in HELM 3.1.19 and earlier allows remote attackers to execute arbitrary SQL commands via the messageToUserAccNum parameter.",
         "HELM",
         "and"
        ],
        [
         "18",
         "CVE-2004-1772",
         "gnu",
         "sharutils",
         "4.2",
         "Stack-based buffer overflow in shar in GNU sharutils 4.2.1 allows local users to execute arbitrary code via a long -o command line argument.",
         "sharutils",
         "allows"
        ],
        [
         "19",
         "CVE-2004-2030",
         "liferay",
         "liferay_enterprise_portal",
         "",
         "Multiple cross-site scripting (XSS) vulnerabilities in index.jsp for Liferay before 2.2.0 release 10/1/2004 allow remote attackers to inject arbitrary web script or HTML, as demonstrated using the message subject.",
         "before",
         "release"
        ],
        [
         "20",
         "CVE-2004-2205",
         "symantec_veritas",
         "cluster_server",
         "3.5_solaris_mp2",
         "Unknown vulnerability in Veritas Cluster Server 1.0.1 through 4.0 allows local users to gain root access via unspecified vectors.",
         "Server",
         "through"
        ],
        [
         "21",
         "CVE-2004-2431",
         "the_ignition_project",
         "ignitionserver",
         "0.3.1_b1",
         "Unknown vulnerability in The Ignition Project ignitionServer 0.1.2 through 0.3.1, with the linking service enabled, allows remote attackers to bypass authentication.",
         "ignitionServer",
         "through"
        ],
        [
         "22",
         "CVE-2004-2484",
         "php_gift_registry",
         "phpgiftreg",
         "1.3.1",
         "Cross-site scripting (XSS) vulnerability in PHP Gift Registry 1.3.5 and earlier allows remote attackers to inject arbitrary web script or HTML via the message parameter to (1) event.php or (2) index.php.",
         "Registry",
         "and"
        ],
        [
         "23",
         "CVE-2004-2484",
         "php_gift_registry",
         "phpgiftreg",
         "1.3.4",
         "Cross-site scripting (XSS) vulnerability in PHP Gift Registry 1.3.5 and earlier allows remote attackers to inject arbitrary web script or HTML via the message parameter to (1) event.php or (2) index.php.",
         "Registry",
         "and"
        ],
        [
         "24",
         "CVE-2004-2759",
         "sun",
         "storeedge_utilization_suite",
         "4.1",
         "Shared Sun StorEdge QFS and SAM-QFS file systems, as used in Utilization Suite 4.0 through 4.1 and Performance Suite 4.0 through 4.1, might allow local users to read portions of deleted files by accessing data within sparse files.",
         "Suite",
         ""
        ],
        [
         "25",
         "CVE-2010-0097",
         "isc",
         "bind",
         "9.6.1",
         "ISC BIND 9.0.x through 9.3.x, 9.4 before 9.4.3-P5, 9.5 before 9.5.2-P2, 9.6 before 9.6.1-P3, and 9.7.0 beta does not properly validate DNSSEC (1) NSEC and (2) NSEC3 records, which allows remote attackers to add the Authenticated Data (AD) flag to a forged NXDOMAIN response for an existing domain.",
         "BIND",
         "beta"
        ],
        [
         "26",
         "CVE-2010-0097",
         "isc",
         "bind",
         "9.1.1",
         "ISC BIND 9.0.x through 9.3.x, 9.4 before 9.4.3-P5, 9.5 before 9.5.2-P2, 9.6 before 9.6.1-P3, and 9.7.0 beta does not properly validate DNSSEC (1) NSEC and (2) NSEC3 records, which allows remote attackers to add the Authenticated Data (AD) flag to a forged NXDOMAIN response for an existing domain.",
         "BIND",
         "beta"
        ],
        [
         "27",
         "CVE-2010-0097",
         "isc",
         "bind",
         "9.3.1",
         "ISC BIND 9.0.x through 9.3.x, 9.4 before 9.4.3-P5, 9.5 before 9.5.2-P2, 9.6 before 9.6.1-P3, and 9.7.0 beta does not properly validate DNSSEC (1) NSEC and (2) NSEC3 records, which allows remote attackers to add the Authenticated Data (AD) flag to a forged NXDOMAIN response for an existing domain.",
         "BIND",
         "beta"
        ],
        [
         "28",
         "CVE-2010-0097",
         "isc",
         "bind",
         "9.1.3",
         "ISC BIND 9.0.x through 9.3.x, 9.4 before 9.4.3-P5, 9.5 before 9.5.2-P2, 9.6 before 9.6.1-P3, and 9.7.0 beta does not properly validate DNSSEC (1) NSEC and (2) NSEC3 records, which allows remote attackers to add the Authenticated Data (AD) flag to a forged NXDOMAIN response for an existing domain.",
         "BIND",
         "beta"
        ],
        [
         "29",
         "CVE-2010-0097",
         "isc",
         "bind",
         "9.3.5",
         "ISC BIND 9.0.x through 9.3.x, 9.4 before 9.4.3-P5, 9.5 before 9.5.2-P2, 9.6 before 9.6.1-P3, and 9.7.0 beta does not properly validate DNSSEC (1) NSEC and (2) NSEC3 records, which allows remote attackers to add the Authenticated Data (AD) flag to a forged NXDOMAIN response for an existing domain.",
         "BIND",
         "beta"
        ],
        [
         "30",
         "CVE-2010-0097",
         "isc",
         "bind",
         "9.5.0",
         "ISC BIND 9.0.x through 9.3.x, 9.4 before 9.4.3-P5, 9.5 before 9.5.2-P2, 9.6 before 9.6.1-P3, and 9.7.0 beta does not properly validate DNSSEC (1) NSEC and (2) NSEC3 records, which allows remote attackers to add the Authenticated Data (AD) flag to a forged NXDOMAIN response for an existing domain.",
         "BIND",
         "beta"
        ],
        [
         "31",
         "CVE-2010-0097",
         "isc",
         "bind",
         "9.3.2",
         "ISC BIND 9.0.x through 9.3.x, 9.4 before 9.4.3-P5, 9.5 before 9.5.2-P2, 9.6 before 9.6.1-P3, and 9.7.0 beta does not properly validate DNSSEC (1) NSEC and (2) NSEC3 records, which allows remote attackers to add the Authenticated Data (AD) flag to a forged NXDOMAIN response for an existing domain.",
         "BIND",
         "beta"
        ],
        [
         "32",
         "CVE-2010-0097",
         "isc",
         "bind",
         "9.2.2",
         "ISC BIND 9.0.x through 9.3.x, 9.4 before 9.4.3-P5, 9.5 before 9.5.2-P2, 9.6 before 9.6.1-P3, and 9.7.0 beta does not properly validate DNSSEC (1) NSEC and (2) NSEC3 records, which allows remote attackers to add the Authenticated Data (AD) flag to a forged NXDOMAIN response for an existing domain.",
         "BIND",
         "beta"
        ],
        [
         "33",
         "CVE-2010-0097",
         "isc",
         "bind",
         "9.4.1",
         "ISC BIND 9.0.x through 9.3.x, 9.4 before 9.4.3-P5, 9.5 before 9.5.2-P2, 9.6 before 9.6.1-P3, and 9.7.0 beta does not properly validate DNSSEC (1) NSEC and (2) NSEC3 records, which allows remote attackers to add the Authenticated Data (AD) flag to a forged NXDOMAIN response for an existing domain.",
         "BIND",
         "beta"
        ],
        [
         "34",
         "CVE-2010-0097",
         "isc",
         "bind",
         "9.7.0",
         "ISC BIND 9.0.x through 9.3.x, 9.4 before 9.4.3-P5, 9.5 before 9.5.2-P2, 9.6 before 9.6.1-P3, and 9.7.0 beta does not properly validate DNSSEC (1) NSEC and (2) NSEC3 records, which allows remote attackers to add the Authenticated Data (AD) flag to a forged NXDOMAIN response for an existing domain.",
         "BIND",
         "beta"
        ],
        [
         "35",
         "CVE-2010-0097",
         "isc",
         "bind",
         "9.7.0",
         "ISC BIND 9.0.x through 9.3.x, 9.4 before 9.4.3-P5, 9.5 before 9.5.2-P2, 9.6 before 9.6.1-P3, and 9.7.0 beta does not properly validate DNSSEC (1) NSEC and (2) NSEC3 records, which allows remote attackers to add the Authenticated Data (AD) flag to a forged NXDOMAIN response for an existing domain.",
         "BIND",
         "beta"
        ],
        [
         "36",
         "CVE-2010-0097",
         "isc",
         "bind",
         "9.7.0",
         "ISC BIND 9.0.x through 9.3.x, 9.4 before 9.4.3-P5, 9.5 before 9.5.2-P2, 9.6 before 9.6.1-P3, and 9.7.0 beta does not properly validate DNSSEC (1) NSEC and (2) NSEC3 records, which allows remote attackers to add the Authenticated Data (AD) flag to a forged NXDOMAIN response for an existing domain.",
         "BIND",
         "beta"
        ],
        [
         "37",
         "CVE-2010-0097",
         "isc",
         "bind",
         "9.7.0",
         "ISC BIND 9.0.x through 9.3.x, 9.4 before 9.4.3-P5, 9.5 before 9.5.2-P2, 9.6 before 9.6.1-P3, and 9.7.0 beta does not properly validate DNSSEC (1) NSEC and (2) NSEC3 records, which allows remote attackers to add the Authenticated Data (AD) flag to a forged NXDOMAIN response for an existing domain.",
         "BIND",
         "beta"
        ],
        [
         "38",
         "CVE-2010-0097",
         "isc",
         "bind",
         "9.6",
         "ISC BIND 9.0.x through 9.3.x, 9.4 before 9.4.3-P5, 9.5 before 9.5.2-P2, 9.6 before 9.6.1-P3, and 9.7.0 beta does not properly validate DNSSEC (1) NSEC and (2) NSEC3 records, which allows remote attackers to add the Authenticated Data (AD) flag to a forged NXDOMAIN response for an existing domain.",
         "BIND",
         "beta"
        ],
        [
         "39",
         "CVE-2010-0097",
         "isc",
         "bind",
         "9.2.1",
         "ISC BIND 9.0.x through 9.3.x, 9.4 before 9.4.3-P5, 9.5 before 9.5.2-P2, 9.6 before 9.6.1-P3, and 9.7.0 beta does not properly validate DNSSEC (1) NSEC and (2) NSEC3 records, which allows remote attackers to add the Authenticated Data (AD) flag to a forged NXDOMAIN response for an existing domain.",
         "BIND",
         "beta"
        ],
        [
         "40",
         "CVE-2010-0097",
         "isc",
         "bind",
         "9.2.1",
         "ISC BIND 9.0.x through 9.3.x, 9.4 before 9.4.3-P5, 9.5 before 9.5.2-P2, 9.6 before 9.6.1-P3, and 9.7.0 beta does not properly validate DNSSEC (1) NSEC and (2) NSEC3 records, which allows remote attackers to add the Authenticated Data (AD) flag to a forged NXDOMAIN response for an existing domain.",
         "BIND",
         "beta"
        ],
        [
         "41",
         "CVE-2010-0097",
         "isc",
         "bind",
         "9.5.0",
         "ISC BIND 9.0.x through 9.3.x, 9.4 before 9.4.3-P5, 9.5 before 9.5.2-P2, 9.6 before 9.6.1-P3, and 9.7.0 beta does not properly validate DNSSEC (1) NSEC and (2) NSEC3 records, which allows remote attackers to add the Authenticated Data (AD) flag to a forged NXDOMAIN response for an existing domain.",
         "BIND",
         "beta"
        ],
        [
         "42",
         "CVE-2010-0097",
         "isc",
         "bind",
         "9.5.0",
         "ISC BIND 9.0.x through 9.3.x, 9.4 before 9.4.3-P5, 9.5 before 9.5.2-P2, 9.6 before 9.6.1-P3, and 9.7.0 beta does not properly validate DNSSEC (1) NSEC and (2) NSEC3 records, which allows remote attackers to add the Authenticated Data (AD) flag to a forged NXDOMAIN response for an existing domain.",
         "BIND",
         "beta"
        ],
        [
         "43",
         "CVE-2010-0097",
         "isc",
         "bind",
         "9.4.2",
         "ISC BIND 9.0.x through 9.3.x, 9.4 before 9.4.3-P5, 9.5 before 9.5.2-P2, 9.6 before 9.6.1-P3, and 9.7.0 beta does not properly validate DNSSEC (1) NSEC and (2) NSEC3 records, which allows remote attackers to add the Authenticated Data (AD) flag to a forged NXDOMAIN response for an existing domain.",
         "BIND",
         "beta"
        ],
        [
         "44",
         "CVE-2010-0097",
         "isc",
         "bind",
         "9.3.1",
         "ISC BIND 9.0.x through 9.3.x, 9.4 before 9.4.3-P5, 9.5 before 9.5.2-P2, 9.6 before 9.6.1-P3, and 9.7.0 beta does not properly validate DNSSEC (1) NSEC and (2) NSEC3 records, which allows remote attackers to add the Authenticated Data (AD) flag to a forged NXDOMAIN response for an existing domain.",
         "BIND",
         "beta"
        ],
        [
         "45",
         "CVE-2010-0097",
         "isc",
         "bind",
         "9.3.1",
         "ISC BIND 9.0.x through 9.3.x, 9.4 before 9.4.3-P5, 9.5 before 9.5.2-P2, 9.6 before 9.6.1-P3, and 9.7.0 beta does not properly validate DNSSEC (1) NSEC and (2) NSEC3 records, which allows remote attackers to add the Authenticated Data (AD) flag to a forged NXDOMAIN response for an existing domain.",
         "BIND",
         "beta"
        ],
        [
         "46",
         "CVE-2010-0097",
         "isc",
         "bind",
         "9.1",
         "ISC BIND 9.0.x through 9.3.x, 9.4 before 9.4.3-P5, 9.5 before 9.5.2-P2, 9.6 before 9.6.1-P3, and 9.7.0 beta does not properly validate DNSSEC (1) NSEC and (2) NSEC3 records, which allows remote attackers to add the Authenticated Data (AD) flag to a forged NXDOMAIN response for an existing domain.",
         "BIND",
         "beta"
        ],
        [
         "47",
         "CVE-2010-0097",
         "isc",
         "bind",
         "9.4.3",
         "ISC BIND 9.0.x through 9.3.x, 9.4 before 9.4.3-P5, 9.5 before 9.5.2-P2, 9.6 before 9.6.1-P3, and 9.7.0 beta does not properly validate DNSSEC (1) NSEC and (2) NSEC3 records, which allows remote attackers to add the Authenticated Data (AD) flag to a forged NXDOMAIN response for an existing domain.",
         "BIND",
         "beta"
        ],
        [
         "48",
         "CVE-2010-0097",
         "isc",
         "bind",
         "9.4.3",
         "ISC BIND 9.0.x through 9.3.x, 9.4 before 9.4.3-P5, 9.5 before 9.5.2-P2, 9.6 before 9.6.1-P3, and 9.7.0 beta does not properly validate DNSSEC (1) NSEC and (2) NSEC3 records, which allows remote attackers to add the Authenticated Data (AD) flag to a forged NXDOMAIN response for an existing domain.",
         "BIND",
         "beta"
        ],
        [
         "49",
         "CVE-2010-0097",
         "isc",
         "bind",
         "9.4.3",
         "ISC BIND 9.0.x through 9.3.x, 9.4 before 9.4.3-P5, 9.5 before 9.5.2-P2, 9.6 before 9.6.1-P3, and 9.7.0 beta does not properly validate DNSSEC (1) NSEC and (2) NSEC3 records, which allows remote attackers to add the Authenticated Data (AD) flag to a forged NXDOMAIN response for an existing domain.",
         "BIND",
         "beta"
        ]
       ],
       "shape": {
        "columns": 7,
        "rows": 686075
       }
      },
      "text/html": [
       "<div>\n",
       "<style scoped>\n",
       "    .dataframe tbody tr th:only-of-type {\n",
       "        vertical-align: middle;\n",
       "    }\n",
       "\n",
       "    .dataframe tbody tr th {\n",
       "        vertical-align: top;\n",
       "    }\n",
       "\n",
       "    .dataframe thead th {\n",
       "        text-align: right;\n",
       "    }\n",
       "</style>\n",
       "<table border=\"1\" class=\"dataframe\">\n",
       "  <thead>\n",
       "    <tr style=\"text-align: right;\">\n",
       "      <th></th>\n",
       "      <th>cve_id</th>\n",
       "      <th>vendor</th>\n",
       "      <th>product</th>\n",
       "      <th>version</th>\n",
       "      <th>descr</th>\n",
       "      <th>matched_regex_before</th>\n",
       "      <th>matched_regex_after</th>\n",
       "    </tr>\n",
       "  </thead>\n",
       "  <tbody>\n",
       "    <tr>\n",
       "      <th>0</th>\n",
       "      <td>CVE-2004-0013</td>\n",
       "      <td>jabber_software_foundation</td>\n",
       "      <td>jabber_server</td>\n",
       "      <td>1.4.3</td>\n",
       "      <td>jabber 1.4.2, 1.4.2a, and possibly earlier versions, does not properly handle SSL connections, which allows remote attackers to cause a denial of service (crash).</td>\n",
       "      <td>jabber</td>\n",
       "      <td></td>\n",
       "    </tr>\n",
       "    <tr>\n",
       "      <th>1</th>\n",
       "      <td>CVE-2004-0043</td>\n",
       "      <td>yahoo</td>\n",
       "      <td>messenger</td>\n",
       "      <td>5.6.0.1351</td>\n",
       "      <td>Buffer overflow in Yahoo Instant Messenger 5.6.0.1351 and earlier allows remote attackers to cause a denial of service (crash) and possibly execute arbitrary code via a long filename in the downlo...</td>\n",
       "      <td>Messenger</td>\n",
       "      <td>and</td>\n",
       "    </tr>\n",
       "    <tr>\n",
       "      <th>2</th>\n",
       "      <td>CVE-2004-0043</td>\n",
       "      <td>yahoo</td>\n",
       "      <td>messenger</td>\n",
       "      <td>5.6.0.1358</td>\n",
       "      <td>Buffer overflow in Yahoo Instant Messenger 5.6.0.1351 and earlier allows remote attackers to cause a denial of service (crash) and possibly execute arbitrary code via a long filename in the downlo...</td>\n",
       "      <td>Messenger</td>\n",
       "      <td>and</td>\n",
       "    </tr>\n",
       "    <tr>\n",
       "      <th>3</th>\n",
       "      <td>CVE-2004-0159</td>\n",
       "      <td>samhain_labs</td>\n",
       "      <td>hsftp</td>\n",
       "      <td>1.4</td>\n",
       "      <td>Format string vulnerability in hsftp 1.11 allows remote authenticated users to cause a denial of service and possibly execute arbitrary code via file names containing format string characters that...</td>\n",
       "      <td>hsftp</td>\n",
       "      <td></td>\n",
       "    </tr>\n",
       "    <tr>\n",
       "      <th>4</th>\n",
       "      <td>CVE-2004-0159</td>\n",
       "      <td>samhain_labs</td>\n",
       "      <td>hsftp</td>\n",
       "      <td>1.11</td>\n",
       "      <td>Format string vulnerability in hsftp 1.11 allows remote authenticated users to cause a denial of service and possibly execute arbitrary code via file names containing format string characters that...</td>\n",
       "      <td>hsftp</td>\n",
       "      <td></td>\n",
       "    </tr>\n",
       "    <tr>\n",
       "      <th>...</th>\n",
       "      <td>...</td>\n",
       "      <td>...</td>\n",
       "      <td>...</td>\n",
       "      <td>...</td>\n",
       "      <td>...</td>\n",
       "      <td>...</td>\n",
       "      <td>...</td>\n",
       "    </tr>\n",
       "    <tr>\n",
       "      <th>686070</th>\n",
       "      <td>CVE-2002-0600</td>\n",
       "      <td>kth</td>\n",
       "      <td>kth_kerberos</td>\n",
       "      <td>4_1.1.1</td>\n",
       "      <td>Heap overflow in the KTH Kerberos 4 FTP client 4-1.1.1 allows remote malicious servers to execute arbitrary code on the client via a long response to a passive (PASV) mode request.</td>\n",
       "      <td></td>\n",
       "      <td>allows</td>\n",
       "    </tr>\n",
       "    <tr>\n",
       "      <th>686071</th>\n",
       "      <td>CVE-2002-0910</td>\n",
       "      <td>debian</td>\n",
       "      <td>netstd</td>\n",
       "      <td>3.07</td>\n",
       "      <td>Buffer overflows in netstd 3.07-17 package allows remote DNS servers to execute arbitrary code via a long FQDN reply, as observed in the utilities (1) linux-ftpd, (2) pcnfsd, (3) tftp, (4) tracero...</td>\n",
       "      <td>netstd</td>\n",
       "      <td></td>\n",
       "    </tr>\n",
       "    <tr>\n",
       "      <th>686072</th>\n",
       "      <td>CVE-2002-1964</td>\n",
       "      <td>wesmo</td>\n",
       "      <td>phpeventcalendar</td>\n",
       "      <td>1.1</td>\n",
       "      <td>Unknown vulnerability in WesMo phpEventCalendar 1.1 allows remote attackers to execute arbitrary commands via unknown attack vectors.</td>\n",
       "      <td>phpEventCalendar</td>\n",
       "      <td></td>\n",
       "    </tr>\n",
       "    <tr>\n",
       "      <th>686073</th>\n",
       "      <td>CVE-2002-2110</td>\n",
       "      <td>rca</td>\n",
       "      <td>digital_cable_modem</td>\n",
       "      <td>dcm225</td>\n",
       "      <td>The RCA Digital Cable Modems DCM225 and DCM225E allow remote attackers to cause a denial of service (modem device reset) by connecting to port 80 on the 10.0.0.0/8 device.</td>\n",
       "      <td>the</td>\n",
       "      <td></td>\n",
       "    </tr>\n",
       "    <tr>\n",
       "      <th>686074</th>\n",
       "      <td>CVE-2002-2376</td>\n",
       "      <td>leung</td>\n",
       "      <td>e-guest</td>\n",
       "      <td>1.1</td>\n",
       "      <td>Cross-site scripting (XSS) vulnerability in E-Guest_sign.pl in E-Guest 1.1 allows remote attackers to inject arbitrary SSI directives, web script, and HTML via the (1) full name, (2) email, (3) ho...</td>\n",
       "      <td>Guest</td>\n",
       "      <td></td>\n",
       "    </tr>\n",
       "  </tbody>\n",
       "</table>\n",
       "<p>686075 rows × 7 columns</p>\n",
       "</div>"
      ],
      "text/plain": [
       "               cve_id                      vendor              product     version                                                                                                                                                                                                    descr matched_regex_before matched_regex_after\n",
       "0       CVE-2004-0013  jabber_software_foundation        jabber_server       1.4.3                                       jabber 1.4.2, 1.4.2a, and possibly earlier versions, does not properly handle SSL connections, which allows remote attackers to cause a denial of service (crash).               jabber                    \n",
       "1       CVE-2004-0043                       yahoo            messenger  5.6.0.1351  Buffer overflow in Yahoo Instant Messenger 5.6.0.1351 and earlier allows remote attackers to cause a denial of service (crash) and possibly execute arbitrary code via a long filename in the downlo...            Messenger                 and\n",
       "2       CVE-2004-0043                       yahoo            messenger  5.6.0.1358  Buffer overflow in Yahoo Instant Messenger 5.6.0.1351 and earlier allows remote attackers to cause a denial of service (crash) and possibly execute arbitrary code via a long filename in the downlo...            Messenger                 and\n",
       "3       CVE-2004-0159                samhain_labs                hsftp         1.4  Format string vulnerability in hsftp 1.11 allows remote authenticated users to cause a denial of service and possibly execute arbitrary code via file names containing format string characters that...                hsftp                    \n",
       "4       CVE-2004-0159                samhain_labs                hsftp        1.11  Format string vulnerability in hsftp 1.11 allows remote authenticated users to cause a denial of service and possibly execute arbitrary code via file names containing format string characters that...                hsftp                    \n",
       "...               ...                         ...                  ...         ...                                                                                                                                                                                                      ...                  ...                 ...\n",
       "686070  CVE-2002-0600                         kth         kth_kerberos     4_1.1.1                     Heap overflow in the KTH Kerberos 4 FTP client 4-1.1.1 allows remote malicious servers to execute arbitrary code on the client via a long response to a passive (PASV) mode request.                                   allows\n",
       "686071  CVE-2002-0910                      debian               netstd        3.07  Buffer overflows in netstd 3.07-17 package allows remote DNS servers to execute arbitrary code via a long FQDN reply, as observed in the utilities (1) linux-ftpd, (2) pcnfsd, (3) tftp, (4) tracero...               netstd                    \n",
       "686072  CVE-2002-1964                       wesmo     phpeventcalendar         1.1                                                                    Unknown vulnerability in WesMo phpEventCalendar 1.1 allows remote attackers to execute arbitrary commands via unknown attack vectors.     phpEventCalendar                    \n",
       "686073  CVE-2002-2110                         rca  digital_cable_modem      dcm225                              The RCA Digital Cable Modems DCM225 and DCM225E allow remote attackers to cause a denial of service (modem device reset) by connecting to port 80 on the 10.0.0.0/8 device.                  the                    \n",
       "686074  CVE-2002-2376                       leung              e-guest         1.1  Cross-site scripting (XSS) vulnerability in E-Guest_sign.pl in E-Guest 1.1 allows remote attackers to inject arbitrary SSI directives, web script, and HTML via the (1) full name, (2) email, (3) ho...                Guest                    \n",
       "\n",
       "[686075 rows x 7 columns]"
      ]
     },
     "execution_count": 167,
     "metadata": {},
     "output_type": "execute_result"
    }
   ],
   "source": [
    "df"
   ]
  },
  {
   "cell_type": "markdown",
   "metadata": {},
   "source": [
    "Доп. версии"
   ]
  },
  {
   "cell_type": "code",
   "execution_count": 169,
   "metadata": {},
   "outputs": [],
   "source": [
    "l = '''CVE-2023-40050, \n",
    "CVE-2020-27589, \n",
    "CVE-2022-39255, \n",
    "CVE-2023-50709, \n",
    "CVE-2022-0944, \n",
    "CVE-2023-1404, \n",
    "CVE-2023-5054, \n",
    "CVE-2020-24025, \n",
    "CVE-2016-5007, \n",
    "CVE-2023-40050, \n",
    "CVE-2022-47595'''"
   ]
  },
  {
   "cell_type": "code",
   "execution_count": 175,
   "metadata": {},
   "outputs": [],
   "source": [
    "ll =[x.replace(' \\n', '') for x in l.split(',')]"
   ]
  },
  {
   "cell_type": "code",
   "execution_count": 191,
   "metadata": {},
   "outputs": [
    {
     "data": {
      "text/plain": [
       "(10, 7)"
      ]
     },
     "execution_count": 191,
     "metadata": {},
     "output_type": "execute_result"
    }
   ],
   "source": [
    "df_additional = df[df.cve_id.isin(ll)].groupby('cve_id').sample(1, random_state=11)\n",
    "df_additional.shape"
   ]
  },
  {
   "cell_type": "code",
   "execution_count": 192,
   "metadata": {},
   "outputs": [],
   "source": [
    "all_cves = []\n",
    "all_tokens = []\n",
    "all_bio = []\n",
    "for i, row in df_additional.iterrows():\n",
    "    cves = []\n",
    "    bio_ann = []\n",
    "    spl_tokens = [x for x in re.split(' |\\\\n', row['descr']) if x]\n",
    "    tokens = []\n",
    "    # print(spl_tokens)\n",
    "    for tok in spl_tokens:\n",
    "        if tok.endswith('.'):\n",
    "            tokens.append(tok.rstrip('.'))\n",
    "            tokens.append('.')\n",
    "        elif tok.endswith(','):\n",
    "            tokens.append(tok.rstrip(','))\n",
    "            tokens.append(',')\n",
    "        else:\n",
    "            tokens.append(tok)\n",
    "    # print(tokens)\n",
    "    for tok_i in range(len(tokens)):\n",
    "        bio_ann.append('O')\n",
    "        if tok_i == 0:\n",
    "            cves.append(row['cve_id'])\n",
    "        else:\n",
    "            cves.append('0')\n",
    "    assert len(bio_ann) == len(tokens)\n",
    "    all_bio.extend(bio_ann)\n",
    "    all_tokens.extend(tokens)\n",
    "    all_cves.extend(cves)"
   ]
  },
  {
   "cell_type": "code",
   "execution_count": 193,
   "metadata": {},
   "outputs": [
    {
     "data": {
      "text/plain": [
       "10"
      ]
     },
     "execution_count": 193,
     "metadata": {},
     "output_type": "execute_result"
    }
   ],
   "source": [
    "len(df_additional)"
   ]
  },
  {
   "cell_type": "code",
   "execution_count": 194,
   "metadata": {},
   "outputs": [],
   "source": [
    "df_additional_annotated = pd.DataFrame(data={'cve_id': all_cves,\n",
    "                                         'words': all_tokens,\n",
    "                                         'custom_bio': all_bio})\n",
    "df_additional_annotated.to_csv(f'./cve_dataset_bio_{len(df_additional_annotated)}_additionals.tsv', index=False, sep='\\t')"
   ]
  },
  {
   "cell_type": "code",
   "execution_count": null,
   "metadata": {},
   "outputs": [
    {
     "data": {
      "application/vnd.microsoft.datawrangler.viewer.v0+json": {
       "columns": [
        {
         "name": "index",
         "rawType": "int64",
         "type": "integer"
        },
        {
         "name": "cve_id",
         "rawType": "object",
         "type": "string"
        },
        {
         "name": "words",
         "rawType": "object",
         "type": "string"
        },
        {
         "name": "custom_bio",
         "rawType": "object",
         "type": "string"
        }
       ],
       "conversionMethod": "pd.DataFrame",
       "ref": "967a8663-28ec-49ad-88c9-4ea8e36fa11f",
       "rows": [
        [
         "0",
         "CVE-2016-5007",
         "Both",
         "O"
        ],
        [
         "1",
         "0",
         "Spring",
         "O"
        ],
        [
         "2",
         "0",
         "Security",
         "O"
        ],
        [
         "3",
         "0",
         "3.2.x",
         "O"
        ],
        [
         "4",
         "0",
         ",",
         "O"
        ],
        [
         "5",
         "0",
         "4.0.x",
         "O"
        ],
        [
         "6",
         "0",
         ",",
         "O"
        ],
        [
         "7",
         "0",
         "4.1.0",
         "O"
        ],
        [
         "8",
         "0",
         "and",
         "O"
        ],
        [
         "9",
         "0",
         "the",
         "O"
        ],
        [
         "10",
         "0",
         "Spring",
         "O"
        ],
        [
         "11",
         "0",
         "Framework",
         "O"
        ],
        [
         "12",
         "0",
         "3.2.x",
         "O"
        ],
        [
         "13",
         "0",
         ",",
         "O"
        ],
        [
         "14",
         "0",
         "4.0.x",
         "O"
        ],
        [
         "15",
         "0",
         ",",
         "O"
        ],
        [
         "16",
         "0",
         "4.1.x",
         "O"
        ],
        [
         "17",
         "0",
         ",",
         "O"
        ],
        [
         "18",
         "0",
         "4.2.x",
         "O"
        ],
        [
         "19",
         "0",
         "rely",
         "O"
        ],
        [
         "20",
         "0",
         "on",
         "O"
        ],
        [
         "21",
         "0",
         "URL",
         "O"
        ],
        [
         "22",
         "0",
         "pattern",
         "O"
        ],
        [
         "23",
         "0",
         "mappings",
         "O"
        ],
        [
         "24",
         "0",
         "for",
         "O"
        ],
        [
         "25",
         "0",
         "authorization",
         "O"
        ],
        [
         "26",
         "0",
         "and",
         "O"
        ],
        [
         "27",
         "0",
         "for",
         "O"
        ],
        [
         "28",
         "0",
         "mapping",
         "O"
        ],
        [
         "29",
         "0",
         "requests",
         "O"
        ],
        [
         "30",
         "0",
         "to",
         "O"
        ],
        [
         "31",
         "0",
         "controllers",
         "O"
        ],
        [
         "32",
         "0",
         "respectively",
         "O"
        ],
        [
         "33",
         "0",
         ".",
         "O"
        ],
        [
         "34",
         "0",
         "Differences",
         "O"
        ],
        [
         "35",
         "0",
         "in",
         "O"
        ],
        [
         "36",
         "0",
         "the",
         "O"
        ],
        [
         "37",
         "0",
         "strictness",
         "O"
        ],
        [
         "38",
         "0",
         "of",
         "O"
        ],
        [
         "39",
         "0",
         "the",
         "O"
        ],
        [
         "40",
         "0",
         "pattern",
         "O"
        ],
        [
         "41",
         "0",
         "matching",
         "O"
        ],
        [
         "42",
         "0",
         "mechanisms",
         "O"
        ],
        [
         "43",
         "0",
         ",",
         "O"
        ],
        [
         "44",
         "0",
         "for",
         "O"
        ],
        [
         "45",
         "0",
         "example",
         "O"
        ],
        [
         "46",
         "0",
         "with",
         "O"
        ],
        [
         "47",
         "0",
         "regards",
         "O"
        ],
        [
         "48",
         "0",
         "to",
         "O"
        ],
        [
         "49",
         "0",
         "space",
         "O"
        ]
       ],
       "shape": {
        "columns": 3,
        "rows": 687
       }
      },
      "text/html": [
       "<div>\n",
       "<style scoped>\n",
       "    .dataframe tbody tr th:only-of-type {\n",
       "        vertical-align: middle;\n",
       "    }\n",
       "\n",
       "    .dataframe tbody tr th {\n",
       "        vertical-align: top;\n",
       "    }\n",
       "\n",
       "    .dataframe thead th {\n",
       "        text-align: right;\n",
       "    }\n",
       "</style>\n",
       "<table border=\"1\" class=\"dataframe\">\n",
       "  <thead>\n",
       "    <tr style=\"text-align: right;\">\n",
       "      <th></th>\n",
       "      <th>cve_id</th>\n",
       "      <th>words</th>\n",
       "      <th>custom_bio</th>\n",
       "    </tr>\n",
       "  </thead>\n",
       "  <tbody>\n",
       "    <tr>\n",
       "      <th>0</th>\n",
       "      <td>CVE-2016-5007</td>\n",
       "      <td>Both</td>\n",
       "      <td>O</td>\n",
       "    </tr>\n",
       "    <tr>\n",
       "      <th>1</th>\n",
       "      <td>0</td>\n",
       "      <td>Spring</td>\n",
       "      <td>O</td>\n",
       "    </tr>\n",
       "    <tr>\n",
       "      <th>2</th>\n",
       "      <td>0</td>\n",
       "      <td>Security</td>\n",
       "      <td>O</td>\n",
       "    </tr>\n",
       "    <tr>\n",
       "      <th>3</th>\n",
       "      <td>0</td>\n",
       "      <td>3.2.x</td>\n",
       "      <td>O</td>\n",
       "    </tr>\n",
       "    <tr>\n",
       "      <th>4</th>\n",
       "      <td>0</td>\n",
       "      <td>,</td>\n",
       "      <td>O</td>\n",
       "    </tr>\n",
       "    <tr>\n",
       "      <th>...</th>\n",
       "      <td>...</td>\n",
       "      <td>...</td>\n",
       "      <td>...</td>\n",
       "    </tr>\n",
       "    <tr>\n",
       "      <th>682</th>\n",
       "      <td>0</td>\n",
       "      <td>recommendation</td>\n",
       "      <td>O</td>\n",
       "    </tr>\n",
       "    <tr>\n",
       "      <th>683</th>\n",
       "      <td>0</td>\n",
       "      <td>is</td>\n",
       "      <td>O</td>\n",
       "    </tr>\n",
       "    <tr>\n",
       "      <th>684</th>\n",
       "      <td>0</td>\n",
       "      <td>to</td>\n",
       "      <td>O</td>\n",
       "    </tr>\n",
       "    <tr>\n",
       "      <th>685</th>\n",
       "      <td>0</td>\n",
       "      <td>upgrade</td>\n",
       "      <td>O</td>\n",
       "    </tr>\n",
       "    <tr>\n",
       "      <th>686</th>\n",
       "      <td>0</td>\n",
       "      <td>.</td>\n",
       "      <td>O</td>\n",
       "    </tr>\n",
       "  </tbody>\n",
       "</table>\n",
       "<p>687 rows × 3 columns</p>\n",
       "</div>"
      ],
      "text/plain": [
       "            cve_id           words custom_bio\n",
       "0    CVE-2016-5007            Both          O\n",
       "1                0          Spring          O\n",
       "2                0        Security          O\n",
       "3                0           3.2.x          O\n",
       "4                0               ,          O\n",
       "..             ...             ...        ...\n",
       "682              0  recommendation          O\n",
       "683              0              is          O\n",
       "684              0              to          O\n",
       "685              0         upgrade          O\n",
       "686              0               .          O\n",
       "\n",
       "[687 rows x 3 columns]"
      ]
     },
     "execution_count": 195,
     "metadata": {},
     "output_type": "execute_result"
    }
   ],
   "source": [
    "df_additional_annotated"
   ]
  },
  {
   "cell_type": "code",
   "execution_count": null,
   "metadata": {},
   "outputs": [],
   "source": []
  },
  {
   "cell_type": "markdown",
   "metadata": {},
   "source": [
    "## Создаём один финальный датасет"
   ]
  },
  {
   "cell_type": "code",
   "execution_count": 14,
   "metadata": {},
   "outputs": [],
   "source": [
    "import pandas as pd\n",
    "\n",
    "# File paths\n",
    "file1 = 'cve_dataset_bio_15192_texts_custom_bio.tsv'\n",
    "file2 = 'cve_dataset_bio_4477_before_versions.tsv'\n",
    "file3 = 'cve_dataset_bio_1682_after_versions.tsv'\n",
    "file4 = 'cve_dataset_bio_687_additionals.tsv'\n",
    "output_file = 'cve_dataset_bio.tsv'\n",
    "\n",
    "# Read each TSV file\n",
    "# df1 = pd.read_csv(file1, sep='\\t')\n",
    "# df1 = df1[['cve_id', 'words', 'custom_bio']]\n",
    "\n",
    "df2 = pd.read_csv(file2, sep='\\t')\n",
    "df3 = pd.read_csv(file3, sep='\\t')\n",
    "df4 = pd.read_csv(file4, sep='\\t')\n",
    "\n"
   ]
  },
  {
   "cell_type": "code",
   "execution_count": 15,
   "metadata": {},
   "outputs": [],
   "source": [
    "add_cve_df = pd.concat([df2, df3, df4], ignore_index=True)"
   ]
  },
  {
   "cell_type": "code",
   "execution_count": 17,
   "metadata": {},
   "outputs": [
    {
     "data": {
      "text/plain": [
       "129"
      ]
     },
     "execution_count": 17,
     "metadata": {},
     "output_type": "execute_result"
    }
   ],
   "source": [
    "add_cve_df.cve_id.nunique()"
   ]
  },
  {
   "cell_type": "code",
   "execution_count": 21,
   "metadata": {},
   "outputs": [
    {
     "data": {
      "text/plain": [
       "array(['3.2.x', '4.0.x', '4.1.0', '4.1.x', '4.2.x', '2.0.0', 'to',\n",
       "       '4.14.1', '0.0.25', '-', '0.0.52', 'prior', '6.10.1', 'Prior',\n",
       "       'version', '0.23.19', '<=', '9.0.15', 'up', ',', 'and',\n",
       "       'including', '1.6', '4.10.29', '6.9.3', '0.34.34', '`v0.34.34`'],\n",
       "      dtype=object)"
      ]
     },
     "execution_count": 21,
     "metadata": {},
     "output_type": "execute_result"
    }
   ],
   "source": [
    "df4[(df4.custom_bio == 'B-version') | (df4.custom_bio == 'I-version')].words.unique()"
   ]
  },
  {
   "cell_type": "code",
   "execution_count": 226,
   "metadata": {},
   "outputs": [],
   "source": [
    "# Concatenate the DataFrames\n",
    "merged_df = pd.concat([df1, df2, df3, df4], ignore_index=True)"
   ]
  },
  {
   "cell_type": "code",
   "execution_count": 227,
   "metadata": {},
   "outputs": [
    {
     "data": {
      "application/vnd.microsoft.datawrangler.viewer.v0+json": {
       "columns": [
        {
         "name": "index",
         "rawType": "int64",
         "type": "integer"
        },
        {
         "name": "cve_id",
         "rawType": "object",
         "type": "string"
        },
        {
         "name": "words",
         "rawType": "object",
         "type": "string"
        },
        {
         "name": "custom_bio",
         "rawType": "object",
         "type": "string"
        }
       ],
       "conversionMethod": "pd.DataFrame",
       "ref": "db0603b6-b942-4d15-b20d-44f1d67b8731",
       "rows": [
        [
         "0",
         "CVE-2010-0001",
         "Integer",
         "O"
        ],
        [
         "1",
         "0",
         "underflow",
         "O"
        ],
        [
         "2",
         "0",
         "in",
         "O"
        ],
        [
         "3",
         "0",
         "the",
         "O"
        ],
        [
         "4",
         "0",
         "unlzw",
         "O"
        ],
        [
         "5",
         "0",
         "function",
         "O"
        ],
        [
         "6",
         "0",
         "in",
         "O"
        ],
        [
         "7",
         "0",
         "unlzw.c",
         "O"
        ],
        [
         "8",
         "0",
         "in",
         "O"
        ],
        [
         "9",
         "0",
         "gzip",
         "B-product"
        ],
        [
         "10",
         "0",
         "before",
         "B-version"
        ],
        [
         "11",
         "0",
         "1.4",
         "I-version"
        ],
        [
         "12",
         "0",
         "on",
         "O"
        ],
        [
         "13",
         "0",
         "64-bit",
         "O"
        ],
        [
         "14",
         "0",
         "platforms",
         "O"
        ],
        [
         "15",
         "0",
         ",",
         "O"
        ],
        [
         "16",
         "0",
         "as",
         "O"
        ],
        [
         "17",
         "0",
         "used",
         "O"
        ],
        [
         "18",
         "0",
         "in",
         "O"
        ],
        [
         "19",
         "0",
         "ncompress",
         "O"
        ],
        [
         "20",
         "0",
         "and",
         "O"
        ],
        [
         "21",
         "0",
         "probably",
         "O"
        ],
        [
         "22",
         "0",
         "others",
         "O"
        ],
        [
         "23",
         "0",
         ",",
         "O"
        ],
        [
         "24",
         "0",
         "allows",
         "O"
        ],
        [
         "25",
         "0",
         "remote",
         "O"
        ],
        [
         "26",
         "0",
         "attackers",
         "O"
        ],
        [
         "27",
         "0",
         "to",
         "O"
        ],
        [
         "28",
         "0",
         "cause",
         "O"
        ],
        [
         "29",
         "0",
         "a",
         "O"
        ],
        [
         "30",
         "0",
         "denial",
         "O"
        ],
        [
         "31",
         "0",
         "of",
         "O"
        ],
        [
         "32",
         "0",
         "service",
         "O"
        ],
        [
         "33",
         "0",
         "(",
         "O"
        ],
        [
         "34",
         "0",
         "application",
         "O"
        ],
        [
         "35",
         "0",
         "crash",
         "O"
        ],
        [
         "36",
         "0",
         ")",
         "O"
        ],
        [
         "37",
         "0",
         "or",
         "O"
        ],
        [
         "38",
         "0",
         "possibly",
         "O"
        ],
        [
         "39",
         "0",
         "execute",
         "O"
        ],
        [
         "40",
         "0",
         "arbitrary",
         "O"
        ],
        [
         "41",
         "0",
         "code",
         "O"
        ],
        [
         "42",
         "0",
         "via",
         "O"
        ],
        [
         "43",
         "0",
         "a",
         "O"
        ],
        [
         "44",
         "0",
         "crafted",
         "O"
        ],
        [
         "45",
         "0",
         "archive",
         "O"
        ],
        [
         "46",
         "0",
         "that",
         "O"
        ],
        [
         "47",
         "0",
         "uses",
         "O"
        ],
        [
         "48",
         "0",
         "LZW",
         "O"
        ],
        [
         "49",
         "0",
         "compression",
         "O"
        ]
       ],
       "shape": {
        "columns": 3,
        "rows": 692602
       }
      },
      "text/html": [
       "<div>\n",
       "<style scoped>\n",
       "    .dataframe tbody tr th:only-of-type {\n",
       "        vertical-align: middle;\n",
       "    }\n",
       "\n",
       "    .dataframe tbody tr th {\n",
       "        vertical-align: top;\n",
       "    }\n",
       "\n",
       "    .dataframe thead th {\n",
       "        text-align: right;\n",
       "    }\n",
       "</style>\n",
       "<table border=\"1\" class=\"dataframe\">\n",
       "  <thead>\n",
       "    <tr style=\"text-align: right;\">\n",
       "      <th></th>\n",
       "      <th>cve_id</th>\n",
       "      <th>words</th>\n",
       "      <th>custom_bio</th>\n",
       "    </tr>\n",
       "  </thead>\n",
       "  <tbody>\n",
       "    <tr>\n",
       "      <th>0</th>\n",
       "      <td>CVE-2010-0001</td>\n",
       "      <td>Integer</td>\n",
       "      <td>O</td>\n",
       "    </tr>\n",
       "    <tr>\n",
       "      <th>1</th>\n",
       "      <td>0</td>\n",
       "      <td>underflow</td>\n",
       "      <td>O</td>\n",
       "    </tr>\n",
       "    <tr>\n",
       "      <th>2</th>\n",
       "      <td>0</td>\n",
       "      <td>in</td>\n",
       "      <td>O</td>\n",
       "    </tr>\n",
       "    <tr>\n",
       "      <th>3</th>\n",
       "      <td>0</td>\n",
       "      <td>the</td>\n",
       "      <td>O</td>\n",
       "    </tr>\n",
       "    <tr>\n",
       "      <th>4</th>\n",
       "      <td>0</td>\n",
       "      <td>unlzw</td>\n",
       "      <td>O</td>\n",
       "    </tr>\n",
       "    <tr>\n",
       "      <th>...</th>\n",
       "      <td>...</td>\n",
       "      <td>...</td>\n",
       "      <td>...</td>\n",
       "    </tr>\n",
       "    <tr>\n",
       "      <th>692597</th>\n",
       "      <td>0</td>\n",
       "      <td>recommendation</td>\n",
       "      <td>O</td>\n",
       "    </tr>\n",
       "    <tr>\n",
       "      <th>692598</th>\n",
       "      <td>0</td>\n",
       "      <td>is</td>\n",
       "      <td>O</td>\n",
       "    </tr>\n",
       "    <tr>\n",
       "      <th>692599</th>\n",
       "      <td>0</td>\n",
       "      <td>to</td>\n",
       "      <td>O</td>\n",
       "    </tr>\n",
       "    <tr>\n",
       "      <th>692600</th>\n",
       "      <td>0</td>\n",
       "      <td>upgrade</td>\n",
       "      <td>O</td>\n",
       "    </tr>\n",
       "    <tr>\n",
       "      <th>692601</th>\n",
       "      <td>0</td>\n",
       "      <td>.</td>\n",
       "      <td>O</td>\n",
       "    </tr>\n",
       "  </tbody>\n",
       "</table>\n",
       "<p>692602 rows × 3 columns</p>\n",
       "</div>"
      ],
      "text/plain": [
       "               cve_id           words custom_bio\n",
       "0       CVE-2010-0001         Integer          O\n",
       "1                   0       underflow          O\n",
       "2                   0              in          O\n",
       "3                   0             the          O\n",
       "4                   0           unlzw          O\n",
       "...               ...             ...        ...\n",
       "692597              0  recommendation          O\n",
       "692598              0              is          O\n",
       "692599              0              to          O\n",
       "692600              0         upgrade          O\n",
       "692601              0               .          O\n",
       "\n",
       "[692602 rows x 3 columns]"
      ]
     },
     "execution_count": 227,
     "metadata": {},
     "output_type": "execute_result"
    }
   ],
   "source": [
    "merged_df"
   ]
  },
  {
   "cell_type": "code",
   "execution_count": 230,
   "metadata": {},
   "outputs": [
    {
     "data": {
      "text/plain": [
       "O            596287\n",
       "B-version     29260\n",
       "I-version     25546\n",
       "B-product     18957\n",
       "I-product     11933\n",
       "B-vendor      10557\n",
       "I-vendor         62\n",
       "Name: custom_bio, dtype: int64"
      ]
     },
     "execution_count": 230,
     "metadata": {},
     "output_type": "execute_result"
    }
   ],
   "source": [
    "merged_df.custom_bio.value_counts()"
   ]
  },
  {
   "cell_type": "code",
   "execution_count": 229,
   "metadata": {},
   "outputs": [],
   "source": [
    "merged_df['custom_bio'] = merged_df['custom_bio'].replace({'B-versions': 'B-version'})"
   ]
  },
  {
   "cell_type": "code",
   "execution_count": 231,
   "metadata": {},
   "outputs": [],
   "source": [
    "merged_df.to_csv(output_file, sep='\\t', index=False)"
   ]
  },
  {
   "cell_type": "markdown",
   "metadata": {},
   "source": [
    "## Разбиваем датасет на train/test"
   ]
  },
  {
   "cell_type": "code",
   "execution_count": 61,
   "metadata": {},
   "outputs": [],
   "source": [
    "df = pd.read_csv('cve_dataset_bio.tsv', sep='\\t')"
   ]
  },
  {
   "cell_type": "code",
   "execution_count": 62,
   "metadata": {},
   "outputs": [],
   "source": [
    "from sklearn.model_selection import train_test_split"
   ]
  },
  {
   "cell_type": "code",
   "execution_count": 63,
   "metadata": {},
   "outputs": [],
   "source": [
    "# Group by CVE entries\n",
    "groups = []\n",
    "current_group = []\n",
    "for _, row in df.iterrows():\n",
    "    if row[\"cve_id\"] != \"0\":\n",
    "        if current_group:\n",
    "            groups.append(current_group)\n",
    "        current_group = [row]\n",
    "    else:\n",
    "        current_group.append(row)\n",
    "if current_group:\n",
    "    groups.append(current_group)"
   ]
  },
  {
   "cell_type": "code",
   "execution_count": 64,
   "metadata": {},
   "outputs": [],
   "source": [
    "# Split into train/test/val\n",
    "train_groups, test_groups = train_test_split(groups, test_size=0.1, random_state=42)"
   ]
  },
  {
   "cell_type": "code",
   "execution_count": 65,
   "metadata": {},
   "outputs": [],
   "source": [
    "# Reconstruct splits\n",
    "def flatten(groups):\n",
    "    return pd.DataFrame([row for group in groups for row in group])"
   ]
  },
  {
   "cell_type": "code",
   "execution_count": 66,
   "metadata": {},
   "outputs": [],
   "source": [
    "train_df = flatten(train_groups)\n",
    "test_df = flatten(test_groups)"
   ]
  },
  {
   "cell_type": "markdown",
   "metadata": {},
   "source": [
    "тестируем, что из датасетов, созданных для обогащения, часть записей попала в тест"
   ]
  },
  {
   "cell_type": "code",
   "execution_count": 67,
   "metadata": {},
   "outputs": [
    {
     "name": "stdout",
     "output_type": "stream",
     "text": [
      "84\n"
     ]
    },
    {
     "data": {
      "application/vnd.microsoft.datawrangler.viewer.v0+json": {
       "columns": [
        {
         "name": "index",
         "rawType": "int64",
         "type": "integer"
        },
        {
         "name": "cve_id",
         "rawType": "object",
         "type": "string"
        },
        {
         "name": "words",
         "rawType": "object",
         "type": "string"
        },
        {
         "name": "custom_bio",
         "rawType": "object",
         "type": "string"
        }
       ],
       "conversionMethod": "pd.DataFrame",
       "ref": "99ff8ffb-fe5d-44e2-993e-3dd6ba11bedf",
       "rows": [
        [
         "685990",
         "CVE-2017-2594",
         "hawtio",
         "B-product"
        ],
        [
         "689842",
         "CVE-2023-4090",
         "Cross-site",
         "O"
        ],
        [
         "689731",
         "CVE-2023-39196",
         "Improper",
         "O"
        ],
        [
         "689882",
         "CVE-2023-45814",
         "Bunkum",
         "B-product"
        ],
        [
         "687367",
         "CVE-2020-15119",
         "In",
         "O"
        ],
        [
         "687402",
         "CVE-2012-2666",
         "golang",
         "B-vendor"
        ],
        [
         "685418",
         "CVE-2014-125098",
         "A",
         "O"
        ]
       ],
       "shape": {
        "columns": 3,
        "rows": 7
       }
      },
      "text/html": [
       "<div>\n",
       "<style scoped>\n",
       "    .dataframe tbody tr th:only-of-type {\n",
       "        vertical-align: middle;\n",
       "    }\n",
       "\n",
       "    .dataframe tbody tr th {\n",
       "        vertical-align: top;\n",
       "    }\n",
       "\n",
       "    .dataframe thead th {\n",
       "        text-align: right;\n",
       "    }\n",
       "</style>\n",
       "<table border=\"1\" class=\"dataframe\">\n",
       "  <thead>\n",
       "    <tr style=\"text-align: right;\">\n",
       "      <th></th>\n",
       "      <th>cve_id</th>\n",
       "      <th>words</th>\n",
       "      <th>custom_bio</th>\n",
       "    </tr>\n",
       "  </thead>\n",
       "  <tbody>\n",
       "    <tr>\n",
       "      <th>685990</th>\n",
       "      <td>CVE-2017-2594</td>\n",
       "      <td>hawtio</td>\n",
       "      <td>B-product</td>\n",
       "    </tr>\n",
       "    <tr>\n",
       "      <th>689842</th>\n",
       "      <td>CVE-2023-4090</td>\n",
       "      <td>Cross-site</td>\n",
       "      <td>O</td>\n",
       "    </tr>\n",
       "    <tr>\n",
       "      <th>689731</th>\n",
       "      <td>CVE-2023-39196</td>\n",
       "      <td>Improper</td>\n",
       "      <td>O</td>\n",
       "    </tr>\n",
       "    <tr>\n",
       "      <th>689882</th>\n",
       "      <td>CVE-2023-45814</td>\n",
       "      <td>Bunkum</td>\n",
       "      <td>B-product</td>\n",
       "    </tr>\n",
       "    <tr>\n",
       "      <th>687367</th>\n",
       "      <td>CVE-2020-15119</td>\n",
       "      <td>In</td>\n",
       "      <td>O</td>\n",
       "    </tr>\n",
       "    <tr>\n",
       "      <th>687402</th>\n",
       "      <td>CVE-2012-2666</td>\n",
       "      <td>golang</td>\n",
       "      <td>B-vendor</td>\n",
       "    </tr>\n",
       "    <tr>\n",
       "      <th>685418</th>\n",
       "      <td>CVE-2014-125098</td>\n",
       "      <td>A</td>\n",
       "      <td>O</td>\n",
       "    </tr>\n",
       "  </tbody>\n",
       "</table>\n",
       "</div>"
      ],
      "text/plain": [
       "                 cve_id       words custom_bio\n",
       "685990    CVE-2017-2594      hawtio  B-product\n",
       "689842    CVE-2023-4090  Cross-site          O\n",
       "689731   CVE-2023-39196    Improper          O\n",
       "689882   CVE-2023-45814      Bunkum  B-product\n",
       "687367   CVE-2020-15119          In          O\n",
       "687402    CVE-2012-2666      golang   B-vendor\n",
       "685418  CVE-2014-125098           A          O"
      ]
     },
     "execution_count": 67,
     "metadata": {},
     "output_type": "execute_result"
    }
   ],
   "source": [
    "print(len(df2[df2.cve_id != '0'].cve_id.unique()))\n",
    "test_df[test_df.cve_id.isin(df2[df2.cve_id != '0'].cve_id.unique())]"
   ]
  },
  {
   "cell_type": "code",
   "execution_count": 68,
   "metadata": {},
   "outputs": [
    {
     "name": "stdout",
     "output_type": "stream",
     "text": [
      "35\n"
     ]
    },
    {
     "data": {
      "application/vnd.microsoft.datawrangler.viewer.v0+json": {
       "columns": [
        {
         "name": "index",
         "rawType": "int64",
         "type": "integer"
        },
        {
         "name": "cve_id",
         "rawType": "object",
         "type": "string"
        },
        {
         "name": "words",
         "rawType": "object",
         "type": "string"
        },
        {
         "name": "custom_bio",
         "rawType": "object",
         "type": "string"
        }
       ],
       "conversionMethod": "pd.DataFrame",
       "ref": "9f9194f6-a3b6-4a3a-b2e8-a3982adc900e",
       "rows": [
        [
         "691601",
         "CVE-2004-1822",
         "Multiple",
         "O"
        ],
        [
         "691397",
         "CVE-2013-3009",
         "The",
         "O"
        ]
       ],
       "shape": {
        "columns": 3,
        "rows": 2
       }
      },
      "text/html": [
       "<div>\n",
       "<style scoped>\n",
       "    .dataframe tbody tr th:only-of-type {\n",
       "        vertical-align: middle;\n",
       "    }\n",
       "\n",
       "    .dataframe tbody tr th {\n",
       "        vertical-align: top;\n",
       "    }\n",
       "\n",
       "    .dataframe thead th {\n",
       "        text-align: right;\n",
       "    }\n",
       "</style>\n",
       "<table border=\"1\" class=\"dataframe\">\n",
       "  <thead>\n",
       "    <tr style=\"text-align: right;\">\n",
       "      <th></th>\n",
       "      <th>cve_id</th>\n",
       "      <th>words</th>\n",
       "      <th>custom_bio</th>\n",
       "    </tr>\n",
       "  </thead>\n",
       "  <tbody>\n",
       "    <tr>\n",
       "      <th>691601</th>\n",
       "      <td>CVE-2004-1822</td>\n",
       "      <td>Multiple</td>\n",
       "      <td>O</td>\n",
       "    </tr>\n",
       "    <tr>\n",
       "      <th>691397</th>\n",
       "      <td>CVE-2013-3009</td>\n",
       "      <td>The</td>\n",
       "      <td>O</td>\n",
       "    </tr>\n",
       "  </tbody>\n",
       "</table>\n",
       "</div>"
      ],
      "text/plain": [
       "               cve_id     words custom_bio\n",
       "691601  CVE-2004-1822  Multiple          O\n",
       "691397  CVE-2013-3009       The          O"
      ]
     },
     "execution_count": 68,
     "metadata": {},
     "output_type": "execute_result"
    }
   ],
   "source": [
    "print(len(df3[df3.cve_id != '0'].cve_id.unique()))\n",
    "test_df[test_df.cve_id.isin(df3[df3.cve_id != '0'].cve_id.unique())]"
   ]
  },
  {
   "cell_type": "code",
   "execution_count": 69,
   "metadata": {},
   "outputs": [
    {
     "name": "stdout",
     "output_type": "stream",
     "text": [
      "10\n"
     ]
    },
    {
     "data": {
      "application/vnd.microsoft.datawrangler.viewer.v0+json": {
       "columns": [
        {
         "name": "index",
         "rawType": "int64",
         "type": "integer"
        },
        {
         "name": "cve_id",
         "rawType": "object",
         "type": "string"
        },
        {
         "name": "words",
         "rawType": "object",
         "type": "string"
        },
        {
         "name": "custom_bio",
         "rawType": "object",
         "type": "string"
        }
       ],
       "conversionMethod": "pd.DataFrame",
       "ref": "2caaa825-92e6-4f45-ac31-62d6fbecf127",
       "rows": [
        [
         "691912",
         "CVE-2016-5007",
         "Both",
         "O"
        ],
        [
         "692422",
         "CVE-2023-5054",
         "The",
         "O"
        ]
       ],
       "shape": {
        "columns": 3,
        "rows": 2
       }
      },
      "text/html": [
       "<div>\n",
       "<style scoped>\n",
       "    .dataframe tbody tr th:only-of-type {\n",
       "        vertical-align: middle;\n",
       "    }\n",
       "\n",
       "    .dataframe tbody tr th {\n",
       "        vertical-align: top;\n",
       "    }\n",
       "\n",
       "    .dataframe thead th {\n",
       "        text-align: right;\n",
       "    }\n",
       "</style>\n",
       "<table border=\"1\" class=\"dataframe\">\n",
       "  <thead>\n",
       "    <tr style=\"text-align: right;\">\n",
       "      <th></th>\n",
       "      <th>cve_id</th>\n",
       "      <th>words</th>\n",
       "      <th>custom_bio</th>\n",
       "    </tr>\n",
       "  </thead>\n",
       "  <tbody>\n",
       "    <tr>\n",
       "      <th>691912</th>\n",
       "      <td>CVE-2016-5007</td>\n",
       "      <td>Both</td>\n",
       "      <td>O</td>\n",
       "    </tr>\n",
       "    <tr>\n",
       "      <th>692422</th>\n",
       "      <td>CVE-2023-5054</td>\n",
       "      <td>The</td>\n",
       "      <td>O</td>\n",
       "    </tr>\n",
       "  </tbody>\n",
       "</table>\n",
       "</div>"
      ],
      "text/plain": [
       "               cve_id words custom_bio\n",
       "691912  CVE-2016-5007  Both          O\n",
       "692422  CVE-2023-5054   The          O"
      ]
     },
     "execution_count": 69,
     "metadata": {},
     "output_type": "execute_result"
    }
   ],
   "source": [
    "print(len(df4[df4.cve_id != '0'].cve_id.unique()))\n",
    "test_df[test_df.cve_id.isin(df4[df4.cve_id != '0'].cve_id.unique())]"
   ]
  },
  {
   "cell_type": "code",
   "execution_count": 73,
   "metadata": {},
   "outputs": [
    {
     "data": {
      "text/plain": [
       "{'0'}"
      ]
     },
     "execution_count": 73,
     "metadata": {},
     "output_type": "execute_result"
    }
   ],
   "source": [
    "set(train_df.cve_id) & set(test_df.cve_id)"
   ]
  },
  {
   "cell_type": "code",
   "execution_count": 74,
   "metadata": {},
   "outputs": [
    {
     "data": {
      "text/plain": [
       "O            0.860556\n",
       "B-version    0.042443\n",
       "I-version    0.036957\n",
       "B-product    0.027398\n",
       "I-product    0.017254\n",
       "B-vendor     0.015297\n",
       "I-vendor     0.000095\n",
       "Name: custom_bio, dtype: float64"
      ]
     },
     "execution_count": 74,
     "metadata": {},
     "output_type": "execute_result"
    }
   ],
   "source": [
    "train_df.custom_bio.value_counts(normalize=1)"
   ]
  },
  {
   "cell_type": "code",
   "execution_count": 75,
   "metadata": {},
   "outputs": [
    {
     "data": {
      "text/plain": [
       "O            0.864320\n",
       "B-version    0.040503\n",
       "I-version    0.036240\n",
       "B-product    0.027130\n",
       "I-product    0.017008\n",
       "B-vendor     0.014756\n",
       "I-vendor     0.000043\n",
       "Name: custom_bio, dtype: float64"
      ]
     },
     "execution_count": 75,
     "metadata": {},
     "output_type": "execute_result"
    }
   ],
   "source": [
    "test_df.custom_bio.value_counts(normalize=1)"
   ]
  },
  {
   "cell_type": "code",
   "execution_count": 76,
   "metadata": {},
   "outputs": [
    {
     "data": {
      "application/vnd.microsoft.datawrangler.viewer.v0+json": {
       "columns": [
        {
         "name": "index",
         "rawType": "int64",
         "type": "integer"
        },
        {
         "name": "cve_id",
         "rawType": "object",
         "type": "string"
        },
        {
         "name": "words",
         "rawType": "object",
         "type": "string"
        },
        {
         "name": "custom_bio",
         "rawType": "object",
         "type": "string"
        }
       ],
       "conversionMethod": "pd.DataFrame",
       "ref": "a86fe204-9898-4619-8f81-1ec00d39fdaf",
       "rows": [
        [
         "333189",
         "0",
         "impact",
         "O"
        ],
        [
         "333190",
         "0",
         "via",
         "O"
        ],
        [
         "333191",
         "0",
         "vectors",
         "O"
        ],
        [
         "333192",
         "0",
         "that",
         "O"
        ],
        [
         "333193",
         "0",
         "leverage",
         "O"
        ],
        [
         "333194",
         "0",
         "\"",
         "O"
        ],
        [
         "333195",
         "0",
         "type",
         "O"
        ],
        [
         "333196",
         "0",
         "confusion",
         "O"
        ],
        [
         "333197",
         "0",
         ".",
         "O"
        ],
        [
         "333198",
         "0",
         "\"",
         "O"
        ]
       ],
       "shape": {
        "columns": 3,
        "rows": 10
       }
      },
      "text/html": [
       "<div>\n",
       "<style scoped>\n",
       "    .dataframe tbody tr th:only-of-type {\n",
       "        vertical-align: middle;\n",
       "    }\n",
       "\n",
       "    .dataframe tbody tr th {\n",
       "        vertical-align: top;\n",
       "    }\n",
       "\n",
       "    .dataframe thead th {\n",
       "        text-align: right;\n",
       "    }\n",
       "</style>\n",
       "<table border=\"1\" class=\"dataframe\">\n",
       "  <thead>\n",
       "    <tr style=\"text-align: right;\">\n",
       "      <th></th>\n",
       "      <th>cve_id</th>\n",
       "      <th>words</th>\n",
       "      <th>custom_bio</th>\n",
       "    </tr>\n",
       "  </thead>\n",
       "  <tbody>\n",
       "    <tr>\n",
       "      <th>333189</th>\n",
       "      <td>0</td>\n",
       "      <td>impact</td>\n",
       "      <td>O</td>\n",
       "    </tr>\n",
       "    <tr>\n",
       "      <th>333190</th>\n",
       "      <td>0</td>\n",
       "      <td>via</td>\n",
       "      <td>O</td>\n",
       "    </tr>\n",
       "    <tr>\n",
       "      <th>333191</th>\n",
       "      <td>0</td>\n",
       "      <td>vectors</td>\n",
       "      <td>O</td>\n",
       "    </tr>\n",
       "    <tr>\n",
       "      <th>333192</th>\n",
       "      <td>0</td>\n",
       "      <td>that</td>\n",
       "      <td>O</td>\n",
       "    </tr>\n",
       "    <tr>\n",
       "      <th>333193</th>\n",
       "      <td>0</td>\n",
       "      <td>leverage</td>\n",
       "      <td>O</td>\n",
       "    </tr>\n",
       "    <tr>\n",
       "      <th>333194</th>\n",
       "      <td>0</td>\n",
       "      <td>\"</td>\n",
       "      <td>O</td>\n",
       "    </tr>\n",
       "    <tr>\n",
       "      <th>333195</th>\n",
       "      <td>0</td>\n",
       "      <td>type</td>\n",
       "      <td>O</td>\n",
       "    </tr>\n",
       "    <tr>\n",
       "      <th>333196</th>\n",
       "      <td>0</td>\n",
       "      <td>confusion</td>\n",
       "      <td>O</td>\n",
       "    </tr>\n",
       "    <tr>\n",
       "      <th>333197</th>\n",
       "      <td>0</td>\n",
       "      <td>.</td>\n",
       "      <td>O</td>\n",
       "    </tr>\n",
       "    <tr>\n",
       "      <th>333198</th>\n",
       "      <td>0</td>\n",
       "      <td>\"</td>\n",
       "      <td>O</td>\n",
       "    </tr>\n",
       "  </tbody>\n",
       "</table>\n",
       "</div>"
      ],
      "text/plain": [
       "       cve_id      words custom_bio\n",
       "333189      0     impact          O\n",
       "333190      0        via          O\n",
       "333191      0    vectors          O\n",
       "333192      0       that          O\n",
       "333193      0   leverage          O\n",
       "333194      0          \"          O\n",
       "333195      0       type          O\n",
       "333196      0  confusion          O\n",
       "333197      0          .          O\n",
       "333198      0          \"          O"
      ]
     },
     "execution_count": 76,
     "metadata": {},
     "output_type": "execute_result"
    }
   ],
   "source": [
    "train_df.tail(10)"
   ]
  },
  {
   "cell_type": "code",
   "execution_count": 92,
   "metadata": {},
   "outputs": [
    {
     "data": {
      "application/vnd.microsoft.datawrangler.viewer.v0+json": {
       "columns": [
        {
         "name": "index",
         "rawType": "int64",
         "type": "integer"
        },
        {
         "name": "cve_id",
         "rawType": "object",
         "type": "string"
        },
        {
         "name": "words",
         "rawType": "object",
         "type": "string"
        },
        {
         "name": "custom_bio",
         "rawType": "object",
         "type": "string"
        }
       ],
       "conversionMethod": "pd.DataFrame",
       "ref": "c433d274-a5bf-49fe-b4e2-0c458fa3a3b6",
       "rows": [
        [
         "0",
         "CVE-2011-0776",
         "The",
         "O"
        ],
        [
         "1",
         "0",
         "sandbox",
         "O"
        ],
        [
         "2",
         "0",
         "implementation",
         "O"
        ],
        [
         "3",
         "0",
         "in",
         "O"
        ],
        [
         "4",
         "0",
         "Google",
         "B-vendor"
        ],
        [
         "5",
         "0",
         "Chrome",
         "B-product"
        ],
        [
         "6",
         "0",
         "before",
         "B-version"
        ],
        [
         "7",
         "0",
         "9.0.597.84",
         "I-version"
        ],
        [
         "8",
         "0",
         "on",
         "O"
        ],
        [
         "9",
         "0",
         "Mac",
         "O"
        ],
        [
         "10",
         "0",
         "OS",
         "O"
        ],
        [
         "11",
         "0",
         "X",
         "O"
        ],
        [
         "12",
         "0",
         "might",
         "O"
        ],
        [
         "13",
         "0",
         "allow",
         "O"
        ],
        [
         "14",
         "0",
         "remote",
         "O"
        ],
        [
         "15",
         "0",
         "attackers",
         "O"
        ],
        [
         "16",
         "0",
         "to",
         "O"
        ],
        [
         "17",
         "0",
         "obtain",
         "O"
        ],
        [
         "18",
         "0",
         "potentially",
         "O"
        ],
        [
         "19",
         "0",
         "sensitive",
         "O"
        ],
        [
         "20",
         "0",
         "information",
         "O"
        ],
        [
         "21",
         "0",
         "about",
         "O"
        ],
        [
         "22",
         "0",
         "local",
         "O"
        ],
        [
         "23",
         "0",
         "files",
         "O"
        ],
        [
         "24",
         "0",
         "via",
         "O"
        ],
        [
         "25",
         "0",
         "vectors",
         "O"
        ],
        [
         "26",
         "0",
         "related",
         "O"
        ],
        [
         "27",
         "0",
         "to",
         "O"
        ],
        [
         "28",
         "0",
         "the",
         "O"
        ],
        [
         "29",
         "0",
         "stat",
         "O"
        ],
        [
         "30",
         "0",
         "system",
         "O"
        ],
        [
         "31",
         "0",
         "call",
         "O"
        ],
        [
         "32",
         "0",
         ".",
         "O"
        ],
        [
         "33",
         "CVE-2012-2132",
         "libsoup",
         "B-product"
        ],
        [
         "34",
         "0",
         "2.32.2",
         "B-version"
        ],
        [
         "35",
         "0",
         "and",
         "I-version"
        ],
        [
         "36",
         "0",
         "earlier",
         "I-version"
        ],
        [
         "37",
         "0",
         "does",
         "O"
        ],
        [
         "38",
         "0",
         "not",
         "O"
        ],
        [
         "39",
         "0",
         "validate",
         "O"
        ],
        [
         "40",
         "0",
         "certificates",
         "O"
        ],
        [
         "41",
         "0",
         "or",
         "O"
        ],
        [
         "42",
         "0",
         "clear",
         "O"
        ],
        [
         "43",
         "0",
         "the",
         "O"
        ],
        [
         "44",
         "0",
         "trust",
         "O"
        ],
        [
         "45",
         "0",
         "flag",
         "O"
        ],
        [
         "46",
         "0",
         "when",
         "O"
        ],
        [
         "47",
         "0",
         "the",
         "O"
        ],
        [
         "48",
         "0",
         "ssl-ca-file",
         "O"
        ],
        [
         "49",
         "0",
         "does",
         "O"
        ]
       ],
       "shape": {
        "columns": 3,
        "rows": 622459
       }
      },
      "text/html": [
       "<div>\n",
       "<style scoped>\n",
       "    .dataframe tbody tr th:only-of-type {\n",
       "        vertical-align: middle;\n",
       "    }\n",
       "\n",
       "    .dataframe tbody tr th {\n",
       "        vertical-align: top;\n",
       "    }\n",
       "\n",
       "    .dataframe thead th {\n",
       "        text-align: right;\n",
       "    }\n",
       "</style>\n",
       "<table border=\"1\" class=\"dataframe\">\n",
       "  <thead>\n",
       "    <tr style=\"text-align: right;\">\n",
       "      <th></th>\n",
       "      <th>cve_id</th>\n",
       "      <th>words</th>\n",
       "      <th>custom_bio</th>\n",
       "    </tr>\n",
       "  </thead>\n",
       "  <tbody>\n",
       "    <tr>\n",
       "      <th>0</th>\n",
       "      <td>CVE-2011-0776</td>\n",
       "      <td>The</td>\n",
       "      <td>O</td>\n",
       "    </tr>\n",
       "    <tr>\n",
       "      <th>1</th>\n",
       "      <td>0</td>\n",
       "      <td>sandbox</td>\n",
       "      <td>O</td>\n",
       "    </tr>\n",
       "    <tr>\n",
       "      <th>2</th>\n",
       "      <td>0</td>\n",
       "      <td>implementation</td>\n",
       "      <td>O</td>\n",
       "    </tr>\n",
       "    <tr>\n",
       "      <th>3</th>\n",
       "      <td>0</td>\n",
       "      <td>in</td>\n",
       "      <td>O</td>\n",
       "    </tr>\n",
       "    <tr>\n",
       "      <th>4</th>\n",
       "      <td>0</td>\n",
       "      <td>Google</td>\n",
       "      <td>B-vendor</td>\n",
       "    </tr>\n",
       "    <tr>\n",
       "      <th>...</th>\n",
       "      <td>...</td>\n",
       "      <td>...</td>\n",
       "      <td>...</td>\n",
       "    </tr>\n",
       "    <tr>\n",
       "      <th>622454</th>\n",
       "      <td>0</td>\n",
       "      <td>\"</td>\n",
       "      <td>O</td>\n",
       "    </tr>\n",
       "    <tr>\n",
       "      <th>622455</th>\n",
       "      <td>0</td>\n",
       "      <td>type</td>\n",
       "      <td>O</td>\n",
       "    </tr>\n",
       "    <tr>\n",
       "      <th>622456</th>\n",
       "      <td>0</td>\n",
       "      <td>confusion</td>\n",
       "      <td>O</td>\n",
       "    </tr>\n",
       "    <tr>\n",
       "      <th>622457</th>\n",
       "      <td>0</td>\n",
       "      <td>.</td>\n",
       "      <td>O</td>\n",
       "    </tr>\n",
       "    <tr>\n",
       "      <th>622458</th>\n",
       "      <td>0</td>\n",
       "      <td>\"</td>\n",
       "      <td>O</td>\n",
       "    </tr>\n",
       "  </tbody>\n",
       "</table>\n",
       "<p>622459 rows × 3 columns</p>\n",
       "</div>"
      ],
      "text/plain": [
       "               cve_id           words custom_bio\n",
       "0       CVE-2011-0776             The          O\n",
       "1                   0         sandbox          O\n",
       "2                   0  implementation          O\n",
       "3                   0              in          O\n",
       "4                   0          Google   B-vendor\n",
       "...               ...             ...        ...\n",
       "622454              0               \"          O\n",
       "622455              0            type          O\n",
       "622456              0       confusion          O\n",
       "622457              0               .          O\n",
       "622458              0               \"          O\n",
       "\n",
       "[622459 rows x 3 columns]"
      ]
     },
     "execution_count": 92,
     "metadata": {},
     "output_type": "execute_result"
    }
   ],
   "source": [
    "train_df = train_df.reset_index().drop('index', axis=1)\n",
    "train_df['words'] = train_df['words'].fillna(' ')\n",
    "train_df"
   ]
  },
  {
   "cell_type": "code",
   "execution_count": 94,
   "metadata": {},
   "outputs": [],
   "source": [
    "train_df.to_csv('train_df_cve_dataset_bio.tsv', sep='\\t')"
   ]
  },
  {
   "cell_type": "code",
   "execution_count": 78,
   "metadata": {},
   "outputs": [
    {
     "data": {
      "application/vnd.microsoft.datawrangler.viewer.v0+json": {
       "columns": [
        {
         "name": "index",
         "rawType": "int64",
         "type": "integer"
        },
        {
         "name": "cve_id",
         "rawType": "object",
         "type": "string"
        },
        {
         "name": "words",
         "rawType": "object",
         "type": "string"
        },
        {
         "name": "custom_bio",
         "rawType": "object",
         "type": "string"
        }
       ],
       "conversionMethod": "pd.DataFrame",
       "ref": "24ef2291-6845-424d-8232-f78ac5fe3af9",
       "rows": [
        [
         "473408",
         "CVE-2012-1790",
         "Absolute",
         "O"
        ],
        [
         "473409",
         "0",
         "path",
         "O"
        ],
        [
         "473410",
         "0",
         "traversal",
         "O"
        ],
        [
         "473411",
         "0",
         "vulnerability",
         "O"
        ],
        [
         "473412",
         "0",
         "in",
         "O"
        ],
        [
         "473413",
         "0",
         "Webgrind",
         "B-product"
        ],
        [
         "473414",
         "0",
         "1.0",
         "B-version"
        ],
        [
         "473415",
         "0",
         "and",
         "O"
        ],
        [
         "473416",
         "0",
         "1.0.2",
         "B-version"
        ],
        [
         "473417",
         "0",
         "allows",
         "O"
        ]
       ],
       "shape": {
        "columns": 3,
        "rows": 10
       }
      },
      "text/html": [
       "<div>\n",
       "<style scoped>\n",
       "    .dataframe tbody tr th:only-of-type {\n",
       "        vertical-align: middle;\n",
       "    }\n",
       "\n",
       "    .dataframe tbody tr th {\n",
       "        vertical-align: top;\n",
       "    }\n",
       "\n",
       "    .dataframe thead th {\n",
       "        text-align: right;\n",
       "    }\n",
       "</style>\n",
       "<table border=\"1\" class=\"dataframe\">\n",
       "  <thead>\n",
       "    <tr style=\"text-align: right;\">\n",
       "      <th></th>\n",
       "      <th>cve_id</th>\n",
       "      <th>words</th>\n",
       "      <th>custom_bio</th>\n",
       "    </tr>\n",
       "  </thead>\n",
       "  <tbody>\n",
       "    <tr>\n",
       "      <th>473408</th>\n",
       "      <td>CVE-2012-1790</td>\n",
       "      <td>Absolute</td>\n",
       "      <td>O</td>\n",
       "    </tr>\n",
       "    <tr>\n",
       "      <th>473409</th>\n",
       "      <td>0</td>\n",
       "      <td>path</td>\n",
       "      <td>O</td>\n",
       "    </tr>\n",
       "    <tr>\n",
       "      <th>473410</th>\n",
       "      <td>0</td>\n",
       "      <td>traversal</td>\n",
       "      <td>O</td>\n",
       "    </tr>\n",
       "    <tr>\n",
       "      <th>473411</th>\n",
       "      <td>0</td>\n",
       "      <td>vulnerability</td>\n",
       "      <td>O</td>\n",
       "    </tr>\n",
       "    <tr>\n",
       "      <th>473412</th>\n",
       "      <td>0</td>\n",
       "      <td>in</td>\n",
       "      <td>O</td>\n",
       "    </tr>\n",
       "    <tr>\n",
       "      <th>473413</th>\n",
       "      <td>0</td>\n",
       "      <td>Webgrind</td>\n",
       "      <td>B-product</td>\n",
       "    </tr>\n",
       "    <tr>\n",
       "      <th>473414</th>\n",
       "      <td>0</td>\n",
       "      <td>1.0</td>\n",
       "      <td>B-version</td>\n",
       "    </tr>\n",
       "    <tr>\n",
       "      <th>473415</th>\n",
       "      <td>0</td>\n",
       "      <td>and</td>\n",
       "      <td>O</td>\n",
       "    </tr>\n",
       "    <tr>\n",
       "      <th>473416</th>\n",
       "      <td>0</td>\n",
       "      <td>1.0.2</td>\n",
       "      <td>B-version</td>\n",
       "    </tr>\n",
       "    <tr>\n",
       "      <th>473417</th>\n",
       "      <td>0</td>\n",
       "      <td>allows</td>\n",
       "      <td>O</td>\n",
       "    </tr>\n",
       "  </tbody>\n",
       "</table>\n",
       "</div>"
      ],
      "text/plain": [
       "               cve_id          words custom_bio\n",
       "473408  CVE-2012-1790       Absolute          O\n",
       "473409              0           path          O\n",
       "473410              0      traversal          O\n",
       "473411              0  vulnerability          O\n",
       "473412              0             in          O\n",
       "473413              0       Webgrind  B-product\n",
       "473414              0            1.0  B-version\n",
       "473415              0            and          O\n",
       "473416              0          1.0.2  B-version\n",
       "473417              0         allows          O"
      ]
     },
     "execution_count": 78,
     "metadata": {},
     "output_type": "execute_result"
    }
   ],
   "source": [
    "test_df.head(10)"
   ]
  },
  {
   "cell_type": "code",
   "execution_count": 95,
   "metadata": {},
   "outputs": [
    {
     "data": {
      "application/vnd.microsoft.datawrangler.viewer.v0+json": {
       "columns": [
        {
         "name": "index",
         "rawType": "int64",
         "type": "integer"
        },
        {
         "name": "cve_id",
         "rawType": "object",
         "type": "string"
        },
        {
         "name": "words",
         "rawType": "object",
         "type": "string"
        },
        {
         "name": "custom_bio",
         "rawType": "object",
         "type": "string"
        }
       ],
       "conversionMethod": "pd.DataFrame",
       "ref": "ebfc6a0a-7aa8-4ca3-a9e4-9062b66790ea",
       "rows": [
        [
         "0",
         "CVE-2012-1790",
         "Absolute",
         "O"
        ],
        [
         "1",
         "0",
         "path",
         "O"
        ],
        [
         "2",
         "0",
         "traversal",
         "O"
        ],
        [
         "3",
         "0",
         "vulnerability",
         "O"
        ],
        [
         "4",
         "0",
         "in",
         "O"
        ],
        [
         "5",
         "0",
         "Webgrind",
         "B-product"
        ],
        [
         "6",
         "0",
         "1.0",
         "B-version"
        ],
        [
         "7",
         "0",
         "and",
         "O"
        ],
        [
         "8",
         "0",
         "1.0.2",
         "B-version"
        ],
        [
         "9",
         "0",
         "allows",
         "O"
        ],
        [
         "10",
         "0",
         "remote",
         "O"
        ],
        [
         "11",
         "0",
         "attackers",
         "O"
        ],
        [
         "12",
         "0",
         "to",
         "O"
        ],
        [
         "13",
         "0",
         "read",
         "O"
        ],
        [
         "14",
         "0",
         "arbitrary",
         "O"
        ],
        [
         "15",
         "0",
         "files",
         "O"
        ],
        [
         "16",
         "0",
         "via",
         "O"
        ],
        [
         "17",
         "0",
         "a",
         "O"
        ],
        [
         "18",
         "0",
         "full",
         "O"
        ],
        [
         "19",
         "0",
         "pathname",
         "O"
        ],
        [
         "20",
         "0",
         "in",
         "O"
        ],
        [
         "21",
         "0",
         "the",
         "O"
        ],
        [
         "22",
         "0",
         "file",
         "O"
        ],
        [
         "23",
         "0",
         "parameter",
         "O"
        ],
        [
         "24",
         "0",
         "to",
         "O"
        ],
        [
         "25",
         "0",
         "index.php",
         "O"
        ],
        [
         "26",
         "0",
         ".",
         "O"
        ],
        [
         "27",
         "CVE-2011-3074",
         "Use-after-free",
         "O"
        ],
        [
         "28",
         "0",
         "vulnerability",
         "O"
        ],
        [
         "29",
         "0",
         "in",
         "O"
        ],
        [
         "30",
         "0",
         "Google",
         "B-vendor"
        ],
        [
         "31",
         "0",
         "Chrome",
         "B-product"
        ],
        [
         "32",
         "0",
         "before",
         "B-version"
        ],
        [
         "33",
         "0",
         "18.0.1025.151",
         "I-version"
        ],
        [
         "34",
         "0",
         "allows",
         "O"
        ],
        [
         "35",
         "0",
         "remote",
         "O"
        ],
        [
         "36",
         "0",
         "attackers",
         "O"
        ],
        [
         "37",
         "0",
         "to",
         "O"
        ],
        [
         "38",
         "0",
         "cause",
         "O"
        ],
        [
         "39",
         "0",
         "a",
         "O"
        ],
        [
         "40",
         "0",
         "denial",
         "O"
        ],
        [
         "41",
         "0",
         "of",
         "O"
        ],
        [
         "42",
         "0",
         "service",
         "O"
        ],
        [
         "43",
         "0",
         "or",
         "O"
        ],
        [
         "44",
         "0",
         "possibly",
         "O"
        ],
        [
         "45",
         "0",
         "have",
         "O"
        ],
        [
         "46",
         "0",
         "unspecified",
         "O"
        ],
        [
         "47",
         "0",
         "other",
         "O"
        ],
        [
         "48",
         "0",
         "impact",
         "O"
        ],
        [
         "49",
         "0",
         "via",
         "O"
        ]
       ],
       "shape": {
        "columns": 3,
        "rows": 70143
       }
      },
      "text/html": [
       "<div>\n",
       "<style scoped>\n",
       "    .dataframe tbody tr th:only-of-type {\n",
       "        vertical-align: middle;\n",
       "    }\n",
       "\n",
       "    .dataframe tbody tr th {\n",
       "        vertical-align: top;\n",
       "    }\n",
       "\n",
       "    .dataframe thead th {\n",
       "        text-align: right;\n",
       "    }\n",
       "</style>\n",
       "<table border=\"1\" class=\"dataframe\">\n",
       "  <thead>\n",
       "    <tr style=\"text-align: right;\">\n",
       "      <th></th>\n",
       "      <th>cve_id</th>\n",
       "      <th>words</th>\n",
       "      <th>custom_bio</th>\n",
       "    </tr>\n",
       "  </thead>\n",
       "  <tbody>\n",
       "    <tr>\n",
       "      <th>0</th>\n",
       "      <td>CVE-2012-1790</td>\n",
       "      <td>Absolute</td>\n",
       "      <td>O</td>\n",
       "    </tr>\n",
       "    <tr>\n",
       "      <th>1</th>\n",
       "      <td>0</td>\n",
       "      <td>path</td>\n",
       "      <td>O</td>\n",
       "    </tr>\n",
       "    <tr>\n",
       "      <th>2</th>\n",
       "      <td>0</td>\n",
       "      <td>traversal</td>\n",
       "      <td>O</td>\n",
       "    </tr>\n",
       "    <tr>\n",
       "      <th>3</th>\n",
       "      <td>0</td>\n",
       "      <td>vulnerability</td>\n",
       "      <td>O</td>\n",
       "    </tr>\n",
       "    <tr>\n",
       "      <th>4</th>\n",
       "      <td>0</td>\n",
       "      <td>in</td>\n",
       "      <td>O</td>\n",
       "    </tr>\n",
       "    <tr>\n",
       "      <th>...</th>\n",
       "      <td>...</td>\n",
       "      <td>...</td>\n",
       "      <td>...</td>\n",
       "    </tr>\n",
       "    <tr>\n",
       "      <th>70138</th>\n",
       "      <td>0</td>\n",
       "      <td>an</td>\n",
       "      <td>O</td>\n",
       "    </tr>\n",
       "    <tr>\n",
       "      <th>70139</th>\n",
       "      <td>0</td>\n",
       "      <td>unspecified</td>\n",
       "      <td>O</td>\n",
       "    </tr>\n",
       "    <tr>\n",
       "      <th>70140</th>\n",
       "      <td>0</td>\n",
       "      <td>internal</td>\n",
       "      <td>O</td>\n",
       "    </tr>\n",
       "    <tr>\n",
       "      <th>70141</th>\n",
       "      <td>0</td>\n",
       "      <td>error</td>\n",
       "      <td>O</td>\n",
       "    </tr>\n",
       "    <tr>\n",
       "      <th>70142</th>\n",
       "      <td>0</td>\n",
       "      <td>.</td>\n",
       "      <td>O</td>\n",
       "    </tr>\n",
       "  </tbody>\n",
       "</table>\n",
       "<p>70143 rows × 3 columns</p>\n",
       "</div>"
      ],
      "text/plain": [
       "              cve_id          words custom_bio\n",
       "0      CVE-2012-1790       Absolute          O\n",
       "1                  0           path          O\n",
       "2                  0      traversal          O\n",
       "3                  0  vulnerability          O\n",
       "4                  0             in          O\n",
       "...              ...            ...        ...\n",
       "70138              0             an          O\n",
       "70139              0    unspecified          O\n",
       "70140              0       internal          O\n",
       "70141              0          error          O\n",
       "70142              0              .          O\n",
       "\n",
       "[70143 rows x 3 columns]"
      ]
     },
     "execution_count": 95,
     "metadata": {},
     "output_type": "execute_result"
    }
   ],
   "source": [
    "test_df = test_df.reset_index().drop('index', axis=1)\n",
    "test_df['words'] = test_df['words'].fillna(' ')\n",
    "test_df"
   ]
  },
  {
   "cell_type": "code",
   "execution_count": 96,
   "metadata": {},
   "outputs": [],
   "source": [
    "test_df.to_csv('test_df_cve_dataset_bio.tsv', sep='\\t')"
   ]
  },
  {
   "cell_type": "markdown",
   "metadata": {},
   "source": [
    "## Evaluate"
   ]
  },
  {
   "cell_type": "code",
   "execution_count": 22,
   "metadata": {},
   "outputs": [],
   "source": [
    "from transformers import (AutoTokenizer, AutoModelForTokenClassification,\n",
    "                         pipeline)"
   ]
  },
  {
   "cell_type": "code",
   "execution_count": 23,
   "metadata": {},
   "outputs": [],
   "source": [
    "path_to_model = \"/home/mikhail/Documents/pandan_study/vkr/vulns_scanner/mikhail_code/models/nuner2_v1_150325/best_model_tmp\"\n",
    "final_tokenizer = AutoTokenizer.from_pretrained(path_to_model, use_fast=True, add_prefix_space=True, local_files_only=True)\n",
    "final_model = AutoModelForTokenClassification.from_pretrained(path_to_model, local_files_only=True)"
   ]
  },
  {
   "cell_type": "code",
   "execution_count": 82,
   "metadata": {},
   "outputs": [
    {
     "data": {
      "text/plain": [
       "Int64Index([473408, 473409, 473410, 473411, 473412, 473413, 473414, 473415,\n",
       "            473416, 473417,\n",
       "            ...\n",
       "            337475, 337476, 337477, 337478, 337479, 337480, 337481, 337482,\n",
       "            337483, 337484],\n",
       "           dtype='int64', length=70143)"
      ]
     },
     "execution_count": 82,
     "metadata": {},
     "output_type": "execute_result"
    }
   ],
   "source": [
    "test_df.index"
   ]
  },
  {
   "cell_type": "code",
   "execution_count": 24,
   "metadata": {},
   "outputs": [
    {
     "name": "stderr",
     "output_type": "stream",
     "text": [
      "Device set to use cpu\n"
     ]
    },
    {
     "name": "stdout",
     "output_type": "stream",
     "text": [
      "Entity: version   Word:  5.1-BETA-1   Prob: 0.99713945\n"
     ]
    },
    {
     "name": "stderr",
     "output_type": "stream",
     "text": [
      "/home/mikhail/.local/lib/python3.10/site-packages/transformers/pipelines/token_classification.py:398: UserWarning: Tokenizer does not support real words, using fallback heuristic\n",
      "  warnings.warn(\n"
     ]
    }
   ],
   "source": [
    "s = 'Improper Restriction of XML External Entity Reference in GitHub repository hazelcast/hazelcast in 5.1-BETA-1'\n",
    "\n",
    "token_classifier = pipeline(\n",
    "    \"token-classification\", model=final_model, aggregation_strategy=\"first\", tokenizer=final_tokenizer\n",
    ")\n",
    "res = token_classifier(s)\n",
    "for i, r in enumerate(res):\n",
    "    # print('Entity: '+ r['entity_group'] + '   Word: ' + r['word'])\n",
    "    print('Entity: '+ r['entity_group'] + '   Word: ' + r['word'] + '   Prob: ' + str(r['score']))"
   ]
  },
  {
   "cell_type": "code",
   "execution_count": 40,
   "metadata": {},
   "outputs": [
    {
     "data": {
      "text/plain": [
       "[Encoding(num_tokens=30, attributes=[ids, type_ids, tokens, offsets, attention_mask, special_tokens_mask, overflowing])]"
      ]
     },
     "execution_count": 40,
     "metadata": {},
     "output_type": "execute_result"
    }
   ],
   "source": [
    "tokens = final_tokenizer(s, return_tensors='pt', truncation=True, padding=True)\n",
    "tokens[:5]"
   ]
  },
  {
   "cell_type": "code",
   "execution_count": 56,
   "metadata": {},
   "outputs": [
    {
     "data": {
      "text/plain": [
       "tensor([    0, 27455,  1741, 40950,  1499,     9, 46917, 25468, 46718, 34177,\n",
       "           11, 39097, 30076, 32468,   523,  5182,    73,   298, 43874,  5182,\n",
       "           11,   195,     4,   134,    12,   387, 19739,    12,   134,     2])"
      ]
     },
     "execution_count": 56,
     "metadata": {},
     "output_type": "execute_result"
    }
   ],
   "source": [
    "tokens['input_ids'][0]"
   ]
  },
  {
   "cell_type": "code",
   "execution_count": null,
   "metadata": {},
   "outputs": [
    {
     "data": {
      "text/plain": [
       "'<s> Improper Restriction of XML External Entity Reference in GitHub repository hazelcast/hazelcast in 5.1-BETA-1</s>'"
      ]
     },
     "execution_count": 57,
     "metadata": {},
     "output_type": "execute_result"
    }
   ],
   "source": [
    "final_tokenizer.decode(tokens['input_ids'][0], )"
   ]
  },
  {
   "cell_type": "code",
   "execution_count": 43,
   "metadata": {},
   "outputs": [],
   "source": [
    "output = final_model(**tokens)"
   ]
  },
  {
   "cell_type": "code",
   "execution_count": 34,
   "metadata": {},
   "outputs": [
    {
     "data": {
      "text/plain": [
       "torch.Size([1, 30, 7])"
      ]
     },
     "execution_count": 34,
     "metadata": {},
     "output_type": "execute_result"
    }
   ],
   "source": [
    "output.logits.shape"
   ]
  },
  {
   "cell_type": "code",
   "execution_count": 36,
   "metadata": {},
   "outputs": [],
   "source": [
    "import numpy as np"
   ]
  },
  {
   "cell_type": "code",
   "execution_count": 46,
   "metadata": {},
   "outputs": [],
   "source": [
    "lbls_in_dataset = [\n",
    "    'O',\n",
    "    'B-product',\n",
    "    'I-product',\n",
    "    'B-vendor',\n",
    "    'I-vendor',\n",
    "    'B-version',\n",
    "    'I-version',\n",
    "]\n",
    "label2id = {v:i for i, v in enumerate(lbls_in_dataset)}\n",
    "id2label = {i:v for i, v in enumerate(lbls_in_dataset)}"
   ]
  },
  {
   "cell_type": "code",
   "execution_count": 48,
   "metadata": {},
   "outputs": [
    {
     "data": {
      "text/plain": [
       "array([0, 0, 0, 0, 0, 0, 0, 0, 0, 0, 0, 0, 0, 0, 0, 0, 0, 0, 0, 0, 0, 5,\n",
       "       5, 5, 5, 5, 5, 5, 5, 0])"
      ]
     },
     "execution_count": 48,
     "metadata": {},
     "output_type": "execute_result"
    }
   ],
   "source": [
    "res = np.argmax(output.logits.detach().numpy(), axis=2)[0]\n",
    "res"
   ]
  },
  {
   "cell_type": "code",
   "execution_count": 49,
   "metadata": {},
   "outputs": [
    {
     "data": {
      "text/plain": [
       "['O',\n",
       " 'O',\n",
       " 'O',\n",
       " 'O',\n",
       " 'O',\n",
       " 'O',\n",
       " 'O',\n",
       " 'O',\n",
       " 'O',\n",
       " 'O',\n",
       " 'O',\n",
       " 'O',\n",
       " 'O',\n",
       " 'O',\n",
       " 'O',\n",
       " 'O',\n",
       " 'O',\n",
       " 'O',\n",
       " 'O',\n",
       " 'O',\n",
       " 'O',\n",
       " 'B-version',\n",
       " 'B-version',\n",
       " 'B-version',\n",
       " 'B-version',\n",
       " 'B-version',\n",
       " 'B-version',\n",
       " 'B-version',\n",
       " 'B-version',\n",
       " 'O']"
      ]
     },
     "execution_count": 49,
     "metadata": {},
     "output_type": "execute_result"
    }
   ],
   "source": [
    "[id2label[x] for x in res]\n"
   ]
  },
  {
   "cell_type": "code",
   "execution_count": 87,
   "metadata": {},
   "outputs": [],
   "source": [
    "import torch"
   ]
  },
  {
   "cell_type": "code",
   "execution_count": 98,
   "metadata": {},
   "outputs": [],
   "source": [
    "groups = []\n",
    "current_group = []\n",
    "for _, row in test_df.iterrows():\n",
    "    if row[\"cve_id\"] != \"0\":\n",
    "        if current_group:\n",
    "            groups.append(current_group)\n",
    "        current_group = [row]\n",
    "    else:\n",
    "        current_group.append(row)\n",
    "if current_group:\n",
    "    groups.append(current_group)"
   ]
  },
  {
   "cell_type": "code",
   "execution_count": null,
   "metadata": {},
   "outputs": [
    {
     "name": "stdout",
     "output_type": "stream",
     "text": [
      "              precision    recall  f1-score   support\n",
      "\n",
      "     product       0.97      0.97      0.97      1903\n",
      "      vendor       0.98      0.99      0.98      1035\n",
      "     version       0.99      0.99      0.99      2841\n",
      "\n",
      "   micro avg       0.98      0.98      0.98      5779\n",
      "   macro avg       0.98      0.98      0.98      5779\n",
      "weighted avg       0.98      0.98      0.98      5779\n",
      "\n"
     ]
    }
   ],
   "source": [
    "from seqeval.metrics import classification_report\n",
    "y_true = []\n",
    "y_pred = []\n",
    "\n",
    "for group in groups:\n",
    "    # Extract words and ground truth labels\n",
    "    words = [row[\"words\"] for row in group]\n",
    "    true_tags = [row[\"custom_bio\"] for row in group]\n",
    "    \n",
    "    # Tokenize with word alignment\n",
    "    tokenized = final_tokenizer(\n",
    "        words,\n",
    "        is_split_into_words=True,  # Critical for per-word alignment\n",
    "        return_tensors=\"pt\",\n",
    "        truncation=True,\n",
    "        # return_offsets_mapping=True\n",
    "    ).to(final_model.device)\n",
    "    \n",
    "    # Get word-to-token mapping\n",
    "    word_ids = tokenized.word_ids(batch_index=0)\n",
    "    \n",
    "    # Inference\n",
    "    with torch.no_grad():\n",
    "        outputs = final_model(**tokenized)\n",
    "    \n",
    "    # Get predictions\n",
    "    pred_indices = torch.argmax(outputs.logits, dim=2).squeeze().tolist()\n",
    "    pred_tags = [final_model.config.id2label[idx] for idx in pred_indices]\n",
    "    \n",
    "    # Align predictions to original words\n",
    "    aligned_preds = []\n",
    "    current_word = None\n",
    "    for idx, word_id in enumerate(word_ids):\n",
    "        if word_id is None:\n",
    "            continue  # Skip special tokens\n",
    "        if word_id != current_word:\n",
    "            aligned_preds.append(pred_tags[idx])\n",
    "            current_word = word_id\n",
    "    \n",
    "    # Ensure alignment matches original word count\n",
    "    if len(aligned_preds) != len(words):\n",
    "        print(f\"Alignment error in CVE {group[0]['cve_id']}\")\n",
    "        continue\n",
    "    \n",
    "    y_true.append(true_tags)\n",
    "    y_pred.append(aligned_preds)\n",
    "\n",
    "# Compute metrics\n",
    "print(classification_report(y_true, y_pred, mode='strict'))"
   ]
  },
  {
   "cell_type": "code",
   "execution_count": 100,
   "metadata": {},
   "outputs": [
    {
     "data": {
      "text/plain": [
       "O            60626\n",
       "B-version     2841\n",
       "I-version     2542\n",
       "B-product     1903\n",
       "I-product     1193\n",
       "B-vendor      1035\n",
       "I-vendor         3\n",
       "Name: custom_bio, dtype: int64"
      ]
     },
     "execution_count": 100,
     "metadata": {},
     "output_type": "execute_result"
    }
   ],
   "source": [
    "test_df.custom_bio.value_counts()"
   ]
  },
  {
   "cell_type": "code",
   "execution_count": 102,
   "metadata": {},
   "outputs": [
    {
     "name": "stderr",
     "output_type": "stream",
     "text": [
      "Some weights of RobertaForTokenClassification were not initialized from the model checkpoint at numind/NuNER-v2.0 and are newly initialized: ['classifier.bias', 'classifier.weight']\n",
      "You should probably TRAIN this model on a down-stream task to be able to use it for predictions and inference.\n"
     ]
    }
   ],
   "source": [
    "path_to_model = \"numind/NuNER-v2.0\"\n",
    "base_tokenizer = AutoTokenizer.from_pretrained(path_to_model, use_fast=True, add_prefix_space=True)\n",
    "base_model = AutoModelForTokenClassification.from_pretrained(path_to_model)"
   ]
  },
  {
   "cell_type": "code",
   "execution_count": 103,
   "metadata": {},
   "outputs": [
    {
     "ename": "ValueError",
     "evalue": "Invalid token is found: LABEL_1. Allowed prefixes are: B|O|I.",
     "output_type": "error",
     "traceback": [
      "\u001b[0;31m---------------------------------------------------------------------------\u001b[0m",
      "\u001b[0;31mValueError\u001b[0m                                Traceback (most recent call last)",
      "\u001b[0;32m/tmp/ipykernel_6320/28917662.py\u001b[0m in \u001b[0;36m<module>\u001b[0;34m\u001b[0m\n\u001b[1;32m     47\u001b[0m \u001b[0;34m\u001b[0m\u001b[0m\n\u001b[1;32m     48\u001b[0m \u001b[0;31m# Compute metrics\u001b[0m\u001b[0;34m\u001b[0m\u001b[0;34m\u001b[0m\u001b[0m\n\u001b[0;32m---> 49\u001b[0;31m \u001b[0mprint\u001b[0m\u001b[0;34m(\u001b[0m\u001b[0mclassification_report\u001b[0m\u001b[0;34m(\u001b[0m\u001b[0my_true\u001b[0m\u001b[0;34m,\u001b[0m \u001b[0my_pred\u001b[0m\u001b[0;34m,\u001b[0m \u001b[0mmode\u001b[0m\u001b[0;34m=\u001b[0m\u001b[0;34m'strict'\u001b[0m\u001b[0;34m)\u001b[0m\u001b[0;34m)\u001b[0m\u001b[0;34m\u001b[0m\u001b[0;34m\u001b[0m\u001b[0m\n\u001b[0m",
      "\u001b[0;32m~/.local/lib/python3.10/site-packages/seqeval/metrics/sequence_labeling.py\u001b[0m in \u001b[0;36mclassification_report\u001b[0;34m(y_true, y_pred, digits, suffix, output_dict, mode, sample_weight, zero_division, scheme)\u001b[0m\n\u001b[1;32m    668\u001b[0m     \"\"\"\n\u001b[1;32m    669\u001b[0m     \u001b[0;32mif\u001b[0m \u001b[0mmode\u001b[0m \u001b[0;34m==\u001b[0m \u001b[0;34m'strict'\u001b[0m\u001b[0;34m:\u001b[0m\u001b[0;34m\u001b[0m\u001b[0;34m\u001b[0m\u001b[0m\n\u001b[0;32m--> 670\u001b[0;31m         return cr(y_true, y_pred,\n\u001b[0m\u001b[1;32m    671\u001b[0m                   \u001b[0mdigits\u001b[0m\u001b[0;34m=\u001b[0m\u001b[0mdigits\u001b[0m\u001b[0;34m,\u001b[0m\u001b[0;34m\u001b[0m\u001b[0;34m\u001b[0m\u001b[0m\n\u001b[1;32m    672\u001b[0m                   \u001b[0moutput_dict\u001b[0m\u001b[0;34m=\u001b[0m\u001b[0moutput_dict\u001b[0m\u001b[0;34m,\u001b[0m\u001b[0;34m\u001b[0m\u001b[0;34m\u001b[0m\u001b[0m\n",
      "\u001b[0;32m~/.local/lib/python3.10/site-packages/seqeval/metrics/v1.py\u001b[0m in \u001b[0;36mclassification_report\u001b[0;34m(y_true, y_pred, sample_weight, digits, output_dict, zero_division, suffix, scheme)\u001b[0m\n\u001b[1;32m    382\u001b[0m \u001b[0;34m\u001b[0m\u001b[0m\n\u001b[1;32m    383\u001b[0m     \u001b[0mentities_true\u001b[0m \u001b[0;34m=\u001b[0m \u001b[0mEntities\u001b[0m\u001b[0;34m(\u001b[0m\u001b[0my_true\u001b[0m\u001b[0;34m,\u001b[0m \u001b[0mscheme\u001b[0m\u001b[0;34m,\u001b[0m \u001b[0msuffix\u001b[0m\u001b[0;34m)\u001b[0m\u001b[0;34m\u001b[0m\u001b[0;34m\u001b[0m\u001b[0m\n\u001b[0;32m--> 384\u001b[0;31m     \u001b[0mentities_pred\u001b[0m \u001b[0;34m=\u001b[0m \u001b[0mEntities\u001b[0m\u001b[0;34m(\u001b[0m\u001b[0my_pred\u001b[0m\u001b[0;34m,\u001b[0m \u001b[0mscheme\u001b[0m\u001b[0;34m,\u001b[0m \u001b[0msuffix\u001b[0m\u001b[0;34m)\u001b[0m\u001b[0;34m\u001b[0m\u001b[0;34m\u001b[0m\u001b[0m\n\u001b[0m\u001b[1;32m    385\u001b[0m     \u001b[0mtarget_names\u001b[0m \u001b[0;34m=\u001b[0m \u001b[0msorted\u001b[0m\u001b[0;34m(\u001b[0m\u001b[0mentities_true\u001b[0m\u001b[0;34m.\u001b[0m\u001b[0munique_tags\u001b[0m \u001b[0;34m|\u001b[0m \u001b[0mentities_pred\u001b[0m\u001b[0;34m.\u001b[0m\u001b[0munique_tags\u001b[0m\u001b[0;34m)\u001b[0m\u001b[0;34m\u001b[0m\u001b[0;34m\u001b[0m\u001b[0m\n\u001b[1;32m    386\u001b[0m \u001b[0;34m\u001b[0m\u001b[0m\n",
      "\u001b[0;32m~/.local/lib/python3.10/site-packages/seqeval/scheme.py\u001b[0m in \u001b[0;36m__init__\u001b[0;34m(self, sequences, scheme, suffix, delimiter)\u001b[0m\n\u001b[1;32m    272\u001b[0m \u001b[0;34m\u001b[0m\u001b[0m\n\u001b[1;32m    273\u001b[0m     \u001b[0;32mdef\u001b[0m \u001b[0m__init__\u001b[0m\u001b[0;34m(\u001b[0m\u001b[0mself\u001b[0m\u001b[0;34m,\u001b[0m \u001b[0msequences\u001b[0m\u001b[0;34m:\u001b[0m \u001b[0mList\u001b[0m\u001b[0;34m[\u001b[0m\u001b[0mList\u001b[0m\u001b[0;34m[\u001b[0m\u001b[0mstr\u001b[0m\u001b[0;34m]\u001b[0m\u001b[0;34m]\u001b[0m\u001b[0;34m,\u001b[0m \u001b[0mscheme\u001b[0m\u001b[0;34m:\u001b[0m \u001b[0mType\u001b[0m\u001b[0;34m[\u001b[0m\u001b[0mToken\u001b[0m\u001b[0;34m]\u001b[0m\u001b[0;34m,\u001b[0m \u001b[0msuffix\u001b[0m\u001b[0;34m:\u001b[0m \u001b[0mbool\u001b[0m \u001b[0;34m=\u001b[0m \u001b[0;32mFalse\u001b[0m\u001b[0;34m,\u001b[0m \u001b[0mdelimiter\u001b[0m\u001b[0;34m:\u001b[0m \u001b[0mstr\u001b[0m \u001b[0;34m=\u001b[0m \u001b[0;34m'-'\u001b[0m\u001b[0;34m)\u001b[0m\u001b[0;34m:\u001b[0m\u001b[0;34m\u001b[0m\u001b[0;34m\u001b[0m\u001b[0m\n\u001b[0;32m--> 274\u001b[0;31m         self.entities = [\n\u001b[0m\u001b[1;32m    275\u001b[0m             \u001b[0mTokens\u001b[0m\u001b[0;34m(\u001b[0m\u001b[0mseq\u001b[0m\u001b[0;34m,\u001b[0m \u001b[0mscheme\u001b[0m\u001b[0;34m=\u001b[0m\u001b[0mscheme\u001b[0m\u001b[0;34m,\u001b[0m \u001b[0msuffix\u001b[0m\u001b[0;34m=\u001b[0m\u001b[0msuffix\u001b[0m\u001b[0;34m,\u001b[0m \u001b[0mdelimiter\u001b[0m\u001b[0;34m=\u001b[0m\u001b[0mdelimiter\u001b[0m\u001b[0;34m,\u001b[0m \u001b[0msent_id\u001b[0m\u001b[0;34m=\u001b[0m\u001b[0msent_id\u001b[0m\u001b[0;34m)\u001b[0m\u001b[0;34m.\u001b[0m\u001b[0mentities\u001b[0m\u001b[0;34m\u001b[0m\u001b[0;34m\u001b[0m\u001b[0m\n\u001b[1;32m    276\u001b[0m             \u001b[0;32mfor\u001b[0m \u001b[0msent_id\u001b[0m\u001b[0;34m,\u001b[0m \u001b[0mseq\u001b[0m \u001b[0;32min\u001b[0m \u001b[0menumerate\u001b[0m\u001b[0;34m(\u001b[0m\u001b[0msequences\u001b[0m\u001b[0;34m)\u001b[0m\u001b[0;34m\u001b[0m\u001b[0;34m\u001b[0m\u001b[0m\n",
      "\u001b[0;32m~/.local/lib/python3.10/site-packages/seqeval/scheme.py\u001b[0m in \u001b[0;36m<listcomp>\u001b[0;34m(.0)\u001b[0m\n\u001b[1;32m    273\u001b[0m     \u001b[0;32mdef\u001b[0m \u001b[0m__init__\u001b[0m\u001b[0;34m(\u001b[0m\u001b[0mself\u001b[0m\u001b[0;34m,\u001b[0m \u001b[0msequences\u001b[0m\u001b[0;34m:\u001b[0m \u001b[0mList\u001b[0m\u001b[0;34m[\u001b[0m\u001b[0mList\u001b[0m\u001b[0;34m[\u001b[0m\u001b[0mstr\u001b[0m\u001b[0;34m]\u001b[0m\u001b[0;34m]\u001b[0m\u001b[0;34m,\u001b[0m \u001b[0mscheme\u001b[0m\u001b[0;34m:\u001b[0m \u001b[0mType\u001b[0m\u001b[0;34m[\u001b[0m\u001b[0mToken\u001b[0m\u001b[0;34m]\u001b[0m\u001b[0;34m,\u001b[0m \u001b[0msuffix\u001b[0m\u001b[0;34m:\u001b[0m \u001b[0mbool\u001b[0m \u001b[0;34m=\u001b[0m \u001b[0;32mFalse\u001b[0m\u001b[0;34m,\u001b[0m \u001b[0mdelimiter\u001b[0m\u001b[0;34m:\u001b[0m \u001b[0mstr\u001b[0m \u001b[0;34m=\u001b[0m \u001b[0;34m'-'\u001b[0m\u001b[0;34m)\u001b[0m\u001b[0;34m:\u001b[0m\u001b[0;34m\u001b[0m\u001b[0;34m\u001b[0m\u001b[0m\n\u001b[1;32m    274\u001b[0m         self.entities = [\n\u001b[0;32m--> 275\u001b[0;31m             \u001b[0mTokens\u001b[0m\u001b[0;34m(\u001b[0m\u001b[0mseq\u001b[0m\u001b[0;34m,\u001b[0m \u001b[0mscheme\u001b[0m\u001b[0;34m=\u001b[0m\u001b[0mscheme\u001b[0m\u001b[0;34m,\u001b[0m \u001b[0msuffix\u001b[0m\u001b[0;34m=\u001b[0m\u001b[0msuffix\u001b[0m\u001b[0;34m,\u001b[0m \u001b[0mdelimiter\u001b[0m\u001b[0;34m=\u001b[0m\u001b[0mdelimiter\u001b[0m\u001b[0;34m,\u001b[0m \u001b[0msent_id\u001b[0m\u001b[0;34m=\u001b[0m\u001b[0msent_id\u001b[0m\u001b[0;34m)\u001b[0m\u001b[0;34m.\u001b[0m\u001b[0mentities\u001b[0m\u001b[0;34m\u001b[0m\u001b[0;34m\u001b[0m\u001b[0m\n\u001b[0m\u001b[1;32m    276\u001b[0m             \u001b[0;32mfor\u001b[0m \u001b[0msent_id\u001b[0m\u001b[0;34m,\u001b[0m \u001b[0mseq\u001b[0m \u001b[0;32min\u001b[0m \u001b[0menumerate\u001b[0m\u001b[0;34m(\u001b[0m\u001b[0msequences\u001b[0m\u001b[0;34m)\u001b[0m\u001b[0;34m\u001b[0m\u001b[0;34m\u001b[0m\u001b[0m\n\u001b[1;32m    277\u001b[0m         ]\n",
      "\u001b[0;32m~/.local/lib/python3.10/site-packages/seqeval/scheme.py\u001b[0m in \u001b[0;36mentities\u001b[0;34m(self)\u001b[0m\n\u001b[1;32m    243\u001b[0m         \u001b[0;32mwhile\u001b[0m \u001b[0mi\u001b[0m \u001b[0;34m<\u001b[0m \u001b[0mlen\u001b[0m\u001b[0;34m(\u001b[0m\u001b[0mself\u001b[0m\u001b[0;34m.\u001b[0m\u001b[0mextended_tokens\u001b[0m\u001b[0;34m)\u001b[0m\u001b[0;34m:\u001b[0m\u001b[0;34m\u001b[0m\u001b[0;34m\u001b[0m\u001b[0m\n\u001b[1;32m    244\u001b[0m             \u001b[0mtoken\u001b[0m \u001b[0;34m=\u001b[0m \u001b[0mself\u001b[0m\u001b[0;34m.\u001b[0m\u001b[0mextended_tokens\u001b[0m\u001b[0;34m[\u001b[0m\u001b[0mi\u001b[0m\u001b[0;34m]\u001b[0m\u001b[0;34m\u001b[0m\u001b[0;34m\u001b[0m\u001b[0m\n\u001b[0;32m--> 245\u001b[0;31m             \u001b[0mtoken\u001b[0m\u001b[0;34m.\u001b[0m\u001b[0mis_valid\u001b[0m\u001b[0;34m(\u001b[0m\u001b[0;34m)\u001b[0m\u001b[0;34m\u001b[0m\u001b[0;34m\u001b[0m\u001b[0m\n\u001b[0m\u001b[1;32m    246\u001b[0m             \u001b[0;32mif\u001b[0m \u001b[0mtoken\u001b[0m\u001b[0;34m.\u001b[0m\u001b[0mis_start\u001b[0m\u001b[0;34m(\u001b[0m\u001b[0mprev\u001b[0m\u001b[0;34m)\u001b[0m\u001b[0;34m:\u001b[0m\u001b[0;34m\u001b[0m\u001b[0;34m\u001b[0m\u001b[0m\n\u001b[1;32m    247\u001b[0m                 \u001b[0mend\u001b[0m \u001b[0;34m=\u001b[0m \u001b[0mself\u001b[0m\u001b[0;34m.\u001b[0m\u001b[0m_forward\u001b[0m\u001b[0;34m(\u001b[0m\u001b[0mstart\u001b[0m\u001b[0;34m=\u001b[0m\u001b[0mi\u001b[0m \u001b[0;34m+\u001b[0m \u001b[0;36m1\u001b[0m\u001b[0;34m,\u001b[0m \u001b[0mprev\u001b[0m\u001b[0;34m=\u001b[0m\u001b[0mtoken\u001b[0m\u001b[0;34m)\u001b[0m\u001b[0;34m\u001b[0m\u001b[0;34m\u001b[0m\u001b[0m\n",
      "\u001b[0;32m~/.local/lib/python3.10/site-packages/seqeval/scheme.py\u001b[0m in \u001b[0;36mis_valid\u001b[0;34m(self)\u001b[0m\n\u001b[1;32m     65\u001b[0m             \u001b[0mallowed_prefixes\u001b[0m \u001b[0;34m=\u001b[0m \u001b[0mstr\u001b[0m\u001b[0;34m(\u001b[0m\u001b[0mself\u001b[0m\u001b[0;34m.\u001b[0m\u001b[0mallowed_prefix\u001b[0m\u001b[0;34m)\u001b[0m\u001b[0;34m.\u001b[0m\u001b[0mreplace\u001b[0m\u001b[0;34m(\u001b[0m\u001b[0;34m'Prefix.'\u001b[0m\u001b[0;34m,\u001b[0m \u001b[0;34m''\u001b[0m\u001b[0;34m)\u001b[0m\u001b[0;34m\u001b[0m\u001b[0;34m\u001b[0m\u001b[0m\n\u001b[1;32m     66\u001b[0m             \u001b[0mmessage\u001b[0m \u001b[0;34m=\u001b[0m \u001b[0;34m'Invalid token is found: {}. Allowed prefixes are: {}.'\u001b[0m\u001b[0;34m\u001b[0m\u001b[0;34m\u001b[0m\u001b[0m\n\u001b[0;32m---> 67\u001b[0;31m             \u001b[0;32mraise\u001b[0m \u001b[0mValueError\u001b[0m\u001b[0;34m(\u001b[0m\u001b[0mmessage\u001b[0m\u001b[0;34m.\u001b[0m\u001b[0mformat\u001b[0m\u001b[0;34m(\u001b[0m\u001b[0mself\u001b[0m\u001b[0;34m.\u001b[0m\u001b[0mtoken\u001b[0m\u001b[0;34m,\u001b[0m \u001b[0mallowed_prefixes\u001b[0m\u001b[0;34m)\u001b[0m\u001b[0;34m)\u001b[0m\u001b[0;34m\u001b[0m\u001b[0;34m\u001b[0m\u001b[0m\n\u001b[0m\u001b[1;32m     68\u001b[0m         \u001b[0;32mreturn\u001b[0m \u001b[0;32mTrue\u001b[0m\u001b[0;34m\u001b[0m\u001b[0;34m\u001b[0m\u001b[0m\n\u001b[1;32m     69\u001b[0m \u001b[0;34m\u001b[0m\u001b[0m\n",
      "\u001b[0;31mValueError\u001b[0m: Invalid token is found: LABEL_1. Allowed prefixes are: B|O|I."
     ]
    }
   ],
   "source": [
    "from seqeval.metrics import classification_report\n",
    "y_true = []\n",
    "y_pred = []\n",
    "\n",
    "for group in groups:\n",
    "    # Extract words and ground truth labels\n",
    "    words = [row[\"words\"] for row in group]\n",
    "    true_tags = [row[\"custom_bio\"] for row in group]\n",
    "    \n",
    "    # Tokenize with word alignment\n",
    "    tokenized = base_tokenizer(\n",
    "        words,\n",
    "        is_split_into_words=True,  # Critical for per-word alignment\n",
    "        return_tensors=\"pt\",\n",
    "        truncation=True,\n",
    "        # return_offsets_mapping=True\n",
    "    ).to(base_model.device)\n",
    "    \n",
    "    # Get word-to-token mapping\n",
    "    word_ids = tokenized.word_ids(batch_index=0)\n",
    "    \n",
    "    # Inference\n",
    "    with torch.no_grad():\n",
    "        outputs = base_model(**tokenized)\n",
    "    \n",
    "    # Get predictions\n",
    "    pred_indices = torch.argmax(outputs.logits, dim=2).squeeze().tolist()\n",
    "    pred_tags = [base_model.config.id2label[idx] for idx in pred_indices]\n",
    "    \n",
    "    # Align predictions to original words\n",
    "    aligned_preds = []\n",
    "    current_word = None\n",
    "    for idx, word_id in enumerate(word_ids):\n",
    "        if word_id is None:\n",
    "            continue  # Skip special tokens\n",
    "        if word_id != current_word:\n",
    "            aligned_preds.append(pred_tags[idx])\n",
    "            current_word = word_id\n",
    "    \n",
    "    # Ensure alignment matches original word count\n",
    "    if len(aligned_preds) != len(words):\n",
    "        print(f\"Alignment error in CVE {group[0]['cve_id']}\")\n",
    "        continue\n",
    "    \n",
    "    y_true.append(true_tags)\n",
    "    y_pred.append(aligned_preds)\n",
    "\n",
    "# Compute metrics\n",
    "print(classification_report(y_true, y_pred, mode='strict'))"
   ]
  },
  {
   "cell_type": "markdown",
   "metadata": {},
   "source": [
    "## Создаём валидационный датасет, не участвующий в обучении\n",
    "\n",
    "Его CVE не будут входить в train\\test"
   ]
  },
  {
   "cell_type": "code",
   "execution_count": 1,
   "metadata": {},
   "outputs": [],
   "source": [
    "import pandas as pd\n",
    "import psycopg2 as p2\n",
    "from psycopg2 import sql\n",
    "from collections import Counter"
   ]
  },
  {
   "cell_type": "code",
   "execution_count": 5,
   "metadata": {},
   "outputs": [
    {
     "data": {
      "application/vnd.microsoft.datawrangler.viewer.v0+json": {
       "columns": [
        {
         "name": "index",
         "rawType": "int64",
         "type": "integer"
        },
        {
         "name": "cve_id",
         "rawType": "object",
         "type": "string"
        },
        {
         "name": "cpe_id_pk",
         "rawType": "int64",
         "type": "integer"
        },
        {
         "name": "vendor",
         "rawType": "object",
         "type": "string"
        },
        {
         "name": "product",
         "rawType": "object",
         "type": "string"
        },
        {
         "name": "version",
         "rawType": "object",
         "type": "string"
        },
        {
         "name": "descr",
         "rawType": "object",
         "type": "string"
        },
        {
         "name": "initial_cpe",
         "rawType": "object",
         "type": "string"
        }
       ],
       "conversionMethod": "pd.DataFrame",
       "ref": "176aabc1-a64a-4034-8aa1-59d2cc0511e3",
       "rows": [
        [
         "0",
         "CVE-2024-0056",
         "256947",
         "microsoft",
         ".net",
         "8.0.0",
         "Microsoft.Data.SqlClient and System.Data.SqlClient SQL Data Provider Security Feature Bypass Vulnerability",
         "cpe:2.3:a:microsoft:.net:8.0.0:-:*:*:*:*:*:*"
        ],
        [
         "1",
         "CVE-2022-0424",
         "68426",
         "supsystic",
         "popup",
         "1.9.17",
         "The Popup by Supsystic WordPress plugin before 1.10.9 does not have any authentication and authorisation in an AJAX action, allowing unauthenticated attackers to call it and get the email addresses of subscribed users",
         "cpe:2.3:a:supsystic:popup:1.9.17:*:*:*:*:wordpress:*:*"
        ],
        [
         "2",
         "CVE-2023-4386",
         "375813",
         "wpdeveloper",
         "essential_blocks",
         "4.0.8",
         "The Essential Blocks plugin for WordPress is vulnerable to PHP Object Injection in versions up to, and including, 4.2.0 via deserialization of untrusted input in the get_posts function. This allows unauthenticated attackers to inject a PHP Object. No POP chain is present in the vulnerable plugin. If a POP chain is present via an additional plugin or theme installed on the target system, it could allow the attacker to delete arbitrary files, retrieve sensitive data, or execute code.",
         "cpe:2.3:a:wpdeveloper:essential_blocks:4.0.8:*:*:*:*:wordpress:*:*"
        ],
        [
         "3",
         "CVE-2020-36699",
         "488896",
         "quick_page\\/post_redirect_project",
         "quick_page\\/post_redirect",
         "3.1",
         "The Quick Page/Post Redirect Plugin for WordPress is vulnerable to authorization bypass due to missing capability checks on the qppr_save_quick_redirect_ajax and qppr_delete_quick_redirect functions in versions up to, and including, 5.1.9. This makes it possible for low-privileged attackers to interact with the plugin settings and to create a redirect link that would forward all traffic to an external malicious website.",
         "cpe:2.3:a:quick_page\\/post_redirect_project:quick_page\\/post_redirect:3.1:*:*:*:*:wordpress:*:*"
        ],
        [
         "4",
         "CVE-2022-39354",
         "185125",
         "evm_project",
         "evm",
         "0.7.0",
         "SputnikVM, also called evm, is a Rust implementation of Ethereum Virtual Machine. A custom stateful precompile can use the `is_static` parameter to determine if the call is executed in a static context (via `STATICCALL`), and thus decide if stateful operations should be done. Prior to version 0.36.0, the passed `is_static` parameter was incorrect -- it was only set to `true` if the call came from a direct `STATICCALL` opcode. However, once a static call context is entered, it should stay static. The issue only impacts custom precompiles that actually uses `is_static`. For those affected, the issue can lead to possible incorrect state transitions. Version 0.36.0 contains a patch. There are no known workarounds.",
         "cpe:2.3:a:evm_project:evm:0.7.0:*:*:*:*:rust:*:*"
        ]
       ],
       "shape": {
        "columns": 7,
        "rows": 5
       }
      },
      "text/html": [
       "<div>\n",
       "<style scoped>\n",
       "    .dataframe tbody tr th:only-of-type {\n",
       "        vertical-align: middle;\n",
       "    }\n",
       "\n",
       "    .dataframe tbody tr th {\n",
       "        vertical-align: top;\n",
       "    }\n",
       "\n",
       "    .dataframe thead th {\n",
       "        text-align: right;\n",
       "    }\n",
       "</style>\n",
       "<table border=\"1\" class=\"dataframe\">\n",
       "  <thead>\n",
       "    <tr style=\"text-align: right;\">\n",
       "      <th></th>\n",
       "      <th>cve_id</th>\n",
       "      <th>cpe_id_pk</th>\n",
       "      <th>vendor</th>\n",
       "      <th>product</th>\n",
       "      <th>version</th>\n",
       "      <th>descr</th>\n",
       "      <th>initial_cpe</th>\n",
       "    </tr>\n",
       "  </thead>\n",
       "  <tbody>\n",
       "    <tr>\n",
       "      <th>0</th>\n",
       "      <td>CVE-2024-0056</td>\n",
       "      <td>256947</td>\n",
       "      <td>microsoft</td>\n",
       "      <td>.net</td>\n",
       "      <td>8.0.0</td>\n",
       "      <td>Microsoft.Data.SqlClient and System.Data.SqlCl...</td>\n",
       "      <td>cpe:2.3:a:microsoft:.net:8.0.0:-:*:*:*:*:*:*</td>\n",
       "    </tr>\n",
       "    <tr>\n",
       "      <th>1</th>\n",
       "      <td>CVE-2022-0424</td>\n",
       "      <td>68426</td>\n",
       "      <td>supsystic</td>\n",
       "      <td>popup</td>\n",
       "      <td>1.9.17</td>\n",
       "      <td>The Popup by Supsystic WordPress plugin before...</td>\n",
       "      <td>cpe:2.3:a:supsystic:popup:1.9.17:*:*:*:*:wordp...</td>\n",
       "    </tr>\n",
       "    <tr>\n",
       "      <th>2</th>\n",
       "      <td>CVE-2023-4386</td>\n",
       "      <td>375813</td>\n",
       "      <td>wpdeveloper</td>\n",
       "      <td>essential_blocks</td>\n",
       "      <td>4.0.8</td>\n",
       "      <td>The Essential Blocks plugin for WordPress is v...</td>\n",
       "      <td>cpe:2.3:a:wpdeveloper:essential_blocks:4.0.8:*...</td>\n",
       "    </tr>\n",
       "    <tr>\n",
       "      <th>3</th>\n",
       "      <td>CVE-2020-36699</td>\n",
       "      <td>488896</td>\n",
       "      <td>quick_page\\/post_redirect_project</td>\n",
       "      <td>quick_page\\/post_redirect</td>\n",
       "      <td>3.1</td>\n",
       "      <td>The Quick Page/Post Redirect Plugin for WordPr...</td>\n",
       "      <td>cpe:2.3:a:quick_page\\/post_redirect_project:qu...</td>\n",
       "    </tr>\n",
       "    <tr>\n",
       "      <th>4</th>\n",
       "      <td>CVE-2022-39354</td>\n",
       "      <td>185125</td>\n",
       "      <td>evm_project</td>\n",
       "      <td>evm</td>\n",
       "      <td>0.7.0</td>\n",
       "      <td>SputnikVM, also called evm, is a Rust implemen...</td>\n",
       "      <td>cpe:2.3:a:evm_project:evm:0.7.0:*:*:*:*:rust:*:*</td>\n",
       "    </tr>\n",
       "  </tbody>\n",
       "</table>\n",
       "</div>"
      ],
      "text/plain": [
       "           cve_id  cpe_id_pk                             vendor  \\\n",
       "0   CVE-2024-0056     256947                          microsoft   \n",
       "1   CVE-2022-0424      68426                          supsystic   \n",
       "2   CVE-2023-4386     375813                        wpdeveloper   \n",
       "3  CVE-2020-36699     488896  quick_page\\/post_redirect_project   \n",
       "4  CVE-2022-39354     185125                        evm_project   \n",
       "\n",
       "                     product version  \\\n",
       "0                       .net   8.0.0   \n",
       "1                      popup  1.9.17   \n",
       "2           essential_blocks   4.0.8   \n",
       "3  quick_page\\/post_redirect     3.1   \n",
       "4                        evm   0.7.0   \n",
       "\n",
       "                                               descr  \\\n",
       "0  Microsoft.Data.SqlClient and System.Data.SqlCl...   \n",
       "1  The Popup by Supsystic WordPress plugin before...   \n",
       "2  The Essential Blocks plugin for WordPress is v...   \n",
       "3  The Quick Page/Post Redirect Plugin for WordPr...   \n",
       "4  SputnikVM, also called evm, is a Rust implemen...   \n",
       "\n",
       "                                         initial_cpe  \n",
       "0       cpe:2.3:a:microsoft:.net:8.0.0:-:*:*:*:*:*:*  \n",
       "1  cpe:2.3:a:supsystic:popup:1.9.17:*:*:*:*:wordp...  \n",
       "2  cpe:2.3:a:wpdeveloper:essential_blocks:4.0.8:*...  \n",
       "3  cpe:2.3:a:quick_page\\/post_redirect_project:qu...  \n",
       "4   cpe:2.3:a:evm_project:evm:0.7.0:*:*:*:*:rust:*:*  "
      ]
     },
     "execution_count": 5,
     "metadata": {},
     "output_type": "execute_result"
    }
   ],
   "source": [
    "dbname = \"vulns_scanner\"\n",
    "user = 'postgres'\n",
    "password = 'postgres'\n",
    "host = 'localhost'\n",
    "port = '5432'\n",
    "\n",
    "conn = p2.connect(dbname=dbname, user=user, password=password, host=host, port=port)\n",
    "cur = conn.cursor()\n",
    "cur.execute('''\n",
    "select cve_id, cpe_id_pk, vendor, product, version, descr, initial_cpe   \n",
    "from cves c inner join descriptions d on c.cve_id_pk=d.cve_id_fk\n",
    "inner join cve_cpe_config ccc on c.cve_id_pk=ccc.cve_id_fk inner join cpes cp on ccc.cpe_id_fk=cp.cpe_id_pk \n",
    "--where descr like '%_._%'\n",
    "order by random()\n",
    "limit 100000\n",
    "''')\n",
    "colnames = [desc[0] for desc in cur.description]\n",
    "tuples = cur.fetchall()\n",
    "cur.close()\n",
    "df = pd.DataFrame(tuples, columns=colnames)\n",
    "df.head()"
   ]
  },
  {
   "cell_type": "code",
   "execution_count": 49,
   "metadata": {},
   "outputs": [
    {
     "data": {
      "application/vnd.microsoft.datawrangler.viewer.v0+json": {
       "columns": [
        {
         "name": "index",
         "rawType": "int64",
         "type": "integer"
        },
        {
         "name": "cve_id",
         "rawType": "object",
         "type": "string"
        },
        {
         "name": "cpe_id_pk",
         "rawType": "int64",
         "type": "integer"
        },
        {
         "name": "vendor",
         "rawType": "object",
         "type": "string"
        },
        {
         "name": "product",
         "rawType": "object",
         "type": "string"
        },
        {
         "name": "version",
         "rawType": "object",
         "type": "string"
        },
        {
         "name": "descr",
         "rawType": "object",
         "type": "string"
        },
        {
         "name": "initial_cpe",
         "rawType": "object",
         "type": "string"
        }
       ],
       "conversionMethod": "pd.DataFrame",
       "ref": "808989f7-39bf-4eed-9ac8-329629b00708",
       "rows": [
        [
         "22051",
         "CVE-2021-32740",
         "625949",
         "addressable_project",
         "addressable",
         "2.3.3",
         "Addressable is an alternative implementation to the URI implementation that is part of Ruby's standard library. An uncontrolled resource consumption vulnerability exists after version 2.3.0 through version 2.7.0. Within the URI template implementation in Addressable, a maliciously crafted template may result in uncontrolled resource consumption, leading to denial of service when matched against a URI. In typical usage, templates would not normally be read from untrusted user input, but nonetheless, no previous security advisory for Addressable has cautioned against doing this. Users of the parsing capabilities in Addressable but not the URI template capabilities are unaffected. The vulnerability is patched in version 2.8.0. As a workaround, only create Template objects from trusted sources that have been validated not to produce catastrophic backtracking.",
         "cpe:2.3:a:addressable_project:addressable:2.3.3:*:*:*:*:ruby:*:*"
        ],
        [
         "31942",
         "CVE-2021-32740",
         "625954",
         "addressable_project",
         "addressable",
         "2.3.8",
         "Addressable is an alternative implementation to the URI implementation that is part of Ruby's standard library. An uncontrolled resource consumption vulnerability exists after version 2.3.0 through version 2.7.0. Within the URI template implementation in Addressable, a maliciously crafted template may result in uncontrolled resource consumption, leading to denial of service when matched against a URI. In typical usage, templates would not normally be read from untrusted user input, but nonetheless, no previous security advisory for Addressable has cautioned against doing this. Users of the parsing capabilities in Addressable but not the URI template capabilities are unaffected. The vulnerability is patched in version 2.8.0. As a workaround, only create Template objects from trusted sources that have been validated not to produce catastrophic backtracking.",
         "cpe:2.3:a:addressable_project:addressable:2.3.8:*:*:*:*:ruby:*:*"
        ],
        [
         "54769",
         "CVE-2021-32740",
         "625951",
         "addressable_project",
         "addressable",
         "2.3.5",
         "Addressable is an alternative implementation to the URI implementation that is part of Ruby's standard library. An uncontrolled resource consumption vulnerability exists after version 2.3.0 through version 2.7.0. Within the URI template implementation in Addressable, a maliciously crafted template may result in uncontrolled resource consumption, leading to denial of service when matched against a URI. In typical usage, templates would not normally be read from untrusted user input, but nonetheless, no previous security advisory for Addressable has cautioned against doing this. Users of the parsing capabilities in Addressable but not the URI template capabilities are unaffected. The vulnerability is patched in version 2.8.0. As a workaround, only create Template objects from trusted sources that have been validated not to produce catastrophic backtracking.",
         "cpe:2.3:a:addressable_project:addressable:2.3.5:*:*:*:*:ruby:*:*"
        ],
        [
         "59120",
         "CVE-2021-32740",
         "625950",
         "addressable_project",
         "addressable",
         "2.3.4",
         "Addressable is an alternative implementation to the URI implementation that is part of Ruby's standard library. An uncontrolled resource consumption vulnerability exists after version 2.3.0 through version 2.7.0. Within the URI template implementation in Addressable, a maliciously crafted template may result in uncontrolled resource consumption, leading to denial of service when matched against a URI. In typical usage, templates would not normally be read from untrusted user input, but nonetheless, no previous security advisory for Addressable has cautioned against doing this. Users of the parsing capabilities in Addressable but not the URI template capabilities are unaffected. The vulnerability is patched in version 2.8.0. As a workaround, only create Template objects from trusted sources that have been validated not to produce catastrophic backtracking.",
         "cpe:2.3:a:addressable_project:addressable:2.3.4:*:*:*:*:ruby:*:*"
        ],
        [
         "80825",
         "CVE-2021-32740",
         "625955",
         "addressable_project",
         "addressable",
         "2.4.0",
         "Addressable is an alternative implementation to the URI implementation that is part of Ruby's standard library. An uncontrolled resource consumption vulnerability exists after version 2.3.0 through version 2.7.0. Within the URI template implementation in Addressable, a maliciously crafted template may result in uncontrolled resource consumption, leading to denial of service when matched against a URI. In typical usage, templates would not normally be read from untrusted user input, but nonetheless, no previous security advisory for Addressable has cautioned against doing this. Users of the parsing capabilities in Addressable but not the URI template capabilities are unaffected. The vulnerability is patched in version 2.8.0. As a workaround, only create Template objects from trusted sources that have been validated not to produce catastrophic backtracking.",
         "cpe:2.3:a:addressable_project:addressable:2.4.0:*:*:*:*:ruby:*:*"
        ]
       ],
       "shape": {
        "columns": 7,
        "rows": 5
       }
      },
      "text/html": [
       "<div>\n",
       "<style scoped>\n",
       "    .dataframe tbody tr th:only-of-type {\n",
       "        vertical-align: middle;\n",
       "    }\n",
       "\n",
       "    .dataframe tbody tr th {\n",
       "        vertical-align: top;\n",
       "    }\n",
       "\n",
       "    .dataframe thead th {\n",
       "        text-align: right;\n",
       "    }\n",
       "</style>\n",
       "<table border=\"1\" class=\"dataframe\">\n",
       "  <thead>\n",
       "    <tr style=\"text-align: right;\">\n",
       "      <th></th>\n",
       "      <th>cve_id</th>\n",
       "      <th>cpe_id_pk</th>\n",
       "      <th>vendor</th>\n",
       "      <th>product</th>\n",
       "      <th>version</th>\n",
       "      <th>descr</th>\n",
       "      <th>initial_cpe</th>\n",
       "    </tr>\n",
       "  </thead>\n",
       "  <tbody>\n",
       "    <tr>\n",
       "      <th>22051</th>\n",
       "      <td>CVE-2021-32740</td>\n",
       "      <td>625949</td>\n",
       "      <td>addressable_project</td>\n",
       "      <td>addressable</td>\n",
       "      <td>2.3.3</td>\n",
       "      <td>Addressable is an alternative implementation t...</td>\n",
       "      <td>cpe:2.3:a:addressable_project:addressable:2.3....</td>\n",
       "    </tr>\n",
       "    <tr>\n",
       "      <th>31942</th>\n",
       "      <td>CVE-2021-32740</td>\n",
       "      <td>625954</td>\n",
       "      <td>addressable_project</td>\n",
       "      <td>addressable</td>\n",
       "      <td>2.3.8</td>\n",
       "      <td>Addressable is an alternative implementation t...</td>\n",
       "      <td>cpe:2.3:a:addressable_project:addressable:2.3....</td>\n",
       "    </tr>\n",
       "    <tr>\n",
       "      <th>54769</th>\n",
       "      <td>CVE-2021-32740</td>\n",
       "      <td>625951</td>\n",
       "      <td>addressable_project</td>\n",
       "      <td>addressable</td>\n",
       "      <td>2.3.5</td>\n",
       "      <td>Addressable is an alternative implementation t...</td>\n",
       "      <td>cpe:2.3:a:addressable_project:addressable:2.3....</td>\n",
       "    </tr>\n",
       "    <tr>\n",
       "      <th>59120</th>\n",
       "      <td>CVE-2021-32740</td>\n",
       "      <td>625950</td>\n",
       "      <td>addressable_project</td>\n",
       "      <td>addressable</td>\n",
       "      <td>2.3.4</td>\n",
       "      <td>Addressable is an alternative implementation t...</td>\n",
       "      <td>cpe:2.3:a:addressable_project:addressable:2.3....</td>\n",
       "    </tr>\n",
       "    <tr>\n",
       "      <th>80825</th>\n",
       "      <td>CVE-2021-32740</td>\n",
       "      <td>625955</td>\n",
       "      <td>addressable_project</td>\n",
       "      <td>addressable</td>\n",
       "      <td>2.4.0</td>\n",
       "      <td>Addressable is an alternative implementation t...</td>\n",
       "      <td>cpe:2.3:a:addressable_project:addressable:2.4....</td>\n",
       "    </tr>\n",
       "  </tbody>\n",
       "</table>\n",
       "</div>"
      ],
      "text/plain": [
       "               cve_id  cpe_id_pk               vendor      product version  \\\n",
       "22051  CVE-2021-32740     625949  addressable_project  addressable   2.3.3   \n",
       "31942  CVE-2021-32740     625954  addressable_project  addressable   2.3.8   \n",
       "54769  CVE-2021-32740     625951  addressable_project  addressable   2.3.5   \n",
       "59120  CVE-2021-32740     625950  addressable_project  addressable   2.3.4   \n",
       "80825  CVE-2021-32740     625955  addressable_project  addressable   2.4.0   \n",
       "\n",
       "                                                   descr  \\\n",
       "22051  Addressable is an alternative implementation t...   \n",
       "31942  Addressable is an alternative implementation t...   \n",
       "54769  Addressable is an alternative implementation t...   \n",
       "59120  Addressable is an alternative implementation t...   \n",
       "80825  Addressable is an alternative implementation t...   \n",
       "\n",
       "                                             initial_cpe  \n",
       "22051  cpe:2.3:a:addressable_project:addressable:2.3....  \n",
       "31942  cpe:2.3:a:addressable_project:addressable:2.3....  \n",
       "54769  cpe:2.3:a:addressable_project:addressable:2.3....  \n",
       "59120  cpe:2.3:a:addressable_project:addressable:2.3....  \n",
       "80825  cpe:2.3:a:addressable_project:addressable:2.4....  "
      ]
     },
     "execution_count": 49,
     "metadata": {},
     "output_type": "execute_result"
    }
   ],
   "source": [
    "df[df.descr.str.contains('after versi')]"
   ]
  },
  {
   "cell_type": "code",
   "execution_count": 24,
   "metadata": {},
   "outputs": [],
   "source": [
    "df_sample_raw = df.sample(250, random_state=42)"
   ]
  },
  {
   "cell_type": "code",
   "execution_count": 25,
   "metadata": {},
   "outputs": [],
   "source": [
    "train_df = pd.read_csv('train_df_cve_dataset_bio.tsv', sep='\\t', usecols=['cve_id'])\n",
    "test_df = pd.read_csv('test_df_cve_dataset_bio.tsv', sep='\\t', usecols=['cve_id'])\n",
    "used_cve = train_df.cve_id.unique().tolist() + test_df.cve_id.unique().tolist()"
   ]
  },
  {
   "cell_type": "code",
   "execution_count": 27,
   "metadata": {},
   "outputs": [
    {
     "data": {
      "text/plain": [
       "(229, 7)"
      ]
     },
     "execution_count": 27,
     "metadata": {},
     "output_type": "execute_result"
    }
   ],
   "source": [
    "df_sample = df_sample_raw[~df_sample_raw.cve_id.isin(used_cve)]\n",
    "df_sample.shape"
   ]
  },
  {
   "cell_type": "code",
   "execution_count": 28,
   "metadata": {},
   "outputs": [
    {
     "data": {
      "text/plain": [
       "(200, 7)"
      ]
     },
     "execution_count": 28,
     "metadata": {},
     "output_type": "execute_result"
    }
   ],
   "source": [
    "df_sample = df_sample.drop_duplicates(subset=['cve_id']).iloc[:200]\n",
    "df_sample.shape"
   ]
  },
  {
   "cell_type": "code",
   "execution_count": 38,
   "metadata": {},
   "outputs": [
    {
     "data": {
      "application/vnd.microsoft.datawrangler.viewer.v0+json": {
       "columns": [
        {
         "name": "index",
         "rawType": "int64",
         "type": "integer"
        },
        {
         "name": "year",
         "rawType": "int64",
         "type": "integer"
        },
        {
         "name": "total",
         "rawType": "int64",
         "type": "integer"
        }
       ],
       "conversionMethod": "pd.DataFrame",
       "ref": "38ba1313-644b-4e6d-8ee8-8bdd72c784b6",
       "rows": [
        [
         "18",
         "2001",
         "1"
        ],
        [
         "19",
         "2002",
         "1"
        ],
        [
         "22",
         "2003",
         "1"
        ],
        [
         "17",
         "2004",
         "2"
        ],
        [
         "11",
         "2005",
         "3"
        ],
        [
         "8",
         "2006",
         "4"
        ],
        [
         "14",
         "2007",
         "7"
        ],
        [
         "20",
         "2008",
         "4"
        ],
        [
         "16",
         "2009",
         "2"
        ],
        [
         "21",
         "2011",
         "1"
        ],
        [
         "15",
         "2012",
         "3"
        ],
        [
         "4",
         "2013",
         "5"
        ],
        [
         "1",
         "2014",
         "7"
        ],
        [
         "10",
         "2015",
         "4"
        ],
        [
         "6",
         "2016",
         "12"
        ],
        [
         "13",
         "2017",
         "7"
        ],
        [
         "2",
         "2018",
         "14"
        ],
        [
         "5",
         "2019",
         "9"
        ],
        [
         "3",
         "2020",
         "19"
        ],
        [
         "0",
         "2021",
         "18"
        ],
        [
         "9",
         "2022",
         "39"
        ],
        [
         "7",
         "2023",
         "30"
        ],
        [
         "12",
         "2024",
         "7"
        ]
       ],
       "shape": {
        "columns": 2,
        "rows": 23
       }
      },
      "text/html": [
       "<div>\n",
       "<style scoped>\n",
       "    .dataframe tbody tr th:only-of-type {\n",
       "        vertical-align: middle;\n",
       "    }\n",
       "\n",
       "    .dataframe tbody tr th {\n",
       "        vertical-align: top;\n",
       "    }\n",
       "\n",
       "    .dataframe thead th {\n",
       "        text-align: right;\n",
       "    }\n",
       "</style>\n",
       "<table border=\"1\" class=\"dataframe\">\n",
       "  <thead>\n",
       "    <tr style=\"text-align: right;\">\n",
       "      <th></th>\n",
       "      <th>year</th>\n",
       "      <th>total</th>\n",
       "    </tr>\n",
       "  </thead>\n",
       "  <tbody>\n",
       "    <tr>\n",
       "      <th>18</th>\n",
       "      <td>2001</td>\n",
       "      <td>1</td>\n",
       "    </tr>\n",
       "    <tr>\n",
       "      <th>19</th>\n",
       "      <td>2002</td>\n",
       "      <td>1</td>\n",
       "    </tr>\n",
       "    <tr>\n",
       "      <th>22</th>\n",
       "      <td>2003</td>\n",
       "      <td>1</td>\n",
       "    </tr>\n",
       "    <tr>\n",
       "      <th>17</th>\n",
       "      <td>2004</td>\n",
       "      <td>2</td>\n",
       "    </tr>\n",
       "    <tr>\n",
       "      <th>11</th>\n",
       "      <td>2005</td>\n",
       "      <td>3</td>\n",
       "    </tr>\n",
       "    <tr>\n",
       "      <th>8</th>\n",
       "      <td>2006</td>\n",
       "      <td>4</td>\n",
       "    </tr>\n",
       "    <tr>\n",
       "      <th>14</th>\n",
       "      <td>2007</td>\n",
       "      <td>7</td>\n",
       "    </tr>\n",
       "    <tr>\n",
       "      <th>20</th>\n",
       "      <td>2008</td>\n",
       "      <td>4</td>\n",
       "    </tr>\n",
       "    <tr>\n",
       "      <th>16</th>\n",
       "      <td>2009</td>\n",
       "      <td>2</td>\n",
       "    </tr>\n",
       "    <tr>\n",
       "      <th>21</th>\n",
       "      <td>2011</td>\n",
       "      <td>1</td>\n",
       "    </tr>\n",
       "    <tr>\n",
       "      <th>15</th>\n",
       "      <td>2012</td>\n",
       "      <td>3</td>\n",
       "    </tr>\n",
       "    <tr>\n",
       "      <th>4</th>\n",
       "      <td>2013</td>\n",
       "      <td>5</td>\n",
       "    </tr>\n",
       "    <tr>\n",
       "      <th>1</th>\n",
       "      <td>2014</td>\n",
       "      <td>7</td>\n",
       "    </tr>\n",
       "    <tr>\n",
       "      <th>10</th>\n",
       "      <td>2015</td>\n",
       "      <td>4</td>\n",
       "    </tr>\n",
       "    <tr>\n",
       "      <th>6</th>\n",
       "      <td>2016</td>\n",
       "      <td>12</td>\n",
       "    </tr>\n",
       "    <tr>\n",
       "      <th>13</th>\n",
       "      <td>2017</td>\n",
       "      <td>7</td>\n",
       "    </tr>\n",
       "    <tr>\n",
       "      <th>2</th>\n",
       "      <td>2018</td>\n",
       "      <td>14</td>\n",
       "    </tr>\n",
       "    <tr>\n",
       "      <th>5</th>\n",
       "      <td>2019</td>\n",
       "      <td>9</td>\n",
       "    </tr>\n",
       "    <tr>\n",
       "      <th>3</th>\n",
       "      <td>2020</td>\n",
       "      <td>19</td>\n",
       "    </tr>\n",
       "    <tr>\n",
       "      <th>0</th>\n",
       "      <td>2021</td>\n",
       "      <td>18</td>\n",
       "    </tr>\n",
       "    <tr>\n",
       "      <th>9</th>\n",
       "      <td>2022</td>\n",
       "      <td>39</td>\n",
       "    </tr>\n",
       "    <tr>\n",
       "      <th>7</th>\n",
       "      <td>2023</td>\n",
       "      <td>30</td>\n",
       "    </tr>\n",
       "    <tr>\n",
       "      <th>12</th>\n",
       "      <td>2024</td>\n",
       "      <td>7</td>\n",
       "    </tr>\n",
       "  </tbody>\n",
       "</table>\n",
       "</div>"
      ],
      "text/plain": [
       "    year  total\n",
       "18  2001      1\n",
       "19  2002      1\n",
       "22  2003      1\n",
       "17  2004      2\n",
       "11  2005      3\n",
       "8   2006      4\n",
       "14  2007      7\n",
       "20  2008      4\n",
       "16  2009      2\n",
       "21  2011      1\n",
       "15  2012      3\n",
       "4   2013      5\n",
       "1   2014      7\n",
       "10  2015      4\n",
       "6   2016     12\n",
       "13  2017      7\n",
       "2   2018     14\n",
       "5   2019      9\n",
       "3   2020     19\n",
       "0   2021     18\n",
       "9   2022     39\n",
       "7   2023     30\n",
       "12  2024      7"
      ]
     },
     "execution_count": 38,
     "metadata": {},
     "output_type": "execute_result"
    }
   ],
   "source": [
    "year2count = Counter(df_sample.cve_id.astype(str).apply(lambda x: x[4:8]))\n",
    "year2count_list = list(zip(*list((x,y) for x,y in year2count.items())))\n",
    "total_per_year = pd.DataFrame(data={'year':map(int, year2count_list[0]),\n",
    "                   'total': year2count_list[1]})\n",
    "total_per_year.sort_values('year')"
   ]
  },
  {
   "cell_type": "code",
   "execution_count": 40,
   "metadata": {},
   "outputs": [],
   "source": [
    "df_sample['vendor_in_text'] = df_sample.apply(lambda x: 1 if x['vendor'].lower() in x['descr'].lower() else 0, axis=1)\n",
    "df_sample['product_in_text'] = df_sample.apply(lambda x: 1 if x['product'].lower() in x['descr'].lower() else 0, axis=1)"
   ]
  },
  {
   "cell_type": "code",
   "execution_count": 41,
   "metadata": {},
   "outputs": [],
   "source": [
    "df_sample.to_csv('df_100_not_in_stucco_v3_180525.csv', index=False)"
   ]
  },
  {
   "cell_type": "code",
   "execution_count": 42,
   "metadata": {},
   "outputs": [
    {
     "data": {
      "application/vnd.microsoft.datawrangler.viewer.v0+json": {
       "columns": [
        {
         "name": "index",
         "rawType": "int64",
         "type": "integer"
        },
        {
         "name": "cve_id",
         "rawType": "object",
         "type": "string"
        },
        {
         "name": "cpe_id_pk",
         "rawType": "int64",
         "type": "integer"
        },
        {
         "name": "vendor",
         "rawType": "object",
         "type": "string"
        },
        {
         "name": "product",
         "rawType": "object",
         "type": "string"
        },
        {
         "name": "version",
         "rawType": "object",
         "type": "string"
        },
        {
         "name": "descr",
         "rawType": "object",
         "type": "string"
        },
        {
         "name": "initial_cpe",
         "rawType": "object",
         "type": "string"
        },
        {
         "name": "vendor_in_text",
         "rawType": "int64",
         "type": "integer"
        },
        {
         "name": "product_in_text",
         "rawType": "int64",
         "type": "integer"
        }
       ],
       "conversionMethod": "pd.DataFrame",
       "ref": "58f2ecfb-741c-43f7-acd7-1801817cff82",
       "rows": [
        [
         "75721",
         "CVE-2021-34085",
         "628902",
         "glensawyer",
         "mp3gain",
         "1.3.4",
         "Read access violation in the III_dequantize_sample function in mpglibDBL/layer3.c in mp3gain through 1.5.2-r2 allows remote attackers to cause a denial of service (application crash) or possibly have unspecified other impact, a different vulnerability than CVE-2017-9872. CVE-2017-14409, and CVE-2018-10778.",
         "cpe:2.3:a:glensawyer:mp3gain:1.3.4:beta:*:*:*:*:*:*",
         "0",
         "1"
        ],
        [
         "80184",
         "CVE-2014-7221",
         "722762",
         "teamspeak",
         "teamspeak3",
         "3.0.7.1",
         "TeamSpeak Client 3.0.14 and earlier allows remote authenticated users to cause a denial of service (buffer overflow and application crash) by connecting to a channel with a different client instance, and placing crafted data in the Chat/Server tab containing [img]//http:// substrings.",
         "cpe:2.3:a:teamspeak:teamspeak3:3.0.7.1:*:*:*:client:*:*:*",
         "1",
         "0"
        ],
        [
         "92991",
         "CVE-2018-7279",
         "541558",
         "alienvault",
         "open_source_security_information_management",
         "5.3",
         "A remote code execution issue was discovered in AlienVault USM and OSSIM before 5.5.1.",
         "cpe:2.3:a:alienvault:open_source_security_information_management:5.3:*:*:*:*:*:*:*",
         "1",
         "0"
        ],
        [
         "76434",
         "CVE-2020-24743",
         "472694",
         "zohocorp",
         "manageengine_applications_manager",
         "14.5",
         "An issue was found in /showReports.do Zoho ManageEngine Applications Manager up to 14550, allows attackers to gain escalated privileges via the resourceid parameter.",
         "cpe:2.3:a:zohocorp:manageengine_applications_manager:14.5:build14540:*:*:*:*:*:*",
         "0",
         "0"
        ],
        [
         "84004",
         "CVE-2020-24786",
         "472744",
         "zohocorp",
         "manageengine_o365_manager_plus",
         "4.3",
         "An issue was discovered in Zoho ManageEngine Exchange Reporter Plus before build number 5510, AD360 before build number 4228, ADSelfService Plus before build number 5817, DataSecurity Plus before build number 6033, RecoverManager Plus before build number 6017, EventLog Analyzer before build number 12136, ADAudit Plus before build number 6052, O365 Manager Plus before build number 4334, Cloud Security Plus before build number 4110, ADManager Plus before build number 7055, and Log360 before build number 5166. The remotely accessible Java servlet com.manageengine.ads.fw.servlet.UpdateProductDetails is prone to an authentication bypass. System integration properties can be modified and lead to full ManageEngine suite compromise.",
         "cpe:2.3:a:zohocorp:manageengine_o365_manager_plus:4.3:4304:*:*:*:*:*:*",
         "0",
         "0"
        ],
        [
         "80917",
         "CVE-2013-3607",
         "553572",
         "supermicro",
         "x9dax-if",
         "-",
         "Multiple stack-based buffer overflows in the web interface in the Intelligent Platform Management Interface (IPMI) implementation on Supermicro H8DC*, H8DG*, H8SCM-F, H8SGL-F, H8SM*, X7SP*, X8DT*, X8SI*, X9DAX-*, X9DB*, X9DR*, X9QR*, X9SBAA-F, X9SC*, X9SPU-F, and X9SR* devices allow remote attackers to execute arbitrary code on the Baseboard Management Controller (BMC), as demonstrated by the (1) username or (2) password field in login.cgi.",
         "cpe:2.3:h:supermicro:x9dax-if:-:*:*:*:*:*:*:*",
         "1",
         "0"
        ],
        [
         "60767",
         "CVE-2019-13183",
         "689916",
         "flarum",
         "flarum",
         "0.1.0",
         "Flarum before 0.1.0-beta.9 allows CSRF against all POST endpoints, as demonstrated by changing admin settings.",
         "cpe:2.3:a:flarum:flarum:0.1.0:beta8.1:*:*:*:*:*:*",
         "1",
         "1"
        ],
        [
         "50074",
         "CVE-2018-15121",
         "522169",
         "auth0",
         "aspnet",
         "-",
         "An issue was discovered in Auth0 auth0-aspnet and auth0-aspnet-owin. Affected packages do not use or validate the state parameter of the OAuth 2.0 and OpenID Connect protocols. This leaves applications vulnerable to CSRF attacks during authentication and authorization operations.",
         "cpe:2.3:a:auth0:aspnet:-:*:*:*:*:*:*:*",
         "1",
         "1"
        ],
        [
         "27701",
         "CVE-2013-2175",
         "549900",
         "haproxy",
         "haproxy",
         "1.4.17",
         "HAProxy 1.4 before 1.4.24 and 1.5 before 1.5-dev19, when configured to use hdr_ip or other \"hdr_*\" functions with a negative occurrence count, allows remote attackers to cause a denial of service (negative array index usage and crash) via an HTTP header with a certain number of values, related to the MAX_HDR_HISTORY variable.",
         "cpe:2.3:a:haproxy:haproxy:1.4.17:*:*:*:*:*:*:*",
         "1",
         "1"
        ],
        [
         "42141",
         "CVE-2016-10714",
         "422757",
         "zsh",
         "zsh",
         "4.2.2",
         "In zsh before 5.3, an off-by-one error resulted in undersized buffers that were intended to support PATH_MAX characters.",
         "cpe:2.3:a:zsh:zsh:4.2.2:*:*:*:*:*:*:*",
         "1",
         "1"
        ]
       ],
       "shape": {
        "columns": 9,
        "rows": 10
       }
      },
      "text/html": [
       "<div>\n",
       "<style scoped>\n",
       "    .dataframe tbody tr th:only-of-type {\n",
       "        vertical-align: middle;\n",
       "    }\n",
       "\n",
       "    .dataframe tbody tr th {\n",
       "        vertical-align: top;\n",
       "    }\n",
       "\n",
       "    .dataframe thead th {\n",
       "        text-align: right;\n",
       "    }\n",
       "</style>\n",
       "<table border=\"1\" class=\"dataframe\">\n",
       "  <thead>\n",
       "    <tr style=\"text-align: right;\">\n",
       "      <th></th>\n",
       "      <th>cve_id</th>\n",
       "      <th>cpe_id_pk</th>\n",
       "      <th>vendor</th>\n",
       "      <th>product</th>\n",
       "      <th>version</th>\n",
       "      <th>descr</th>\n",
       "      <th>initial_cpe</th>\n",
       "      <th>vendor_in_text</th>\n",
       "      <th>product_in_text</th>\n",
       "    </tr>\n",
       "  </thead>\n",
       "  <tbody>\n",
       "    <tr>\n",
       "      <th>75721</th>\n",
       "      <td>CVE-2021-34085</td>\n",
       "      <td>628902</td>\n",
       "      <td>glensawyer</td>\n",
       "      <td>mp3gain</td>\n",
       "      <td>1.3.4</td>\n",
       "      <td>Read access violation in the III_dequantize_sa...</td>\n",
       "      <td>cpe:2.3:a:glensawyer:mp3gain:1.3.4:beta:*:*:*:...</td>\n",
       "      <td>0</td>\n",
       "      <td>1</td>\n",
       "    </tr>\n",
       "    <tr>\n",
       "      <th>80184</th>\n",
       "      <td>CVE-2014-7221</td>\n",
       "      <td>722762</td>\n",
       "      <td>teamspeak</td>\n",
       "      <td>teamspeak3</td>\n",
       "      <td>3.0.7.1</td>\n",
       "      <td>TeamSpeak Client 3.0.14 and earlier allows rem...</td>\n",
       "      <td>cpe:2.3:a:teamspeak:teamspeak3:3.0.7.1:*:*:*:c...</td>\n",
       "      <td>1</td>\n",
       "      <td>0</td>\n",
       "    </tr>\n",
       "    <tr>\n",
       "      <th>92991</th>\n",
       "      <td>CVE-2018-7279</td>\n",
       "      <td>541558</td>\n",
       "      <td>alienvault</td>\n",
       "      <td>open_source_security_information_management</td>\n",
       "      <td>5.3</td>\n",
       "      <td>A remote code execution issue was discovered i...</td>\n",
       "      <td>cpe:2.3:a:alienvault:open_source_security_info...</td>\n",
       "      <td>1</td>\n",
       "      <td>0</td>\n",
       "    </tr>\n",
       "    <tr>\n",
       "      <th>76434</th>\n",
       "      <td>CVE-2020-24743</td>\n",
       "      <td>472694</td>\n",
       "      <td>zohocorp</td>\n",
       "      <td>manageengine_applications_manager</td>\n",
       "      <td>14.5</td>\n",
       "      <td>An issue was found in /showReports.do Zoho Man...</td>\n",
       "      <td>cpe:2.3:a:zohocorp:manageengine_applications_m...</td>\n",
       "      <td>0</td>\n",
       "      <td>0</td>\n",
       "    </tr>\n",
       "    <tr>\n",
       "      <th>84004</th>\n",
       "      <td>CVE-2020-24786</td>\n",
       "      <td>472744</td>\n",
       "      <td>zohocorp</td>\n",
       "      <td>manageengine_o365_manager_plus</td>\n",
       "      <td>4.3</td>\n",
       "      <td>An issue was discovered in Zoho ManageEngine E...</td>\n",
       "      <td>cpe:2.3:a:zohocorp:manageengine_o365_manager_p...</td>\n",
       "      <td>0</td>\n",
       "      <td>0</td>\n",
       "    </tr>\n",
       "    <tr>\n",
       "      <th>80917</th>\n",
       "      <td>CVE-2013-3607</td>\n",
       "      <td>553572</td>\n",
       "      <td>supermicro</td>\n",
       "      <td>x9dax-if</td>\n",
       "      <td>-</td>\n",
       "      <td>Multiple stack-based buffer overflows in the w...</td>\n",
       "      <td>cpe:2.3:h:supermicro:x9dax-if:-:*:*:*:*:*:*:*</td>\n",
       "      <td>1</td>\n",
       "      <td>0</td>\n",
       "    </tr>\n",
       "    <tr>\n",
       "      <th>60767</th>\n",
       "      <td>CVE-2019-13183</td>\n",
       "      <td>689916</td>\n",
       "      <td>flarum</td>\n",
       "      <td>flarum</td>\n",
       "      <td>0.1.0</td>\n",
       "      <td>Flarum before 0.1.0-beta.9 allows CSRF against...</td>\n",
       "      <td>cpe:2.3:a:flarum:flarum:0.1.0:beta8.1:*:*:*:*:*:*</td>\n",
       "      <td>1</td>\n",
       "      <td>1</td>\n",
       "    </tr>\n",
       "    <tr>\n",
       "      <th>50074</th>\n",
       "      <td>CVE-2018-15121</td>\n",
       "      <td>522169</td>\n",
       "      <td>auth0</td>\n",
       "      <td>aspnet</td>\n",
       "      <td>-</td>\n",
       "      <td>An issue was discovered in Auth0 auth0-aspnet ...</td>\n",
       "      <td>cpe:2.3:a:auth0:aspnet:-:*:*:*:*:*:*:*</td>\n",
       "      <td>1</td>\n",
       "      <td>1</td>\n",
       "    </tr>\n",
       "    <tr>\n",
       "      <th>27701</th>\n",
       "      <td>CVE-2013-2175</td>\n",
       "      <td>549900</td>\n",
       "      <td>haproxy</td>\n",
       "      <td>haproxy</td>\n",
       "      <td>1.4.17</td>\n",
       "      <td>HAProxy 1.4 before 1.4.24 and 1.5 before 1.5-d...</td>\n",
       "      <td>cpe:2.3:a:haproxy:haproxy:1.4.17:*:*:*:*:*:*:*</td>\n",
       "      <td>1</td>\n",
       "      <td>1</td>\n",
       "    </tr>\n",
       "    <tr>\n",
       "      <th>42141</th>\n",
       "      <td>CVE-2016-10714</td>\n",
       "      <td>422757</td>\n",
       "      <td>zsh</td>\n",
       "      <td>zsh</td>\n",
       "      <td>4.2.2</td>\n",
       "      <td>In zsh before 5.3, an off-by-one error resulte...</td>\n",
       "      <td>cpe:2.3:a:zsh:zsh:4.2.2:*:*:*:*:*:*:*</td>\n",
       "      <td>1</td>\n",
       "      <td>1</td>\n",
       "    </tr>\n",
       "  </tbody>\n",
       "</table>\n",
       "</div>"
      ],
      "text/plain": [
       "               cve_id  cpe_id_pk      vendor  \\\n",
       "75721  CVE-2021-34085     628902  glensawyer   \n",
       "80184   CVE-2014-7221     722762   teamspeak   \n",
       "92991   CVE-2018-7279     541558  alienvault   \n",
       "76434  CVE-2020-24743     472694    zohocorp   \n",
       "84004  CVE-2020-24786     472744    zohocorp   \n",
       "80917   CVE-2013-3607     553572  supermicro   \n",
       "60767  CVE-2019-13183     689916      flarum   \n",
       "50074  CVE-2018-15121     522169       auth0   \n",
       "27701   CVE-2013-2175     549900     haproxy   \n",
       "42141  CVE-2016-10714     422757         zsh   \n",
       "\n",
       "                                           product  version  \\\n",
       "75721                                      mp3gain    1.3.4   \n",
       "80184                                   teamspeak3  3.0.7.1   \n",
       "92991  open_source_security_information_management      5.3   \n",
       "76434            manageengine_applications_manager     14.5   \n",
       "84004               manageengine_o365_manager_plus      4.3   \n",
       "80917                                     x9dax-if        -   \n",
       "60767                                       flarum    0.1.0   \n",
       "50074                                       aspnet        -   \n",
       "27701                                      haproxy   1.4.17   \n",
       "42141                                          zsh    4.2.2   \n",
       "\n",
       "                                                   descr  \\\n",
       "75721  Read access violation in the III_dequantize_sa...   \n",
       "80184  TeamSpeak Client 3.0.14 and earlier allows rem...   \n",
       "92991  A remote code execution issue was discovered i...   \n",
       "76434  An issue was found in /showReports.do Zoho Man...   \n",
       "84004  An issue was discovered in Zoho ManageEngine E...   \n",
       "80917  Multiple stack-based buffer overflows in the w...   \n",
       "60767  Flarum before 0.1.0-beta.9 allows CSRF against...   \n",
       "50074  An issue was discovered in Auth0 auth0-aspnet ...   \n",
       "27701  HAProxy 1.4 before 1.4.24 and 1.5 before 1.5-d...   \n",
       "42141  In zsh before 5.3, an off-by-one error resulte...   \n",
       "\n",
       "                                             initial_cpe  vendor_in_text  \\\n",
       "75721  cpe:2.3:a:glensawyer:mp3gain:1.3.4:beta:*:*:*:...               0   \n",
       "80184  cpe:2.3:a:teamspeak:teamspeak3:3.0.7.1:*:*:*:c...               1   \n",
       "92991  cpe:2.3:a:alienvault:open_source_security_info...               1   \n",
       "76434  cpe:2.3:a:zohocorp:manageengine_applications_m...               0   \n",
       "84004  cpe:2.3:a:zohocorp:manageengine_o365_manager_p...               0   \n",
       "80917      cpe:2.3:h:supermicro:x9dax-if:-:*:*:*:*:*:*:*               1   \n",
       "60767  cpe:2.3:a:flarum:flarum:0.1.0:beta8.1:*:*:*:*:*:*               1   \n",
       "50074             cpe:2.3:a:auth0:aspnet:-:*:*:*:*:*:*:*               1   \n",
       "27701     cpe:2.3:a:haproxy:haproxy:1.4.17:*:*:*:*:*:*:*               1   \n",
       "42141              cpe:2.3:a:zsh:zsh:4.2.2:*:*:*:*:*:*:*               1   \n",
       "\n",
       "       product_in_text  \n",
       "75721                1  \n",
       "80184                0  \n",
       "92991                0  \n",
       "76434                0  \n",
       "84004                0  \n",
       "80917                0  \n",
       "60767                1  \n",
       "50074                1  \n",
       "27701                1  \n",
       "42141                1  "
      ]
     },
     "execution_count": 42,
     "metadata": {},
     "output_type": "execute_result"
    }
   ],
   "source": [
    "df_sample.head(10)"
   ]
  },
  {
   "cell_type": "code",
   "execution_count": 43,
   "metadata": {},
   "outputs": [
    {
     "data": {
      "text/plain": [
       "107"
      ]
     },
     "execution_count": 43,
     "metadata": {},
     "output_type": "execute_result"
    }
   ],
   "source": [
    "df_sample['vendor_in_text'].sum()"
   ]
  },
  {
   "cell_type": "code",
   "execution_count": 44,
   "metadata": {},
   "outputs": [
    {
     "data": {
      "text/plain": [
       "114"
      ]
     },
     "execution_count": 44,
     "metadata": {},
     "output_type": "execute_result"
    }
   ],
   "source": [
    "df_sample['product_in_text'].sum()"
   ]
  },
  {
   "cell_type": "code",
   "execution_count": 3,
   "metadata": {},
   "outputs": [
    {
     "data": {
      "text/plain": [
       "0.34"
      ]
     },
     "execution_count": 3,
     "metadata": {},
     "output_type": "execute_result"
    }
   ],
   "source": [
    "68/200"
   ]
  },
  {
   "cell_type": "code",
   "execution_count": 47,
   "metadata": {},
   "outputs": [
    {
     "data": {
      "text/plain": [
       "(68, 9)"
      ]
     },
     "execution_count": 47,
     "metadata": {},
     "output_type": "execute_result"
    }
   ],
   "source": [
    "df_sample[(df_sample['product_in_text'] == 1) & (df_sample['vendor_in_text'] == 1)].shape"
   ]
  },
  {
   "cell_type": "code",
   "execution_count": 175,
   "metadata": {},
   "outputs": [],
   "source": [
    "import json\n",
    "with open('/home/mikhail/Documents/pandan_study/vkr/vulns_scanner/mikhail_code/data/full_corpus.json') as j:\n",
    "    corpus = json.loads(j.read())"
   ]
  },
  {
   "cell_type": "code",
   "execution_count": 177,
   "metadata": {},
   "outputs": [
    {
     "data": {
      "text/plain": [
       "3"
      ]
     },
     "execution_count": 177,
     "metadata": {},
     "output_type": "execute_result"
    }
   ],
   "source": [
    "len(corpus)"
   ]
  },
  {
   "cell_type": "code",
   "execution_count": 180,
   "metadata": {},
   "outputs": [
    {
     "data": {
      "text/plain": [
       "15192"
      ]
     },
     "execution_count": 180,
     "metadata": {},
     "output_type": "execute_result"
    }
   ],
   "source": [
    "len(corpus['NVD'])"
   ]
  },
  {
   "cell_type": "code",
   "execution_count": 182,
   "metadata": {},
   "outputs": [],
   "source": [
    "df_tr = pd.read_csv('train_df_cve_dataset_bio.tsv', sep='\\t')\n",
    "df_te = pd.read_csv('test_df_cve_dataset_bio.tsv', sep='\\t')"
   ]
  },
  {
   "cell_type": "code",
   "execution_count": 189,
   "metadata": {},
   "outputs": [
    {
     "data": {
      "text/plain": [
       "126"
      ]
     },
     "execution_count": 189,
     "metadata": {},
     "output_type": "execute_result"
    }
   ],
   "source": [
    "df_tr['cve_id'].nunique() + df_te['cve_id'].nunique() - 1 - 15192"
   ]
  },
  {
   "cell_type": "code",
   "execution_count": 190,
   "metadata": {},
   "outputs": [
    {
     "data": {
      "text/plain": [
       "15318"
      ]
     },
     "execution_count": 190,
     "metadata": {},
     "output_type": "execute_result"
    }
   ],
   "source": [
    "df_tr['cve_id'].nunique() + df_te['cve_id'].nunique() - 1 "
   ]
  },
  {
   "cell_type": "code",
   "execution_count": null,
   "metadata": {},
   "outputs": [],
   "source": [
    "обучение – 12411\n",
    "\n",
    "валидация – 1379\n",
    "\n",
    "тест – 1532\n"
   ]
  },
  {
   "cell_type": "code",
   "execution_count": null,
   "metadata": {},
   "outputs": [
    {
     "data": {
      "text/plain": [
       "15322"
      ]
     },
     "execution_count": 191,
     "metadata": {},
     "output_type": "execute_result"
    }
   ],
   "source": [
    "12411 + 1379 + 1532"
   ]
  },
  {
   "cell_type": "markdown",
   "metadata": {},
   "source": [
    "| Model       | Text Classification | Named Entity Recognition |\n",
    "|-------------|---------------------|--------------------------|\n",
    "|             | Accuracy | F1      | Precision | Recall   |\n",
    "|-------------|----------|---------|-----------|----------|\n",
    "| BERT        | 84.3     | 89.1    | 92.1      | 89.4     |\n",
    "| YourModel   | **91.2** | **94.7**| **94.8**  | **93.0** |"
   ]
  },
  {
   "cell_type": "markdown",
   "metadata": {},
   "source": [
    "\\documentclass{article}\n",
    "\\usepackage{multirow}\n",
    "\\begin{document}\n",
    "\\begin{tabular}{ |p{3cm}||p{3cm}|p{3cm}|p{3cm}|  }\n",
    " \\hline\n",
    " \\multicolumn{4}{|c|}{Country List} \\\\\n",
    " \\hline\n",
    " Country Name or Area Name& ISO ALPHA 2 Code &ISO ALPHA 3 Code&ISO numeric Code\\\\\n",
    " \\hline\n",
    " Afghanistan   & AF    &AFG&   004\\\\\n",
    " Aland Islands&   AX  & ALA   &248\\\\\n",
    " Albania &AL & ALB&  008\\\\\n",
    " Algeria    &DZ & DZA&  012\\\\\n",
    " American Samoa&   AS  & ASM&016\\\\\n",
    " Andorra& AD  & AND   &020\\\\\n",
    " Angola& AO  & AGO&024\\\\\n",
    " \\hline\n",
    "\\end{tabular}\n",
    "\\end{document}"
   ]
  },
  {
   "cell_type": "code",
   "execution_count": null,
   "metadata": {},
   "outputs": [],
   "source": []
  }
 ],
 "metadata": {
  "kernelspec": {
   "display_name": "Python 3",
   "language": "python",
   "name": "python3"
  },
  "language_info": {
   "codemirror_mode": {
    "name": "ipython",
    "version": 3
   },
   "file_extension": ".py",
   "mimetype": "text/x-python",
   "name": "python",
   "nbconvert_exporter": "python",
   "pygments_lexer": "ipython3",
   "version": "3.10.12"
  }
 },
 "nbformat": 4,
 "nbformat_minor": 2
}
